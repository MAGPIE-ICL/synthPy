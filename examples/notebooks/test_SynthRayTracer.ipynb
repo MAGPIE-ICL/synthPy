{
 "cells": [
  {
   "cell_type": "markdown",
   "metadata": {},
   "source": [
    "### Test - Synthetic Diagnostic + Interferometry\n",
    "\n",
    "</b> Author:   </b>  Louis Evans     </br>\n",
    "</b> Reviewer: </b>  Stefano Merlini"
   ]
  },
  {
   "cell_type": "markdown",
   "metadata": {},
   "source": [
    "### Import relevant files:"
   ]
  },
  {
   "cell_type": "code",
   "execution_count": 27,
   "metadata": {},
   "outputs": [
    {
     "name": "stderr",
     "output_type": "stream",
     "text": [
      "/home/administrator/Work/UROP_ICL_Internship/synthPy/examples/notebooks/../../solvers/full_solver.py:1: SyntaxWarning: invalid escape sequence '\\l'\n",
      "  \"\"\"\n"
     ]
    },
    {
     "data": {
      "text/plain": [
       "<module 'full_solver' from '/home/administrator/Work/UROP_ICL_Internship/synthPy/examples/notebooks/../../solvers/full_solver.py'>"
      ]
     },
     "execution_count": 27,
     "metadata": {},
     "output_type": "execute_result"
    }
   ],
   "source": [
    "import sys\n",
    "\n",
    "import numpy as np\n",
    "import matplotlib.pyplot as plt\n",
    "import vtk\n",
    "from vtk.util import numpy_support as vtk_np\n",
    "import matplotlib.pyplot as plt\n",
    "\n",
    "#add path\n",
    "sys.path.insert(0, '../../solvers')     # import path/to/synthpy\n",
    "import full_solver as s\n",
    "\n",
    "import importlib\n",
    "importlib.reload(s)"
   ]
  },
  {
   "cell_type": "markdown",
   "metadata": {},
   "source": [
    "To use the ray tracer, first create a 'domain', load the domain with an electron distribution, calculate electron gradients, initialise a beam, and solve!\n",
    "\\\n",
    "\\\n",
    "The output can either be plotted, or passed further through ray optics for synthetic diagnostics"
   ]
  },
  {
   "cell_type": "code",
   "execution_count": 28,
   "metadata": {},
   "outputs": [
    {
     "name": "stdout",
     "output_type": "stream",
     "text": [
      "[[[-0.005      -0.005      -0.005      ... -0.005      -0.005\n",
      "   -0.005     ]\n",
      "  [-0.005      -0.005      -0.005      ... -0.005      -0.005\n",
      "   -0.005     ]\n",
      "  [-0.005      -0.005      -0.005      ... -0.005      -0.005\n",
      "   -0.005     ]\n",
      "  ...\n",
      "  [-0.005      -0.005      -0.005      ... -0.005      -0.005\n",
      "   -0.005     ]\n",
      "  [-0.005      -0.005      -0.005      ... -0.005      -0.005\n",
      "   -0.005     ]\n",
      "  [-0.005      -0.005      -0.005      ... -0.005      -0.005\n",
      "   -0.005     ]]\n",
      "\n",
      " [[-0.00489899 -0.00489899 -0.00489899 ... -0.00489899 -0.00489899\n",
      "   -0.00489899]\n",
      "  [-0.00489899 -0.00489899 -0.00489899 ... -0.00489899 -0.00489899\n",
      "   -0.00489899]\n",
      "  [-0.00489899 -0.00489899 -0.00489899 ... -0.00489899 -0.00489899\n",
      "   -0.00489899]\n",
      "  ...\n",
      "  [-0.00489899 -0.00489899 -0.00489899 ... -0.00489899 -0.00489899\n",
      "   -0.00489899]\n",
      "  [-0.00489899 -0.00489899 -0.00489899 ... -0.00489899 -0.00489899\n",
      "   -0.00489899]\n",
      "  [-0.00489899 -0.00489899 -0.00489899 ... -0.00489899 -0.00489899\n",
      "   -0.00489899]]\n",
      "\n",
      " [[-0.00479798 -0.00479798 -0.00479798 ... -0.00479798 -0.00479798\n",
      "   -0.00479798]\n",
      "  [-0.00479798 -0.00479798 -0.00479798 ... -0.00479798 -0.00479798\n",
      "   -0.00479798]\n",
      "  [-0.00479798 -0.00479798 -0.00479798 ... -0.00479798 -0.00479798\n",
      "   -0.00479798]\n",
      "  ...\n",
      "  [-0.00479798 -0.00479798 -0.00479798 ... -0.00479798 -0.00479798\n",
      "   -0.00479798]\n",
      "  [-0.00479798 -0.00479798 -0.00479798 ... -0.00479798 -0.00479798\n",
      "   -0.00479798]\n",
      "  [-0.00479798 -0.00479798 -0.00479798 ... -0.00479798 -0.00479798\n",
      "   -0.00479798]]\n",
      "\n",
      " ...\n",
      "\n",
      " [[ 0.00479798  0.00479798  0.00479798 ...  0.00479798  0.00479798\n",
      "    0.00479798]\n",
      "  [ 0.00479798  0.00479798  0.00479798 ...  0.00479798  0.00479798\n",
      "    0.00479798]\n",
      "  [ 0.00479798  0.00479798  0.00479798 ...  0.00479798  0.00479798\n",
      "    0.00479798]\n",
      "  ...\n",
      "  [ 0.00479798  0.00479798  0.00479798 ...  0.00479798  0.00479798\n",
      "    0.00479798]\n",
      "  [ 0.00479798  0.00479798  0.00479798 ...  0.00479798  0.00479798\n",
      "    0.00479798]\n",
      "  [ 0.00479798  0.00479798  0.00479798 ...  0.00479798  0.00479798\n",
      "    0.00479798]]\n",
      "\n",
      " [[ 0.00489899  0.00489899  0.00489899 ...  0.00489899  0.00489899\n",
      "    0.00489899]\n",
      "  [ 0.00489899  0.00489899  0.00489899 ...  0.00489899  0.00489899\n",
      "    0.00489899]\n",
      "  [ 0.00489899  0.00489899  0.00489899 ...  0.00489899  0.00489899\n",
      "    0.00489899]\n",
      "  ...\n",
      "  [ 0.00489899  0.00489899  0.00489899 ...  0.00489899  0.00489899\n",
      "    0.00489899]\n",
      "  [ 0.00489899  0.00489899  0.00489899 ...  0.00489899  0.00489899\n",
      "    0.00489899]\n",
      "  [ 0.00489899  0.00489899  0.00489899 ...  0.00489899  0.00489899\n",
      "    0.00489899]]\n",
      "\n",
      " [[ 0.005       0.005       0.005      ...  0.005       0.005\n",
      "    0.005     ]\n",
      "  [ 0.005       0.005       0.005      ...  0.005       0.005\n",
      "    0.005     ]\n",
      "  [ 0.005       0.005       0.005      ...  0.005       0.005\n",
      "    0.005     ]\n",
      "  ...\n",
      "  [ 0.005       0.005       0.005      ...  0.005       0.005\n",
      "    0.005     ]\n",
      "  [ 0.005       0.005       0.005      ...  0.005       0.005\n",
      "    0.005     ]\n",
      "  [ 0.005       0.005       0.005      ...  0.005       0.005\n",
      "    0.005     ]]]\n"
     ]
    }
   ],
   "source": [
    "# define some extent, the domain should be distributed as +extent to -extent, does not need to be cubic\n",
    "extent_x = 5e-3\n",
    "extent_y = 5e-3\n",
    "extent_z = 10e-3\n",
    "n_cells  = 100\n",
    "\n",
    "x = np.linspace(-extent_x, extent_x, n_cells)\n",
    "y = np.linspace(-extent_y, extent_y, n_cells)\n",
    "z = np.linspace(-extent_z, extent_z, n_cells)\n",
    "\n",
    "probing_extent = extent_z\n",
    "probing_direction = 'z'\n",
    "\n",
    "domain = s.ScalarDomain(x = x, y = y, z = z, extent= probing_extent, probing_direction = probing_direction)     # create domain"
   ]
  },
  {
   "cell_type": "markdown",
   "metadata": {},
   "source": [
    "Load some domain distribution"
   ]
  },
  {
   "cell_type": "code",
   "execution_count": 29,
   "metadata": {},
   "outputs": [
    {
     "name": "stdout",
     "output_type": "stream",
     "text": [
      "[[[6.32455532e+21 6.32455532e+21 6.32455532e+21 ... 6.32455532e+21\n",
      "   6.32455532e+21 6.32455532e+21]\n",
      "  [5.70876581e+21 5.70876581e+21 5.70876581e+21 ... 5.70876581e+21\n",
      "   5.70876581e+21 5.70876581e+21]\n",
      "  [4.10122233e+21 4.10122233e+21 4.10122233e+21 ... 4.10122233e+21\n",
      "   4.10122233e+21 4.10122233e+21]\n",
      "  ...\n",
      "  [4.10122233e+21 4.10122233e+21 4.10122233e+21 ... 4.10122233e+21\n",
      "   4.10122233e+21 4.10122233e+21]\n",
      "  [5.70876581e+21 5.70876581e+21 5.70876581e+21 ... 5.70876581e+21\n",
      "   5.70876581e+21 5.70876581e+21]\n",
      "  [6.32455532e+21 6.32455532e+21 6.32455532e+21 ... 6.32455532e+21\n",
      "   6.32455532e+21 6.32455532e+21]]\n",
      "\n",
      " [[7.10452499e+21 7.10452499e+21 7.10452499e+21 ... 7.10452499e+21\n",
      "   7.10452499e+21 7.10452499e+21]\n",
      "  [6.41279383e+21 6.41279383e+21 6.41279383e+21 ... 6.41279383e+21\n",
      "   6.41279383e+21 6.41279383e+21]\n",
      "  [4.60700161e+21 4.60700161e+21 4.60700161e+21 ... 4.60700161e+21\n",
      "   4.60700161e+21 4.60700161e+21]\n",
      "  ...\n",
      "  [4.60700161e+21 4.60700161e+21 4.60700161e+21 ... 4.60700161e+21\n",
      "   4.60700161e+21 4.60700161e+21]\n",
      "  [6.41279383e+21 6.41279383e+21 6.41279383e+21 ... 6.41279383e+21\n",
      "   6.41279383e+21 6.41279383e+21]\n",
      "  [7.10452499e+21 7.10452499e+21 7.10452499e+21 ... 7.10452499e+21\n",
      "   7.10452499e+21 7.10452499e+21]]\n",
      "\n",
      " [[7.98068366e+21 7.98068366e+21 7.98068366e+21 ... 7.98068366e+21\n",
      "   7.98068366e+21 7.98068366e+21]\n",
      "  [7.20364543e+21 7.20364543e+21 7.20364543e+21 ... 7.20364543e+21\n",
      "   7.20364543e+21 7.20364543e+21]\n",
      "  [5.17515563e+21 5.17515563e+21 5.17515563e+21 ... 5.17515563e+21\n",
      "   5.17515563e+21 5.17515563e+21]\n",
      "  ...\n",
      "  [5.17515563e+21 5.17515563e+21 5.17515563e+21 ... 5.17515563e+21\n",
      "   5.17515563e+21 5.17515563e+21]\n",
      "  [7.20364543e+21 7.20364543e+21 7.20364543e+21 ... 7.20364543e+21\n",
      "   7.20364543e+21 7.20364543e+21]\n",
      "  [7.98068366e+21 7.98068366e+21 7.98068366e+21 ... 7.98068366e+21\n",
      "   7.98068366e+21 7.98068366e+21]]\n",
      "\n",
      " ...\n",
      "\n",
      " [[5.01210193e+26 5.01210193e+26 5.01210193e+26 ... 5.01210193e+26\n",
      "   5.01210193e+26 5.01210193e+26]\n",
      "  [4.52409927e+26 4.52409927e+26 4.52409927e+26 ... 4.52409927e+26\n",
      "   4.52409927e+26 4.52409927e+26]\n",
      "  [3.25014856e+26 3.25014856e+26 3.25014856e+26 ... 3.25014856e+26\n",
      "   3.25014856e+26 3.25014856e+26]\n",
      "  ...\n",
      "  [3.25014856e+26 3.25014856e+26 3.25014856e+26 ... 3.25014856e+26\n",
      "   3.25014856e+26 3.25014856e+26]\n",
      "  [4.52409927e+26 4.52409927e+26 4.52409927e+26 ... 4.52409927e+26\n",
      "   4.52409927e+26 4.52409927e+26]\n",
      "  [5.01210193e+26 5.01210193e+26 5.01210193e+26 ... 5.01210193e+26\n",
      "   5.01210193e+26 5.01210193e+26]]\n",
      "\n",
      " [[5.63021455e+26 5.63021455e+26 5.63021455e+26 ... 5.63021455e+26\n",
      "   5.63021455e+26 5.63021455e+26]\n",
      "  [5.08202944e+26 5.08202944e+26 5.08202944e+26 ... 5.08202944e+26\n",
      "   5.08202944e+26 5.08202944e+26]\n",
      "  [3.65096999e+26 3.65096999e+26 3.65096999e+26 ... 3.65096999e+26\n",
      "   3.65096999e+26 3.65096999e+26]\n",
      "  ...\n",
      "  [3.65096999e+26 3.65096999e+26 3.65096999e+26 ... 3.65096999e+26\n",
      "   3.65096999e+26 3.65096999e+26]\n",
      "  [5.08202944e+26 5.08202944e+26 5.08202944e+26 ... 5.08202944e+26\n",
      "   5.08202944e+26 5.08202944e+26]\n",
      "  [5.63021455e+26 5.63021455e+26 5.63021455e+26 ... 5.63021455e+26\n",
      "   5.63021455e+26 5.63021455e+26]]\n",
      "\n",
      " [[6.32455532e+26 6.32455532e+26 6.32455532e+26 ... 6.32455532e+26\n",
      "   6.32455532e+26 6.32455532e+26]\n",
      "  [5.70876581e+26 5.70876581e+26 5.70876581e+26 ... 5.70876581e+26\n",
      "   5.70876581e+26 5.70876581e+26]\n",
      "  [4.10122233e+26 4.10122233e+26 4.10122233e+26 ... 4.10122233e+26\n",
      "   4.10122233e+26 4.10122233e+26]\n",
      "  ...\n",
      "  [4.10122233e+26 4.10122233e+26 4.10122233e+26 ... 4.10122233e+26\n",
      "   4.10122233e+26 4.10122233e+26]\n",
      "  [5.70876581e+26 5.70876581e+26 5.70876581e+26 ... 5.70876581e+26\n",
      "   5.70876581e+26 5.70876581e+26]\n",
      "  [6.32455532e+26 6.32455532e+26 6.32455532e+26 ... 6.32455532e+26\n",
      "   6.32455532e+26 6.32455532e+26]]]\n"
     ]
    }
   ],
   "source": [
    "# load some external pvti\n",
    "# import utils.handle_filetypes as load\n",
    "# ne, dim, spacing = load.pvti_readin(filename)\n",
    "# or load a test distribution\n",
    "\n",
    "domain.test_exponential_cos()"
   ]
  },
  {
   "cell_type": "markdown",
   "metadata": {},
   "source": [
    "Solve gradients, initialise beam, and solve"
   ]
  },
  {
   "cell_type": "code",
   "execution_count": 30,
   "metadata": {},
   "outputs": [
    {
     "name": "stdout",
     "output_type": "stream",
     "text": [
      "Completed calc_dndr routine.\n",
      "Starting ray trace.\n",
      "Ray trace completed in:\t 1.3500089645385742 s\n"
     ]
    }
   ],
   "source": [
    "wl = 1064e-9 #define laser wavelength\n",
    "\n",
    "# initialise beam\n",
    "Np = 10000    # number of photons\n",
    "divergence = 5e-5   # realistic divergence value\n",
    "beam_size = extent_x    # beam radius\n",
    "ne_extent = probing_extent  # so the beam knows where to initialise initial positions\n",
    "beam_type = 'circular'\n",
    "\n",
    "initial_rays = s.init_beam(Np = Np, beam_size = beam_size, divergence = divergence, ne_extent = ne_extent, beam_type = beam_type, probing_direction = probing_direction)\n",
    "\n",
    "# solve ray trace\n",
    "domain.calc_dndr(wl)\n",
    "print(\"Completed calc_dndr routine.\")\n",
    "final_rays = domain.solve(initial_rays)"
   ]
  },
  {
   "cell_type": "markdown",
   "metadata": {},
   "source": [
    "Pass through ray optics: For Shadowgaphy, Schlieren, or Refractometry:"
   ]
  },
  {
   "cell_type": "code",
   "execution_count": 31,
   "metadata": {},
   "outputs": [],
   "source": [
    "import rtm_solver as rtm\n",
    "\n",
    "#in the diagnostic initialisation, details on the lens configurations, and detector dimensions can be specified\n",
    "refractometer = rtm.Refractometry(final_rays)\n",
    "refractometer.incoherent_solve()\n",
    "refractometer.histogram(bin_scale = 1, clear_mem = True)\n",
    "\n",
    "sh=rtm.Shadowgraphy(final_rays)\n",
    "sh.single_lens_solve()\n",
    "sh.histogram(bin_scale = 1, clear_mem=True)\n",
    "\n",
    "sh=rtm.Schlieren(final_rays)\n",
    "sh.DF_solve()\n",
    "sh.histogram(bin_scale = 1, clear_mem=True)\n",
    "\n",
    "#information accessed by .H(istogram) , e.g plt.imshow(refractometer.H)"
   ]
  },
  {
   "cell_type": "code",
   "execution_count": 32,
   "metadata": {},
   "outputs": [
    {
     "data": {
      "text/plain": [
       "<matplotlib.image.AxesImage at 0x7fc4cf155bd0>"
      ]
     },
     "execution_count": 32,
     "metadata": {},
     "output_type": "execute_result"
    },
    {
     "data": {
      "image/png": "[encoded data removed]",
      "text/plain": [
       "<Figure size 640x480 with 1 Axes>"
      ]
     },
     "metadata": {},
     "output_type": "display_data"
    }
   ],
   "source": [
    "#plt.imshow(refractometer.H, cmap='hot', interpolation='nearest', clim = (0, 2))\n",
    "plt.imshow(sh.H, cmap='hot', interpolation='nearest', clim = (0.5, 1))"
   ]
  },
  {
   "cell_type": "markdown",
   "metadata": {},
   "source": [
    "Synthetic Interferometry - This requires some extra steps in the ray tracing to include information on the phase and electric field values"
   ]
  },
  {
   "cell_type": "code",
   "execution_count": 33,
   "metadata": {},
   "outputs": [
    {
     "name": "stdout",
     "output_type": "stream",
     "text": [
      "[[[-0.005      -0.005      -0.005      ... -0.005      -0.005\n",
      "   -0.005     ]\n",
      "  [-0.005      -0.005      -0.005      ... -0.005      -0.005\n",
      "   -0.005     ]\n",
      "  [-0.005      -0.005      -0.005      ... -0.005      -0.005\n",
      "   -0.005     ]\n",
      "  ...\n",
      "  [-0.005      -0.005      -0.005      ... -0.005      -0.005\n",
      "   -0.005     ]\n",
      "  [-0.005      -0.005      -0.005      ... -0.005      -0.005\n",
      "   -0.005     ]\n",
      "  [-0.005      -0.005      -0.005      ... -0.005      -0.005\n",
      "   -0.005     ]]\n",
      "\n",
      " [[-0.00489899 -0.00489899 -0.00489899 ... -0.00489899 -0.00489899\n",
      "   -0.00489899]\n",
      "  [-0.00489899 -0.00489899 -0.00489899 ... -0.00489899 -0.00489899\n",
      "   -0.00489899]\n",
      "  [-0.00489899 -0.00489899 -0.00489899 ... -0.00489899 -0.00489899\n",
      "   -0.00489899]\n",
      "  ...\n",
      "  [-0.00489899 -0.00489899 -0.00489899 ... -0.00489899 -0.00489899\n",
      "   -0.00489899]\n",
      "  [-0.00489899 -0.00489899 -0.00489899 ... -0.00489899 -0.00489899\n",
      "   -0.00489899]\n",
      "  [-0.00489899 -0.00489899 -0.00489899 ... -0.00489899 -0.00489899\n",
      "   -0.00489899]]\n",
      "\n",
      " [[-0.00479798 -0.00479798 -0.00479798 ... -0.00479798 -0.00479798\n",
      "   -0.00479798]\n",
      "  [-0.00479798 -0.00479798 -0.00479798 ... -0.00479798 -0.00479798\n",
      "   -0.00479798]\n",
      "  [-0.00479798 -0.00479798 -0.00479798 ... -0.00479798 -0.00479798\n",
      "   -0.00479798]\n",
      "  ...\n",
      "  [-0.00479798 -0.00479798 -0.00479798 ... -0.00479798 -0.00479798\n",
      "   -0.00479798]\n",
      "  [-0.00479798 -0.00479798 -0.00479798 ... -0.00479798 -0.00479798\n",
      "   -0.00479798]\n",
      "  [-0.00479798 -0.00479798 -0.00479798 ... -0.00479798 -0.00479798\n",
      "   -0.00479798]]\n",
      "\n",
      " ...\n",
      "\n",
      " [[ 0.00479798  0.00479798  0.00479798 ...  0.00479798  0.00479798\n",
      "    0.00479798]\n",
      "  [ 0.00479798  0.00479798  0.00479798 ...  0.00479798  0.00479798\n",
      "    0.00479798]\n",
      "  [ 0.00479798  0.00479798  0.00479798 ...  0.00479798  0.00479798\n",
      "    0.00479798]\n",
      "  ...\n",
      "  [ 0.00479798  0.00479798  0.00479798 ...  0.00479798  0.00479798\n",
      "    0.00479798]\n",
      "  [ 0.00479798  0.00479798  0.00479798 ...  0.00479798  0.00479798\n",
      "    0.00479798]\n",
      "  [ 0.00479798  0.00479798  0.00479798 ...  0.00479798  0.00479798\n",
      "    0.00479798]]\n",
      "\n",
      " [[ 0.00489899  0.00489899  0.00489899 ...  0.00489899  0.00489899\n",
      "    0.00489899]\n",
      "  [ 0.00489899  0.00489899  0.00489899 ...  0.00489899  0.00489899\n",
      "    0.00489899]\n",
      "  [ 0.00489899  0.00489899  0.00489899 ...  0.00489899  0.00489899\n",
      "    0.00489899]\n",
      "  ...\n",
      "  [ 0.00489899  0.00489899  0.00489899 ...  0.00489899  0.00489899\n",
      "    0.00489899]\n",
      "  [ 0.00489899  0.00489899  0.00489899 ...  0.00489899  0.00489899\n",
      "    0.00489899]\n",
      "  [ 0.00489899  0.00489899  0.00489899 ...  0.00489899  0.00489899\n",
      "    0.00489899]]\n",
      "\n",
      " [[ 0.005       0.005       0.005      ...  0.005       0.005\n",
      "    0.005     ]\n",
      "  [ 0.005       0.005       0.005      ...  0.005       0.005\n",
      "    0.005     ]\n",
      "  [ 0.005       0.005       0.005      ...  0.005       0.005\n",
      "    0.005     ]\n",
      "  ...\n",
      "  [ 0.005       0.005       0.005      ...  0.005       0.005\n",
      "    0.005     ]\n",
      "  [ 0.005       0.005       0.005      ...  0.005       0.005\n",
      "    0.005     ]\n",
      "  [ 0.005       0.005       0.005      ...  0.005       0.005\n",
      "    0.005     ]]]\n",
      "[[[6.32455532e+21 6.32455532e+21 6.32455532e+21 ... 6.32455532e+21\n",
      "   6.32455532e+21 6.32455532e+21]\n",
      "  [5.70876581e+21 5.70876581e+21 5.70876581e+21 ... 5.70876581e+21\n",
      "   5.70876581e+21 5.70876581e+21]\n",
      "  [4.10122233e+21 4.10122233e+21 4.10122233e+21 ... 4.10122233e+21\n",
      "   4.10122233e+21 4.10122233e+21]\n",
      "  ...\n",
      "  [4.10122233e+21 4.10122233e+21 4.10122233e+21 ... 4.10122233e+21\n",
      "   4.10122233e+21 4.10122233e+21]\n",
      "  [5.70876581e+21 5.70876581e+21 5.70876581e+21 ... 5.70876581e+21\n",
      "   5.70876581e+21 5.70876581e+21]\n",
      "  [6.32455532e+21 6.32455532e+21 6.32455532e+21 ... 6.32455532e+21\n",
      "   6.32455532e+21 6.32455532e+21]]\n",
      "\n",
      " [[7.10452499e+21 7.10452499e+21 7.10452499e+21 ... 7.10452499e+21\n",
      "   7.10452499e+21 7.10452499e+21]\n",
      "  [6.41279383e+21 6.41279383e+21 6.41279383e+21 ... 6.41279383e+21\n",
      "   6.41279383e+21 6.41279383e+21]\n",
      "  [4.60700161e+21 4.60700161e+21 4.60700161e+21 ... 4.60700161e+21\n",
      "   4.60700161e+21 4.60700161e+21]\n",
      "  ...\n",
      "  [4.60700161e+21 4.60700161e+21 4.60700161e+21 ... 4.60700161e+21\n",
      "   4.60700161e+21 4.60700161e+21]\n",
      "  [6.41279383e+21 6.41279383e+21 6.41279383e+21 ... 6.41279383e+21\n",
      "   6.41279383e+21 6.41279383e+21]\n",
      "  [7.10452499e+21 7.10452499e+21 7.10452499e+21 ... 7.10452499e+21\n",
      "   7.10452499e+21 7.10452499e+21]]\n",
      "\n",
      " [[7.98068366e+21 7.98068366e+21 7.98068366e+21 ... 7.98068366e+21\n",
      "   7.98068366e+21 7.98068366e+21]\n",
      "  [7.20364543e+21 7.20364543e+21 7.20364543e+21 ... 7.20364543e+21\n",
      "   7.20364543e+21 7.20364543e+21]\n",
      "  [5.17515563e+21 5.17515563e+21 5.17515563e+21 ... 5.17515563e+21\n",
      "   5.17515563e+21 5.17515563e+21]\n",
      "  ...\n",
      "  [5.17515563e+21 5.17515563e+21 5.17515563e+21 ... 5.17515563e+21\n",
      "   5.17515563e+21 5.17515563e+21]\n",
      "  [7.20364543e+21 7.20364543e+21 7.20364543e+21 ... 7.20364543e+21\n",
      "   7.20364543e+21 7.20364543e+21]\n",
      "  [7.98068366e+21 7.98068366e+21 7.98068366e+21 ... 7.98068366e+21\n",
      "   7.98068366e+21 7.98068366e+21]]\n",
      "\n",
      " ...\n",
      "\n",
      " [[5.01210193e+26 5.01210193e+26 5.01210193e+26 ... 5.01210193e+26\n",
      "   5.01210193e+26 5.01210193e+26]\n",
      "  [4.52409927e+26 4.52409927e+26 4.52409927e+26 ... 4.52409927e+26\n",
      "   4.52409927e+26 4.52409927e+26]\n",
      "  [3.25014856e+26 3.25014856e+26 3.25014856e+26 ... 3.25014856e+26\n",
      "   3.25014856e+26 3.25014856e+26]\n",
      "  ...\n",
      "  [3.25014856e+26 3.25014856e+26 3.25014856e+26 ... 3.25014856e+26\n",
      "   3.25014856e+26 3.25014856e+26]\n",
      "  [4.52409927e+26 4.52409927e+26 4.52409927e+26 ... 4.52409927e+26\n",
      "   4.52409927e+26 4.52409927e+26]\n",
      "  [5.01210193e+26 5.01210193e+26 5.01210193e+26 ... 5.01210193e+26\n",
      "   5.01210193e+26 5.01210193e+26]]\n",
      "\n",
      " [[5.63021455e+26 5.63021455e+26 5.63021455e+26 ... 5.63021455e+26\n",
      "   5.63021455e+26 5.63021455e+26]\n",
      "  [5.08202944e+26 5.08202944e+26 5.08202944e+26 ... 5.08202944e+26\n",
      "   5.08202944e+26 5.08202944e+26]\n",
      "  [3.65096999e+26 3.65096999e+26 3.65096999e+26 ... 3.65096999e+26\n",
      "   3.65096999e+26 3.65096999e+26]\n",
      "  ...\n",
      "  [3.65096999e+26 3.65096999e+26 3.65096999e+26 ... 3.65096999e+26\n",
      "   3.65096999e+26 3.65096999e+26]\n",
      "  [5.08202944e+26 5.08202944e+26 5.08202944e+26 ... 5.08202944e+26\n",
      "   5.08202944e+26 5.08202944e+26]\n",
      "  [5.63021455e+26 5.63021455e+26 5.63021455e+26 ... 5.63021455e+26\n",
      "   5.63021455e+26 5.63021455e+26]]\n",
      "\n",
      " [[6.32455532e+26 6.32455532e+26 6.32455532e+26 ... 6.32455532e+26\n",
      "   6.32455532e+26 6.32455532e+26]\n",
      "  [5.70876581e+26 5.70876581e+26 5.70876581e+26 ... 5.70876581e+26\n",
      "   5.70876581e+26 5.70876581e+26]\n",
      "  [4.10122233e+26 4.10122233e+26 4.10122233e+26 ... 4.10122233e+26\n",
      "   4.10122233e+26 4.10122233e+26]\n",
      "  ...\n",
      "  [4.10122233e+26 4.10122233e+26 4.10122233e+26 ... 4.10122233e+26\n",
      "   4.10122233e+26 4.10122233e+26]\n",
      "  [5.70876581e+26 5.70876581e+26 5.70876581e+26 ... 5.70876581e+26\n",
      "   5.70876581e+26 5.70876581e+26]\n",
      "  [6.32455532e+26 6.32455532e+26 6.32455532e+26 ... 6.32455532e+26\n",
      "   6.32455532e+26 6.32455532e+26]]]\n",
      "Starting ray trace.\n",
      "Ray trace completed in:\t 2.1109156608581543 s\n"
     ]
    }
   ],
   "source": [
    "import full_solver as s\n",
    "\n",
    "extent_x = 5e-3\n",
    "extent_y = 5e-3\n",
    "extent_z = 10e-3\n",
    "\n",
    "n_cells = 100\n",
    "\n",
    "x = np.linspace(-extent_x, extent_x, n_cells)\n",
    "y = np.linspace(-extent_y, extent_y, n_cells)\n",
    "z = np.linspace(-extent_z, extent_z, n_cells)\n",
    "\n",
    "probing_extent = extent_z\n",
    "probing_direction = 'z'\n",
    "\n",
    "domain = s.ScalarDomain(x = x, y = y, z = z, extent= probing_extent, probing_direction = probing_direction, phaseshift = True) #specify phaseshift TRUE\n",
    "\n",
    "# load some external pvti\n",
    "\n",
    "\n",
    "# import utils.handle_filetypes as load\n",
    "# ne, dim, spacing = load.pvti_readin(filename)\n",
    "\n",
    "# or load a test distribution\n",
    "\n",
    "domain.test_exponential_cos()\n",
    "\n",
    "wl = 1064e-9 #define laser wavelength\n",
    "\n",
    "# initialise beam\n",
    "\n",
    "Np = 1000 #number of photons\n",
    "divergence = 5e-5 #realistic divergence value\n",
    "beam_size = extent_x #beam radius\n",
    "ne_extent = probing_extent #so the beam knows where to initialise initial positions\n",
    "beam_type = 'circular'\n",
    "\n",
    "initial_rays = s.init_beam(Np = Np, beam_size = beam_size, divergence = divergence, ne_extent = ne_extent, beam_type = beam_type, probing_direction = probing_direction)\n",
    "\n",
    "# solve ray trace\n",
    "\n",
    "domain.calc_dndr(wl)\n",
    "\n",
    "final_rays, E = domain.solve(initial_rays, return_E = True)\n",
    "\n",
    "n_fringes = 10\n",
    "deg = 10 #adjust number of fringes and tilt in degrees from the vertical exis\n",
    "final_E = s.interfere_ref_beam(final_rays, E, n_fringes, deg)\n",
    "\n",
    "pattern=rtm.Interferometry(final_rays, E = final_E)\n",
    "pattern.two_lens_solve(wl = wl)\n",
    "pattern.interferogram(bin_scale = 1, clear_mem=True) #use interferogram instead of histogram\n",
    "\n",
    "#get interferogram histogram with sh.H\n"
   ]
  },
  {
   "cell_type": "code",
   "execution_count": 34,
   "metadata": {},
   "outputs": [
    {
     "data": {
      "text/plain": [
       "<matplotlib.image.AxesImage at 0x7fc4cf1c4410>"
      ]
     },
     "execution_count": 34,
     "metadata": {},
     "output_type": "execute_result"
    },
    {
     "data": {
      "image/png": "[encoded data removed]",
      "text/plain": [
       "<Figure size 640x480 with 1 Axes>"
      ]
     },
     "metadata": {},
     "output_type": "display_data"
    }
   ],
   "source": [
    "plt.imshow(pattern.H, cmap='hot', interpolation='nearest')"
   ]
  }
 ],
 "metadata": {
  "kernelspec": {
   "display_name": "Python 3.13.2 64-bit",
   "language": "python",
   "name": "python3"
  },
  "language_info": {
   "codemirror_mode": {
    "name": "ipython",
    "version": 3
   },
   "file_extension": ".py",
   "mimetype": "text/x-python",
   "name": "python",
   "nbconvert_exporter": "python",
   "pygments_lexer": "ipython3",
   "version": "3.13.2"
  },
  "vscode": {
   "interpreter": {
    "hash": "e7370f93d1d0cde622a1f8e1c04877d8463912d04d973331ad4851f04de6915a"
   }
  }
 },
 "nbformat": 4,
 "nbformat_minor": 2
}
