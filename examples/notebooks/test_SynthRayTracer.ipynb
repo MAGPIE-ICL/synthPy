{
 "cells": [
  {
   "cell_type": "markdown",
   "metadata": {},
   "source": [
    "### Test - Synthetic Diagnostic + Interferometry\n",
    "\n",
    "</b> Author:   </b>  Louis Evans     </br>\n",
    "</b> Reviewer: </b>  Stefano Merlini"
   ]
  },
  {
   "cell_type": "markdown",
   "metadata": {},
   "source": [
    "### Import relevant files:"
   ]
  },
  {
   "cell_type": "code",
   "execution_count": 1,
   "metadata": {},
   "outputs": [
    {
     "data": {
      "text/plain": [
       "<module 'utils' from '/home/administrator/Work/UROP_ICL_Internship/synthPy/examples/notebooks/../../synthPy_restructured/utils.py'>"
      ]
     },
     "execution_count": 1,
     "metadata": {},
     "output_type": "execute_result"
    }
   ],
   "source": [
    "import numpy as np\n",
    "import matplotlib.pyplot as plt\n",
    "import vtk\n",
    "from vtk.util import numpy_support as vtk_np\n",
    "import matplotlib.pyplot as plt\n",
    "\n",
    "import sys\n",
    "\n",
    "#add path\n",
    "sys.path.insert(0, '../../synthPy_restructured')     # import path/to/synthpy\n",
    "\n",
    "import beam as beam_initialiser\n",
    "import diagnostics as diag\n",
    "import domain as d\n",
    "import propagator as p\n",
    "#import propagator_backup_non_jax as p\n",
    "import utils\n",
    "\n",
    "import importlib\n",
    "importlib.reload(beam_initialiser)\n",
    "importlib.reload(diag)\n",
    "importlib.reload(d)\n",
    "importlib.reload(p)\n",
    "importlib.reload(utils)"
   ]
  },
  {
   "cell_type": "markdown",
   "metadata": {},
   "source": [
    "To use the ray tracer, first create a 'domain', load the domain with an electron distribution, calculate electron gradients, initialise a beam, and solve!\n",
    "\\\n",
    "\\\n",
    "The output can either be plotted, or passed further through ray optics for synthetic diagnostics"
   ]
  },
  {
   "cell_type": "code",
   "execution_count": 2,
   "metadata": {},
   "outputs": [],
   "source": [
    "# define some extent, the domain should be distributed as +extent to -extent, does not need to be cubic\n",
    "extent_x = 5e-3\n",
    "extent_y = 5e-3\n",
    "extent_z = 10e-3\n",
    "\n",
    "n_cells = 100\n",
    "\n",
    "x = np.linspace(-extent_x, extent_x, n_cells)\n",
    "y = np.linspace(-extent_y, extent_y, n_cells)\n",
    "z = np.linspace(-extent_z, extent_z, n_cells)\n",
    "\n",
    "probing_extent = extent_z\n",
    "probing_direction = 'z'\n",
    "\n",
    "lengths = 2 * np.array([extent_x, extent_y, extent_z])\n",
    "\n",
    "#domain = d.ScalarDomain(x = x, y = y, z = z, extent= probing_extent, probing_direction = probing_direction)     # create domain\n",
    "# Much simpler domain function, no longer needlessly takes in beam values, they are fully seperated\n",
    "domain = d.ScalarDomain(lengths, n_cells) # B_on = False by default"
   ]
  },
  {
   "cell_type": "markdown",
   "metadata": {},
   "source": [
    "Load some domain distribution"
   ]
  },
  {
   "cell_type": "code",
   "execution_count": 3,
   "metadata": {},
   "outputs": [],
   "source": [
    "# load some external pvti\n",
    "# import utils.handle_filetypes as load\n",
    "# ne, dim, spacing = load.pvti_readin(filename)\n",
    "# or load a test distribution\n",
    "\n",
    "domain.test_exponential_cos()"
   ]
  },
  {
   "cell_type": "markdown",
   "metadata": {},
   "source": [
    "Solve gradients, initialise beam, and solve"
   ]
  },
  {
   "cell_type": "code",
   "execution_count": 4,
   "metadata": {},
   "outputs": [
    {
     "name": "stdout",
     "output_type": "stream",
     "text": [
      "Completed calc_dndr routine.\n",
      "Completed ray trace in 22.724 seconds.\n"
     ]
    },
    {
     "data": {
      "text/plain": [
       "'\\ntracer_parallelised_jitted = p.Propagator(domain, initial_rays, inv_brems = False, phaseshift = False)\\n\\n# solve ray trace\\ntracer_parallelised_jitted.calc_dndr()\\nprint(\"Completed calc_dndr routine.\")\\n\\nfinal_rays_parallelised_jitted = tracer_parallelised_jitted.solve()\\nprint(\"Completed parallelised & jitted ray trace in\", np.round(tracer_parallelised_jitted.duration, 3), \"seconds.\")\\n\\n\\ntracer_parallelised = p.Propagator(domain, initial_rays, inv_brems = False, phaseshift = False)\\n\\n# solve ray trace\\ntracer_parallelised.calc_dndr()\\nprint(\"Completed calc_dndr routine.\")\\n\\nfinal_rays_parallelised = tracer_parallelised.solve(jitted = False)\\nprint(\"Completed parallelised ray trace in\", np.round(tracer_parallelised.duration, 3), \"seconds.\")\\n'"
      ]
     },
     "execution_count": 4,
     "metadata": {},
     "output_type": "execute_result"
    }
   ],
   "source": [
    "wl = 1064e-9 #define laser wavelength\n",
    "\n",
    "# initialise beam\n",
    "Np = 100000    # number of photons\n",
    "#Np = 1000 # small test case for new diffrax solver\n",
    "divergence = 5e-5   # realistic divergence value\n",
    "beam_size = extent_x    # beam radius\n",
    "ne_extent = probing_extent  # so the beam knows where to initialise initial positions\n",
    "beam_type = 'circular'\n",
    "\n",
    "initial_rays = beam_initialiser.Beam(Np, beam_size, divergence, ne_extent, probing_direction, wl, beam_type)\n",
    "\n",
    "tracer = p.Propagator(domain, initial_rays, inv_brems = False, phaseshift = False)\n",
    "\n",
    "\n",
    "# solve ray trace\n",
    "tracer.calc_dndr()\n",
    "print(\"Completed calc_dndr routine.\")\n",
    "\n",
    "final_rays = tracer.solve(parallelise = False, jitted = False)\n",
    "#final_rays, final_rays_to_Jonesvector = tracer.Beam.rf, tracer.Beam.Jf\n",
    "print(\"Completed ray trace in\", np.round(tracer.duration, 3), \"seconds.\")\n",
    "print()\n",
    "\n",
    "\n",
    "\n",
    "'''\n",
    "tracer_parallelised_jitted = p.Propagator(domain, initial_rays, inv_brems = False, phaseshift = False)\n",
    "\n",
    "# solve ray trace\n",
    "tracer_parallelised_jitted.calc_dndr()\n",
    "print(\"Completed calc_dndr routine.\")\n",
    "\n",
    "final_rays_parallelised_jitted = tracer_parallelised_jitted.solve()\n",
    "print(\"Completed parallelised & jitted ray trace in\", np.round(tracer_parallelised_jitted.duration, 3), \"seconds.\")\n",
    "\n",
    "\n",
    "tracer_parallelised = p.Propagator(domain, initial_rays, inv_brems = False, phaseshift = False)\n",
    "\n",
    "# solve ray trace\n",
    "tracer_parallelised.calc_dndr()\n",
    "print(\"Completed calc_dndr routine.\")\n",
    "\n",
    "final_rays_parallelised = tracer_parallelised.solve(jitted = False)\n",
    "print(\"Completed parallelised ray trace in\", np.round(tracer_parallelised.duration, 3), \"seconds.\")\n",
    "'''"
   ]
  },
  {
   "cell_type": "markdown",
   "metadata": {},
   "source": [
    "Pass through ray optics: For Shadowgaphy, Schlieren, or Refractometry:"
   ]
  },
  {
   "cell_type": "code",
   "execution_count": 5,
   "metadata": {},
   "outputs": [
    {
     "name": "stdout",
     "output_type": "stream",
     "text": [
      "\n",
      "r0 after clearing nan's: (100000, 100000)\n",
      "\n",
      "r0 after clearing nan's: (100000, 100000)\n",
      "\n",
      "r0 after clearing nan's: (100000, 100000)\n"
     ]
    }
   ],
   "source": [
    "#in the diagnostic initialisation, details on the lens configurations, and detector dimensions can be specified\n",
    "refractometer = diag.Refractometry(tracer.Beam)\n",
    "refractometer.incoherent_solve()\n",
    "# cam't clear_mem if you want to generate other graphs afterwards\n",
    "refractometer.histogram(bin_scale = 1, clear_mem = False)\n",
    "\n",
    "shadowgrapher = diag.Shadowgraphy(tracer.Beam)\n",
    "shadowgrapher.single_lens_solve()\n",
    "shadowgrapher.histogram(bin_scale = 1, clear_mem = False)\n",
    "\n",
    "schlierener = diag.Schlieren(tracer.Beam)\n",
    "schlierener.DF_solve()\n",
    "schlierener.histogram(bin_scale = 1, clear_mem = True)\n",
    "\n",
    "#information accessed by .H(istogram) , e.g plt.imshow(refractometer.H)"
   ]
  },
  {
   "cell_type": "code",
   "execution_count": 6,
   "metadata": {},
   "outputs": [
    {
     "data": {
      "text/plain": [
       "<matplotlib.image.AxesImage at 0x7fbb80aee780>"
      ]
     },
     "execution_count": 6,
     "metadata": {},
     "output_type": "execute_result"
    },
    {
     "data": {
      "image/png": "[encoded data removed]",
      "text/plain": [
       "<Figure size 640x480 with 1 Axes>"
      ]
     },
     "metadata": {},
     "output_type": "display_data"
    }
   ],
   "source": [
    "#plt.imshow(refractometer.H, cmap='hot', interpolation='nearest', clim = (0, 2))\n",
    "plt.imshow(refractometer.H, cmap = 'hot', interpolation = 'nearest', clim = (0.5, 1))\n",
    "plt.imshow(shadowgrapher.H, cmap = 'hot', interpolation = 'nearest', clim = (0.5, 1))\n",
    "plt.imshow(schlierener.H, cmap = 'hot', interpolation = 'nearest', clim = (0.5, 1))"
   ]
  },
  {
   "cell_type": "markdown",
   "metadata": {},
   "source": [
    "Synthetic Interferometry - This requires some extra steps in the ray tracing to include information on the phase and electric field values"
   ]
  },
  {
   "cell_type": "code",
   "execution_count": 7,
   "metadata": {},
   "outputs": [],
   "source": [
    "# No need to change the domain (now that code has been seperated out in restructure)\n",
    "\n",
    "\n",
    "\n",
    "# load some external pvti\n",
    "\n",
    "# import utils.handle_filetypes as load\n",
    "# ne, dim, spacing = load.pvti_readin(filename)\n",
    "\n",
    "# or load a test distribution\n",
    "\n",
    "\n",
    "\n",
    "# initialise beam\n",
    "\n",
    "\n",
    "\n",
    "# solve ray trace\n",
    "tracer = p.Propagator(domain, initial_rays, inv_brems = False, phaseshift = True)\n",
    "\n",
    "tracer.calc_dndr()\n",
    "\n",
    "tracer.Beam.rf, tracer.Beam.Jf = tracer.solve(parallelise = False, jitted = False, return_E = True)\n",
    "\n",
    "n_fringes = 10\n",
    "deg = 10 #adjust number of fringes and tilt in degrees from the vertical exis\n",
    "\n",
    "interferometrer = diag.Interferometry(tracer.Beam)\n",
    "interferometrer.interfere_ref_beam(n_fringes, deg)\n",
    "\n",
    "pattern = diag.Interferometry(tracer.Beam)\n",
    "#pattern = interferometrer\n",
    "pattern.two_lens_solve()\n",
    "pattern.interferogram(bin_scale = 1, clear_mem = True) #use interferogram instead of histogram\n",
    "\n",
    "#get interferogram histogram with sh.H\n"
   ]
  },
  {
   "cell_type": "code",
   "execution_count": null,
   "metadata": {},
   "outputs": [
    {
     "data": {
      "text/plain": [
       "<matplotlib.image.AxesImage at 0x22207d5e850>"
      ]
     },
     "execution_count": 8,
     "metadata": {},
     "output_type": "execute_result"
    },
    {
     "data": {
      "image/png": "[encoded data removed]",
      "text/plain": [
       "<Figure size 640x480 with 1 Axes>"
      ]
     },
     "metadata": {},
     "output_type": "display_data"
    }
   ],
   "source": [
    "plt.imshow(pattern.H, cmap = 'hot', interpolation = 'nearest')"
   ]
  },
  {
   "cell_type": "code",
   "execution_count": null,
   "metadata": {},
   "outputs": [],
   "source": []
  }
 ],
 "metadata": {
  "kernelspec": {
   "display_name": "Python 3.12.5 ('testing')",
   "language": "python",
   "name": "python3"
  },
  "language_info": {
   "codemirror_mode": {
    "name": "ipython",
    "version": 3
   },
   "file_extension": ".py",
   "mimetype": "text/x-python",
   "name": "python",
   "nbconvert_exporter": "python",
   "pygments_lexer": "ipython3",
   "version": "3.12.5"
  },
  "vscode": {
   "interpreter": {
    "hash": "de6d706a21dde6ee649de53d1c8cba9d9f8e9ee05a3542c9798512c888fa8306"
   }
  }
 },
 "nbformat": 4,
 "nbformat_minor": 4
}
