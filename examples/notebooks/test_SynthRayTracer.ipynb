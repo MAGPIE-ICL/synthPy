{
 "cells": [
  {
   "cell_type": "markdown",
   "metadata": {},
   "source": [
    "### Test - Synthetic Diagnostic + Interferometry\n",
    "\n",
    "</b> Author:   </b>  Louis Evans     </br>\n",
    "</b> Reviewer: </b>  Stefano Merlini"
   ]
  },
  {
   "cell_type": "markdown",
   "metadata": {},
   "source": [
    "### Import relevant files:"
   ]
  },
  {
   "cell_type": "code",
   "execution_count": 159,
   "metadata": {},
   "outputs": [
    {
     "data": {
      "text/plain": [
       "<module 'utils' from '/home/administrator/Work/UROP_ICL_Internship/synthPy/examples/notebooks/../../synthPy_restructured/utils.py'>"
      ]
     },
     "execution_count": 159,
     "metadata": {},
     "output_type": "execute_result"
    }
   ],
   "source": [
    "import numpy as np\n",
    "import matplotlib.pyplot as plt\n",
    "import vtk\n",
    "from vtk.util import numpy_support as vtk_np\n",
    "import matplotlib.pyplot as plt\n",
    "\n",
    "import sys\n",
    "\n",
    "#add path\n",
    "sys.path.insert(0, '../../synthPy_restructured')     # import path/to/synthpy\n",
    "\n",
    "import beam as beam_initialiser\n",
    "import diagnostics as diag\n",
    "import domain as d\n",
    "import propagator as p\n",
    "#import propagator_backup_non_jax as p\n",
    "import utils\n",
    "\n",
    "import importlib\n",
    "importlib.reload(beam_initialiser)\n",
    "importlib.reload(diag)\n",
    "importlib.reload(d)\n",
    "importlib.reload(p)\n",
    "importlib.reload(utils)"
   ]
  },
  {
   "cell_type": "markdown",
   "metadata": {},
   "source": [
    "To use the ray tracer, first create a 'domain', load the domain with an electron distribution, calculate electron gradients, initialise a beam, and solve!\n",
    "\\\n",
    "\\\n",
    "The output can either be plotted, or passed further through ray optics for synthetic diagnostics"
   ]
  },
  {
   "cell_type": "code",
   "execution_count": 160,
   "metadata": {},
   "outputs": [],
   "source": [
    "# define some extent, the domain should be distributed as +extent to -extent, does not need to be cubic\n",
    "extent_x = 5e-3\n",
    "extent_y = 5e-3\n",
    "extent_z = 10e-3\n",
    "\n",
    "n_cells = 100\n",
    "\n",
    "x = np.linspace(-extent_x, extent_x, n_cells)\n",
    "y = np.linspace(-extent_y, extent_y, n_cells)\n",
    "z = np.linspace(-extent_z, extent_z, n_cells)\n",
    "\n",
    "probing_extent = extent_z\n",
    "probing_direction = 'z'\n",
    "\n",
    "lengths = 2 * np.array([extent_x, extent_y, extent_z])\n",
    "\n",
    "#domain = d.ScalarDomain(x = x, y = y, z = z, extent= probing_extent, probing_direction = probing_direction)     # create domain\n",
    "# Much simpler domain function, no longer needlessly takes in beam values, they are fully seperated\n",
    "domain = d.ScalarDomain(lengths, n_cells) # B_on = False by default"
   ]
  },
  {
   "cell_type": "markdown",
   "metadata": {},
   "source": [
    "Load some domain distribution"
   ]
  },
  {
   "cell_type": "code",
   "execution_count": 161,
   "metadata": {},
   "outputs": [],
   "source": [
    "# load some external pvti\n",
    "# import utils.handle_filetypes as load\n",
    "# ne, dim, spacing = load.pvti_readin(filename)\n",
    "# or load a test distribution\n",
    "\n",
    "domain.test_exponential_cos()"
   ]
  },
  {
   "cell_type": "markdown",
   "metadata": {},
   "source": [
    "Solve gradients, initialise beam, and solve"
   ]
  },
  {
   "cell_type": "code",
   "execution_count": 162,
   "metadata": {},
   "outputs": [
    {
     "name": "stdout",
     "output_type": "stream",
     "text": [
      "Completed calc_dndr routine.\n",
      "Completed ray trace in 6.298 seconds.\n",
      "Completed calc_dndr routine.\n",
      "\n",
      "Parallelised output has resulting 3D matrix of form: [batch_count, 2, 9]: (10, 2, 9)\n",
      "\t2 to account the start and end results\n",
      "\t9 containing the 3 position and velocity components, amplitude, phase and polarisation\n",
      "\n",
      "We reshape into the form: (9, 10)\n",
      "Completed parallelised ray trace in 2.234 seconds.\n"
     ]
    }
   ],
   "source": [
    "wl = 1064e-9 #define laser wavelength\n",
    "\n",
    "# initialise beam\n",
    "#Np = 100000    # number of photons\n",
    "Np = 10 # small test case for new diffrax solver\n",
    "divergence = 5e-5   # realistic divergence value\n",
    "beam_size = extent_x    # beam radius\n",
    "ne_extent = probing_extent  # so the beam knows where to initialise initial positions\n",
    "beam_type = 'circular'\n",
    "\n",
    "initial_rays = beam_initialiser.Beam(Np, beam_size, divergence, ne_extent, probing_direction, wl, beam_type)\n",
    "\n",
    "tracer = p.Propagator(domain, initial_rays, inv_brems = False, phaseshift = False)\n",
    "\n",
    "# solve ray trace\n",
    "tracer.calc_dndr()\n",
    "print(\"Completed calc_dndr routine.\")\n",
    "\n",
    "final_rays = tracer.solve(parallelise = False)\n",
    "#final_rays, final_rays_to_Jonesvector = tracer.Beam.rf, tracer.Beam.Jf\n",
    "print(\"Completed ray trace in\", np.round(tracer.duration, 3), \"seconds.\")\n",
    "\n",
    "tracer_parallelised = p.Propagator(domain, initial_rays, inv_brems = False, phaseshift = False)\n",
    "\n",
    "# solve ray trace\n",
    "tracer_parallelised.calc_dndr()\n",
    "print(\"Completed calc_dndr routine.\")\n",
    "\n",
    "final_rays_parallelised = tracer_parallelised.solve(parallelise = True)\n",
    "print(\"Completed parallelised ray trace in\", np.round(tracer_parallelised.duration, 3), \"seconds.\")"
   ]
  },
  {
   "cell_type": "markdown",
   "metadata": {},
   "source": [
    "Pass through ray optics: For Shadowgaphy, Schlieren, or Refractometry:"
   ]
  },
  {
   "cell_type": "code",
   "execution_count": 163,
   "metadata": {},
   "outputs": [
    {
     "ename": "ValueError",
     "evalue": "x and y must have the same length.",
     "output_type": "error",
     "traceback": [
      "\u001b[0;31m---------------------------------------------------------------------------\u001b[0m",
      "\u001b[0;31mValueError\u001b[0m                                Traceback (most recent call last)",
      "Cell \u001b[0;32mIn[163], line 4\u001b[0m\n\u001b[1;32m      2\u001b[0m refractometer \u001b[38;5;241m=\u001b[39m diag\u001b[38;5;241m.\u001b[39mRefractometry(tracer\u001b[38;5;241m.\u001b[39mBeam)\n\u001b[1;32m      3\u001b[0m refractometer\u001b[38;5;241m.\u001b[39mincoherent_solve()\n\u001b[0;32m----> 4\u001b[0m refractometer\u001b[38;5;241m.\u001b[39mhistogram(bin_scale \u001b[38;5;241m=\u001b[39m \u001b[38;5;241m1\u001b[39m, clear_mem \u001b[38;5;241m=\u001b[39m \u001b[38;5;28;01mTrue\u001b[39;00m)\n\u001b[1;32m      6\u001b[0m shadowgrapher \u001b[38;5;241m=\u001b[39m diag\u001b[38;5;241m.\u001b[39mShadowgraphy(tracer\u001b[38;5;241m.\u001b[39mBeam)\n\u001b[1;32m      7\u001b[0m shadowgrapher\u001b[38;5;241m.\u001b[39msingle_lens_solve()\n",
      "File \u001b[0;32m~/Work/UROP_ICL_Internship/synthPy/examples/notebooks/../../synthPy_restructured/diagnostics.py:207\u001b[0m, in \u001b[0;36mDiagnostic.histogram\u001b[0;34m(self, bin_scale, pix_x, pix_y, clear_mem)\u001b[0m\n\u001b[1;32m    204\u001b[0m x\u001b[38;5;241m=\u001b[39mx[\u001b[38;5;241m~\u001b[39mnp\u001b[38;5;241m.\u001b[39misnan(x)]\n\u001b[1;32m    205\u001b[0m y\u001b[38;5;241m=\u001b[39my[\u001b[38;5;241m~\u001b[39mnp\u001b[38;5;241m.\u001b[39misnan(y)]\n\u001b[0;32m--> 207\u001b[0m \u001b[38;5;28mself\u001b[39m\u001b[38;5;241m.\u001b[39mH, \u001b[38;5;28mself\u001b[39m\u001b[38;5;241m.\u001b[39mxedges, \u001b[38;5;28mself\u001b[39m\u001b[38;5;241m.\u001b[39myedges \u001b[38;5;241m=\u001b[39m np\u001b[38;5;241m.\u001b[39mhistogram2d(x, y, bins\u001b[38;5;241m=\u001b[39m[pix_x\u001b[38;5;241m/\u001b[39m\u001b[38;5;241m/\u001b[39mbin_scale, pix_y\u001b[38;5;241m/\u001b[39m\u001b[38;5;241m/\u001b[39mbin_scale], \u001b[38;5;28mrange\u001b[39m\u001b[38;5;241m=\u001b[39m[[\u001b[38;5;241m-\u001b[39m\u001b[38;5;28mself\u001b[39m\u001b[38;5;241m.\u001b[39mLx\u001b[38;5;241m/\u001b[39m\u001b[38;5;241m2\u001b[39m, \u001b[38;5;28mself\u001b[39m\u001b[38;5;241m.\u001b[39mLx\u001b[38;5;241m/\u001b[39m\u001b[38;5;241m2\u001b[39m],[\u001b[38;5;241m-\u001b[39m\u001b[38;5;28mself\u001b[39m\u001b[38;5;241m.\u001b[39mLy\u001b[38;5;241m/\u001b[39m\u001b[38;5;241m2\u001b[39m,\u001b[38;5;28mself\u001b[39m\u001b[38;5;241m.\u001b[39mLy\u001b[38;5;241m/\u001b[39m\u001b[38;5;241m2\u001b[39m]])\n\u001b[1;32m    208\u001b[0m \u001b[38;5;28mself\u001b[39m\u001b[38;5;241m.\u001b[39mH \u001b[38;5;241m=\u001b[39m \u001b[38;5;28mself\u001b[39m\u001b[38;5;241m.\u001b[39mH\u001b[38;5;241m.\u001b[39mT\n\u001b[1;32m    210\u001b[0m \u001b[38;5;66;03m#Optional - clear ray attributes to save memory\u001b[39;00m\n",
      "File \u001b[0;32m~/Programs/anaconda3/envs/testing/lib/python3.12/site-packages/numpy/lib/_twodim_base_impl.py:803\u001b[0m, in \u001b[0;36mhistogram2d\u001b[0;34m(x, y, bins, range, density, weights)\u001b[0m\n\u001b[1;32m    800\u001b[0m \u001b[38;5;28;01mfrom\u001b[39;00m \u001b[38;5;21;01mnumpy\u001b[39;00m \u001b[38;5;28;01mimport\u001b[39;00m histogramdd\n\u001b[1;32m    802\u001b[0m \u001b[38;5;28;01mif\u001b[39;00m \u001b[38;5;28mlen\u001b[39m(x) \u001b[38;5;241m!=\u001b[39m \u001b[38;5;28mlen\u001b[39m(y):\n\u001b[0;32m--> 803\u001b[0m     \u001b[38;5;28;01mraise\u001b[39;00m \u001b[38;5;167;01mValueError\u001b[39;00m(\u001b[38;5;124m'\u001b[39m\u001b[38;5;124mx and y must have the same length.\u001b[39m\u001b[38;5;124m'\u001b[39m)\n\u001b[1;32m    805\u001b[0m \u001b[38;5;28;01mtry\u001b[39;00m:\n\u001b[1;32m    806\u001b[0m     N \u001b[38;5;241m=\u001b[39m \u001b[38;5;28mlen\u001b[39m(bins)\n",
      "\u001b[0;31mValueError\u001b[0m: x and y must have the same length."
     ]
    }
   ],
   "source": [
    "#in the diagnostic initialisation, details on the lens configurations, and detector dimensions can be specified\n",
    "refractometer = diag.Refractometry(tracer.Beam)\n",
    "refractometer.incoherent_solve()\n",
    "refractometer.histogram(bin_scale = 1, clear_mem = True)\n",
    "\n",
    "shadowgrapher = diag.Shadowgraphy(tracer.Beam)\n",
    "shadowgrapher.single_lens_solve()\n",
    "shadowgrapher.histogram(bin_scale = 1, clear_mem = True)\n",
    "\n",
    "schlierener = diag.Schlieren(tracer.Beam)\n",
    "schlierener.DF_solve()\n",
    "schlierener.histogram(bin_scale = 1, clear_mem = True)\n",
    "\n",
    "#information accessed by .H(istogram) , e.g plt.imshow(refractometer.H)"
   ]
  },
  {
   "cell_type": "code",
   "execution_count": null,
   "metadata": {},
   "outputs": [],
   "source": [
    "#plt.imshow(refractometer.H, cmap='hot', interpolation='nearest', clim = (0, 2))\n",
    "plt.imshow(refractometer.H, cmap = 'hot', interpolation = 'nearest', clim = (0.5, 1))"
   ]
  },
  {
   "cell_type": "markdown",
   "metadata": {},
   "source": [
    "Synthetic Interferometry - This requires some extra steps in the ray tracing to include information on the phase and electric field values"
   ]
  },
  {
   "cell_type": "code",
   "execution_count": null,
   "metadata": {},
   "outputs": [],
   "source": [
    "# No need to change the domain (now that code has been seperated out in restructure)\n",
    "\n",
    "\n",
    "\n",
    "# load some external pvti\n",
    "\n",
    "# import utils.handle_filetypes as load\n",
    "# ne, dim, spacing = load.pvti_readin(filename)\n",
    "\n",
    "# or load a test distribution\n",
    "\n",
    "\n",
    "\n",
    "# initialise beam\n",
    "\n",
    "\n",
    "\n",
    "# solve ray trace\n",
    "tracer = p.Propagator(domain, initial_rays, inv_brems = False, phaseshift = True)\n",
    "\n",
    "tracer.calc_dndr()\n",
    "\n",
    "tracer.Beam.rf, tracer.Beam.Jf = tracer.solve(return_E = True)\n",
    "\n",
    "n_fringes = 10\n",
    "deg = 10 #adjust number of fringes and tilt in degrees from the vertical exis\n",
    "\n",
    "interferometrer = diag.Interferometry(tracer.Beam)\n",
    "interferometrer.interfere_ref_beam(n_fringes, deg)\n",
    "\n",
    "pattern = diag.Interferometry(tracer.Beam)\n",
    "#pattern = interferometrer\n",
    "pattern.two_lens_solve()\n",
    "pattern.interferogram(bin_scale = 1, clear_mem = True) #use interferogram instead of histogram\n",
    "\n",
    "#get interferogram histogram with sh.H\n"
   ]
  },
  {
   "cell_type": "code",
   "execution_count": null,
   "metadata": {},
   "outputs": [],
   "source": [
    "plt.imshow(pattern.H, cmap = 'hot', interpolation = 'nearest')"
   ]
  },
  {
   "cell_type": "code",
   "execution_count": null,
   "metadata": {},
   "outputs": [],
   "source": []
  }
 ],
 "metadata": {
  "kernelspec": {
   "display_name": "Python 3 (ipykernel)",
   "language": "python",
   "name": "python3"
  },
  "language_info": {
   "codemirror_mode": {
    "name": "ipython",
    "version": 3
   },
   "file_extension": ".py",
   "mimetype": "text/x-python",
   "name": "python",
   "nbconvert_exporter": "python",
   "pygments_lexer": "ipython3",
   "version": "3.12.5"
  },
  "vscode": {
   "interpreter": {
    "hash": "e7370f93d1d0cde622a1f8e1c04877d8463912d04d973331ad4851f04de6915a"
   }
  }
 },
 "nbformat": 4,
 "nbformat_minor": 4
}
