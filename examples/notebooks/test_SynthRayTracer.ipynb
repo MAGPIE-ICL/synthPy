{
 "cells": [
  {
   "cell_type": "markdown",
   "metadata": {},
   "source": [
    "### Test - Synthetic Diagnostic + Interferometry\n",
    "\n",
    "</b> Author:   </b>  Louis Evans     </br>\n",
    "</b> Reviewer: </b>  Stefano Merlini"
   ]
  },
  {
   "cell_type": "markdown",
   "metadata": {},
   "source": [
    "### Import relevant files:"
   ]
  },
  {
   "cell_type": "code",
   "execution_count": 1,
   "metadata": {},
   "outputs": [
    {
     "data": {
      "text/plain": [
       "<module 'utils' from 'c:\\\\Users\\\\qinal\\\\OneDrive - Imperial College London\\\\UROP\\\\synthPy\\\\examples\\\\notebooks\\\\../../synthPy_restructured\\\\utils.py'>"
      ]
     },
     "execution_count": 1,
     "metadata": {},
     "output_type": "execute_result"
    }
   ],
   "source": [
    "import numpy as np\n",
    "import matplotlib.pyplot as plt\n",
    "import vtk\n",
    "from vtk.util import numpy_support as vtk_np\n",
    "import matplotlib.pyplot as plt\n",
    "import gc\n",
    "\n",
    "import sys\n",
    "\n",
    "#add path\n",
    "sys.path.insert(0, '../../synthPy_restructured')     # import path/to/synthpy\n",
    "\n",
    "import beam as beam_initialiser\n",
    "import diagnostics as diag\n",
    "import domain as d\n",
    "import propagator as p\n",
    "import utils\n",
    "\n",
    "import importlib\n",
    "importlib.reload(beam_initialiser)\n",
    "importlib.reload(diag)\n",
    "importlib.reload(d)\n",
    "importlib.reload(p)\n",
    "importlib.reload(utils)"
   ]
  },
  {
   "cell_type": "markdown",
   "metadata": {},
   "source": [
    "To use the ray tracer, first create a 'domain', load the domain with an electron distribution, calculate electron gradients, initialise a beam, and solve!\n",
    "\\\n",
    "\\\n",
    "The output can either be plotted, or passed further through ray optics for synthetic diagnostics"
   ]
  },
  {
   "cell_type": "code",
   "execution_count": 2,
   "metadata": {},
   "outputs": [
    {
     "name": "stdout",
     "output_type": "stream",
     "text": [
      "Garbage collection count: 61\n",
      "Garbage collection count: 0\n"
     ]
    }
   ],
   "source": [
    "# define some extent, the domain should be distributed as +extent to -extent, does not need to be cubic\n",
    "extent_x = 5e-3\n",
    "extent_y = 5e-3\n",
    "extent_z = 10e-3\n",
    "\n",
    "n_cells = 100\n",
    "\n",
    "#x = np.linspace(-extent_x, extent_x, n_cells)\n",
    "#y = np.linspace(-extent_y, extent_y, n_cells)\n",
    "#z = np.linspace(-extent_z, extent_z, n_cells)\n",
    "\n",
    "probing_extent = extent_z\n",
    "probing_direction = 'z'\n",
    "\n",
    "lengths = 2 * np.array([extent_x, extent_y, extent_z])\n",
    "\n",
    "print(\"Garbage collection count:\", gc.collect())\n",
    "\n",
    "#domain = d.ScalarDomain(x = x, y = y, z = z, extent= probing_extent, probing_direction = probing_direction)     # create domain\n",
    "# Much simpler domain function, no longer needlessly takes in beam values, they are fully seperated\n",
    "domain = d.ScalarDomain(lengths, n_cells) # B_on = False by default\n",
    "\n",
    "# clear we should do manual garbage collection of some variety in d.ScalarDomain function\n",
    "print(\"Garbage collection count:\", gc.collect())"
   ]
  },
  {
   "cell_type": "markdown",
   "metadata": {},
   "source": [
    "Load some domain distribution"
   ]
  },
  {
   "cell_type": "code",
   "execution_count": 3,
   "metadata": {},
   "outputs": [],
   "source": [
    "# load some external pvti\n",
    "# import utils.handle_filetypes as load\n",
    "# ne, dim, spacing = load.pvti_readin(filename)\n",
    "# or load a test distribution\n",
    "\n",
    "#domain.ne = np.full((100, 100, 100), 1e24)\n",
    "domain.test_exponential_cos()\n",
    "#domain.test_slab(0.000001, 1e24)\n",
    "domain.external_Te(np.full((n_cells, n_cells, n_cells), 2e5))\n",
    "domain.external_mass_density(np.full((n_cells, n_cells, n_cells), 2e3))"
   ]
  },
  {
   "cell_type": "markdown",
   "metadata": {},
   "source": [
    "Solve gradients, initialise beam, and solve"
   ]
  },
  {
   "cell_type": "code",
   "execution_count": 4,
   "metadata": {},
   "outputs": [
    {
     "name": "stdout",
     "output_type": "stream",
     "text": [
      "jax compilation of solver took: 0.0011034011840820312\n",
      "Traced<float32[1]>with<DynamicJaxprTrace>\n",
      "Traced<float32[1]>with<DynamicJaxprTrace>\n",
      "Traced<float32[1]>with<DynamicJaxprTrace>\n",
      "\n",
      "Parallelised output has resulting 3D matrix of form: [batch_count, 2, 9]: (100000, 2, 9)\n",
      "\t2 to account the start and end results\n",
      "\t9 containing the 3 position and velocity components, amplitude, phase and polarisation\n",
      "\n",
      "We reshape into the form: (9, 100000)\n",
      "\n",
      "Completed ray trace in 11.375 seconds.\n"
     ]
    }
   ],
   "source": [
    "wl = 10e-9 #define laser wavelength\n",
    "\n",
    "# initialise beam\n",
    "Np = 100000   # number of photons\n",
    "divergence = 5e-5   # realistic divergence value\n",
    "beam_size = extent_x    # beam radius\n",
    "ne_extent = probing_extent  # so the beam knows where to initialise initial positions\n",
    "beam_type = 'circular'\n",
    "#fig, ax = plt.subplots()\n",
    "initial_rays = beam_initialiser.Beam(Np, beam_size, divergence, ne_extent, probing_direction, wl, beam_type)\n",
    "\n",
    "tracer = p.Propagator(domain, initial_rays, inv_brems = False, x_ray = True, phaseshift = False)\n",
    "\n",
    "# solve ray trace\n",
    "tracer.calc_dndr()\n",
    "tracer.set_up_interps()\n",
    "final_rays = tracer.solve(parallelise = True, jitted = True)\n",
    "#print(final_rays[0:3:2,:].T)\n",
    "#tracer.Beam.rf = tracer.Beam.rf*1e3\n",
    "# diagnostic=diag.Diagnostic(tracer.Beam)\n",
    "# diagnostic.histogram(bin_scale=10, clear_mem=True)\n",
    "# diagnostic.plot(ax)\n",
    "\n",
    "\n",
    "#final_rays, final_rays_to_Jonesvector = tracer.Beam.rf, tracer.Beam.Jf\n",
    "print(\"\\nCompleted ray trace in\", np.round(tracer.duration, 3), \"seconds.\")"
   ]
  },
  {
   "cell_type": "markdown",
   "metadata": {},
   "source": [
    "Pass through ray optics: For Shadowgaphy, Schlieren, or Refractometry:"
   ]
  },
  {
   "cell_type": "code",
   "execution_count": 5,
   "metadata": {},
   "outputs": [
    {
     "name": "stdout",
     "output_type": "stream",
     "text": [
      "\n",
      "r0 after clearing nan's: (1, 1)\n",
      "Garbage collection count: 9\n"
     ]
    },
    {
     "data": {
      "image/png": "[encoded data removed]",
      "text/plain": [
       "<Figure size 640x480 with 1 Axes>"
      ]
     },
     "metadata": {},
     "output_type": "display_data"
    }
   ],
   "source": [
    "#in the diagnostic initialisation, details on the lens configurations, and detector dimensions can be specified\n",
    "refractometer = diag.Refractometry(tracer.Beam)\n",
    "refractometer.incoherent_solve()\n",
    "# cam't clear_mem if you want to generate other graphs afterwards\n",
    "refractometer.histogram(bin_scale = 1, clear_mem = False)\n",
    "\n",
    "#information accessed by .H(istogram) , e.g plt.imshow(refractometer.H)\n",
    "\n",
    "#plt.imshow(refractometer.H, cmap='hot', interpolation='nearest', clim = (0, 2))\n",
    "plt.imshow(refractometer.H, cmap = 'hot', interpolation = 'nearest', clim = (0.5, 1))\n",
    "\n",
    "print(\"Garbage collection count:\", gc.collect())"
   ]
  },
  {
   "cell_type": "code",
   "execution_count": 6,
   "metadata": {},
   "outputs": [
    {
     "name": "stdout",
     "output_type": "stream",
     "text": [
      "\n",
      "r0 after clearing nan's: (1, 1)\n",
      "Garbage collection count: 3049\n"
     ]
    },
    {
     "data": {
      "image/png": "[encoded data removed]",
      "text/plain": [
       "<Figure size 640x480 with 1 Axes>"
      ]
     },
     "metadata": {},
     "output_type": "display_data"
    }
   ],
   "source": [
    "shadowgrapher = diag.Shadowgraphy(tracer.Beam)\n",
    "shadowgrapher.single_lens_solve()\n",
    "shadowgrapher.histogram(bin_scale = 1, clear_mem = False)\n",
    "\n",
    "plt.imshow(shadowgrapher.H, cmap = 'hot', interpolation = 'nearest', clim = (0.5, 1))\n",
    "\n",
    "print(\"Garbage collection count:\", gc.collect())"
   ]
  },
  {
   "cell_type": "code",
   "execution_count": 7,
   "metadata": {},
   "outputs": [
    {
     "name": "stdout",
     "output_type": "stream",
     "text": [
      "[[nan nan nan ... nan nan nan]\n",
      " [nan nan nan ... nan nan nan]\n",
      " [nan nan nan ... nan nan nan]\n",
      " [nan nan nan ... nan nan nan]]\n",
      "\n",
      "r0 after clearing nan's: (1, 1)\n",
      "Garbage collection count: 3050\n"
     ]
    },
    {
     "data": {
      "image/png": "[encoded data removed]",
      "text/plain": [
       "<Figure size 640x480 with 1 Axes>"
      ]
     },
     "metadata": {},
     "output_type": "display_data"
    }
   ],
   "source": [
    "schlierener = diag.Schlieren(tracer.Beam)\n",
    "schlierener.DF_solve()\n",
    "schlierener.histogram(bin_scale = 1, clear_mem = True)\n",
    "\n",
    "plt.imshow(schlierener.H, cmap = 'hot', interpolation = 'nearest', clim = (0.5, 1))\n",
    "\n",
    "print(\"Garbage collection count:\", gc.collect())"
   ]
  },
  {
   "cell_type": "markdown",
   "metadata": {},
   "source": [
    "Synthetic Interferometry - This requires some extra steps in the ray tracing to include information on the phase and electric field values"
   ]
  },
  {
   "cell_type": "code",
   "execution_count": 8,
   "metadata": {},
   "outputs": [
    {
     "name": "stdout",
     "output_type": "stream",
     "text": [
      "[1. 1. 1. ... 1. 1. 1.]\n",
      "[1. 1. 1. ... 1. 1. 1.]\n",
      "[1. 1. 1. ... 1. 1. 1.]\n",
      "[1. 1. 1. ... 1. 1. 1.]\n",
      "[1. 1. 1. ... 1. 1. 1.]\n",
      "[1. 1. 1. ... 1. 1. 1.]\n",
      "[1. 1. 1. ... 1. 1. 1.]\n",
      "[1. 1. 1. ... 1. 1. 1.]\n",
      "[1. 1. 1. ... 1. 1. 1.]\n",
      "[1. 1. 1. ... 1. 1. 1.]\n",
      "[1. 1. 1. ... 1. 1. 1.]\n",
      "[1. 1. 1. ... 1. 1. 1.]\n",
      "[1. 1. 1. ... 1. 1. 1.]\n",
      "[1. 1. 1. ... 1. 1. 1.]\n",
      "[1. 1. 1. ... 1. 1. 1.]\n",
      "[1. 1. 1. ... 1. 1. 1.]\n",
      "[1. 1. 1. ... 1. 1. 1.]\n",
      "[1. 1. 1. ... 1. 1. 1.]\n",
      "[1. 1. 1. ... 1. 1. 1.]\n",
      "[1. 1. 1. ... 1. 1. 1.]\n",
      "[1. 1. 1. ... 1. 1. 1.]\n",
      "[1. 1. 1. ... 1. 1. 1.]\n",
      "[1. 1. 1. ... 1. 1. 1.]\n",
      "[1. 1. 1. ... 1. 1. 1.]\n",
      "[1. 1. 1. ... 1. 1. 1.]\n",
      "[1. 1. 1. ... 1. 1. 1.]\n",
      "[1. 1. 1. ... 1. 1. 1.]\n",
      "[1. 1. 1. ... 1. 1. 1.]\n",
      "[1. 1. 1. ... 1. 1. 1.]\n",
      "[1. 1. 1. ... 1. 1. 1.]\n",
      "[1. 1. 1. ... 1. 1. 1.]\n",
      "[1. 1. 1. ... 1. 1. 1.]\n",
      "  message: The solver successfully reached the end of the integration interval.\n",
      "  success: True\n",
      "   status: 0\n",
      "        t: [ 0.000e+00  9.435e-11]\n",
      "        y: [[-2.370e-03 -2.369e-03]\n",
      "            [-1.720e-03 -1.719e-03]\n",
      "            ...\n",
      "            [ 0.000e+00  0.000e+00]\n",
      "            [ 0.000e+00  0.000e+00]]\n",
      "      sol: None\n",
      " t_events: None\n",
      " y_events: None\n",
      "     nfev: 32\n",
      "     njev: 0\n",
      "      nlu: 0\n",
      "hi\n"
     ]
    }
   ],
   "source": [
    "# No need to change the domain (now that code has been seperated out in restructure)\n",
    "\n",
    "\n",
    "\n",
    "# load some external pvti\n",
    "\n",
    "# import utils.handle_filetypes as load\n",
    "# ne, dim, spacing = load.pvti_readin(filename)\n",
    "\n",
    "# or load a test distribution\n",
    "\n",
    "\n",
    "\n",
    "# initialise beam\n",
    "\n",
    "\n",
    "# solve ray trace\n",
    "tracer = p.Propagator(domain, initial_rays, inv_brems = False, phaseshift = False, x_ray = False)\n",
    "\n",
    "tracer.calc_dndr()\n",
    "tracer.set_up_interps()\n",
    "tracer.Beam.rf, tracer.Beam.Jf = tracer.solve(parallelise = False, jitted = False, return_E = True)\n",
    "\n",
    "n_fringes = 10\n",
    "deg = 10 #adjust number of fringes and tilt in degrees from the vertical exis\n",
    "print('hi')\n",
    "interferometrer = diag.Interferometry(tracer.Beam)\n",
    "interferometrer.interfere_ref_beam(n_fringes, deg)\n",
    "\n",
    "pattern = diag.Interferometry(tracer.Beam)\n",
    "#pattern = interferometrer\n",
    "pattern.two_lens_solve()\n",
    "pattern.interferogram(bin_scale = 1, clear_mem = True) #use interferogram instead of histogram\n",
    "\n",
    "#get interferogram histogram with sh.H\n"
   ]
  },
  {
   "cell_type": "code",
   "execution_count": 9,
   "metadata": {},
   "outputs": [
    {
     "data": {
      "text/plain": [
       "<matplotlib.image.AxesImage at 0x19322ba0440>"
      ]
     },
     "execution_count": 9,
     "metadata": {},
     "output_type": "execute_result"
    },
    {
     "data": {
      "image/png": "[encoded data removed]",
      "text/plain": [
       "<Figure size 640x480 with 1 Axes>"
      ]
     },
     "metadata": {},
     "output_type": "display_data"
    }
   ],
   "source": [
    "plt.imshow(pattern.H, cmap = 'hot', interpolation = 'nearest')"
   ]
  },
  {
   "cell_type": "code",
   "execution_count": null,
   "metadata": {},
   "outputs": [],
   "source": []
  }
 ],
 "metadata": {
  "kernelspec": {
   "display_name": "base",
   "language": "python",
   "name": "python3"
  },
  "language_info": {
   "codemirror_mode": {
    "name": "ipython",
    "version": 3
   },
   "file_extension": ".py",
   "mimetype": "text/x-python",
   "name": "python",
   "nbconvert_exporter": "python",
   "pygments_lexer": "ipython3",
   "version": "3.12.7"
  }
 },
 "nbformat": 4,
 "nbformat_minor": 4
}
