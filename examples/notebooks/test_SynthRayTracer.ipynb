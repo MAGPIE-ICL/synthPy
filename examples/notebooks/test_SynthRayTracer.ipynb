{
 "cells": [
  {
   "cell_type": "markdown",
   "metadata": {},
   "source": [
    "### Test - Synthetic Diagnostic + Interferometry\n",
    "\n",
    "</b> Author:   </b>  Louis Evans     </br>\n",
    "</b> Reviewer: </b>  Stefano Merlini"
   ]
  },
  {
   "cell_type": "markdown",
   "metadata": {},
   "source": [
    "### Import relevant files:"
   ]
  },
  {
   "cell_type": "code",
   "execution_count": 1,
   "metadata": {},
   "outputs": [
    {
     "name": "stdout",
     "output_type": "stream",
     "text": [
      "\n",
      "Initialising jax...\n",
      "\n",
      "jax:    0.6.2\n",
      "jaxlib: 0.6.2\n",
      "numpy:  2.3.1\n",
      "python: 3.12.5 | packaged by Anaconda, Inc. | (main, Sep 12 2024, 18:27:27) [GCC 11.2.0]\n",
      "device info: cpu-16, 16 local devices\"\n",
      "process_count: 1\n",
      "platform: uname_result(system='Linux', node='computer', release='5.15.179-1-MANJARO', version='#1 SMP PREEMPT Thu Mar 13 13:45:22 UTC 2025', machine='x86_64')\n",
      "\n",
      "Default jax backend: cpu\n",
      "Available devices: [CpuDevice(id=0), CpuDevice(id=1), CpuDevice(id=2), CpuDevice(id=3), CpuDevice(id=4), CpuDevice(id=5), CpuDevice(id=6), CpuDevice(id=7), CpuDevice(id=8), CpuDevice(id=9), CpuDevice(id=10), CpuDevice(id=11), CpuDevice(id=12), CpuDevice(id=13), CpuDevice(id=14), CpuDevice(id=15)]\n"
     ]
    },
    {
     "data": {
      "text/plain": [
       "<module 'diagnostics' from '/home/administrator/Work/UROP_ICL_Internship/synthPy/examples/notebooks/../../src/simulator/diagnostics.py'>"
      ]
     },
     "execution_count": 1,
     "metadata": {},
     "output_type": "execute_result"
    }
   ],
   "source": [
    "import numpy as np\n",
    "import matplotlib.pyplot as plt\n",
    "#import vtk\n",
    "#from vtk.util import numpy_support as vtk_np\n",
    "import gc\n",
    "\n",
    "import sys\n",
    "\n",
    "#add path\n",
    "sys.path.insert(0, '../../src/simulator')     # import path/to/synthpy\n",
    "\n",
    "import config\n",
    "config.jax_init()\n",
    "\n",
    "import beam as beam_initialiser\n",
    "import domain as d\n",
    "import propagator as p\n",
    "import diagnostics as diag\n",
    "#import utils\n",
    "\n",
    "import importlib\n",
    "importlib.reload(beam_initialiser)\n",
    "importlib.reload(d)\n",
    "importlib.reload(p)\n",
    "importlib.reload(diag)\n",
    "#importlib.reload(utils)"
   ]
  },
  {
   "cell_type": "markdown",
   "metadata": {},
   "source": [
    "To use the ray tracer, first create a 'domain', load the domain with an electron distribution, calculate electron gradients, initialise a beam, and solve!\n",
    "\\\n",
    "\\\n",
    "The output can either be plotted, or passed further through ray optics for synthetic diagnostics"
   ]
  },
  {
   "cell_type": "code",
   "execution_count": 2,
   "metadata": {},
   "outputs": [
    {
     "name": "stdout",
     "output_type": "stream",
     "text": [
      "Predicted size in memory of domain: 8.0 MB\n"
     ]
    }
   ],
   "source": [
    "# define some extent, the domain should be distributed as +extent to -extent, does not need to be cubic\n",
    "extent_x = 5e-3\n",
    "extent_y = 5e-3\n",
    "extent_z = 10e-3\n",
    "\n",
    "n_cells = 128\n",
    "\n",
    "#x = np.linspace(-extent_x, extent_x, n_cells)\n",
    "#y = np.linspace(-extent_y, extent_y, n_cells)\n",
    "#z = np.linspace(-extent_z, extent_z, n_cells)\n",
    "\n",
    "probing_extent = extent_z\n",
    "probing_direction = 'z'\n",
    "\n",
    "lengths = 2 * np.array([extent_x, extent_y, extent_z])\n",
    "\n",
    "#domain = d.ScalarDomain(x = x, y = y, z = z, extent = probing_extent, probing_direction = probing_direction)     # create domain\n",
    "# Much simpler domain function, no longer needlessly takes in beam values, they are fully seperated\n",
    "domain = d.ScalarDomain(lengths, n_cells) # B_on = False by default\n",
    "\n",
    "# clear we should do manual garbage collection of some variety in d.ScalarDomain function"
   ]
  },
  {
   "cell_type": "markdown",
   "metadata": {},
   "source": [
    "Load some domain distribution"
   ]
  },
  {
   "cell_type": "code",
   "execution_count": 3,
   "metadata": {},
   "outputs": [],
   "source": [
    "# load some external pvti\n",
    "# import utils.handle_filetypes as load\n",
    "# ne, dim, spacing = load.pvti_readin(filename)\n",
    "# or load a test distribution\n",
    "\n",
    "#domain.ne = np.full((100, 100, 100), 1e24)\n",
    "domain.test_exponential_cos()\n",
    "#domain.test_slab(0.000001, 1e24)"
   ]
  },
  {
   "cell_type": "markdown",
   "metadata": {},
   "source": [
    "Solve gradients, initialise beam, and solve"
   ]
  },
  {
   "cell_type": "code",
   "execution_count": 4,
   "metadata": {},
   "outputs": [
    {
     "name": "stdout",
     "output_type": "stream",
     "text": [
      "\n",
      "Size in memory of initial rays: 712B\n",
      "\n",
      "Running device: cpu, with: 16 cores.\n",
      "NamedSharding(mesh=Mesh('cols': 16, axis_types=(Auto,)), spec=PartitionSpec(None, 'cols'), memory_kind=unpinned_host)\n",
      "\n",
      "jax compilation of solver took: 0.0005726814270019531 seconds\n",
      "\n",
      "Size in memory of initial rays: 712B\n",
      "Size in memory of solution: 48B\n",
      "Size in memory of propagator class: 48B\n",
      "\n",
      "File: ls\n",
      "Type: space\n",
      "Showing nodes accounting for 24.50MB, 99.72% of 24.57MB total\n",
      "Dropped 50 nodes (cum <= 0.12MB)\n",
      "      flat  flat%   sum%        cum   cum%\n",
      "   24.31MB 98.95% 98.95%    24.31MB 98.95%  __call__\n",
      "    0.12MB  0.49% 99.44%     0.43MB  1.74%  _pjit_call_impl\n",
      "    0.07MB  0.28% 99.72%    24.32MB 99.00%  apply_primitive\n",
      "         0     0% 99.72%    24.57MB   100%  [ls]\n",
      "         0     0% 99.72%     0.18MB  0.72%  [ls]\n",
      "         0     0% 99.72%     0.43MB  1.74%  _batch_inner\n",
      "         0     0% 99.72%     0.43MB  1.74%  _batch_outer\n",
      "         0     0% 99.72%     0.18MB  0.72%  _call\n",
      "         0     0% 99.72%       24MB 97.70%  _convert_element_type\n",
      "         0     0% 99.72%       24MB 97.70%  _convert_element_type_bind_with_trace\n",
      "         0     0% 99.72%     0.18MB  0.72%  _get_result_paths_thunk\n",
      "         0     0% 99.72%     0.18MB  0.72%  _pjit_batcher\n",
      "         0     0% 99.72%    24.31MB 98.95%  _pjit_call_impl_python\n",
      "         0     0% 99.72%    24.57MB   100%  _pseudo_sync_runner\n",
      "         0     0% 99.72%    24.43MB 99.44%  _python_pjit_helper\n",
      "         0     0% 99.72%    24.57MB   100%  _run\n",
      "         0     0% 99.72%    24.57MB   100%  _run_cell\n",
      "         0     0% 99.72%    24.57MB   100%  _run_code\n",
      "         0     0% 99.72%    24.57MB   100%  _run_module_as_main\n",
      "         0     0% 99.72%    24.57MB   100%  _run_once\n",
      "         0     0% 99.72%    24.57MB   100%  _true_bind\n",
      "         0     0% 99.72%       24MB 97.70%  array\n",
      "         0     0% 99.72%       16MB 65.14%  asarray\n",
      "         0     0% 99.72%    24.57MB   100%  bind\n",
      "         0     0% 99.72%    24.57MB   100%  bind_with_trace\n",
      "         0     0% 99.72%     0.25MB  1.02%  broadcast\n",
      "         0     0% 99.72%     0.25MB  1.02%  broadcast_in_dim\n",
      "         0     0% 99.72%    24.43MB 99.44%  cache_miss\n",
      "         0     0% 99.72%        8MB 32.57%  calc_dndr\n",
      "         0     0% 99.72%     0.31MB  1.25%  call_impl_cache_miss\n",
      "         0     0% 99.72%     0.43MB  1.74%  call_wrapped\n",
      "         0     0% 99.72%    24.57MB   100%  dispatch_queue\n",
      "         0     0% 99.72%    24.57MB   100%  dispatch_shell\n",
      "         0     0% 99.72%    24.57MB   100%  do_execute\n",
      "         0     0% 99.72%    24.57MB   100%  execute_request\n",
      "         0     0% 99.72%     0.18MB  0.72%  flatten_fun_for_vmap\n",
      "         0     0% 99.72%     0.25MB  1.02%  from_elt\n",
      "         0     0% 99.72%    24.57MB   100%  launch_instance\n",
      "         0     0% 99.72%     0.25MB  1.02%  matchaxis\n",
      "         0     0% 99.72%    24.57MB   100%  process_one\n",
      "         0     0% 99.72%    24.57MB   100%  process_primitive\n",
      "         0     0% 99.72%    24.43MB 99.44%  reraise_with_filtered_traceback\n",
      "         0     0% 99.72%    24.57MB   100%  run_ast_nodes\n",
      "         0     0% 99.72%    24.57MB   100%  run_cell\n",
      "         0     0% 99.72%    24.57MB   100%  run_cell_async\n",
      "         0     0% 99.72%    24.57MB   100%  run_code\n",
      "         0     0% 99.72%    24.57MB   100%  run_forever\n",
      "         0     0% 99.72%     0.50MB  2.02%  solve\n",
      "         0     0% 99.72%    24.57MB   100%  start\n",
      "         0     0% 99.72%       16MB 65.13%  test_exponential_cos\n",
      "         0     0% 99.72%     0.43MB  1.74%  vmap_f\n",
      "         0     0% 99.72%    24.31MB 98.95%  wrapper\n",
      "\n",
      "Parallelised output has resulting 3D matrix of form: [batch_count, 2, 9]: (992, 2, 9)\n",
      "\t2 to account for the start and end results\n",
      "\t9 containing the 3 position and velocity components, amplitude, phase and polarisation\n",
      "\tIf batch_count is lower than expected, this is likely due to jax's forced integer batch sharding when parallelising over cpu cores.\n",
      "\n",
      "We slice the end result and transpose into the form: (9, 992) to work with later code.\n",
      "\n",
      "Completed ray trace in 5.567 seconds.\n"
     ]
    }
   ],
   "source": [
    "lwl = 1064e-9 #define laser wavelength\n",
    "\n",
    "# initialise beam\n",
    "Np = 1000    # number of photons\n",
    "divergence = 5e-5   # realistic divergence value\n",
    "beam_size = extent_x    # beam radius\n",
    "ne_extent = probing_extent  # so the beam knows where to initialise initial positions\n",
    "beam_type = 'circular'\n",
    "\n",
    "beam_definition = beam_initialiser.Beam(Np, beam_size, divergence, ne_extent, probing_direction = probing_direction, wavelength = lwl, beam_type = beam_type)\n",
    "\n",
    "tracer = p.Propagator(domain, probing_direction = probing_direction, inv_brems = False, phaseshift = False)\n",
    "\n",
    "# solve ray trace\n",
    "tracer.calc_dndr(lwl, keep_domain = True)\n",
    "# without the _, both rf and Jf (even though it defaults to None when return_E = False) get unpacked into rf and it becomes a tuple\n",
    "rf, _ = tracer.solve(beam_definition.s0, jitted = True)\n",
    "print(\"\\nCompleted ray trace in\", np.round(tracer.duration, 3), \"seconds.\")"
   ]
  },
  {
   "cell_type": "markdown",
   "metadata": {},
   "source": [
    "Pass through ray optics: For Shadowgaphy, Schlieren, or Refractometry:"
   ]
  },
  {
   "cell_type": "code",
   "execution_count": 5,
   "metadata": {},
   "outputs": [
    {
     "name": "stdout",
     "output_type": "stream",
     "text": [
      "\n",
      "rf size expected: (992, 992)\n",
      "rf after clearing nan's: (855, 855)\n"
     ]
    },
    {
     "data": {
      "text/plain": [
       "<matplotlib.image.AxesImage at 0x7f865c7db6e0>"
      ]
     },
     "execution_count": 5,
     "metadata": {},
     "output_type": "execute_result"
    },
    {
     "data": {
      "image/png": "[encoded data removed]",
      "text/plain": [
       "<Figure size 640x480 with 1 Axes>"
      ]
     },
     "metadata": {},
     "output_type": "display_data"
    }
   ],
   "source": [
    "#in the diagnostic initialisation, details on the lens configurations, and detector dimensions can be specified\n",
    "refractometer = diag.Refractometry(lwl, rf)\n",
    "refractometer.incoherent_solve()\n",
    "# cam't clear_mem if you want to generate other graphs afterwards\n",
    "refractometer.histogram(bin_scale = 1, clear_mem = False)\n",
    "\n",
    "#information accessed by .H(istogram) , e.g plt.imshow(refractometer.H)\n",
    "\n",
    "#plt.imshow(refractometer.H, cmap='hot', interpolation='nearest', clim = (0, 2))\n",
    "plt.imshow(refractometer.H, cmap = 'hot', interpolation = 'nearest', clim = (0.5, 1))"
   ]
  },
  {
   "cell_type": "code",
   "execution_count": 6,
   "metadata": {},
   "outputs": [
    {
     "name": "stdout",
     "output_type": "stream",
     "text": [
      "\n",
      "rf size expected: (992, 992)\n",
      "rf after clearing nan's: (855, 855)\n"
     ]
    },
    {
     "data": {
      "text/plain": [
       "<matplotlib.image.AxesImage at 0x7f865dcb4170>"
      ]
     },
     "execution_count": 6,
     "metadata": {},
     "output_type": "execute_result"
    },
    {
     "data": {
      "image/png": "[encoded data removed]",
      "text/plain": [
       "<Figure size 640x480 with 1 Axes>"
      ]
     },
     "metadata": {},
     "output_type": "display_data"
    }
   ],
   "source": [
    "shadowgrapher = diag.Shadowgraphy(lwl, rf)\n",
    "shadowgrapher.single_lens_solve()\n",
    "shadowgrapher.histogram(bin_scale = 1, clear_mem = False)\n",
    "\n",
    "plt.imshow(shadowgrapher.H, cmap = 'hot', interpolation = 'nearest', clim = (0.5, 1))"
   ]
  },
  {
   "cell_type": "code",
   "execution_count": 7,
   "metadata": {},
   "outputs": [
    {
     "name": "stdout",
     "output_type": "stream",
     "text": [
      "\n",
      "rf size expected: (992, 992)\n",
      "rf after clearing nan's: (636, 636)\n"
     ]
    },
    {
     "data": {
      "text/plain": [
       "<matplotlib.image.AxesImage at 0x7f865c1a6d20>"
      ]
     },
     "execution_count": 7,
     "metadata": {},
     "output_type": "execute_result"
    },
    {
     "data": {
      "image/png": "[encoded data removed]",
      "text/plain": [
       "<Figure size 640x480 with 1 Axes>"
      ]
     },
     "metadata": {},
     "output_type": "display_data"
    }
   ],
   "source": [
    "schlierener = diag.Schlieren(lwl, rf)\n",
    "schlierener.DF_solve()\n",
    "schlierener.histogram(bin_scale = 1, clear_mem = True)\n",
    "\n",
    "plt.imshow(schlierener.H, cmap = 'hot', interpolation = 'nearest', clim = (0.5, 1))"
   ]
  },
  {
   "cell_type": "markdown",
   "metadata": {},
   "source": [
    "Synthetic Interferometry - This requires some extra steps in the ray tracing to include information on the phase and electric field values"
   ]
  },
  {
   "cell_type": "code",
   "execution_count": 8,
   "metadata": {},
   "outputs": [
    {
     "name": "stdout",
     "output_type": "stream",
     "text": [
      "\n",
      "Size in memory of initial rays: 712B\n",
      "\n",
      "Running device: cpu, with: 16 cores.\n",
      "NamedSharding(mesh=Mesh('cols': 16, axis_types=(Auto,)), spec=PartitionSpec(None, 'cols'), memory_kind=unpinned_host)\n",
      "\n",
      "jax compilation of solver took: 0.000965118408203125 seconds\n",
      "\n",
      "Size in memory of initial rays: 712B\n",
      "Size in memory of solution: 48B\n",
      "Size in memory of propagator class: 48B\n",
      "\n",
      "File: ls\n",
      "Type: space\n",
      "Showing nodes accounting for 3.21GB, 99.50% of 3.22GB total\n",
      "Dropped 79 nodes (cum <= 0.02GB)\n",
      "      flat  flat%   sum%        cum   cum%\n",
      "    2.12GB 65.92% 65.92%     3.21GB 99.50%  apply_primitive\n",
      "    1.08GB 33.58% 99.50%     1.08GB 33.58%  __call__\n",
      "         0     0% 99.50%     3.22GB   100%  [ls]\n",
      "         0     0% 99.50%     0.03GB  0.97%  _convert_element_type\n",
      "         0     0% 99.50%     0.03GB  0.97%  _convert_element_type_bind_with_trace\n",
      "         0     0% 99.50%     1.08GB 33.58%  _pjit_call_impl_python\n",
      "         0     0% 99.50%     3.22GB   100%  _pseudo_sync_runner\n",
      "         0     0% 99.50%     1.08GB 33.58%  _python_pjit_helper\n",
      "         0     0% 99.50%     3.22GB   100%  _run\n",
      "         0     0% 99.50%     3.22GB   100%  _run_cell\n",
      "         0     0% 99.50%     3.22GB   100%  _run_code\n",
      "         0     0% 99.50%     3.22GB   100%  _run_module_as_main\n",
      "         0     0% 99.50%     3.22GB   100%  _run_once\n",
      "         0     0% 99.50%     3.17GB 98.52%  _transpose_property\n",
      "         0     0% 99.50%     3.21GB 99.51%  _true_bind\n",
      "         0     0% 99.50%     0.03GB  0.97%  array\n",
      "         0     0% 99.50%     3.21GB 99.51%  bind\n",
      "         0     0% 99.50%     3.21GB 99.51%  bind_with_trace\n",
      "         0     0% 99.50%     1.08GB 33.58%  cache_miss\n",
      "         0     0% 99.50%     0.03GB  0.97%  calc_dndr\n",
      "         0     0% 99.50%     3.22GB   100%  dispatch_queue\n",
      "         0     0% 99.50%     3.22GB   100%  dispatch_shell\n",
      "         0     0% 99.50%     3.22GB   100%  do_execute\n",
      "         0     0% 99.50%     3.22GB   100%  execute_request\n",
      "         0     0% 99.50%     3.17GB 98.52%  histogram\n",
      "         0     0% 99.50%     3.22GB   100%  launch_instance\n",
      "         0     0% 99.50%     3.22GB   100%  process_one\n",
      "         0     0% 99.50%     3.21GB 99.51%  process_primitive\n",
      "         0     0% 99.50%     1.08GB 33.58%  reraise_with_filtered_traceback\n",
      "         0     0% 99.50%     3.22GB   100%  run_ast_nodes\n",
      "         0     0% 99.50%     3.22GB   100%  run_cell\n",
      "         0     0% 99.50%     3.22GB   100%  run_cell_async\n",
      "         0     0% 99.50%     3.22GB   100%  run_code\n",
      "         0     0% 99.50%     3.22GB   100%  run_forever\n",
      "         0     0% 99.50%     3.22GB   100%  start\n",
      "         0     0% 99.50%     3.17GB 98.52%  transpose\n",
      "         0     0% 99.50%     1.08GB 33.58%  wrapper\n",
      "\n",
      "Parallelised output has resulting 3D matrix of form: [batch_count, 2, 9]: (992, 2, 9)\n",
      "\t2 to account for the start and end results\n",
      "\t9 containing the 3 position and velocity components, amplitude, phase and polarisation\n",
      "\tIf batch_count is lower than expected, this is likely due to jax's forced integer batch sharding when parallelising over cpu cores.\n",
      "\n",
      "We slice the end result and transpose into the form: (9, 992) to work with later code.\n"
     ]
    },
    {
     "data": {
      "text/plain": [
       "\"\\ninterferometrer = diag.Interferometry(lwl, rf, Jf)\\ninterferometrer.interfere_ref_beam(n_fringes, deg)\\n\\npattern = diag.Interferometry(lwl, rf, Jf)\\n#pattern = interferometrer\\npattern.two_lens_solve()\\npattern.interferogram(bin_scale = 1, clear_mem = True) #use interferogram instead of histogram\\n\\n#get interferogram histogram with sh.H\\nplt.imshow(pattern.H, cmap = 'hot', interpolation = 'nearest')\\n\""
      ]
     },
     "execution_count": 8,
     "metadata": {},
     "output_type": "execute_result"
    }
   ],
   "source": [
    "# No need to change the domain (now that code has been seperated out in restructure)\n",
    "\n",
    "\n",
    "\n",
    "# load some external pvti\n",
    "\n",
    "# import utils.handle_filetypes as load\n",
    "# ne, dim, spacing = load.pvti_readin(filename)\n",
    "\n",
    "# or load a test distribution\n",
    "\n",
    "\n",
    "\n",
    "# initialise beam\n",
    "\n",
    "\n",
    "\n",
    "# solve ray trace\n",
    "tracer = p.Propagator(domain, probing_direction = probing_direction, inv_brems = False, phaseshift = True)\n",
    "\n",
    "tracer.calc_dndr()\n",
    "rf, Jf = tracer.solve(beam_definition.s0, return_E = True)\n",
    "\n",
    "n_fringes = 10\n",
    "deg = 10 #adjust number of fringes and tilt in degrees from the vertical exis\n",
    "\n",
    "'''\n",
    "interferometrer = diag.Interferometry(lwl, rf, Jf)\n",
    "interferometrer.interfere_ref_beam(n_fringes, deg)\n",
    "\n",
    "pattern = diag.Interferometry(lwl, rf, Jf)\n",
    "#pattern = interferometrer\n",
    "pattern.two_lens_solve()\n",
    "pattern.interferogram(bin_scale = 1, clear_mem = True) #use interferogram instead of histogram\n",
    "\n",
    "#get interferogram histogram with sh.H\n",
    "plt.imshow(pattern.H, cmap = 'hot', interpolation = 'nearest')\n",
    "'''"
   ]
  },
  {
   "cell_type": "code",
   "execution_count": 9,
   "metadata": {},
   "outputs": [
    {
     "name": "stdout",
     "output_type": "stream",
     "text": [
      "\n",
      "rf size expected: (992, 992)\n",
      "rf after clearing nan's: (855, 855)\n"
     ]
    },
    {
     "data": {
      "text/plain": [
       "<matplotlib.image.AxesImage at 0x7f860bc9b530>"
      ]
     },
     "execution_count": 9,
     "metadata": {},
     "output_type": "execute_result"
    },
    {
     "data": {
      "image/png": "[encoded data removed]",
      "text/plain": [
       "<Figure size 640x480 with 1 Axes>"
      ]
     },
     "metadata": {},
     "output_type": "display_data"
    }
   ],
   "source": [
    "refractometer = diag.Refractometry(lwl, rf, Jf)\n",
    "refractometer.incoherent_solve()\n",
    "refractometer.histogram(bin_scale = 1, clear_mem = False)\n",
    "\n",
    "plt.imshow(refractometer.H, cmap = 'hot', interpolation = 'nearest', clim = (0.5, 1))"
   ]
  },
  {
   "cell_type": "code",
   "execution_count": 10,
   "metadata": {},
   "outputs": [
    {
     "name": "stdout",
     "output_type": "stream",
     "text": [
      "\n",
      "rf size expected: (992, 992)\n",
      "rf after clearing nan's: (728, 728)\n"
     ]
    },
    {
     "data": {
      "text/plain": [
       "<matplotlib.image.AxesImage at 0x7f860bb152b0>"
      ]
     },
     "execution_count": 10,
     "metadata": {},
     "output_type": "execute_result"
    },
    {
     "data": {
      "image/png": "[encoded data removed]",
      "text/plain": [
       "<Figure size 640x480 with 1 Axes>"
      ]
     },
     "metadata": {},
     "output_type": "display_data"
    }
   ],
   "source": [
    "refractometer = diag.Refractometry(lwl, rf, Jf)\n",
    "refractometer.coherent_solve()\n",
    "refractometer.histogram(bin_scale = 1, clear_mem = False)\n",
    "\n",
    "plt.imshow(refractometer.H, cmap = 'hot', interpolation = 'nearest', clim = (0.5, 1))"
   ]
  },
  {
   "cell_type": "code",
   "execution_count": null,
   "metadata": {},
   "outputs": [],
   "source": []
  }
 ],
 "metadata": {
  "kernelspec": {
   "display_name": "Python 3.12.5 ('testing')",
   "language": "python",
   "name": "python3"
  },
  "language_info": {
   "codemirror_mode": {
    "name": "ipython",
    "version": 3
   },
   "file_extension": ".py",
   "mimetype": "text/x-python",
   "name": "python",
   "nbconvert_exporter": "python",
   "pygments_lexer": "ipython3",
   "version": "3.12.5"
  },
  "vscode": {
   "interpreter": {
    "hash": "de6d706a21dde6ee649de53d1c8cba9d9f8e9ee05a3542c9798512c888fa8306"
   }
  }
 },
 "nbformat": 4,
 "nbformat_minor": 4
}
