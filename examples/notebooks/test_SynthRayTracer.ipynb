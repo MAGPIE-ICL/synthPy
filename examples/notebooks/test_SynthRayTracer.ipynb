{
 "cells": [
  {
   "cell_type": "markdown",
   "metadata": {},
   "source": [
    "### Test - Synthetic Diagnostic + Interferometry\n",
    "\n",
    "</b> Author:   </b>  Louis Evans     </br>\n",
    "</b> Reviewer: </b>  Stefano Merlini"
   ]
  },
  {
   "cell_type": "markdown",
   "metadata": {},
   "source": [
    "### Import relevant files:"
   ]
  },
  {
   "cell_type": "code",
   "execution_count": 5,
   "metadata": {},
   "outputs": [
    {
     "data": {
      "text/plain": [
       "<module 'utils' from '/home/administrator/Work/UROP_ICL_Internship/synthPy/examples/notebooks/../../src/simulator/utils.py'>"
      ]
     },
     "execution_count": 5,
     "metadata": {},
     "output_type": "execute_result"
    }
   ],
   "source": [
    "import numpy as np\n",
    "import matplotlib.pyplot as plt\n",
    "import vtk\n",
    "from vtk.util import numpy_support as vtk_np\n",
    "import matplotlib.pyplot as plt\n",
    "import gc\n",
    "\n",
    "import sys\n",
    "\n",
    "#add path\n",
    "sys.path.insert(0, '../../src/simulator')     # import path/to/synthpy\n",
    "\n",
    "import beam as beam_initialiser\n",
    "import diagnostics as diag\n",
    "import domain as d\n",
    "import propagator as p\n",
    "import utils\n",
    "\n",
    "import importlib\n",
    "importlib.reload(beam_initialiser)\n",
    "importlib.reload(diag)\n",
    "importlib.reload(d)\n",
    "importlib.reload(p)\n",
    "importlib.reload(utils)"
   ]
  },
  {
   "cell_type": "markdown",
   "metadata": {},
   "source": [
    "To use the ray tracer, first create a 'domain', load the domain with an electron distribution, calculate electron gradients, initialise a beam, and solve!\n",
    "\\\n",
    "\\\n",
    "The output can either be plotted, or passed further through ray optics for synthetic diagnostics"
   ]
  },
  {
   "cell_type": "code",
   "execution_count": 6,
   "metadata": {},
   "outputs": [
    {
     "name": "stdout",
     "output_type": "stream",
     "text": [
      "Garbage collection count: 6419\n",
      "Garbage collection count: 0\n"
     ]
    }
   ],
   "source": [
    "# define some extent, the domain should be distributed as +extent to -extent, does not need to be cubic\n",
    "extent_x = 5e-3\n",
    "extent_y = 5e-3\n",
    "extent_z = 10e-3\n",
    "\n",
    "n_cells = 128\n",
    "\n",
    "#x = np.linspace(-extent_x, extent_x, n_cells)\n",
    "#y = np.linspace(-extent_y, extent_y, n_cells)\n",
    "#z = np.linspace(-extent_z, extent_z, n_cells)\n",
    "\n",
    "probing_extent = extent_z\n",
    "probing_direction = 'z'\n",
    "\n",
    "lengths = 2 * np.array([extent_x, extent_y, extent_z])\n",
    "\n",
    "print(\"Garbage collection count:\", gc.collect())\n",
    "\n",
    "#domain = d.ScalarDomain(x = x, y = y, z = z, extent = probing_extent, probing_direction = probing_direction)     # create domain\n",
    "# Much simpler domain function, no longer needlessly takes in beam values, they are fully seperated\n",
    "domain = d.ScalarDomain(lengths, n_cells) # B_on = False by default\n",
    "\n",
    "# clear we should do manual garbage collection of some variety in d.ScalarDomain function\n",
    "print(\"Garbage collection count:\", gc.collect())"
   ]
  },
  {
   "cell_type": "markdown",
   "metadata": {},
   "source": [
    "Load some domain distribution"
   ]
  },
  {
   "cell_type": "code",
   "execution_count": 7,
   "metadata": {},
   "outputs": [],
   "source": [
    "# load some external pvti\n",
    "# import utils.handle_filetypes as load\n",
    "# ne, dim, spacing = load.pvti_readin(filename)\n",
    "# or load a test distribution\n",
    "\n",
    "#domain.ne = np.full((100, 100, 100), 1e24)\n",
    "domain.test_exponential_cos()\n",
    "#domain.test_slab(0.000001, 1e24)"
   ]
  },
  {
   "cell_type": "markdown",
   "metadata": {},
   "source": [
    "Solve gradients, initialise beam, and solve"
   ]
  },
  {
   "cell_type": "code",
   "execution_count": 8,
   "metadata": {},
   "outputs": [
    {
     "name": "stdout",
     "output_type": "stream",
     "text": [
      "\n",
      "Available devices: [CpuDevice(id=0)]\n",
      "\n",
      "jax compilation of solver took: 0.0011456012725830078\n",
      "Running device: cpu, with: 16 cores.\n"
     ]
    },
    {
     "data": {
      "text/html": [
       "<pre style=\"white-space:pre;overflow-x:auto;line-height:normal;font-family:Menlo,'DejaVu Sans Mono',consolas,'Courier New',monospace\"><span style=\"color: #ffffff; text-decoration-color: #ffffff; background-color: #393b79\">         </span>\n",
       "<span style=\"color: #ffffff; text-decoration-color: #ffffff; background-color: #393b79\">         </span>\n",
       "<span style=\"color: #ffffff; text-decoration-color: #ffffff; background-color: #393b79\">         </span>\n",
       "<span style=\"color: #ffffff; text-decoration-color: #ffffff; background-color: #393b79\">         </span>\n",
       "<span style=\"color: #ffffff; text-decoration-color: #ffffff; background-color: #393b79\">         </span>\n",
       "<span style=\"color: #ffffff; text-decoration-color: #ffffff; background-color: #393b79\">  CPU 0  </span>\n",
       "<span style=\"color: #ffffff; text-decoration-color: #ffffff; background-color: #393b79\">         </span>\n",
       "<span style=\"color: #ffffff; text-decoration-color: #ffffff; background-color: #393b79\">         </span>\n",
       "<span style=\"color: #ffffff; text-decoration-color: #ffffff; background-color: #393b79\">         </span>\n",
       "<span style=\"color: #ffffff; text-decoration-color: #ffffff; background-color: #393b79\">         </span>\n",
       "<span style=\"color: #ffffff; text-decoration-color: #ffffff; background-color: #393b79\">         </span>\n",
       "</pre>\n"
      ],
      "text/plain": [
       "\u001b[38;2;255;255;255;48;2;57;59;121m         \u001b[0m\n",
       "\u001b[38;2;255;255;255;48;2;57;59;121m         \u001b[0m\n",
       "\u001b[38;2;255;255;255;48;2;57;59;121m         \u001b[0m\n",
       "\u001b[38;2;255;255;255;48;2;57;59;121m         \u001b[0m\n",
       "\u001b[38;2;255;255;255;48;2;57;59;121m         \u001b[0m\n",
       "\u001b[38;2;255;255;255;48;2;57;59;121m  \u001b[0m\u001b[38;2;255;255;255;48;2;57;59;121mCPU 0\u001b[0m\u001b[38;2;255;255;255;48;2;57;59;121m  \u001b[0m\n",
       "\u001b[38;2;255;255;255;48;2;57;59;121m         \u001b[0m\n",
       "\u001b[38;2;255;255;255;48;2;57;59;121m         \u001b[0m\n",
       "\u001b[38;2;255;255;255;48;2;57;59;121m         \u001b[0m\n",
       "\u001b[38;2;255;255;255;48;2;57;59;121m         \u001b[0m\n",
       "\u001b[38;2;255;255;255;48;2;57;59;121m         \u001b[0m\n"
      ]
     },
     "metadata": {},
     "output_type": "display_data"
    },
    {
     "name": "stdout",
     "output_type": "stream",
     "text": [
      "File: ls\n",
      "Type: space\n",
      "Showing nodes accounting for 82122.46kB, 100% of 82130.32kB total\n",
      "Dropped 62 nodes (cum <= 410.65kB)\n",
      "      flat  flat%   sum%        cum   cum%\n",
      "73927.84kB 90.01% 90.01% 73930.34kB 90.02%  __call__\n",
      " 8194.61kB  9.98%   100% 16410.61kB 19.98%  apply_primitive\n",
      "    0.02kB 1.9e-05%   100% 65536.03kB 79.80%  deferring_binary_op\n",
      "         0     0%   100% 82130.32kB   100%  [ls]\n",
      "         0     0%   100%    16384kB 19.95%  _array_copy\n",
      "         0     0%   100%    16384kB 19.95%  _copy_impl\n",
      "         0     0%   100% 24775.84kB 30.17%  _pjit_call_impl_python\n",
      "         0     0%   100% 82130.32kB   100%  _pseudo_sync_runner\n",
      "         0     0%   100% 24783.65kB 30.18%  _python_pjit_helper\n",
      "         0     0%   100% 82130.32kB   100%  _run\n",
      "         0     0%   100% 82130.32kB   100%  _run_cell\n",
      "         0     0%   100% 82130.32kB   100%  _run_code\n",
      "         0     0%   100% 82130.32kB   100%  _run_module_as_main\n",
      "         0     0%   100% 82130.32kB   100%  _run_once\n",
      "         0     0%   100% 16594.21kB 20.20%  _true_bind\n",
      "         0     0%   100% 16387.14kB 19.95%  array\n",
      "         0     0%   100% 16594.21kB 20.20%  bind\n",
      "         0     0%   100% 16594.21kB 20.20%  bind_with_trace\n",
      "         0     0%   100% 24783.65kB 30.18%  cache_miss\n",
      "         0     0%   100% 65536.05kB 79.80%  calc_dndr\n",
      "         0     0%   100% 82130.32kB   100%  dispatch_queue\n",
      "         0     0%   100% 82130.32kB   100%  dispatch_shell\n",
      "         0     0%   100% 82130.32kB   100%  do_execute\n",
      "         0     0%   100% 82130.32kB   100%  execute_request\n",
      "         0     0%   100% 82130.32kB   100%  launch_instance\n",
      "         0     0%   100% 82130.32kB   100%  process_one\n",
      "         0     0%   100% 16594.21kB 20.20%  process_primitive\n",
      "         0     0%   100% 24783.65kB 30.18%  reraise_with_filtered_traceback\n",
      "         0     0%   100% 82130.32kB   100%  run_ast_nodes\n",
      "         0     0%   100% 82130.32kB   100%  run_cell\n",
      "         0     0%   100% 82130.32kB   100%  run_cell_async\n",
      "         0     0%   100% 82130.32kB   100%  run_code\n",
      "         0     0%   100% 82130.32kB   100%  run_forever\n",
      "         0     0%   100% 82130.32kB   100%  start\n",
      "         0     0%   100%    16384kB 19.95%  test_exponential_cos\n",
      "         0     0%   100% 24775.84kB 30.17%  wrapper\n",
      "\n",
      "Parallelised output has resulting 3D matrix of form: [batch_count, 2, 9]: (1000, 2, 9)\n",
      "\t2 to account for the start and end results\n",
      "\t9 containing the 3 position and velocity components, amplitude, phase and polarisation\n",
      "\n",
      "We slice the end result and transpose into the form: (9, 1000) to work with later code.\n",
      "\n",
      "x-y size expected: (1000, 1000)\n",
      "Final rays: [[-3.36161817e-04  3.99711359e-04 -8.00857069e-04 ... -3.63235430e-03\n",
      "   1.41799144e-03 -3.77490175e-03]\n",
      " [ 2.57885081e-03 -7.78592150e-04  5.33584077e-04 ...  6.03572125e-05\n",
      "  -3.66318341e-03 -2.97393008e-03]\n",
      " [ 1.82842712e-02  1.82842712e-02  1.82842712e-02 ...  1.82842712e-02\n",
      "   1.82842712e-02  1.82842712e-02]\n",
      " ...\n",
      " [ 1.00000000e+00  1.00000000e+00  1.00000000e+00 ...  1.00000000e+00\n",
      "   1.00000000e+00  1.00000000e+00]\n",
      " [ 0.00000000e+00  0.00000000e+00  0.00000000e+00 ...  0.00000000e+00\n",
      "   0.00000000e+00  0.00000000e+00]\n",
      " [ 0.00000000e+00  0.00000000e+00  0.00000000e+00 ...  0.00000000e+00\n",
      "   0.00000000e+00  0.00000000e+00]]\n",
      "x-y after clearing nan's: (1000, 1000)\n",
      "\n",
      "Jonesvector's output as 2 array's of form's: (4, 1000)2nd array is of this shape as return_E = False\n",
      "\n",
      "Completed ray trace in 6.567 seconds.\n"
     ]
    }
   ],
   "source": [
    "lwl = 1064e-9 #define laser wavelength\n",
    "\n",
    "# initialise beam\n",
    "Np = 1000    # number of photons\n",
    "divergence = 5e-5   # realistic divergence value\n",
    "beam_size = extent_x    # beam radius\n",
    "ne_extent = probing_extent  # so the beam knows where to initialise initial positions\n",
    "beam_type = 'circular'\n",
    "\n",
    "beam_definition = beam_initialiser.Beam(Np, beam_size, divergence, ne_extent, probing_direction, lwl, beam_type)\n",
    "\n",
    "tracer = p.Propagator(domain, beam_definition.s0, probing_direction, inv_brems = False, phaseshift = False)\n",
    "\n",
    "# solve ray trace\n",
    "tracer.calc_dndr(lwl)\n",
    "tracer.solve(parallelise = True, jitted = True)\n",
    "print(\"\\nCompleted ray trace in\", np.round(tracer.duration, 3), \"seconds.\")"
   ]
  },
  {
   "cell_type": "markdown",
   "metadata": {},
   "source": [
    "Pass through ray optics: For Shadowgaphy, Schlieren, or Refractometry:"
   ]
  },
  {
   "cell_type": "code",
   "execution_count": 9,
   "metadata": {},
   "outputs": [
    {
     "ename": "AttributeError",
     "evalue": "'Refractometry' object has no attribute 'rf'",
     "output_type": "error",
     "traceback": [
      "\u001b[0;31m---------------------------------------------------------------------------\u001b[0m",
      "\u001b[0;31mAttributeError\u001b[0m                            Traceback (most recent call last)",
      "Cell \u001b[0;32mIn[9], line 2\u001b[0m\n\u001b[1;32m      1\u001b[0m \u001b[38;5;66;03m#in the diagnostic initialisation, details on the lens configurations, and detector dimensions can be specified\u001b[39;00m\n\u001b[0;32m----> 2\u001b[0m refractometer \u001b[38;5;241m=\u001b[39m diag\u001b[38;5;241m.\u001b[39mRefractometry(lwl)\n\u001b[1;32m      3\u001b[0m refractometer\u001b[38;5;241m.\u001b[39mincoherent_solve()\n\u001b[1;32m      4\u001b[0m \u001b[38;5;66;03m# cam't clear_mem if you want to generate other graphs afterwards\u001b[39;00m\n",
      "File \u001b[0;32m~/Work/UROP_ICL_Internship/synthPy/examples/notebooks/../../src/simulator/diagnostics.py:296\u001b[0m, in \u001b[0;36mDiagnostic.__init__\u001b[0;34m(self, wavelength, focal_plane, L, R, Lx, Ly)\u001b[0m\n\u001b[1;32m    285\u001b[0m \u001b[39mself\u001b[39m\u001b[39m.\u001b[39mwavelength, \u001b[39mself\u001b[39m\u001b[39m.\u001b[39mfocal_plane, \u001b[39mself\u001b[39m\u001b[39m.\u001b[39mL, \u001b[39mself\u001b[39m\u001b[39m.\u001b[39mR, \u001b[39mself\u001b[39m\u001b[39m.\u001b[39mLx, \u001b[39mself\u001b[39m\u001b[39m.\u001b[39mLy \u001b[39m=\u001b[39m wavelength, focal_plane, L, R, Lx, Ly\n\u001b[1;32m    287\u001b[0m \u001b[39m# these HAVE to stay... for some reason - not entirely sure why you can't just reference self.Beam.r_ directly\u001b[39;00m\n\u001b[1;32m    288\u001b[0m \u001b[39m# if you can make it without the memory duplication work please do, else DON'T REMOVE!\u001b[39;00m\n\u001b[1;32m    289\u001b[0m \n\u001b[0;32m   (...)\u001b[0m\n\u001b[1;32m    293\u001b[0m \u001b[39m# however, doesn't have to be done manually now as already sorted in propagator.py, therefore no more duplication\u001b[39;00m\n\u001b[1;32m    294\u001b[0m \u001b[39m# still odd though... (hence the keeping of the comment)\u001b[39;00m\n\u001b[0;32m--> 296\u001b[0m \u001b[39mself\u001b[39m\u001b[39m.\u001b[39mr0 \u001b[39m=\u001b[39m m_to_mm(\u001b[39mself\u001b[39m\u001b[39m.\u001b[39mrf)\n",
      "\u001b[0;31mAttributeError\u001b[0m: 'Refractometry' object has no attribute 'rf'"
     ]
    }
   ],
   "source": [
    "#in the diagnostic initialisation, details on the lens configurations, and detector dimensions can be specified\n",
    "refractometer = diag.Refractometry(lwl)\n",
    "refractometer.incoherent_solve()\n",
    "# cam't clear_mem if you want to generate other graphs afterwards\n",
    "refractometer.histogram(bin_scale = 1, clear_mem = False)\n",
    "\n",
    "#information accessed by .H(istogram) , e.g plt.imshow(refractometer.H)\n",
    "\n",
    "#plt.imshow(refractometer.H, cmap='hot', interpolation='nearest', clim = (0, 2))\n",
    "plt.imshow(refractometer.H, cmap = 'hot', interpolation = 'nearest', clim = (0.5, 1))\n",
    "\n",
    "print(\"Garbage collection count:\", gc.collect())"
   ]
  },
  {
   "cell_type": "code",
   "execution_count": null,
   "metadata": {},
   "outputs": [
    {
     "name": "stdout",
     "output_type": "stream",
     "text": [
      "\n",
      "rf size expected: (100000, 100000)\n",
      "rf after clearing nan's: (86101, 86101)\n",
      "Garbage collection count: 3148\n"
     ]
    },
    {
     "data": {
      "image/png": "[encoded data removed]",
      "text/plain": [
       "<Figure size 640x480 with 1 Axes>"
      ]
     },
     "metadata": {},
     "output_type": "display_data"
    }
   ],
   "source": [
    "shadowgrapher = diag.Shadowgraphy(lwl)\n",
    "shadowgrapher.single_lens_solve()\n",
    "shadowgrapher.histogram(bin_scale = 1, clear_mem = False)\n",
    "\n",
    "plt.imshow(shadowgrapher.H, cmap = 'hot', interpolation = 'nearest', clim = (0.5, 1))\n",
    "\n",
    "print(\"Garbage collection count:\", gc.collect())"
   ]
  },
  {
   "cell_type": "code",
   "execution_count": null,
   "metadata": {},
   "outputs": [
    {
     "name": "stdout",
     "output_type": "stream",
     "text": [
      "\n",
      "rf size expected: (100000, 100000)\n",
      "rf after clearing nan's: (63655, 63655)\n",
      "Garbage collection count: 3149\n"
     ]
    },
    {
     "data": {
      "image/png": "[encoded data removed]",
      "text/plain": [
       "<Figure size 640x480 with 1 Axes>"
      ]
     },
     "metadata": {},
     "output_type": "display_data"
    }
   ],
   "source": [
    "schlierener = diag.Schlieren(lwl)\n",
    "schlierener.DF_solve()\n",
    "schlierener.histogram(bin_scale = 1, clear_mem = True)\n",
    "\n",
    "plt.imshow(schlierener.H, cmap = 'hot', interpolation = 'nearest', clim = (0.5, 1))\n",
    "\n",
    "print(\"Garbage collection count:\", gc.collect())"
   ]
  },
  {
   "cell_type": "markdown",
   "metadata": {},
   "source": [
    "Synthetic Interferometry - This requires some extra steps in the ray tracing to include information on the phase and electric field values"
   ]
  },
  {
   "cell_type": "code",
   "execution_count": null,
   "metadata": {},
   "outputs": [
    {
     "ename": "KeyboardInterrupt",
     "evalue": "",
     "output_type": "error",
     "traceback": [
      "\u001b[0;31m---------------------------------------------------------------------------\u001b[0m",
      "\u001b[0;31mKeyboardInterrupt\u001b[0m                         Traceback (most recent call last)",
      "Cell \u001b[0;32mIn[73], line 23\u001b[0m\n\u001b[1;32m     19\u001b[0m tracer \u001b[38;5;241m=\u001b[39m p\u001b[38;5;241m.\u001b[39mPropagator(domain, initial_rays, inv_brems \u001b[38;5;241m=\u001b[39m \u001b[38;5;28;01mFalse\u001b[39;00m, phaseshift \u001b[38;5;241m=\u001b[39m \u001b[38;5;28;01mTrue\u001b[39;00m)\n\u001b[1;32m     21\u001b[0m tracer\u001b[38;5;241m.\u001b[39mcalc_dndr()\n\u001b[0;32m---> 23\u001b[0m tracer\u001b[38;5;241m.\u001b[39mBeam\u001b[38;5;241m.\u001b[39mrf, tracer\u001b[38;5;241m.\u001b[39mBeam\u001b[38;5;241m.\u001b[39mJf \u001b[38;5;241m=\u001b[39m tracer\u001b[38;5;241m.\u001b[39msolve(parallelise \u001b[38;5;241m=\u001b[39m \u001b[38;5;28;01mFalse\u001b[39;00m, jitted \u001b[38;5;241m=\u001b[39m \u001b[38;5;28;01mFalse\u001b[39;00m, return_E \u001b[38;5;241m=\u001b[39m \u001b[38;5;28;01mTrue\u001b[39;00m)\n\u001b[1;32m     25\u001b[0m n_fringes \u001b[38;5;241m=\u001b[39m \u001b[38;5;241m10\u001b[39m\n\u001b[1;32m     26\u001b[0m deg \u001b[38;5;241m=\u001b[39m \u001b[38;5;241m10\u001b[39m \u001b[38;5;66;03m#adjust number of fringes and tilt in degrees from the vertical exis\u001b[39;00m\n",
      "File \u001b[0;32m~/Work/UROP_ICL_Internship/synthPy/examples/notebooks/../../src/simulator/propagator.py:210\u001b[0m, in \u001b[0;36msolve\u001b[0;34m(self, return_E, parallelise, jitted)\u001b[0m\n\u001b[1;32m    208\u001b[0m \n\u001b[1;32m    209\u001b[0m             # wrapper allows dummy variables t & y to be used by solve_ivp(), self is required by dsdt\n\u001b[0;32m--> 210\u001b[0m             dsdt_ODE = lambda t, y: dsdt(t, y, self, parallelise)\n\u001b[1;32m    211\u001b[0m             sol = solve_ivp(dsdt_ODE, [0, t[-1]], s0, t_eval = t)\n\u001b[1;32m    212\u001b[0m         else:\n",
      "File \u001b[0;32m~/Programs/anaconda3/envs/testing/lib/python3.12/site-packages/scipy/integrate/_ivp/ivp.py:655\u001b[0m, in \u001b[0;36msolve_ivp\u001b[0;34m(fun, t_span, y0, method, t_eval, dense_output, events, vectorized, args, **options)\u001b[0m\n\u001b[1;32m    653\u001b[0m status \u001b[39m=\u001b[39m \u001b[39mNone\u001b[39;00m\n\u001b[1;32m    654\u001b[0m \u001b[39mwhile\u001b[39;00m status \u001b[39mis\u001b[39;00m \u001b[39mNone\u001b[39;00m:\n\u001b[0;32m--> 655\u001b[0m     message \u001b[39m=\u001b[39m solver\u001b[39m.\u001b[39mstep()\n\u001b[1;32m    657\u001b[0m     \u001b[39mif\u001b[39;00m solver\u001b[39m.\u001b[39mstatus \u001b[39m==\u001b[39m \u001b[39m'\u001b[39m\u001b[39mfinished\u001b[39m\u001b[39m'\u001b[39m:\n\u001b[1;32m    658\u001b[0m         status \u001b[39m=\u001b[39m \u001b[39m0\u001b[39m\n",
      "File \u001b[0;32m~/Programs/anaconda3/envs/testing/lib/python3.12/site-packages/scipy/integrate/_ivp/base.py:197\u001b[0m, in \u001b[0;36mOdeSolver.step\u001b[0;34m(self)\u001b[0m\n\u001b[1;32m    195\u001b[0m \u001b[39melse\u001b[39;00m:\n\u001b[1;32m    196\u001b[0m     t \u001b[39m=\u001b[39m \u001b[39mself\u001b[39m\u001b[39m.\u001b[39mt\n\u001b[0;32m--> 197\u001b[0m     success, message \u001b[39m=\u001b[39m \u001b[39mself\u001b[39m\u001b[39m.\u001b[39m_step_impl()\n\u001b[1;32m    199\u001b[0m     \u001b[39mif\u001b[39;00m \u001b[39mnot\u001b[39;00m success:\n\u001b[1;32m    200\u001b[0m         \u001b[39mself\u001b[39m\u001b[39m.\u001b[39mstatus \u001b[39m=\u001b[39m \u001b[39m'\u001b[39m\u001b[39mfailed\u001b[39m\u001b[39m'\u001b[39m\n",
      "File \u001b[0;32m~/Programs/anaconda3/envs/testing/lib/python3.12/site-packages/scipy/integrate/_ivp/rk.py:144\u001b[0m, in \u001b[0;36mRungeKutta._step_impl\u001b[0;34m(self)\u001b[0m\n\u001b[1;32m    141\u001b[0m h \u001b[39m=\u001b[39m t_new \u001b[39m-\u001b[39m t\n\u001b[1;32m    142\u001b[0m h_abs \u001b[39m=\u001b[39m np\u001b[39m.\u001b[39mabs(h)\n\u001b[0;32m--> 144\u001b[0m y_new, f_new \u001b[39m=\u001b[39m rk_step(\u001b[39mself\u001b[39m\u001b[39m.\u001b[39mfun, t, y, \u001b[39mself\u001b[39m\u001b[39m.\u001b[39mf, h, \u001b[39mself\u001b[39m\u001b[39m.\u001b[39mA,\n\u001b[1;32m    145\u001b[0m                        \u001b[39mself\u001b[39m\u001b[39m.\u001b[39mB, \u001b[39mself\u001b[39m\u001b[39m.\u001b[39mC, \u001b[39mself\u001b[39m\u001b[39m.\u001b[39mK)\n\u001b[1;32m    146\u001b[0m scale \u001b[39m=\u001b[39m atol \u001b[39m+\u001b[39m np\u001b[39m.\u001b[39mmaximum(np\u001b[39m.\u001b[39mabs(y), np\u001b[39m.\u001b[39mabs(y_new)) \u001b[39m*\u001b[39m rtol\n\u001b[1;32m    147\u001b[0m error_norm \u001b[39m=\u001b[39m \u001b[39mself\u001b[39m\u001b[39m.\u001b[39m_estimate_error_norm(\u001b[39mself\u001b[39m\u001b[39m.\u001b[39mK, h, scale)\n",
      "File \u001b[0;32m~/Programs/anaconda3/envs/testing/lib/python3.12/site-packages/scipy/integrate/_ivp/rk.py:64\u001b[0m, in \u001b[0;36mrk_step\u001b[0;34m(fun, t, y, f, h, A, B, C, K)\u001b[0m\n\u001b[1;32m     62\u001b[0m \u001b[39mfor\u001b[39;00m s, (a, c) \u001b[39min\u001b[39;00m \u001b[39menumerate\u001b[39m(\u001b[39mzip\u001b[39m(A[\u001b[39m1\u001b[39m:], C[\u001b[39m1\u001b[39m:]), start\u001b[39m=\u001b[39m\u001b[39m1\u001b[39m):\n\u001b[1;32m     63\u001b[0m     dy \u001b[39m=\u001b[39m np\u001b[39m.\u001b[39mdot(K[:s]\u001b[39m.\u001b[39mT, a[:s]) \u001b[39m*\u001b[39m h\n\u001b[0;32m---> 64\u001b[0m     K[s] \u001b[39m=\u001b[39m fun(t \u001b[39m+\u001b[39m c \u001b[39m*\u001b[39m h, y \u001b[39m+\u001b[39m dy)\n\u001b[1;32m     66\u001b[0m y_new \u001b[39m=\u001b[39m y \u001b[39m+\u001b[39m h \u001b[39m*\u001b[39m np\u001b[39m.\u001b[39mdot(K[:\u001b[39m-\u001b[39m\u001b[39m1\u001b[39m]\u001b[39m.\u001b[39mT, B)\n\u001b[1;32m     67\u001b[0m f_new \u001b[39m=\u001b[39m fun(t \u001b[39m+\u001b[39m h, y_new)\n",
      "File \u001b[0;32m~/Programs/anaconda3/envs/testing/lib/python3.12/site-packages/scipy/integrate/_ivp/base.py:154\u001b[0m, in \u001b[0;36mOdeSolver.__init__.<locals>.fun\u001b[0;34m(t, y)\u001b[0m\n\u001b[1;32m    152\u001b[0m \u001b[39mdef\u001b[39;00m \u001b[39mfun\u001b[39m(t, y):\n\u001b[1;32m    153\u001b[0m     \u001b[39mself\u001b[39m\u001b[39m.\u001b[39mnfev \u001b[39m+\u001b[39m\u001b[39m=\u001b[39m \u001b[39m1\u001b[39m\n\u001b[0;32m--> 154\u001b[0m     \u001b[39mreturn\u001b[39;00m \u001b[39mself\u001b[39m\u001b[39m.\u001b[39mfun_single(t, y)\n",
      "File \u001b[0;32m~/Programs/anaconda3/envs/testing/lib/python3.12/site-packages/scipy/integrate/_ivp/base.py:23\u001b[0m, in \u001b[0;36mcheck_arguments.<locals>.fun_wrapped\u001b[0;34m(t, y)\u001b[0m\n\u001b[1;32m     22\u001b[0m \u001b[39mdef\u001b[39;00m \u001b[39mfun_wrapped\u001b[39m(t, y):\n\u001b[0;32m---> 23\u001b[0m     \u001b[39mreturn\u001b[39;00m np\u001b[39m.\u001b[39masarray(fun(t, y), dtype\u001b[39m=\u001b[39mdtype)\n",
      "File \u001b[0;32m~/Work/UROP_ICL_Internship/synthPy/examples/notebooks/../../src/simulator/propagator.py:209\u001b[0m, in \u001b[0;36m<lambda>\u001b[0;34m(t, y)\u001b[0m\n\u001b[1;32m    207\u001b[0m #s0 = jnp.array(s0) #for diffrax\n\u001b[1;32m    208\u001b[0m \n\u001b[0;32m--> 209\u001b[0m # wrapper allows dummy variables t & y to be used by solve_ivp(), self is required by dsdt\n\u001b[1;32m    210\u001b[0m dsdt_ODE = lambda t, y: dsdt(t, y, self, parallelise)\n\u001b[1;32m    211\u001b[0m sol = solve_ivp(dsdt_ODE, [0, t[-1]], s0, t_eval = t)\n",
      "File \u001b[0;32m~/Work/UROP_ICL_Internship/synthPy/examples/notebooks/../../src/simulator/propagator.py:451\u001b[0m, in \u001b[0;36mdsdt\u001b[0;34m(t, s, Propagator, parallelise)\u001b[0m\n\u001b[1;32m    449\u001b[0m #p = s[7,:]\n\u001b[1;32m    450\u001b[0m #r = s[8,:]\n\u001b[0;32m--> 451\u001b[0m \n\u001b[1;32m    452\u001b[0m sprime = sprime.at[3:6, :].set(Propagator.dndr(x))\n\u001b[1;32m    453\u001b[0m sprime = sprime.at[:3, :].set(v)\n",
      "File \u001b[0;32m~/Work/UROP_ICL_Internship/synthPy/examples/notebooks/../../src/simulator/propagator.py:145\u001b[0m, in \u001b[0;36mdndr\u001b[0;34m(self, r)\u001b[0m\n\u001b[1;32m    143\u001b[0m \n\u001b[1;32m    144\u001b[0m         grad = grad.at[0, :].set(self.dndx_interp(r.T))\n\u001b[0;32m--> 145\u001b[0m         grad = grad.at[1, :].set(self.dndy_interp(r.T))\n\u001b[1;32m    146\u001b[0m         grad = grad.at[2, :].set(self.dndz_interp(r.T))\n\u001b[1;32m    147\u001b[0m \n",
      "File \u001b[0;32m~/Programs/anaconda3/envs/testing/lib/python3.12/site-packages/jax/_src/third_party/scipy/interpolate.py:108\u001b[0m, in \u001b[0;36mRegularGridInterpolator.__call__\u001b[0;34m(self, xi, method)\u001b[0m\n\u001b[1;32m    105\u001b[0m xi_shape \u001b[39m=\u001b[39m xi\u001b[39m.\u001b[39mshape\n\u001b[1;32m    106\u001b[0m xi \u001b[39m=\u001b[39m xi\u001b[39m.\u001b[39mreshape(\u001b[39m-\u001b[39m\u001b[39m1\u001b[39m, xi_shape[\u001b[39m-\u001b[39m\u001b[39m1\u001b[39m])\n\u001b[0;32m--> 108\u001b[0m indices, norm_distances, out_of_bounds \u001b[39m=\u001b[39m \u001b[39mself\u001b[39m\u001b[39m.\u001b[39m_find_indices(xi\u001b[39m.\u001b[39mT)\n\u001b[1;32m    109\u001b[0m \u001b[39mif\u001b[39;00m method \u001b[39m==\u001b[39m \u001b[39m\"\u001b[39m\u001b[39mlinear\u001b[39m\u001b[39m\"\u001b[39m:\n\u001b[1;32m    110\u001b[0m   result \u001b[39m=\u001b[39m \u001b[39mself\u001b[39m\u001b[39m.\u001b[39m_evaluate_linear(indices, norm_distances)\n",
      "File \u001b[0;32m~/Programs/anaconda3/envs/testing/lib/python3.12/site-packages/jax/_src/third_party/scipy/interpolate.py:157\u001b[0m, in \u001b[0;36mRegularGridInterpolator._find_indices\u001b[0;34m(self, xi)\u001b[0m\n\u001b[1;32m    155\u001b[0m   norm_distances\u001b[39m.\u001b[39mappend((x \u001b[39m-\u001b[39m g[i]) \u001b[39m/\u001b[39m (g[i \u001b[39m+\u001b[39m \u001b[39m1\u001b[39m] \u001b[39m-\u001b[39m g[i]))\n\u001b[1;32m    156\u001b[0m   \u001b[39mif\u001b[39;00m \u001b[39mnot\u001b[39;00m \u001b[39mself\u001b[39m\u001b[39m.\u001b[39mbounds_error:\n\u001b[0;32m--> 157\u001b[0m     out_of_bounds \u001b[39m+\u001b[39m\u001b[39m=\u001b[39m x \u001b[39m<\u001b[39m g[\u001b[39m0\u001b[39m]\n\u001b[1;32m    158\u001b[0m     out_of_bounds \u001b[39m+\u001b[39m\u001b[39m=\u001b[39m x \u001b[39m>\u001b[39m g[\u001b[39m-\u001b[39m\u001b[39m1\u001b[39m]\n\u001b[1;32m    159\u001b[0m \u001b[39mreturn\u001b[39;00m indices, norm_distances, out_of_bounds\n",
      "File \u001b[0;32m~/Programs/anaconda3/envs/testing/lib/python3.12/site-packages/jax/_src/array.py:382\u001b[0m, in \u001b[0;36mArrayImpl.__getitem__\u001b[0;34m(self, idx)\u001b[0m\n\u001b[1;32m    377\u001b[0m       out \u001b[39m=\u001b[39m lax\u001b[39m.\u001b[39msqueeze(out, dimensions\u001b[39m=\u001b[39mdims)\n\u001b[1;32m    379\u001b[0m     \u001b[39mreturn\u001b[39;00m ArrayImpl(\n\u001b[1;32m    380\u001b[0m         out\u001b[39m.\u001b[39maval, sharding, [out], committed\u001b[39m=\u001b[39m\u001b[39mFalse\u001b[39;00m, _skip_checks\u001b[39m=\u001b[39m\u001b[39mTrue\u001b[39;00m)\n\u001b[0;32m--> 382\u001b[0m \u001b[39mreturn\u001b[39;00m indexing\u001b[39m.\u001b[39mrewriting_take(\u001b[39mself\u001b[39m, idx)\n",
      "File \u001b[0;32m~/Programs/anaconda3/envs/testing/lib/python3.12/site-packages/jax/_src/numpy/indexing.py:630\u001b[0m, in \u001b[0;36mrewriting_take\u001b[0;34m(arr, idx, indices_are_sorted, unique_indices, mode, fill_value, out_sharding)\u001b[0m\n\u001b[1;32m    621\u001b[0m \u001b[39mdef\u001b[39;00m \u001b[39mrewriting_take\u001b[39m(arr, idx, indices_are_sorted\u001b[39m=\u001b[39m\u001b[39mFalse\u001b[39;00m, unique_indices\u001b[39m=\u001b[39m\u001b[39mFalse\u001b[39;00m,\n\u001b[1;32m    622\u001b[0m                    mode\u001b[39m=\u001b[39m\u001b[39mNone\u001b[39;00m, fill_value\u001b[39m=\u001b[39m\u001b[39mNone\u001b[39;00m, out_sharding\u001b[39m=\u001b[39m\u001b[39mNone\u001b[39;00m):\n\u001b[1;32m    623\u001b[0m   \u001b[39m# Computes arr[idx].\u001b[39;00m\n\u001b[0;32m   (...)\u001b[0m\n\u001b[1;32m    627\u001b[0m   \u001b[39m# For simplicity of generated primitives, we call lax.dynamic_slice in the\u001b[39;00m\n\u001b[1;32m    628\u001b[0m   \u001b[39m# simplest cases: i.e. non-dynamic arrays indexed with integers and slices.\u001b[39;00m\n\u001b[0;32m--> 630\u001b[0m   result \u001b[39m=\u001b[39m _attempt_rewriting_take_via_slice(arr, idx, mode, out_sharding)\n\u001b[1;32m    631\u001b[0m   \u001b[39mif\u001b[39;00m result \u001b[39mis\u001b[39;00m \u001b[39mnot\u001b[39;00m \u001b[39mNone\u001b[39;00m:\n\u001b[1;32m    632\u001b[0m     \u001b[39mreturn\u001b[39;00m result\n",
      "File \u001b[0;32m~/Programs/anaconda3/envs/testing/lib/python3.12/site-packages/jax/_src/numpy/indexing.py:617\u001b[0m, in \u001b[0;36m_attempt_rewriting_take_via_slice\u001b[0;34m(arr, idx, mode, out_sharding)\u001b[0m\n\u001b[1;32m    615\u001b[0m     arr \u001b[39m=\u001b[39m internal_ds(arr, start_indices)\n\u001b[1;32m    616\u001b[0m \u001b[39mif\u001b[39;00m int_indices:\n\u001b[0;32m--> 617\u001b[0m   arr \u001b[39m=\u001b[39m lax\u001b[39m.\u001b[39msqueeze(arr, \u001b[39mtuple\u001b[39m(int_indices))\n\u001b[1;32m    618\u001b[0m \u001b[39mreturn\u001b[39;00m arr\n",
      "File \u001b[0;32m~/Programs/anaconda3/envs/testing/lib/python3.12/site-packages/jax/_src/lax/lax.py:3512\u001b[0m, in \u001b[0;36msqueeze\u001b[0;34m(array, dimensions)\u001b[0m\n\u001b[1;32m   3510\u001b[0m \u001b[39mif\u001b[39;00m \u001b[39mnot\u001b[39;00m dimensions \u001b[39mand\u001b[39;00m \u001b[39misinstance\u001b[39m(array, Array):\n\u001b[1;32m   3511\u001b[0m   \u001b[39mreturn\u001b[39;00m array\n\u001b[0;32m-> 3512\u001b[0m \u001b[39mreturn\u001b[39;00m squeeze_p\u001b[39m.\u001b[39mbind(array, dimensions\u001b[39m=\u001b[39mdimensions)\n",
      "File \u001b[0;32m~/Programs/anaconda3/envs/testing/lib/python3.12/site-packages/jax/_src/core.py:536\u001b[0m, in \u001b[0;36mPrimitive.bind\u001b[0;34m(self, *args, **params)\u001b[0m\n\u001b[1;32m    534\u001b[0m \u001b[39mdef\u001b[39;00m \u001b[39mbind\u001b[39m(\u001b[39mself\u001b[39m, \u001b[39m*\u001b[39margs, \u001b[39m*\u001b[39m\u001b[39m*\u001b[39mparams):\n\u001b[1;32m    535\u001b[0m   args \u001b[39m=\u001b[39m args \u001b[39mif\u001b[39;00m \u001b[39mself\u001b[39m\u001b[39m.\u001b[39mskip_canonicalization \u001b[39melse\u001b[39;00m \u001b[39mmap\u001b[39m(canonicalize_value, args)\n\u001b[0;32m--> 536\u001b[0m   \u001b[39mreturn\u001b[39;00m \u001b[39mself\u001b[39m\u001b[39m.\u001b[39m_true_bind(\u001b[39m*\u001b[39margs, \u001b[39m*\u001b[39m\u001b[39m*\u001b[39mparams)\n",
      "File \u001b[0;32m~/Programs/anaconda3/envs/testing/lib/python3.12/site-packages/jax/_src/core.py:552\u001b[0m, in \u001b[0;36mPrimitive._true_bind\u001b[0;34m(self, *args, **params)\u001b[0m\n\u001b[1;32m    550\u001b[0m trace_ctx\u001b[39m.\u001b[39mset_trace(eval_trace)\n\u001b[1;32m    551\u001b[0m \u001b[39mtry\u001b[39;00m:\n\u001b[0;32m--> 552\u001b[0m   \u001b[39mreturn\u001b[39;00m \u001b[39mself\u001b[39m\u001b[39m.\u001b[39mbind_with_trace(prev_trace, args, params)\n\u001b[1;32m    553\u001b[0m \u001b[39mfinally\u001b[39;00m:\n\u001b[1;32m    554\u001b[0m   trace_ctx\u001b[39m.\u001b[39mset_trace(prev_trace)\n",
      "File \u001b[0;32m~/Programs/anaconda3/envs/testing/lib/python3.12/site-packages/jax/_src/core.py:562\u001b[0m, in \u001b[0;36mPrimitive.bind_with_trace\u001b[0;34m(self, trace, args, params)\u001b[0m\n\u001b[1;32m    559\u001b[0m   \u001b[39mwith\u001b[39;00m set_current_trace(trace):\n\u001b[1;32m    560\u001b[0m     \u001b[39mreturn\u001b[39;00m \u001b[39mself\u001b[39m\u001b[39m.\u001b[39mto_lojax(\u001b[39m*\u001b[39margs, \u001b[39m*\u001b[39m\u001b[39m*\u001b[39mparams)  \u001b[39m# type: ignore\u001b[39;00m\n\u001b[0;32m--> 562\u001b[0m \u001b[39mreturn\u001b[39;00m trace\u001b[39m.\u001b[39mprocess_primitive(\u001b[39mself\u001b[39m, args, params)\n",
      "File \u001b[0;32m~/Programs/anaconda3/envs/testing/lib/python3.12/site-packages/jax/_src/core.py:1066\u001b[0m, in \u001b[0;36mEvalTrace.process_primitive\u001b[0;34m(self, primitive, args, params)\u001b[0m\n\u001b[1;32m   1064\u001b[0m args \u001b[39m=\u001b[39m \u001b[39mmap\u001b[39m(full_lower, args)\n\u001b[1;32m   1065\u001b[0m check_eval_args(args)\n\u001b[0;32m-> 1066\u001b[0m \u001b[39mreturn\u001b[39;00m primitive\u001b[39m.\u001b[39mimpl(\u001b[39m*\u001b[39margs, \u001b[39m*\u001b[39m\u001b[39m*\u001b[39mparams)\n",
      "File \u001b[0;32m~/Programs/anaconda3/envs/testing/lib/python3.12/site-packages/jax/_src/dispatch.py:91\u001b[0m, in \u001b[0;36mapply_primitive\u001b[0;34m(prim, *args, **params)\u001b[0m\n\u001b[1;32m     89\u001b[0m prev \u001b[39m=\u001b[39m lib\u001b[39m.\u001b[39mjax_jit\u001b[39m.\u001b[39mswap_thread_local_state_disable_jit(\u001b[39mFalse\u001b[39;00m)\n\u001b[1;32m     90\u001b[0m \u001b[39mtry\u001b[39;00m:\n\u001b[0;32m---> 91\u001b[0m   outs \u001b[39m=\u001b[39m fun(\u001b[39m*\u001b[39margs)\n\u001b[1;32m     92\u001b[0m \u001b[39mfinally\u001b[39;00m:\n\u001b[1;32m     93\u001b[0m   lib\u001b[39m.\u001b[39mjax_jit\u001b[39m.\u001b[39mswap_thread_local_state_disable_jit(prev)\n",
      "\u001b[0;31mKeyboardInterrupt\u001b[0m: "
     ]
    }
   ],
   "source": [
    "# No need to change the domain (now that code has been seperated out in restructure)\n",
    "\n",
    "\n",
    "\n",
    "# load some external pvti\n",
    "\n",
    "# import utils.handle_filetypes as load\n",
    "# ne, dim, spacing = load.pvti_readin(filename)\n",
    "\n",
    "# or load a test distribution\n",
    "\n",
    "\n",
    "\n",
    "# initialise beam\n",
    "\n",
    "\n",
    "\n",
    "# solve ray trace\n",
    "tracer = p.Propagator(domain, beam_definition.s0, probing_direction, inv_brems = False, phaseshift = True)\n",
    "\n",
    "tracer.calc_dndr()\n",
    "\n",
    "tracer.solve(parallelise = False, jitted = False, return_E = True)\n",
    "\n",
    "n_fringes = 10\n",
    "deg = 10 #adjust number of fringes and tilt in degrees from the vertical exis\n",
    "\n",
    "interferometrer = diag.Interferometry(lwl)\n",
    "interferometrer.interfere_ref_beam(n_fringes, deg)\n",
    "\n",
    "pattern = diag.Interferometry(lwl)\n",
    "#pattern = interferometrer\n",
    "pattern.two_lens_solve()\n",
    "pattern.interferogram(bin_scale = 1, clear_mem = True) #use interferogram instead of histogram\n",
    "\n",
    "#get interferogram histogram with sh.H\n"
   ]
  },
  {
   "cell_type": "code",
   "execution_count": null,
   "metadata": {},
   "outputs": [
    {
     "data": {
      "text/plain": [
       "<matplotlib.image.AxesImage at 0x7f44079ee9c0>"
      ]
     },
     "execution_count": 49,
     "metadata": {},
     "output_type": "execute_result"
    },
    {
     "data": {
      "image/png": "[encoded data removed]",
      "text/plain": [
       "<Figure size 640x480 with 1 Axes>"
      ]
     },
     "metadata": {},
     "output_type": "display_data"
    }
   ],
   "source": [
    "plt.imshow(pattern.H, cmap = 'hot', interpolation = 'nearest')"
   ]
  },
  {
   "cell_type": "code",
   "execution_count": null,
   "metadata": {},
   "outputs": [],
   "source": []
  }
 ],
 "metadata": {
  "kernelspec": {
   "display_name": "Python 3.12.5 ('testing')",
   "language": "python",
   "name": "python3"
  },
  "language_info": {
   "codemirror_mode": {
    "name": "ipython",
    "version": 3
   },
   "file_extension": ".py",
   "mimetype": "text/x-python",
   "name": "python",
   "nbconvert_exporter": "python",
   "pygments_lexer": "ipython3",
   "version": "3.12.5"
  },
  "vscode": {
   "interpreter": {
    "hash": "de6d706a21dde6ee649de53d1c8cba9d9f8e9ee05a3542c9798512c888fa8306"
   }
  }
 },
 "nbformat": 4,
 "nbformat_minor": 4
}
