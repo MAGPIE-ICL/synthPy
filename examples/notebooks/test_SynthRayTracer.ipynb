{
 "cells": [
  {
   "cell_type": "markdown",
   "metadata": {},
   "source": [
    "### Test - Synthetic Diagnostic + Interferometry\n",
    "\n",
    "</b> Author:   </b>  Louis Evans     </br>\n",
    "</b> Reviewer: </b>  Stefano Merlini"
   ]
  },
  {
   "cell_type": "markdown",
   "metadata": {},
   "source": [
    "### Import relevant files:"
   ]
  },
  {
   "cell_type": "code",
   "execution_count": 1,
   "metadata": {},
   "outputs": [],
   "source": [
    "import numpy as np\n",
    "import matplotlib.pyplot as plt\n",
    "#import vtk\n",
    "#from vtk.util import numpy_support as vtk_np\n",
    "import gc\n",
    "\n",
    "import sys\n",
    "\n",
    "#add path\n",
    "sys.path.insert(0, '../../src/simulator')     # import path/to/synthpy\n",
    "\n",
    "import beam as beam_initialiser\n",
    "import domain as d\n",
    "import propagator as p\n",
    "\n",
    "import importlib\n",
    "importlib.reload(beam_initialiser)\n",
    "importlib.reload(d)\n",
    "importlib.reload(p)\n",
    "\n",
    "import os\n",
    "#os.environ['XLA_FLAGS'] = \"--xla_force_host_platform_device_count=8\""
   ]
  },
  {
   "cell_type": "markdown",
   "metadata": {},
   "source": [
    "To use the ray tracer, first create a 'domain', load the domain with an electron distribution, calculate electron gradients, initialise a beam, and solve!\n",
    "\\\n",
    "\\\n",
    "The output can either be plotted, or passed further through ray optics for synthetic diagnostics"
   ]
  },
  {
   "cell_type": "code",
   "execution_count": 2,
   "metadata": {},
   "outputs": [
    {
     "name": "stdout",
     "output_type": "stream",
     "text": [
      "Garbage collection count: 65\n",
      "Garbage collection count: 0\n"
     ]
    }
   ],
   "source": [
    "# define some extent, the domain should be distributed as +extent to -extent, does not need to be cubic\n",
    "extent_x = 5e-3\n",
    "extent_y = 5e-3\n",
    "extent_z = 10e-3\n",
    "\n",
    "n_cells = 128\n",
    "\n",
    "#x = np.linspace(-extent_x, extent_x, n_cells)\n",
    "#y = np.linspace(-extent_y, extent_y, n_cells)\n",
    "#z = np.linspace(-extent_z, extent_z, n_cells)\n",
    "\n",
    "probing_extent = extent_z\n",
    "probing_direction = 'z'\n",
    "\n",
    "lengths = 2 * np.array([extent_x, extent_y, extent_z])\n",
    "\n",
    "print(\"Garbage collection count:\", gc.collect())\n",
    "\n",
    "#domain = d.ScalarDomain(x = x, y = y, z = z, extent = probing_extent, probing_direction = probing_direction)     # create domain\n",
    "# Much simpler domain function, no longer needlessly takes in beam values, they are fully seperated\n",
    "domain = d.ScalarDomain(lengths, n_cells) # B_on = False by default\n",
    "\n",
    "# clear we should do manual garbage collection of some variety in d.ScalarDomain function\n",
    "print(\"Garbage collection count:\", gc.collect())"
   ]
  },
  {
   "cell_type": "markdown",
   "metadata": {},
   "source": [
    "Load some domain distribution"
   ]
  },
  {
   "cell_type": "code",
   "execution_count": 3,
   "metadata": {},
   "outputs": [],
   "source": [
    "# load some external pvti\n",
    "# import utils.handle_filetypes as load\n",
    "# ne, dim, spacing = load.pvti_readin(filename)\n",
    "# or load a test distribution\n",
    "\n",
    "#domain.ne = np.full((100, 100, 100), 1e24)\n",
    "domain.test_exponential_cos()\n",
    "#domain.test_slab(0.000001, 1e24)"
   ]
  },
  {
   "cell_type": "markdown",
   "metadata": {},
   "source": [
    "Solve gradients, initialise beam, and solve"
   ]
  },
  {
   "cell_type": "code",
   "execution_count": 4,
   "metadata": {},
   "outputs": [
    {
     "name": "stdout",
     "output_type": "stream",
     "text": [
      "\n",
      "Initialising jax...\n",
      "\n",
      "Default jax backend: cpu\n",
      "Available devices: [CpuDevice(id=0), CpuDevice(id=1), CpuDevice(id=2), CpuDevice(id=3), CpuDevice(id=4), CpuDevice(id=5), CpuDevice(id=6), CpuDevice(id=7), CpuDevice(id=8), CpuDevice(id=9), CpuDevice(id=10), CpuDevice(id=11), CpuDevice(id=12), CpuDevice(id=13), CpuDevice(id=14), CpuDevice(id=15)]\n",
      "\n",
      "Size in memory of initial rays: 7.15625KB\n",
      "Predicted size in memory of domain: 8.0 MB\n",
      "\n",
      "Running device: cpu, with: 16 cores.\n",
      "NamedSharding(mesh=Mesh('cols': 16, axis_types=(Auto,)), spec=PartitionSpec(None, 'cols'), memory_kind=unpinned_host)\n",
      "\n",
      "jax compilation of solver took: 0.0004050731658935547 seconds\n"
     ]
    },
    {
     "data": {
      "text/html": [
       "<pre style=\"white-space:pre;overflow-x:auto;line-height:normal;font-family:Menlo,'DejaVu Sans Mono',consolas,'Courier New',monospace\"><span style=\"color: #ffffff; text-decoration-color: #ffffff; background-color: #393b79\">  CPU 0  </span>\n",
       "<span style=\"color: #ffffff; text-decoration-color: #ffffff; background-color: #843c39\">  CPU 1  </span>\n",
       "<span style=\"color: #ffffff; text-decoration-color: #ffffff; background-color: #6b6ecf\">  CPU 2  </span>\n",
       "<span style=\"color: #ffffff; text-decoration-color: #ffffff; background-color: #d6616b\">  CPU 3  </span>\n",
       "<span style=\"color: #ffffff; text-decoration-color: #ffffff; background-color: #8ca252\">  CPU 4  </span>\n",
       "<span style=\"color: #ffffff; text-decoration-color: #ffffff; background-color: #a55194\">  CPU 5  </span>\n",
       "<span style=\"color: #ffffff; text-decoration-color: #ffffff; background-color: #8c6d31\">  CPU 6  </span>\n",
       "<span style=\"color: #ffffff; text-decoration-color: #ffffff; background-color: #de9ed6\">  CPU 7  </span>\n",
       "<span style=\"color: #000000; text-decoration-color: #000000; background-color: #e7ba52\">  CPU 8  </span>\n",
       "<span style=\"color: #ffffff; text-decoration-color: #ffffff; background-color: #5254a3\">  CPU 9  </span>\n",
       "<span style=\"color: #ffffff; text-decoration-color: #ffffff; background-color: #ad494a\"> CPU 10  </span>\n",
       "<span style=\"color: #ffffff; text-decoration-color: #ffffff; background-color: #637939\"> CPU 11  </span>\n",
       "<span style=\"color: #ffffff; text-decoration-color: #ffffff; background-color: #7b4173\"> CPU 12  </span>\n",
       "<span style=\"color: #000000; text-decoration-color: #000000; background-color: #b5cf6b\"> CPU 13  </span>\n",
       "<span style=\"color: #ffffff; text-decoration-color: #ffffff; background-color: #ce6dbd\"> CPU 14  </span>\n",
       "<span style=\"color: #ffffff; text-decoration-color: #ffffff; background-color: #bd9e39\"> CPU 15  </span>\n",
       "</pre>\n"
      ],
      "text/plain": [
       "\u001b[38;2;255;255;255;48;2;57;59;121m  \u001b[0m\u001b[38;2;255;255;255;48;2;57;59;121mCPU 0\u001b[0m\u001b[38;2;255;255;255;48;2;57;59;121m  \u001b[0m\n",
       "\u001b[38;2;255;255;255;48;2;132;60;57m  \u001b[0m\u001b[38;2;255;255;255;48;2;132;60;57mCPU 1\u001b[0m\u001b[38;2;255;255;255;48;2;132;60;57m  \u001b[0m\n",
       "\u001b[38;2;255;255;255;48;2;107;110;207m  \u001b[0m\u001b[38;2;255;255;255;48;2;107;110;207mCPU 2\u001b[0m\u001b[38;2;255;255;255;48;2;107;110;207m  \u001b[0m\n",
       "\u001b[38;2;255;255;255;48;2;214;97;107m  \u001b[0m\u001b[38;2;255;255;255;48;2;214;97;107mCPU 3\u001b[0m\u001b[38;2;255;255;255;48;2;214;97;107m  \u001b[0m\n",
       "\u001b[38;2;255;255;255;48;2;140;162;82m  \u001b[0m\u001b[38;2;255;255;255;48;2;140;162;82mCPU 4\u001b[0m\u001b[38;2;255;255;255;48;2;140;162;82m  \u001b[0m\n",
       "\u001b[38;2;255;255;255;48;2;165;81;148m  \u001b[0m\u001b[38;2;255;255;255;48;2;165;81;148mCPU 5\u001b[0m\u001b[38;2;255;255;255;48;2;165;81;148m  \u001b[0m\n",
       "\u001b[38;2;255;255;255;48;2;140;109;49m  \u001b[0m\u001b[38;2;255;255;255;48;2;140;109;49mCPU 6\u001b[0m\u001b[38;2;255;255;255;48;2;140;109;49m  \u001b[0m\n",
       "\u001b[38;2;255;255;255;48;2;222;158;214m  \u001b[0m\u001b[38;2;255;255;255;48;2;222;158;214mCPU 7\u001b[0m\u001b[38;2;255;255;255;48;2;222;158;214m  \u001b[0m\n",
       "\u001b[38;2;0;0;0;48;2;231;186;82m  \u001b[0m\u001b[38;2;0;0;0;48;2;231;186;82mCPU 8\u001b[0m\u001b[38;2;0;0;0;48;2;231;186;82m  \u001b[0m\n",
       "\u001b[38;2;255;255;255;48;2;82;84;163m  \u001b[0m\u001b[38;2;255;255;255;48;2;82;84;163mCPU 9\u001b[0m\u001b[38;2;255;255;255;48;2;82;84;163m  \u001b[0m\n",
       "\u001b[38;2;255;255;255;48;2;173;73;74m \u001b[0m\u001b[38;2;255;255;255;48;2;173;73;74mCPU 10\u001b[0m\u001b[38;2;255;255;255;48;2;173;73;74m  \u001b[0m\n",
       "\u001b[38;2;255;255;255;48;2;99;121;57m \u001b[0m\u001b[38;2;255;255;255;48;2;99;121;57mCPU 11\u001b[0m\u001b[38;2;255;255;255;48;2;99;121;57m  \u001b[0m\n",
       "\u001b[38;2;255;255;255;48;2;123;65;115m \u001b[0m\u001b[38;2;255;255;255;48;2;123;65;115mCPU 12\u001b[0m\u001b[38;2;255;255;255;48;2;123;65;115m  \u001b[0m\n",
       "\u001b[38;2;0;0;0;48;2;181;207;107m \u001b[0m\u001b[38;2;0;0;0;48;2;181;207;107mCPU 13\u001b[0m\u001b[38;2;0;0;0;48;2;181;207;107m  \u001b[0m\n",
       "\u001b[38;2;255;255;255;48;2;206;109;189m \u001b[0m\u001b[38;2;255;255;255;48;2;206;109;189mCPU 14\u001b[0m\u001b[38;2;255;255;255;48;2;206;109;189m  \u001b[0m\n",
       "\u001b[38;2;255;255;255;48;2;189;158;57m \u001b[0m\u001b[38;2;255;255;255;48;2;189;158;57mCPU 15\u001b[0m\u001b[38;2;255;255;255;48;2;189;158;57m  \u001b[0m\n"
      ]
     },
     "metadata": {},
     "output_type": "display_data"
    },
    {
     "name": "stdout",
     "output_type": "stream",
     "text": [
      "\n",
      "Size in memory of initial rays: 712B\n",
      "Size in memory of solution: 48B\n",
      "Size in memory of propagator class: 48B\n",
      "File: ls\n",
      "Type: space\n",
      "Showing nodes accounting for 40.03MB, 99.94% of 40.05MB total\n",
      "Dropped 63 nodes (cum <= 0.20MB)\n",
      "      flat  flat%   sum%        cum   cum%\n",
      "   32.03MB 79.97% 79.97%    32.03MB 79.97%  __call__\n",
      "       8MB 19.97% 99.94%    16.02MB 40.01%  apply_primitive\n",
      "         0     0% 99.94%    40.05MB   100%  [ls]\n",
      "         0     0% 99.94%     8.01MB 19.99%  __init__\n",
      "         0     0% 99.94%       16MB 39.95%  _convert_element_type\n",
      "         0     0% 99.94%       16MB 39.95%  _convert_element_type_bind_with_trace\n",
      "         0     0% 99.94%    16.03MB 40.02%  _pjit_call_impl_python\n",
      "         0     0% 99.94%    40.05MB   100%  _pseudo_sync_runner\n",
      "         0     0% 99.94%    16.04MB 40.05%  _python_pjit_helper\n",
      "         0     0% 99.94%    40.05MB   100%  _run\n",
      "         0     0% 99.94%    40.05MB   100%  _run_cell\n",
      "         0     0% 99.94%    40.05MB   100%  _run_code\n",
      "         0     0% 99.94%    40.05MB   100%  _run_module_as_main\n",
      "         0     0% 99.94%    40.05MB   100%  _run_once\n",
      "         0     0% 99.94%    16.05MB 40.08%  _true_bind\n",
      "         0     0% 99.94%     8.01MB 19.99%  array\n",
      "         0     0% 99.94%    16.05MB 40.08%  bind\n",
      "         0     0% 99.94%    16.05MB 40.08%  bind_with_trace\n",
      "         0     0% 99.94%    16.04MB 40.05%  cache_miss\n",
      "         0     0% 99.94%    40.01MB 99.88%  calc_dndr\n",
      "         0     0% 99.94%       24MB 59.92%  deferring_binary_op\n",
      "         0     0% 99.94%    40.05MB   100%  dispatch_queue\n",
      "         0     0% 99.94%    40.05MB   100%  dispatch_shell\n",
      "         0     0% 99.94%    40.05MB   100%  do_execute\n",
      "         0     0% 99.94%    40.05MB   100%  execute_request\n",
      "         0     0% 99.94%    40.05MB   100%  launch_instance\n",
      "         0     0% 99.94%    40.05MB   100%  process_one\n",
      "         0     0% 99.94%    16.05MB 40.08%  process_primitive\n",
      "         0     0% 99.94%        8MB 19.97%  promote_dtypes_inexact\n",
      "         0     0% 99.94%    16.04MB 40.05%  reraise_with_filtered_traceback\n",
      "         0     0% 99.94%    40.05MB   100%  run_ast_nodes\n",
      "         0     0% 99.94%    40.05MB   100%  run_cell\n",
      "         0     0% 99.94%    40.05MB   100%  run_cell_async\n",
      "         0     0% 99.94%    40.05MB   100%  run_code\n",
      "         0     0% 99.94%    40.05MB   100%  run_forever\n",
      "         0     0% 99.94%        8MB 19.98%  set_up_interps\n",
      "         0     0% 99.94%    40.05MB   100%  start\n",
      "         0     0% 99.94%    16.03MB 40.02%  wrapper\n",
      "\n",
      "Parallelised output has resulting 3D matrix of form: [batch_count, 2, 9]: (96, 2, 9)\n",
      "\t2 to account for the start and end results\n",
      "\t9 containing the 3 position and velocity components, amplitude, phase and polarisation\n",
      "\tIf batch_count is lower than expected, this is likely due to jax's forced integer batch sharding when parallelising over cpu cores.\n",
      "\n",
      "We slice the end result and transpose into the form: (9, 96) to work with later code.\n",
      "\n",
      "Completed ray trace in 5.715 seconds.\n"
     ]
    }
   ],
   "source": [
    "lwl = 1064e-9 #define laser wavelength\n",
    "\n",
    "# initialise beam\n",
    "Np = 1e6    # number of photons\n",
    "divergence = 5e-5   # realistic divergence value\n",
    "beam_size = extent_x    # beam radius\n",
    "ne_extent = probing_extent  # so the beam knows where to initialise initial positions\n",
    "beam_type = 'circular'\n",
    "\n",
    "beam_definition = beam_initialiser.Beam(Np, beam_size, divergence, ne_extent, probing_direction = probing_direction, wavelength = lwl, beam_type = beam_type)\n",
    "\n",
    "tracer = p.Propagator(domain, beam_definition.s0, probing_direction = probing_direction, inv_brems = False, phaseshift = False, parallelise = True)\n",
    "\n",
    "# solve ray trace\n",
    "tracer.calc_dndr(lwl)\n",
    "# without the _, both rf and Jf (even though it defaults to None when return_E = False) get unpacked into rf and it becomes a tuple\n",
    "rf, _ = tracer.solve(jitted = True)\n",
    "print(\"\\nCompleted ray trace in\", np.round(tracer.duration, 3), \"seconds.\")"
   ]
  },
  {
   "cell_type": "markdown",
   "metadata": {},
   "source": [
    "Pass through ray optics: For Shadowgaphy, Schlieren, or Refractometry:"
   ]
  },
  {
   "cell_type": "code",
   "execution_count": 5,
   "metadata": {},
   "outputs": [
    {
     "name": "stdout",
     "output_type": "stream",
     "text": [
      "\n",
      "rf size expected: (96, 96)\n",
      "rf after clearing nan's: (76, 76)\n",
      "Garbage collection count: 9\n"
     ]
    },
    {
     "data": {
      "image/png": "[encoded data removed]",
      "text/plain": [
       "<Figure size 640x480 with 1 Axes>"
      ]
     },
     "metadata": {},
     "output_type": "display_data"
    }
   ],
   "source": [
    "import diagnostics as diag\n",
    "importlib.reload(diag)\n",
    "#import utils\n",
    "#importlib.reload(utils)\n",
    "\n",
    "#in the diagnostic initialisation, details on the lens configurations, and detector dimensions can be specified\n",
    "refractometer = diag.Refractometry(lwl, rf)\n",
    "refractometer.incoherent_solve()\n",
    "# cam't clear_mem if you want to generate other graphs afterwards\n",
    "refractometer.histogram(bin_scale = 1, clear_mem = False)\n",
    "\n",
    "#information accessed by .H(istogram) , e.g plt.imshow(refractometer.H)\n",
    "\n",
    "#plt.imshow(refractometer.H, cmap='hot', interpolation='nearest', clim = (0, 2))\n",
    "plt.imshow(refractometer.H, cmap = 'hot', interpolation = 'nearest', clim = (0.5, 1))\n",
    "\n",
    "print(\"Garbage collection count:\", gc.collect())"
   ]
  },
  {
   "cell_type": "code",
   "execution_count": 6,
   "metadata": {},
   "outputs": [
    {
     "name": "stdout",
     "output_type": "stream",
     "text": [
      "\n",
      "rf size expected: (96, 96)\n",
      "rf after clearing nan's: (76, 76)\n",
      "Garbage collection count: 3154\n",
      "Error in callback <function _draw_all_if_interactive at 0x7faf64018720> (for post_execute), with arguments args (),kwargs {}:\n"
     ]
    },
    {
     "ename": "KeyboardInterrupt",
     "evalue": "",
     "output_type": "error",
     "traceback": [
      "\u001b[0;31m---------------------------------------------------------------------------\u001b[0m",
      "\u001b[0;31mKeyboardInterrupt\u001b[0m                         Traceback (most recent call last)",
      "File \u001b[0;32m~/Programs/anaconda3/envs/testing/lib/python3.12/site-packages/matplotlib/pyplot.py:279\u001b[0m, in \u001b[0;36m_draw_all_if_interactive\u001b[0;34m()\u001b[0m\n\u001b[1;32m    277\u001b[0m \u001b[39mdef\u001b[39;00m \u001b[39m_draw_all_if_interactive\u001b[39m() \u001b[39m-\u001b[39m\u001b[39m>\u001b[39m \u001b[39mNone\u001b[39;00m:\n\u001b[1;32m    278\u001b[0m     \u001b[39mif\u001b[39;00m matplotlib\u001b[39m.\u001b[39mis_interactive():\n\u001b[0;32m--> 279\u001b[0m         draw_all()\n",
      "File \u001b[0;32m~/Programs/anaconda3/envs/testing/lib/python3.12/site-packages/matplotlib/_pylab_helpers.py:131\u001b[0m, in \u001b[0;36mGcf.draw_all\u001b[0;34m(cls, force)\u001b[0m\n\u001b[1;32m    129\u001b[0m \u001b[39mfor\u001b[39;00m manager \u001b[39min\u001b[39;00m \u001b[39mcls\u001b[39m\u001b[39m.\u001b[39mget_all_fig_managers():\n\u001b[1;32m    130\u001b[0m     \u001b[39mif\u001b[39;00m force \u001b[39mor\u001b[39;00m manager\u001b[39m.\u001b[39mcanvas\u001b[39m.\u001b[39mfigure\u001b[39m.\u001b[39mstale:\n\u001b[0;32m--> 131\u001b[0m         manager\u001b[39m.\u001b[39mcanvas\u001b[39m.\u001b[39mdraw_idle()\n",
      "File \u001b[0;32m~/Programs/anaconda3/envs/testing/lib/python3.12/site-packages/matplotlib/backend_bases.py:1891\u001b[0m, in \u001b[0;36mFigureCanvasBase.draw_idle\u001b[0;34m(self, *args, **kwargs)\u001b[0m\n\u001b[1;32m   1889\u001b[0m \u001b[39mif\u001b[39;00m \u001b[39mnot\u001b[39;00m \u001b[39mself\u001b[39m\u001b[39m.\u001b[39m_is_idle_drawing:\n\u001b[1;32m   1890\u001b[0m     \u001b[39mwith\u001b[39;00m \u001b[39mself\u001b[39m\u001b[39m.\u001b[39m_idle_draw_cntx():\n\u001b[0;32m-> 1891\u001b[0m         \u001b[39mself\u001b[39m\u001b[39m.\u001b[39mdraw(\u001b[39m*\u001b[39margs, \u001b[39m*\u001b[39m\u001b[39m*\u001b[39mkwargs)\n",
      "File \u001b[0;32m~/Programs/anaconda3/envs/testing/lib/python3.12/site-packages/matplotlib/backends/backend_agg.py:382\u001b[0m, in \u001b[0;36mFigureCanvasAgg.draw\u001b[0;34m(self)\u001b[0m\n\u001b[1;32m    379\u001b[0m \u001b[39m# Acquire a lock on the shared font cache.\u001b[39;00m\n\u001b[1;32m    380\u001b[0m \u001b[39mwith\u001b[39;00m (\u001b[39mself\u001b[39m\u001b[39m.\u001b[39mtoolbar\u001b[39m.\u001b[39m_wait_cursor_for_draw_cm() \u001b[39mif\u001b[39;00m \u001b[39mself\u001b[39m\u001b[39m.\u001b[39mtoolbar\n\u001b[1;32m    381\u001b[0m       \u001b[39melse\u001b[39;00m nullcontext()):\n\u001b[0;32m--> 382\u001b[0m     \u001b[39mself\u001b[39m\u001b[39m.\u001b[39mfigure\u001b[39m.\u001b[39mdraw(\u001b[39mself\u001b[39m\u001b[39m.\u001b[39mrenderer)\n\u001b[1;32m    383\u001b[0m     \u001b[39m# A GUI class may be need to update a window using this draw, so\u001b[39;00m\n\u001b[1;32m    384\u001b[0m     \u001b[39m# don't forget to call the superclass.\u001b[39;00m\n\u001b[1;32m    385\u001b[0m     \u001b[39msuper\u001b[39m()\u001b[39m.\u001b[39mdraw()\n",
      "File \u001b[0;32m~/Programs/anaconda3/envs/testing/lib/python3.12/site-packages/matplotlib/artist.py:94\u001b[0m, in \u001b[0;36m_finalize_rasterization.<locals>.draw_wrapper\u001b[0;34m(artist, renderer, *args, **kwargs)\u001b[0m\n\u001b[1;32m     92\u001b[0m \u001b[39m@wraps\u001b[39m(draw)\n\u001b[1;32m     93\u001b[0m \u001b[39mdef\u001b[39;00m \u001b[39mdraw_wrapper\u001b[39m(artist, renderer, \u001b[39m*\u001b[39margs, \u001b[39m*\u001b[39m\u001b[39m*\u001b[39mkwargs):\n\u001b[0;32m---> 94\u001b[0m     result \u001b[39m=\u001b[39m draw(artist, renderer, \u001b[39m*\u001b[39margs, \u001b[39m*\u001b[39m\u001b[39m*\u001b[39mkwargs)\n\u001b[1;32m     95\u001b[0m     \u001b[39mif\u001b[39;00m renderer\u001b[39m.\u001b[39m_rasterizing:\n\u001b[1;32m     96\u001b[0m         renderer\u001b[39m.\u001b[39mstop_rasterizing()\n",
      "File \u001b[0;32m~/Programs/anaconda3/envs/testing/lib/python3.12/site-packages/matplotlib/artist.py:71\u001b[0m, in \u001b[0;36mallow_rasterization.<locals>.draw_wrapper\u001b[0;34m(artist, renderer)\u001b[0m\n\u001b[1;32m     68\u001b[0m     \u001b[39mif\u001b[39;00m artist\u001b[39m.\u001b[39mget_agg_filter() \u001b[39mis\u001b[39;00m \u001b[39mnot\u001b[39;00m \u001b[39mNone\u001b[39;00m:\n\u001b[1;32m     69\u001b[0m         renderer\u001b[39m.\u001b[39mstart_filter()\n\u001b[0;32m---> 71\u001b[0m     \u001b[39mreturn\u001b[39;00m draw(artist, renderer)\n\u001b[1;32m     72\u001b[0m \u001b[39mfinally\u001b[39;00m:\n\u001b[1;32m     73\u001b[0m     \u001b[39mif\u001b[39;00m artist\u001b[39m.\u001b[39mget_agg_filter() \u001b[39mis\u001b[39;00m \u001b[39mnot\u001b[39;00m \u001b[39mNone\u001b[39;00m:\n",
      "File \u001b[0;32m~/Programs/anaconda3/envs/testing/lib/python3.12/site-packages/matplotlib/figure.py:3257\u001b[0m, in \u001b[0;36mFigure.draw\u001b[0;34m(self, renderer)\u001b[0m\n\u001b[1;32m   3254\u001b[0m             \u001b[39m# ValueError can occur when resizing a window.\u001b[39;00m\n\u001b[1;32m   3256\u001b[0m     \u001b[39mself\u001b[39m\u001b[39m.\u001b[39mpatch\u001b[39m.\u001b[39mdraw(renderer)\n\u001b[0;32m-> 3257\u001b[0m     mimage\u001b[39m.\u001b[39m_draw_list_compositing_images(\n\u001b[1;32m   3258\u001b[0m         renderer, \u001b[39mself\u001b[39m, artists, \u001b[39mself\u001b[39m\u001b[39m.\u001b[39msuppressComposite)\n\u001b[1;32m   3260\u001b[0m     renderer\u001b[39m.\u001b[39mclose_group(\u001b[39m'\u001b[39m\u001b[39mfigure\u001b[39m\u001b[39m'\u001b[39m)\n\u001b[1;32m   3261\u001b[0m \u001b[39mfinally\u001b[39;00m:\n",
      "File \u001b[0;32m~/Programs/anaconda3/envs/testing/lib/python3.12/site-packages/matplotlib/image.py:134\u001b[0m, in \u001b[0;36m_draw_list_compositing_images\u001b[0;34m(renderer, parent, artists, suppress_composite)\u001b[0m\n\u001b[1;32m    132\u001b[0m \u001b[39mif\u001b[39;00m not_composite \u001b[39mor\u001b[39;00m \u001b[39mnot\u001b[39;00m has_images:\n\u001b[1;32m    133\u001b[0m     \u001b[39mfor\u001b[39;00m a \u001b[39min\u001b[39;00m artists:\n\u001b[0;32m--> 134\u001b[0m         a\u001b[39m.\u001b[39mdraw(renderer)\n\u001b[1;32m    135\u001b[0m \u001b[39melse\u001b[39;00m:\n\u001b[1;32m    136\u001b[0m     \u001b[39m# Composite any adjacent images together\u001b[39;00m\n\u001b[1;32m    137\u001b[0m     image_group \u001b[39m=\u001b[39m []\n",
      "File \u001b[0;32m~/Programs/anaconda3/envs/testing/lib/python3.12/site-packages/matplotlib/artist.py:71\u001b[0m, in \u001b[0;36mallow_rasterization.<locals>.draw_wrapper\u001b[0;34m(artist, renderer)\u001b[0m\n\u001b[1;32m     68\u001b[0m     \u001b[39mif\u001b[39;00m artist\u001b[39m.\u001b[39mget_agg_filter() \u001b[39mis\u001b[39;00m \u001b[39mnot\u001b[39;00m \u001b[39mNone\u001b[39;00m:\n\u001b[1;32m     69\u001b[0m         renderer\u001b[39m.\u001b[39mstart_filter()\n\u001b[0;32m---> 71\u001b[0m     \u001b[39mreturn\u001b[39;00m draw(artist, renderer)\n\u001b[1;32m     72\u001b[0m \u001b[39mfinally\u001b[39;00m:\n\u001b[1;32m     73\u001b[0m     \u001b[39mif\u001b[39;00m artist\u001b[39m.\u001b[39mget_agg_filter() \u001b[39mis\u001b[39;00m \u001b[39mnot\u001b[39;00m \u001b[39mNone\u001b[39;00m:\n",
      "File \u001b[0;32m~/Programs/anaconda3/envs/testing/lib/python3.12/site-packages/matplotlib/axes/_base.py:3181\u001b[0m, in \u001b[0;36m_AxesBase.draw\u001b[0;34m(self, renderer)\u001b[0m\n\u001b[1;32m   3178\u001b[0m \u001b[39mif\u001b[39;00m artists_rasterized:\n\u001b[1;32m   3179\u001b[0m     _draw_rasterized(\u001b[39mself\u001b[39m\u001b[39m.\u001b[39mget_figure(root\u001b[39m=\u001b[39m\u001b[39mTrue\u001b[39;00m), artists_rasterized, renderer)\n\u001b[0;32m-> 3181\u001b[0m mimage\u001b[39m.\u001b[39m_draw_list_compositing_images(\n\u001b[1;32m   3182\u001b[0m     renderer, \u001b[39mself\u001b[39m, artists, \u001b[39mself\u001b[39m\u001b[39m.\u001b[39mget_figure(root\u001b[39m=\u001b[39m\u001b[39mTrue\u001b[39;00m)\u001b[39m.\u001b[39msuppressComposite)\n\u001b[1;32m   3184\u001b[0m renderer\u001b[39m.\u001b[39mclose_group(\u001b[39m'\u001b[39m\u001b[39maxes\u001b[39m\u001b[39m'\u001b[39m)\n\u001b[1;32m   3185\u001b[0m \u001b[39mself\u001b[39m\u001b[39m.\u001b[39mstale \u001b[39m=\u001b[39m \u001b[39mFalse\u001b[39;00m\n",
      "File \u001b[0;32m~/Programs/anaconda3/envs/testing/lib/python3.12/site-packages/matplotlib/image.py:134\u001b[0m, in \u001b[0;36m_draw_list_compositing_images\u001b[0;34m(renderer, parent, artists, suppress_composite)\u001b[0m\n\u001b[1;32m    132\u001b[0m \u001b[39mif\u001b[39;00m not_composite \u001b[39mor\u001b[39;00m \u001b[39mnot\u001b[39;00m has_images:\n\u001b[1;32m    133\u001b[0m     \u001b[39mfor\u001b[39;00m a \u001b[39min\u001b[39;00m artists:\n\u001b[0;32m--> 134\u001b[0m         a\u001b[39m.\u001b[39mdraw(renderer)\n\u001b[1;32m    135\u001b[0m \u001b[39melse\u001b[39;00m:\n\u001b[1;32m    136\u001b[0m     \u001b[39m# Composite any adjacent images together\u001b[39;00m\n\u001b[1;32m    137\u001b[0m     image_group \u001b[39m=\u001b[39m []\n",
      "File \u001b[0;32m~/Programs/anaconda3/envs/testing/lib/python3.12/site-packages/matplotlib/artist.py:71\u001b[0m, in \u001b[0;36mallow_rasterization.<locals>.draw_wrapper\u001b[0;34m(artist, renderer)\u001b[0m\n\u001b[1;32m     68\u001b[0m     \u001b[39mif\u001b[39;00m artist\u001b[39m.\u001b[39mget_agg_filter() \u001b[39mis\u001b[39;00m \u001b[39mnot\u001b[39;00m \u001b[39mNone\u001b[39;00m:\n\u001b[1;32m     69\u001b[0m         renderer\u001b[39m.\u001b[39mstart_filter()\n\u001b[0;32m---> 71\u001b[0m     \u001b[39mreturn\u001b[39;00m draw(artist, renderer)\n\u001b[1;32m     72\u001b[0m \u001b[39mfinally\u001b[39;00m:\n\u001b[1;32m     73\u001b[0m     \u001b[39mif\u001b[39;00m artist\u001b[39m.\u001b[39mget_agg_filter() \u001b[39mis\u001b[39;00m \u001b[39mnot\u001b[39;00m \u001b[39mNone\u001b[39;00m:\n",
      "File \u001b[0;32m~/Programs/anaconda3/envs/testing/lib/python3.12/site-packages/matplotlib/image.py:599\u001b[0m, in \u001b[0;36m_ImageBase.draw\u001b[0;34m(self, renderer)\u001b[0m\n\u001b[1;32m    597\u001b[0m         renderer\u001b[39m.\u001b[39mdraw_image(gc, l, b, im, trans)\n\u001b[1;32m    598\u001b[0m \u001b[39melse\u001b[39;00m:\n\u001b[0;32m--> 599\u001b[0m     im, l, b, trans \u001b[39m=\u001b[39m \u001b[39mself\u001b[39m\u001b[39m.\u001b[39mmake_image(\n\u001b[1;32m    600\u001b[0m         renderer, renderer\u001b[39m.\u001b[39mget_image_magnification())\n\u001b[1;32m    601\u001b[0m     \u001b[39mif\u001b[39;00m im \u001b[39mis\u001b[39;00m \u001b[39mnot\u001b[39;00m \u001b[39mNone\u001b[39;00m:\n\u001b[1;32m    602\u001b[0m         renderer\u001b[39m.\u001b[39mdraw_image(gc, l, b, im)\n",
      "File \u001b[0;32m~/Programs/anaconda3/envs/testing/lib/python3.12/site-packages/matplotlib/image.py:902\u001b[0m, in \u001b[0;36mAxesImage.make_image\u001b[0;34m(self, renderer, magnification, unsampled)\u001b[0m\n\u001b[1;32m    899\u001b[0m transformed_bbox \u001b[39m=\u001b[39m TransformedBbox(bbox, trans)\n\u001b[1;32m    900\u001b[0m clip \u001b[39m=\u001b[39m ((\u001b[39mself\u001b[39m\u001b[39m.\u001b[39mget_clip_box() \u001b[39mor\u001b[39;00m \u001b[39mself\u001b[39m\u001b[39m.\u001b[39maxes\u001b[39m.\u001b[39mbbox) \u001b[39mif\u001b[39;00m \u001b[39mself\u001b[39m\u001b[39m.\u001b[39mget_clip_on()\n\u001b[1;32m    901\u001b[0m         \u001b[39melse\u001b[39;00m \u001b[39mself\u001b[39m\u001b[39m.\u001b[39mget_figure(root\u001b[39m=\u001b[39m\u001b[39mTrue\u001b[39;00m)\u001b[39m.\u001b[39mbbox)\n\u001b[0;32m--> 902\u001b[0m \u001b[39mreturn\u001b[39;00m \u001b[39mself\u001b[39m\u001b[39m.\u001b[39m_make_image(\u001b[39mself\u001b[39m\u001b[39m.\u001b[39m_A, bbox, transformed_bbox, clip,\n\u001b[1;32m    903\u001b[0m                         magnification, unsampled\u001b[39m=\u001b[39munsampled)\n",
      "File \u001b[0;32m~/Programs/anaconda3/envs/testing/lib/python3.12/site-packages/matplotlib/image.py:503\u001b[0m, in \u001b[0;36m_ImageBase._make_image\u001b[0;34m(self, A, in_bbox, out_bbox, clip_bbox, magnification, unsampled, round_to_pixel_border)\u001b[0m\n\u001b[1;32m    501\u001b[0m \u001b[39mif\u001b[39;00m A\u001b[39m.\u001b[39mndim \u001b[39m==\u001b[39m \u001b[39m2\u001b[39m:  \u001b[39m# interpolation_stage = 'rgba'\u001b[39;00m\n\u001b[1;32m    502\u001b[0m     \u001b[39mself\u001b[39m\u001b[39m.\u001b[39mnorm\u001b[39m.\u001b[39mautoscale_None(A)\n\u001b[0;32m--> 503\u001b[0m     A \u001b[39m=\u001b[39m \u001b[39mself\u001b[39m\u001b[39m.\u001b[39mto_rgba(A)\n\u001b[1;32m    504\u001b[0m alpha \u001b[39m=\u001b[39m \u001b[39mself\u001b[39m\u001b[39m.\u001b[39m_get_scalar_alpha()\n\u001b[1;32m    505\u001b[0m \u001b[39mif\u001b[39;00m A\u001b[39m.\u001b[39mshape[\u001b[39m2\u001b[39m] \u001b[39m==\u001b[39m \u001b[39m3\u001b[39m:\n\u001b[1;32m    506\u001b[0m     \u001b[39m# No need to resample alpha or make a full array; NumPy will expand\u001b[39;00m\n\u001b[1;32m    507\u001b[0m     \u001b[39m# this out and cast to uint8 if necessary when it's assigned to the\u001b[39;00m\n\u001b[1;32m    508\u001b[0m     \u001b[39m# alpha channel below.\u001b[39;00m\n",
      "File \u001b[0;32m~/Programs/anaconda3/envs/testing/lib/python3.12/site-packages/matplotlib/colorizer.py:356\u001b[0m, in \u001b[0;36m_ColorizerInterface.to_rgba\u001b[0;34m(self, x, alpha, bytes, norm)\u001b[0m\n\u001b[1;32m    326\u001b[0m \u001b[39mdef\u001b[39;00m \u001b[39mto_rgba\u001b[39m(\u001b[39mself\u001b[39m, x, alpha\u001b[39m=\u001b[39m\u001b[39mNone\u001b[39;00m, \u001b[39mbytes\u001b[39m\u001b[39m=\u001b[39m\u001b[39mFalse\u001b[39;00m, norm\u001b[39m=\u001b[39m\u001b[39mTrue\u001b[39;00m):\n\u001b[1;32m    327\u001b[0m \u001b[39m    \u001b[39m\u001b[39m\"\"\"\u001b[39;00m\n\u001b[1;32m    328\u001b[0m \u001b[39m    Return a normalized RGBA array corresponding to *x*.\u001b[39;00m\n\u001b[1;32m    329\u001b[0m \n\u001b[0;32m   (...)\u001b[0m\n\u001b[1;32m    354\u001b[0m \n\u001b[1;32m    355\u001b[0m \u001b[39m    \"\"\"\u001b[39;00m\n\u001b[0;32m--> 356\u001b[0m     \u001b[39mreturn\u001b[39;00m \u001b[39mself\u001b[39m\u001b[39m.\u001b[39m_colorizer\u001b[39m.\u001b[39mto_rgba(x, alpha\u001b[39m=\u001b[39malpha, \u001b[39mbytes\u001b[39m\u001b[39m=\u001b[39m\u001b[39mbytes\u001b[39m, norm\u001b[39m=\u001b[39mnorm)\n",
      "File \u001b[0;32m~/Programs/anaconda3/envs/testing/lib/python3.12/site-packages/matplotlib/colorizer.py:158\u001b[0m, in \u001b[0;36mColorizer.to_rgba\u001b[0;34m(self, x, alpha, bytes, norm)\u001b[0m\n\u001b[1;32m    156\u001b[0m \u001b[39mif\u001b[39;00m norm:\n\u001b[1;32m    157\u001b[0m     x \u001b[39m=\u001b[39m \u001b[39mself\u001b[39m\u001b[39m.\u001b[39mnorm(x)\n\u001b[0;32m--> 158\u001b[0m rgba \u001b[39m=\u001b[39m \u001b[39mself\u001b[39m\u001b[39m.\u001b[39mcmap(x, alpha\u001b[39m=\u001b[39malpha, \u001b[39mbytes\u001b[39m\u001b[39m=\u001b[39m\u001b[39mbytes\u001b[39m)\n\u001b[1;32m    159\u001b[0m \u001b[39mreturn\u001b[39;00m rgba\n",
      "File \u001b[0;32m~/Programs/anaconda3/envs/testing/lib/python3.12/site-packages/matplotlib/colors.py:739\u001b[0m, in \u001b[0;36mColormap.__call__\u001b[0;34m(self, X, alpha, bytes)\u001b[0m\n\u001b[1;32m    716\u001b[0m \u001b[39mdef\u001b[39;00m \u001b[39m__call__\u001b[39m(\u001b[39mself\u001b[39m, X, alpha\u001b[39m=\u001b[39m\u001b[39mNone\u001b[39;00m, \u001b[39mbytes\u001b[39m\u001b[39m=\u001b[39m\u001b[39mFalse\u001b[39;00m):\n\u001b[1;32m    717\u001b[0m \u001b[39m    \u001b[39m\u001b[39mr\u001b[39m\u001b[39m\"\"\"\u001b[39;00m\n\u001b[1;32m    718\u001b[0m \u001b[39m    Parameters\u001b[39;00m\n\u001b[1;32m    719\u001b[0m \u001b[39m    ----------\u001b[39;00m\n\u001b[0;32m   (...)\u001b[0m\n\u001b[1;32m    737\u001b[0m \u001b[39m    RGBA values with a shape of ``X.shape + (4, )``.\u001b[39;00m\n\u001b[1;32m    738\u001b[0m \u001b[39m    \"\"\"\u001b[39;00m\n\u001b[0;32m--> 739\u001b[0m     rgba, mask \u001b[39m=\u001b[39m \u001b[39mself\u001b[39m\u001b[39m.\u001b[39m_get_rgba_and_mask(X, alpha\u001b[39m=\u001b[39malpha, \u001b[39mbytes\u001b[39m\u001b[39m=\u001b[39m\u001b[39mbytes\u001b[39m)\n\u001b[1;32m    740\u001b[0m     \u001b[39mif\u001b[39;00m \u001b[39mnot\u001b[39;00m np\u001b[39m.\u001b[39miterable(X):\n\u001b[1;32m    741\u001b[0m         rgba \u001b[39m=\u001b[39m \u001b[39mtuple\u001b[39m(rgba)\n",
      "File \u001b[0;32m~/Programs/anaconda3/envs/testing/lib/python3.12/site-packages/matplotlib/colors.py:788\u001b[0m, in \u001b[0;36mColormap._get_rgba_and_mask\u001b[0;34m(self, X, alpha, bytes)\u001b[0m\n\u001b[1;32m    785\u001b[0m mask_bad \u001b[39m=\u001b[39m X\u001b[39m.\u001b[39mmask \u001b[39mif\u001b[39;00m np\u001b[39m.\u001b[39mma\u001b[39m.\u001b[39mis_masked(X) \u001b[39melse\u001b[39;00m np\u001b[39m.\u001b[39misnan(xa)\n\u001b[1;32m    786\u001b[0m \u001b[39mwith\u001b[39;00m np\u001b[39m.\u001b[39merrstate(invalid\u001b[39m=\u001b[39m\u001b[39m\"\u001b[39m\u001b[39mignore\u001b[39m\u001b[39m\"\u001b[39m):\n\u001b[1;32m    787\u001b[0m     \u001b[39m# We need this cast for unsigned ints as well as floats\u001b[39;00m\n\u001b[0;32m--> 788\u001b[0m     xa \u001b[39m=\u001b[39m xa\u001b[39m.\u001b[39mastype(\u001b[39mint\u001b[39m)\n\u001b[1;32m    789\u001b[0m xa[mask_under] \u001b[39m=\u001b[39m \u001b[39mself\u001b[39m\u001b[39m.\u001b[39m_i_under\n\u001b[1;32m    790\u001b[0m xa[mask_over] \u001b[39m=\u001b[39m \u001b[39mself\u001b[39m\u001b[39m.\u001b[39m_i_over\n",
      "\u001b[0;31mKeyboardInterrupt\u001b[0m: "
     ]
    },
    {
     "data": {
      "image/png": "[encoded data removed]",
      "text/plain": [
       "<Figure size 640x480 with 1 Axes>"
      ]
     },
     "metadata": {},
     "output_type": "display_data"
    }
   ],
   "source": [
    "shadowgrapher = diag.Shadowgraphy(lwl, rf)\n",
    "shadowgrapher.single_lens_solve()\n",
    "shadowgrapher.histogram(bin_scale = 1, clear_mem = False)\n",
    "\n",
    "plt.imshow(shadowgrapher.H, cmap = 'hot', interpolation = 'nearest', clim = (0.5, 1))\n",
    "\n",
    "print(\"Garbage collection count:\", gc.collect())"
   ]
  },
  {
   "cell_type": "code",
   "execution_count": null,
   "metadata": {},
   "outputs": [
    {
     "name": "stdout",
     "output_type": "stream",
     "text": [
      "\n",
      "rf size expected: (992, 992)\n",
      "rf after clearing nan's: (620, 620)\n",
      "Garbage collection count: 3133\n"
     ]
    },
    {
     "data": {
      "image/png": "[encoded data removed]",
      "text/plain": [
       "<Figure size 640x480 with 1 Axes>"
      ]
     },
     "metadata": {},
     "output_type": "display_data"
    }
   ],
   "source": [
    "schlierener = diag.Schlieren(lwl, rf)\n",
    "schlierener.DF_solve()\n",
    "schlierener.histogram(bin_scale = 1, clear_mem = True)\n",
    "\n",
    "plt.imshow(schlierener.H, cmap = 'hot', interpolation = 'nearest', clim = (0.5, 1))\n",
    "\n",
    "print(\"Garbage collection count:\", gc.collect())"
   ]
  },
  {
   "cell_type": "markdown",
   "metadata": {},
   "source": [
    "Synthetic Interferometry - This requires some extra steps in the ray tracing to include information on the phase and electric field values"
   ]
  },
  {
   "cell_type": "code",
   "execution_count": null,
   "metadata": {},
   "outputs": [
    {
     "name": "stdout",
     "output_type": "stream",
     "text": [
      "\n",
      "Initialising jax...\n"
     ]
    },
    {
     "ename": "AssertionError",
     "evalue": "jax already imported: you must restart your runtime",
     "output_type": "error",
     "traceback": [
      "\u001b[0;31m---------------------------------------------------------------------------\u001b[0m",
      "\u001b[0;31mAssertionError\u001b[0m                            Traceback (most recent call last)",
      "Cell \u001b[0;32mIn[8], line 19\u001b[0m\n\u001b[1;32m      1\u001b[0m \u001b[38;5;66;03m# No need to change the domain (now that code has been seperated out in restructure)\u001b[39;00m\n\u001b[1;32m      2\u001b[0m \n\u001b[1;32m      3\u001b[0m \n\u001b[0;32m   (...)\u001b[0m\n\u001b[1;32m     17\u001b[0m \n\u001b[1;32m     18\u001b[0m \u001b[38;5;66;03m# solve ray trace\u001b[39;00m\n\u001b[0;32m---> 19\u001b[0m tracer \u001b[38;5;241m=\u001b[39m p\u001b[38;5;241m.\u001b[39mPropagator(domain, beam_definition\u001b[38;5;241m.\u001b[39ms0, probing_direction \u001b[38;5;241m=\u001b[39m probing_direction, inv_brems \u001b[38;5;241m=\u001b[39m \u001b[38;5;28;01mFalse\u001b[39;00m, phaseshift \u001b[38;5;241m=\u001b[39m \u001b[38;5;28;01mTrue\u001b[39;00m)\n\u001b[1;32m     21\u001b[0m tracer\u001b[38;5;241m.\u001b[39mcalc_dndr()\n\u001b[1;32m     22\u001b[0m rf, Jf \u001b[38;5;241m=\u001b[39m tracer\u001b[38;5;241m.\u001b[39msolve(parallelise \u001b[38;5;241m=\u001b[39m \u001b[38;5;28;01mFalse\u001b[39;00m, jitted \u001b[38;5;241m=\u001b[39m \u001b[38;5;28;01mFalse\u001b[39;00m, return_E \u001b[38;5;241m=\u001b[39m \u001b[38;5;28;01mTrue\u001b[39;00m)\n",
      "File \u001b[0;32m~/Work/UROP_ICL_Internship/synthPy/examples/notebooks/../../src/simulator/propagator.py:48\u001b[0m, in \u001b[0;36mPropagator.__init__\u001b[0;34m(self, ScalarDomain, s0, probing_direction, inv_brems, phaseshift, parallelise)\u001b[0m\n\u001b[1;32m     43\u001b[0m \u001b[39mself\u001b[39m\u001b[39m.\u001b[39mcore_count \u001b[39m=\u001b[39m cpu_count()\n\u001b[1;32m     45\u001b[0m \u001b[39m### THIS NEEDS TO BE SET BEFORE JAX IS INITIALISED IN ANY WAY, INCLUDING IMPORTING\u001b[39;00m\n\u001b[1;32m     46\u001b[0m \u001b[39m# - XLA_FLAGS are read WHEN jax is IMPORTED\u001b[39;00m\n\u001b[0;32m---> 48\u001b[0m \u001b[39massert\u001b[39;00m \u001b[39m\"\u001b[39m\u001b[39mjax\u001b[39m\u001b[39m\"\u001b[39m \u001b[39mnot\u001b[39;00m \u001b[39min\u001b[39;00m sys\u001b[39m.\u001b[39mmodules, \u001b[39m\"\u001b[39m\u001b[39mjax already imported: you must restart your runtime\u001b[39m\u001b[39m\"\u001b[39m\n\u001b[1;32m     49\u001b[0m \u001b[39m# bring up issue to see if it can be made a on the run configurable variable\u001b[39;00m\n\u001b[1;32m     50\u001b[0m \u001b[39m#jax.config.update('xla_force_host_platform_device_count', self.core_count)\u001b[39;00m\n\u001b[1;32m     51\u001b[0m os\u001b[39m.\u001b[39menviron[\u001b[39m'\u001b[39m\u001b[39mXLA_FLAGS\u001b[39m\u001b[39m'\u001b[39m] \u001b[39m=\u001b[39m \u001b[39m\"\u001b[39m\u001b[39m--xla_force_host_platform_device_count=\u001b[39m\u001b[39m\"\u001b[39m \u001b[39m+\u001b[39m \u001b[39mstr\u001b[39m(\u001b[39mself\u001b[39m\u001b[39m.\u001b[39mcore_count)\n",
      "\u001b[0;31mAssertionError\u001b[0m: jax already imported: you must restart your runtime"
     ]
    }
   ],
   "source": [
    "# No need to change the domain (now that code has been seperated out in restructure)\n",
    "\n",
    "\n",
    "\n",
    "# load some external pvti\n",
    "\n",
    "# import utils.handle_filetypes as load\n",
    "# ne, dim, spacing = load.pvti_readin(filename)\n",
    "\n",
    "# or load a test distribution\n",
    "\n",
    "\n",
    "\n",
    "# initialise beam\n",
    "\n",
    "\n",
    "\n",
    "# solve ray trace\n",
    "tracer = p.Propagator(domain, beam_definition.s0, probing_direction = probing_direction, inv_brems = False, phaseshift = True)\n",
    "\n",
    "tracer.calc_dndr()\n",
    "rf, Jf = tracer.solve(parallelise = False, jitted = False, return_E = True)\n",
    "\n",
    "n_fringes = 10\n",
    "deg = 10 #adjust number of fringes and tilt in degrees from the vertical exis\n",
    "\n",
    "interferometrer = diag.Interferometry(lwl, rf, Jf)\n",
    "interferometrer.interfere_ref_beam(n_fringes, deg)\n",
    "\n",
    "pattern = diag.Interferometry(lwl, rf, Jf)\n",
    "#pattern = interferometrer\n",
    "pattern.two_lens_solve()\n",
    "pattern.interferogram(bin_scale = 1, clear_mem = True) #use interferogram instead of histogram\n",
    "\n",
    "#get interferogram histogram with sh.H\n",
    "plt.imshow(pattern.H, cmap = 'hot', interpolation = 'nearest')"
   ]
  },
  {
   "cell_type": "code",
   "execution_count": null,
   "metadata": {},
   "outputs": [],
   "source": []
  }
 ],
 "metadata": {
  "kernelspec": {
   "display_name": "Python 3.12.5 ('testing')",
   "language": "python",
   "name": "python3"
  },
  "language_info": {
   "codemirror_mode": {
    "name": "ipython",
    "version": 3
   },
   "file_extension": ".py",
   "mimetype": "text/x-python",
   "name": "python",
   "nbconvert_exporter": "python",
   "pygments_lexer": "ipython3",
   "version": "3.12.5"
  },
  "vscode": {
   "interpreter": {
    "hash": "de6d706a21dde6ee649de53d1c8cba9d9f8e9ee05a3542c9798512c888fa8306"
   }
  }
 },
 "nbformat": 4,
 "nbformat_minor": 4
}
