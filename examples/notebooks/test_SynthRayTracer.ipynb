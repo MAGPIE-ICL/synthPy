{
 "cells": [
  {
   "cell_type": "markdown",
   "metadata": {},
   "source": [
    "### Test - Synthetic Diagnostic + Interferometry\n",
    "\n",
    "</b> Author:   </b>  Louis Evans     </br>\n",
    "</b> Reviewer: </b>  Stefano Merlini"
   ]
  },
  {
   "cell_type": "markdown",
   "metadata": {},
   "source": [
    "### Import relevant files:"
   ]
  },
  {
   "cell_type": "code",
   "execution_count": 1,
   "metadata": {},
   "outputs": [
    {
     "data": {
      "text/plain": [
       "<module 'utils' from 'c:\\\\Users\\\\samma\\\\programming\\\\synthPy\\\\examples\\\\notebooks\\\\../../synthPy_restructured\\\\utils.py'>"
      ]
     },
     "execution_count": 1,
     "metadata": {},
     "output_type": "execute_result"
    }
   ],
   "source": [
    "import numpy as np\n",
    "import matplotlib.pyplot as plt\n",
    "import vtk\n",
    "from vtk.util import numpy_support as vtk_np\n",
    "import matplotlib.pyplot as plt\n",
    "\n",
    "import sys\n",
    "\n",
    "#add path\n",
    "sys.path.insert(0, '../../synthPy_restructured')     # import path/to/synthpy\n",
    "\n",
    "import beam as beam_initialiser\n",
    "import diagnostics as diag\n",
    "import domain as d\n",
    "import propagator as p\n",
    "#import propagator_backup_non_jax as p\n",
    "import utils\n",
    "\n",
    "import importlib\n",
    "importlib.reload(beam_initialiser)\n",
    "importlib.reload(diag)\n",
    "importlib.reload(d)\n",
    "importlib.reload(p)\n",
    "importlib.reload(utils)"
   ]
  },
  {
   "cell_type": "markdown",
   "metadata": {},
   "source": [
    "To use the ray tracer, first create a 'domain', load the domain with an electron distribution, calculate electron gradients, initialise a beam, and solve!\n",
    "\\\n",
    "\\\n",
    "The output can either be plotted, or passed further through ray optics for synthetic diagnostics"
   ]
  },
  {
   "cell_type": "code",
   "execution_count": 2,
   "metadata": {},
   "outputs": [],
   "source": [
    "# define some extent, the domain should be distributed as +extent to -extent, does not need to be cubic\n",
    "extent_x = 5e-3\n",
    "extent_y = 5e-3\n",
    "extent_z = 10e-3\n",
    "\n",
    "n_cells = 1000\n",
    "\n",
    "x = np.linspace(-extent_x, extent_x, n_cells)\n",
    "y = np.linspace(-extent_y, extent_y, n_cells)\n",
    "z = np.linspace(-extent_z, extent_z, n_cells)\n",
    "\n",
    "probing_extent = extent_z\n",
    "probing_direction = 'z'\n",
    "\n",
    "lengths = 2 * np.array([extent_x, extent_y, extent_z])\n",
    "\n",
    "#domain = d.ScalarDomain(x = x, y = y, z = z, extent= probing_extent, probing_direction = probing_direction)     # create domain\n",
    "# Much simpler domain function, no longer needlessly takes in beam values, they are fully seperated\n",
    "domain = d.ScalarDomain(lengths, n_cells) # B_on = False by default"
   ]
  },
  {
   "cell_type": "markdown",
   "metadata": {},
   "source": [
    "Load some domain distribution"
   ]
  },
  {
   "cell_type": "code",
   "execution_count": 3,
   "metadata": {},
   "outputs": [],
   "source": [
    "# load some external pvti\n",
    "# import utils.handle_filetypes as load\n",
    "# ne, dim, spacing = load.pvti_readin(filename)\n",
    "# or load a test distribution\n",
    "\n",
    "#domain.ne = np.full((100, 100, 100), 1e24)\n",
    "domain.test_exponential_cos()\n",
    "#domain.test_slab(0.000001, 1e24)"
   ]
  },
  {
   "cell_type": "markdown",
   "metadata": {},
   "source": [
    "Solve gradients, initialise beam, and solve"
   ]
  },
  {
   "cell_type": "code",
   "execution_count": null,
   "metadata": {},
   "outputs": [
    {
     "name": "stdout",
     "output_type": "stream",
     "text": [
      "\n",
      "Available devices: [CpuDevice(id=0)]\n",
      "\n",
      "jax compilation of solver took: 0.0017893314361572266\n",
      "Running device: cpu, with: 4 cores.\n"
     ]
    },
    {
     "name": "stderr",
     "output_type": "stream",
     "text": [
      "c:\\Users\\samma\\AppData\\Local\\Programs\\Python\\Python313\\Lib\\site-packages\\jax\\_src\\interpreters\\mlir.py:1135: UserWarning: A large amount of constants were captured during lowering (12.00GB total). If this is intentional, disable this warning by setting JAX_CAPTURED_CONSTANTS_WARN_BYTES=-1. To obtain a report of where these constants were encountered, set JAX_CAPTURED_CONSTANTS_REPORT_FRAMES=-1.\n",
      "  warnings.warn(message)\n"
     ]
    },
    {
     "ename": "MemoryError",
     "evalue": "bad allocation",
     "output_type": "error",
     "traceback": [
      "\u001b[31m---------------------------------------------------------------------------\u001b[39m",
      "\u001b[31mMemoryError\u001b[39m                               Traceback (most recent call last)",
      "\u001b[36mCell\u001b[39m\u001b[36m \u001b[39m\u001b[32mIn[4]\u001b[39m\u001b[32m, line 16\u001b[39m\n\u001b[32m     14\u001b[39m \u001b[38;5;66;03m# solve ray trace\u001b[39;00m\n\u001b[32m     15\u001b[39m tracer.calc_dndr()\n\u001b[32m---> \u001b[39m\u001b[32m16\u001b[39m final_rays = \u001b[43mtracer\u001b[49m\u001b[43m.\u001b[49m\u001b[43msolve\u001b[49m\u001b[43m(\u001b[49m\u001b[43mparallelise\u001b[49m\u001b[43m \u001b[49m\u001b[43m=\u001b[49m\u001b[43m \u001b[49m\u001b[38;5;28;43;01mTrue\u001b[39;49;00m\u001b[43m,\u001b[49m\u001b[43m \u001b[49m\u001b[43mjitted\u001b[49m\u001b[43m \u001b[49m\u001b[43m=\u001b[49m\u001b[43m \u001b[49m\u001b[38;5;28;43;01mTrue\u001b[39;49;00m\u001b[43m)\u001b[49m\n\u001b[32m     17\u001b[39m \u001b[38;5;66;03m#final_rays, final_rays_to_Jonesvector = tracer.Beam.rf, tracer.Beam.Jf\u001b[39;00m\n\u001b[32m     18\u001b[39m \u001b[38;5;28mprint\u001b[39m(\u001b[33m\"\u001b[39m\u001b[38;5;130;01m\\n\u001b[39;00m\u001b[33mCompleted ray trace in\u001b[39m\u001b[33m\"\u001b[39m, np.round(tracer.duration, \u001b[32m3\u001b[39m), \u001b[33m\"\u001b[39m\u001b[33mseconds.\u001b[39m\u001b[33m\"\u001b[39m)\n",
      "\u001b[36mFile \u001b[39m\u001b[32mc:\\Users\\samma\\programming\\synthPy\\examples\\notebooks\\../../synthPy_restructured\\propagator.py:297\u001b[39m, in \u001b[36mPropagator.solve\u001b[39m\u001b[34m(self, return_E, parallelise, jitted)\u001b[39m\n\u001b[32m    292\u001b[39m args = (\u001b[38;5;28mself\u001b[39m, parallelise) \u001b[38;5;66;03m# passed args must be hashable to be made static for jax.jit, tuple is hashable, array & dict are not\u001b[39;00m\n\u001b[32m    294\u001b[39m \u001b[38;5;66;03m# pass s0[:, i] for each ray via a jax.vmap for parallelisation\u001b[39;00m\n\u001b[32m    295\u001b[39m \u001b[38;5;66;03m# transposed as jax.vmap() expects form of [batch_idx, items] not [items, batch_idx]\u001b[39;00m\n\u001b[32m    296\u001b[39m \u001b[38;5;66;03m# remove unnecessary static arguments to increase speed and reduce likelihood of unexpected behaviours\u001b[39;00m\n\u001b[32m--> \u001b[39m\u001b[32m297\u001b[39m sol = \u001b[43mjax\u001b[49m\u001b[43m.\u001b[49m\u001b[43mvmap\u001b[49m\u001b[43m(\u001b[49m\u001b[38;5;28;43;01mlambda\u001b[39;49;00m\u001b[43m \u001b[49m\u001b[43ms\u001b[49m\u001b[43m:\u001b[49m\u001b[43m \u001b[49m\u001b[43mODE_solve\u001b[49m\u001b[43m(\u001b[49m\u001b[43ms\u001b[49m\u001b[43m,\u001b[49m\u001b[43m \u001b[49m\u001b[43margs\u001b[49m\u001b[43m)\u001b[49m\u001b[43m)\u001b[49m\u001b[43m(\u001b[49m\u001b[43ms0\u001b[49m\u001b[43m.\u001b[49m\u001b[43mT\u001b[49m\u001b[43m)\u001b[49m\n\u001b[32m    299\u001b[39m jax.debug.visualize_array_sharding(sol.ys[:, -\u001b[32m1\u001b[39m, :])\n\u001b[32m    301\u001b[39m path = \u001b[33m\"\u001b[39m\u001b[33m../../evaluation/memory_benchmarks/memory-domain\u001b[39m\u001b[33m\"\u001b[39m + \u001b[38;5;28mstr\u001b[39m(s0.shape[\u001b[32m1\u001b[39m]) + \u001b[33m\"\u001b[39m\u001b[33m_rays-\u001b[39m\u001b[33m\"\u001b[39m + datetime.now().strftime(\u001b[33m\"\u001b[39m\u001b[33m%\u001b[39m\u001b[33mY\u001b[39m\u001b[33m%\u001b[39m\u001b[33mm\u001b[39m\u001b[38;5;132;01m%d\u001b[39;00m\u001b[33m-\u001b[39m\u001b[33m%\u001b[39m\u001b[33mH\u001b[39m\u001b[33m%\u001b[39m\u001b[33mM\u001b[39m\u001b[33m%\u001b[39m\u001b[33mS\u001b[39m\u001b[33m\"\u001b[39m) + \u001b[33m\"\u001b[39m\u001b[33m.prof\u001b[39m\u001b[33m\"\u001b[39m\n",
      "    \u001b[31m[... skipping hidden 7 frame]\u001b[39m\n",
      "\u001b[36mFile \u001b[39m\u001b[32mc:\\Users\\samma\\programming\\synthPy\\examples\\notebooks\\../../synthPy_restructured\\propagator.py:297\u001b[39m, in \u001b[36mPropagator.solve.<locals>.<lambda>\u001b[39m\u001b[34m(s)\u001b[39m\n\u001b[32m    292\u001b[39m args = (\u001b[38;5;28mself\u001b[39m, parallelise) \u001b[38;5;66;03m# passed args must be hashable to be made static for jax.jit, tuple is hashable, array & dict are not\u001b[39;00m\n\u001b[32m    294\u001b[39m \u001b[38;5;66;03m# pass s0[:, i] for each ray via a jax.vmap for parallelisation\u001b[39;00m\n\u001b[32m    295\u001b[39m \u001b[38;5;66;03m# transposed as jax.vmap() expects form of [batch_idx, items] not [items, batch_idx]\u001b[39;00m\n\u001b[32m    296\u001b[39m \u001b[38;5;66;03m# remove unnecessary static arguments to increase speed and reduce likelihood of unexpected behaviours\u001b[39;00m\n\u001b[32m--> \u001b[39m\u001b[32m297\u001b[39m sol = jax.vmap(\u001b[38;5;28;01mlambda\u001b[39;00m s: \u001b[43mODE_solve\u001b[49m\u001b[43m(\u001b[49m\u001b[43ms\u001b[49m\u001b[43m,\u001b[49m\u001b[43m \u001b[49m\u001b[43margs\u001b[49m\u001b[43m)\u001b[49m)(s0.T)\n\u001b[32m    299\u001b[39m jax.debug.visualize_array_sharding(sol.ys[:, -\u001b[32m1\u001b[39m, :])\n\u001b[32m    301\u001b[39m path = \u001b[33m\"\u001b[39m\u001b[33m../../evaluation/memory_benchmarks/memory-domain\u001b[39m\u001b[33m\"\u001b[39m + \u001b[38;5;28mstr\u001b[39m(s0.shape[\u001b[32m1\u001b[39m]) + \u001b[33m\"\u001b[39m\u001b[33m_rays-\u001b[39m\u001b[33m\"\u001b[39m + datetime.now().strftime(\u001b[33m\"\u001b[39m\u001b[33m%\u001b[39m\u001b[33mY\u001b[39m\u001b[33m%\u001b[39m\u001b[33mm\u001b[39m\u001b[38;5;132;01m%d\u001b[39;00m\u001b[33m-\u001b[39m\u001b[33m%\u001b[39m\u001b[33mH\u001b[39m\u001b[33m%\u001b[39m\u001b[33mM\u001b[39m\u001b[33m%\u001b[39m\u001b[33mS\u001b[39m\u001b[33m\"\u001b[39m) + \u001b[33m\"\u001b[39m\u001b[33m.prof\u001b[39m\u001b[33m\"\u001b[39m\n",
      "    \u001b[31m[... skipping hidden 23 frame]\u001b[39m\n",
      "\u001b[36mFile \u001b[39m\u001b[32mc:\\Users\\samma\\AppData\\Local\\Programs\\Python\\Python313\\Lib\\site-packages\\jax\\_src\\compiler.py:376\u001b[39m, in \u001b[36mbackend_compile_and_load\u001b[39m\u001b[34m(backend, module, executable_devices, options, host_callbacks)\u001b[39m\n\u001b[32m    374\u001b[39m \u001b[38;5;28;01melse\u001b[39;00m:\n\u001b[32m    375\u001b[39m   \u001b[38;5;28;01mif\u001b[39;00m host_callbacks:\n\u001b[32m--> \u001b[39m\u001b[32m376\u001b[39m     \u001b[38;5;28;01mreturn\u001b[39;00m \u001b[43mbackend\u001b[49m\u001b[43m.\u001b[49m\u001b[43mcompile_and_load\u001b[49m\u001b[43m(\u001b[49m\n\u001b[32m    377\u001b[39m \u001b[43m        \u001b[49m\u001b[43mbuilt_c\u001b[49m\u001b[43m,\u001b[49m\n\u001b[32m    378\u001b[39m \u001b[43m        \u001b[49m\u001b[43mexecutable_devices\u001b[49m\u001b[43m=\u001b[49m\u001b[43mexecutable_devices\u001b[49m\u001b[43m,\u001b[49m\n\u001b[32m    379\u001b[39m \u001b[43m        \u001b[49m\u001b[43mcompile_options\u001b[49m\u001b[43m=\u001b[49m\u001b[43moptions\u001b[49m\u001b[43m,\u001b[49m\n\u001b[32m    380\u001b[39m \u001b[43m        \u001b[49m\u001b[43mhost_callbacks\u001b[49m\u001b[43m=\u001b[49m\u001b[43mhost_callbacks\u001b[49m\u001b[43m,\u001b[49m\n\u001b[32m    381\u001b[39m \u001b[43m    \u001b[49m\u001b[43m)\u001b[49m\n\u001b[32m    382\u001b[39m   \u001b[38;5;66;03m# Some backends don't have `host_callbacks` option yet\u001b[39;00m\n\u001b[32m    383\u001b[39m   \u001b[38;5;66;03m# TODO(sharadmv): remove this fallback when all backends allow `compile`\u001b[39;00m\n\u001b[32m    384\u001b[39m   \u001b[38;5;66;03m# to take in `host_callbacks`\u001b[39;00m\n\u001b[32m    385\u001b[39m   \u001b[38;5;28;01mreturn\u001b[39;00m backend.compile_and_load(\n\u001b[32m    386\u001b[39m       built_c,\n\u001b[32m    387\u001b[39m       executable_devices=executable_devices,\n\u001b[32m    388\u001b[39m       compile_options=options,\n\u001b[32m    389\u001b[39m   )\n",
      "\u001b[31mMemoryError\u001b[39m: bad allocation"
     ]
    }
   ],
   "source": [
    "wl = 1064e-9 #define laser wavelength\n",
    "\n",
    "# initialise beam\n",
    "Np = 1    # number of photons\n",
    "divergence = 5e-5   # realistic divergence value\n",
    "beam_size = extent_x    # beam radius\n",
    "ne_extent = probing_extent  # so the beam knows where to initialise initial positions\n",
    "beam_type = 'circular'\n",
    "\n",
    "initial_rays = beam_initialiser.Beam(Np, beam_size, divergence, ne_extent, probing_direction, wl, beam_type)\n",
    "\n",
    "tracer = p.Propagator(domain, initial_rays, inv_brems = False, phaseshift = False)\n",
    "\n",
    "# solve ray trace\n",
    "tracer.calc_dndr()\n",
    "final_rays = tracer.solve(parallelise = True, jitted = True)\n",
    "#final_rays, final_rays_to_Jonesvector = tracer.Beam.rf, tracer.Beam.Jf\n",
    "print(\"\\nCompleted ray trace in\", np.round(tracer.duration, 3), \"seconds.\")\n",
    "\n",
    "'''\n",
    "tracer1 = p.Propagator(domain, initial_rays, inv_brems = False, phaseshift = False)\n",
    "tracer1.calc_dndr()\n",
    "final_rays1 = tracer1.solve(parallelise = False, jitted = False)\n",
    "print(\"\\nCompleted ray trace in\", np.round(tracer.duration, 3), \"seconds.\")\n",
    "\n",
    "print(tracer.Beam.rf - tracer1.Beam.rf)\n",
    "'''\n",
    "\n",
    "'''\n",
    "Available devices: [CpuDevice(id=0)]\n",
    "\n",
    "jax compilation of solver took: 0.0017893314361572266\n",
    "Running device: cpu, with: 4 cores.\n",
    "c:\\Users\\samma\\AppData\\Local\\Programs\\Python\\Python313\\Lib\\site-packages\\jax\\_src\\interpreters\\mlir.py:1135: UserWarning: A large amount of constants were captured during lowering (12.00GB total). If this is intentional, disable this warning by setting JAX_CAPTURED_CONSTANTS_WARN_BYTES=-1. To obtain a report of where these constants were encountered, set JAX_CAPTURED_CONSTANTS_REPORT_FRAMES=-1.\n",
    "  warnings.warn(message)\n",
    "---------------------------------------------------------------------------\n",
    "MemoryError                               Traceback (most recent call last)\n",
    "Cell In[4], line 16\n",
    "     14 # solve ray trace\n",
    "     15 tracer.calc_dndr()\n",
    "---> 16 final_rays = tracer.solve(parallelise = True, jitted = True)\n",
    "     17 #final_rays, final_rays_to_Jonesvector = tracer.Beam.rf, tracer.Beam.Jf\n",
    "     18 print(\"\\nCompleted ray trace in\", np.round(tracer.duration, 3), \"seconds.\")\n",
    "\n",
    "File c:\\Users\\samma\\programming\\synthPy\\examples\\notebooks\\../../synthPy_restructured\\propagator.py:297, in Propagator.solve(self, return_E, parallelise, jitted)\n",
    "    292 args = (self, parallelise) # passed args must be hashable to be made static for jax.jit, tuple is hashable, array & dict are not\n",
    "    294 # pass s0[:, i] for each ray via a jax.vmap for parallelisation\n",
    "    295 # transposed as jax.vmap() expects form of [batch_idx, items] not [items, batch_idx]\n",
    "    296 # remove unnecessary static arguments to increase speed and reduce likelihood of unexpected behaviours\n",
    "--> 297 sol = jax.vmap(lambda s: ODE_solve(s, args))(s0.T)\n",
    "    299 jax.debug.visualize_array_sharding(sol.ys[:, -1, :])\n",
    "    301 path = \"../../evaluation/memory_benchmarks/memory-domain\" + str(s0.shape[1]) + \"_rays-\" + datetime.now().strftime(\"%Y%m%d-%H%M%S\") + \".prof\"\n",
    "\n",
    "    [... skipping hidden 7 frame]\n",
    "\n",
    "File c:\\Users\\samma\\programming\\synthPy\\examples\\notebooks\\../../synthPy_restructured\\propagator.py:297, in Propagator.solve.<locals>.<lambda>(s)\n",
    "    292 args = (self, parallelise) # passed args must be hashable to be made static for jax.jit, tuple is hashable, array & dict are not\n",
    "    294 # pass s0[:, i] for each ray via a jax.vmap for parallelisation\n",
    "    295 # transposed as jax.vmap() expects form of [batch_idx, items] not [items, batch_idx]\n",
    "    296 # remove unnecessary static arguments to increase speed and reduce likelihood of unexpected behaviours\n",
    "...\n",
    "    387       executable_devices=executable_devices,\n",
    "    388       compile_options=options,\n",
    "    389   )\n",
    "\n",
    "MemoryError: bad allocation\n",
    "Output is truncated. View as a scrollable element or open in a text editor. Adjust cell output settings...\n",
    "'''"
   ]
  },
  {
   "cell_type": "markdown",
   "metadata": {},
   "source": [
    "Pass through ray optics: For Shadowgaphy, Schlieren, or Refractometry:"
   ]
  },
  {
   "cell_type": "code",
   "execution_count": null,
   "metadata": {},
   "outputs": [
    {
     "name": "stdout",
     "output_type": "stream",
     "text": [
      "\n",
      "rf size expected: (100, 100)\n",
      "rf after clearing nan's: (83, 83)\n"
     ]
    },
    {
     "data": {
      "text/plain": [
       "<matplotlib.image.AxesImage at 0x7fa3dbf72f00>"
      ]
     },
     "execution_count": 49,
     "metadata": {},
     "output_type": "execute_result"
    },
    {
     "data": {
      "image/png": "[encoded data removed]",
      "text/plain": [
       "<Figure size 640x480 with 1 Axes>"
      ]
     },
     "metadata": {},
     "output_type": "display_data"
    }
   ],
   "source": [
    "#in the diagnostic initialisation, details on the lens configurations, and detector dimensions can be specified\n",
    "refractometer = diag.Refractometry(tracer.Beam)\n",
    "refractometer.incoherent_solve()\n",
    "# cam't clear_mem if you want to generate other graphs afterwards\n",
    "refractometer.histogram(bin_scale = 1, clear_mem = False)\n",
    "\n",
    "#information accessed by .H(istogram) , e.g plt.imshow(refractometer.H)\n",
    "\n",
    "#plt.imshow(refractometer.H, cmap='hot', interpolation='nearest', clim = (0, 2))\n",
    "plt.imshow(refractometer.H, cmap = 'hot', interpolation = 'nearest', clim = (0.5, 1))"
   ]
  },
  {
   "cell_type": "code",
   "execution_count": null,
   "metadata": {},
   "outputs": [
    {
     "name": "stdout",
     "output_type": "stream",
     "text": [
      "\n",
      "rf size expected: (100, 100)\n",
      "rf after clearing nan's: (83, 83)\n"
     ]
    },
    {
     "data": {
      "text/plain": [
       "<matplotlib.image.AxesImage at 0x7fa3dbeea870>"
      ]
     },
     "execution_count": 50,
     "metadata": {},
     "output_type": "execute_result"
    },
    {
     "data": {
      "image/png": "[encoded data removed]",
      "text/plain": [
       "<Figure size 640x480 with 1 Axes>"
      ]
     },
     "metadata": {},
     "output_type": "display_data"
    }
   ],
   "source": [
    "shadowgrapher = diag.Shadowgraphy(tracer.Beam)\n",
    "shadowgrapher.single_lens_solve()\n",
    "shadowgrapher.histogram(bin_scale = 1, clear_mem = False)\n",
    "\n",
    "plt.imshow(shadowgrapher.H, cmap = 'hot', interpolation = 'nearest', clim = (0.5, 1))"
   ]
  },
  {
   "cell_type": "code",
   "execution_count": null,
   "metadata": {},
   "outputs": [
    {
     "name": "stdout",
     "output_type": "stream",
     "text": [
      "\n",
      "rf size expected: (100, 100)\n",
      "rf after clearing nan's: (61, 61)\n"
     ]
    },
    {
     "data": {
      "text/plain": [
       "<matplotlib.image.AxesImage at 0x7fa3dbbeecf0>"
      ]
     },
     "execution_count": 51,
     "metadata": {},
     "output_type": "execute_result"
    },
    {
     "data": {
      "image/png": "[encoded data removed]",
      "text/plain": [
       "<Figure size 640x480 with 1 Axes>"
      ]
     },
     "metadata": {},
     "output_type": "display_data"
    }
   ],
   "source": [
    "schlierener = diag.Schlieren(tracer.Beam)\n",
    "schlierener.DF_solve()\n",
    "schlierener.histogram(bin_scale = 1, clear_mem = True)\n",
    "\n",
    "plt.imshow(schlierener.H, cmap = 'hot', interpolation = 'nearest', clim = (0.5, 1))"
   ]
  },
  {
   "cell_type": "markdown",
   "metadata": {},
   "source": [
    "Synthetic Interferometry - This requires some extra steps in the ray tracing to include information on the phase and electric field values"
   ]
  },
  {
   "cell_type": "code",
   "execution_count": null,
   "metadata": {},
   "outputs": [
    {
     "name": "stdout",
     "output_type": "stream",
     "text": [
      "\n",
      "x-y size expected: (100, 100)\n",
      "Final rays: [[-7.91867030e-04 -4.88584146e-03 -3.79739770e-03 -3.02315830e-04\n",
      "  -1.81109255e-03 -2.33571493e-03 -1.36657404e-03  9.90940609e-06\n",
      "   1.10876133e-03  1.68338786e-03  1.17785994e-03  2.36153684e-04\n",
      "   3.62331103e-04 -5.93110645e-03 -1.54210870e-04 -4.02544331e-04\n",
      "   2.72030439e-03 -1.62052505e-03 -4.37156917e-03  3.81930703e-05\n",
      "   1.00964370e-03 -1.66810172e-03  1.13061673e-04 -9.32806956e-04\n",
      "   3.84663754e-04  1.66501079e-04 -1.05342380e-03  3.22597745e-04\n",
      "  -6.30013323e-04 -7.87473217e-05  7.23014500e-04  5.81935413e-04\n",
      "   3.72495380e-04 -1.05185044e-03 -1.03460944e-03 -3.29770538e-03\n",
      "   6.88071737e-04  1.41719296e-03 -1.94080948e-03 -4.49026117e-04\n",
      "  -2.33545956e-03 -2.74357303e-03 -2.20153940e-03 -2.89493083e-03\n",
      "  -4.23017243e-05 -6.99683255e-04 -2.02871767e-03 -1.16872289e-03\n",
      "  -9.87044491e-04 -1.06824452e-03 -5.91134007e-04 -2.80051209e-04\n",
      "  -1.80230506e-04  1.41931072e-03  5.49528476e-04 -2.14801222e-04\n",
      "  -1.37847533e-03  2.63124564e-03  2.39752129e-04  4.62103788e-04\n",
      "  -2.10679206e-03 -8.38961584e-04 -2.15436260e-03 -4.77228941e-03\n",
      "  -2.68777559e-03  1.62770253e-03 -1.95104063e-03  1.15827113e-04\n",
      "  -3.55200079e-03 -4.21414668e-03  2.53971279e-03  5.68255430e-06\n",
      "  -6.93169347e-03  4.10466277e-04 -2.66644227e-05 -8.01171037e-04\n",
      "   5.46851869e-04 -3.69635062e-03  2.09650474e-04 -1.47459853e-03\n",
      "  -1.16572897e-03 -3.48899313e-04 -3.68270432e-05 -3.44831859e-03\n",
      "  -4.60855052e-03  7.19565674e-04 -4.23634293e-04  1.13366185e-03\n",
      "   7.67445947e-04 -7.97741817e-04 -7.61161894e-04 -1.10665851e-03\n",
      "   8.62920843e-04 -1.49164008e-03 -5.85570654e-05  1.09914374e-03\n",
      "   3.87645455e-04 -6.48249390e-04 -3.96023760e-03 -8.37926216e-05]\n",
      " [ 3.60091779e-03 -8.29698007e-04  2.45638255e-03 -6.67235620e-04\n",
      "  -3.51922471e-03 -2.96202513e-03 -2.71038622e-03 -2.03034021e-03\n",
      "   2.75939537e-04  5.92273093e-04  1.90279479e-04 -1.59847817e-03\n",
      "   1.84529642e-03 -3.51831700e-03  2.16821767e-03  2.75771201e-03\n",
      "  -2.19428461e-03 -6.15736307e-04 -7.70270642e-03  6.38316870e-04\n",
      "   4.06961555e-03  2.53990505e-04  6.26562265e-05 -1.41357320e-03\n",
      "   3.89856588e-03 -3.46072728e-03  1.26428824e-03 -4.90239966e-04\n",
      "  -5.31957092e-04  3.73024336e-04 -3.01309755e-03  1.25945617e-03\n",
      "   5.24247252e-03 -3.53615239e-03 -2.43190913e-03 -1.08095160e-03\n",
      "   1.86266354e-03 -1.43812918e-03  9.73617846e-04  2.54564886e-04\n",
      "   2.72222314e-04 -1.13724651e-03 -1.57911136e-03  3.96561650e-03\n",
      "   2.43529026e-03  1.67308130e-03  7.60129573e-04  4.58483888e-04\n",
      "  -1.52849667e-03  5.52689194e-04  7.02304622e-04  1.43724632e-03\n",
      "   8.85407003e-04  1.49475808e-03 -2.47957129e-03  1.79149755e-03\n",
      "  -2.64123629e-03 -2.34384927e-03 -7.38824354e-04 -3.61096339e-03\n",
      "  -3.44440115e-03  3.38484761e-03 -2.96988451e-03 -5.55527708e-04\n",
      "  -3.53745280e-03  1.58748746e-03  9.77729450e-04 -2.00550149e-03\n",
      "   3.37186520e-03 -1.71080579e-03 -2.75812979e-03  3.42849097e-03\n",
      "   5.05473408e-03  6.64061424e-04 -9.67567298e-04 -3.36741032e-03\n",
      "  -6.17977974e-04 -1.02075898e-03  7.46785467e-04 -6.80726399e-04\n",
      "  -1.50013317e-03 -2.38765899e-03 -2.99379985e-03  1.02419831e-03\n",
      "   4.25501747e-03 -1.99335157e-03 -5.45997272e-04 -1.95207913e-03\n",
      "   5.69493257e-04  1.55236243e-03 -6.07535970e-04 -1.18592393e-03\n",
      "   2.12406206e-03 -1.55066847e-03 -8.99193676e-04  4.91676228e-03\n",
      "  -3.10849730e-03 -4.22283940e-03 -2.94951421e-03  3.75670765e-04]\n",
      " [ 1.82842712e-02  1.82842712e-02  1.82842712e-02  1.82842712e-02\n",
      "   1.82842712e-02  1.82842712e-02  1.82842712e-02  1.82842712e-02\n",
      "   1.82842712e-02  1.82842712e-02  1.82842712e-02  1.82842712e-02\n",
      "   1.82842713e-02  1.82842714e-02  1.82842712e-02  1.82842712e-02\n",
      "   1.82842712e-02  1.82842711e-02  1.82842714e-02  1.82842712e-02\n",
      "   1.82842712e-02  1.82842712e-02  1.82842712e-02  1.82842712e-02\n",
      "   1.82842712e-02  1.82842713e-02  1.82842712e-02  1.82842712e-02\n",
      "   1.82842712e-02  1.82842712e-02  1.82842712e-02  1.82842713e-02\n",
      "   1.82842713e-02  1.82842713e-02  1.82842709e-02  1.82842712e-02\n",
      "   1.82842713e-02  1.82842709e-02  1.82842712e-02  1.82842712e-02\n",
      "   1.82842711e-02  1.82842712e-02  1.82842714e-02  1.82842712e-02\n",
      "   1.82842713e-02  1.82842712e-02  1.82842714e-02  1.82842711e-02\n",
      "   1.82842712e-02  1.82842712e-02  1.82842711e-02  1.82842712e-02\n",
      "   1.82842712e-02  1.82842712e-02  1.82842712e-02  1.82842712e-02\n",
      "   1.82842712e-02  1.82842713e-02  1.82842712e-02  1.82842712e-02\n",
      "   1.82842712e-02  1.82842712e-02  1.82842712e-02  1.82842712e-02\n",
      "   1.82842712e-02  1.82842712e-02  1.82842712e-02  1.82842712e-02\n",
      "   1.82842712e-02  1.82842712e-02  1.82842712e-02  1.82842713e-02\n",
      "   1.82842711e-02  1.82842711e-02  1.82842712e-02  1.82842712e-02\n",
      "   1.82842712e-02  1.82842712e-02  1.82842712e-02  1.82842712e-02\n",
      "   1.82842712e-02  1.82842713e-02  1.82842712e-02  1.82842712e-02\n",
      "   1.82842714e-02  1.82842711e-02  1.82842712e-02  1.82842713e-02\n",
      "   1.82842712e-02  1.82842712e-02  1.82842713e-02  1.82842712e-02\n",
      "   1.82842712e-02  1.82842712e-02  1.82842711e-02  1.82842712e-02\n",
      "   1.82842712e-02  1.82842712e-02  1.82842712e-02  1.82842712e-02]\n",
      " [-1.58267678e+06 -2.62380025e+04 -9.31041899e+03 -3.82397718e+05\n",
      "  -4.93792678e+04 -4.78650321e+05 -1.22789276e+06 -4.79359344e+06\n",
      "  -1.41910669e+06 -1.25667323e+06 -2.05506361e+07 -4.54304173e+05\n",
      "  -1.19517688e+07 -1.21330484e+08 -1.07865320e+07 -9.05860102e+05\n",
      "  -2.76295975e+07 -5.93559733e+05 -1.00357017e+08 -4.02660463e+05\n",
      "  -1.37082533e+07 -8.36095914e+05 -2.92156976e+06 -3.21109393e+05\n",
      "  -6.00411633e+06 -3.18985628e+07 -2.04357689e+06 -2.47181257e+05\n",
      "  -5.69236197e+04 -3.43399040e+07 -1.18589550e+07 -1.86783868e+07\n",
      "  -1.56042522e+07 -5.54914062e+07 -6.20659823e+05 -1.47653674e+05\n",
      "  -1.10690708e+07 -1.00583463e+06 -7.57095167e+05 -8.82546576e+05\n",
      "  -7.39429086e+07 -2.47036700e+05 -8.00835095e+07 -2.40481168e+05\n",
      "  -3.18915900e+07 -1.14350823e+06 -8.13900250e+07 -2.40419114e+05\n",
      "  -1.22977251e+06 -6.71641637e+05 -1.74387573e+06 -1.29969891e+05\n",
      "  -1.96356084e+06 -8.47823409e+05 -1.28651170e+06 -1.01229430e+06\n",
      "  -1.00257630e+06 -1.51428425e+07 -1.62315060e+06 -2.04405424e+06\n",
      "  -6.49876790e+04 -4.45509130e+05 -5.98274404e+05 -4.08591393e+03\n",
      "  -1.95064615e+04 -1.77573662e+06 -7.46154738e+05 -3.73464288e+06\n",
      "  -1.14973983e+04 -1.40780888e+04 -6.36178446e+06 -2.88094761e+07\n",
      "  -1.43346419e+08 -2.25594385e+06 -8.02531179e+06 -5.37050273e+05\n",
      "  -1.07107012e+07 -8.41135567e+04 -1.52360453e+06 -9.64735267e+05\n",
      "  -3.25798688e+04 -4.94510038e+07 -4.48291812e+06 -1.27585060e+05\n",
      "  -1.11587857e+08 -2.25077403e+07 -9.86395042e+04 -6.51353202e+06\n",
      "  -3.59492839e+07 -9.04687249e+04 -5.11486948e+07 -2.03036872e+06\n",
      "  -1.00737271e+07 -4.31246604e+05 -2.05123149e+06 -4.19250256e+06\n",
      "  -5.97338841e+06 -3.88453969e+06 -7.54970925e+04 -2.78019393e+05]\n",
      " [ 6.87801690e+06  5.34373404e+04  4.63080829e+04 -3.38395278e+06\n",
      "   7.75228588e+05  1.97053132e+05  2.93828067e+06 -1.24074064e+07\n",
      "  -6.57210060e+06  4.01414097e+06  1.71200213e+07 -5.02908611e+05\n",
      "  -6.80637273e+06 -4.72085869e+07  3.34094123e+06  6.25985132e+06\n",
      "  -2.51213739e+07  2.69721713e+06 -4.88421742e+07  1.80903262e+06\n",
      "  -5.45582068e+06  2.10291501e+06 -6.73404423e+06  3.56168011e+06\n",
      "   2.39108425e+06 -1.91797771e+07  3.32330021e+06 -4.72264881e+04\n",
      "  -8.19471689e+05  9.18554332e+06 -1.96846873e+07  2.41242815e+07\n",
      "   7.28147628e+06 -3.65257321e+07  4.38574489e+06 -1.67417836e+05\n",
      "   1.68900285e+07  5.45965629e+05 -2.01558036e+05 -6.33512099e+06\n",
      "  -3.93506684e+07 -4.74219263e+05  9.07935227e+06 -1.16549624e+05\n",
      "   2.93630716e+07  6.77278695e+06  2.92723758e+07 -2.92719067e+06\n",
      "  -5.51582857e+06  4.59663996e+06  8.15600078e+06 -1.18918087e+06\n",
      "   8.58808272e+06 -4.89621086e+04 -3.07835753e+06  5.92976135e+06\n",
      "   3.34335581e+06  2.55302888e+06 -1.86969177e+06  1.93725905e+06\n",
      "  -8.85135884e+05 -4.25108386e+06  1.85466845e+05  1.61190859e+04\n",
      "   2.49907152e+05  4.66783108e+06 -1.69539348e+05  8.26877427e+06\n",
      "   2.18204161e+05  1.36166969e+05 -1.00531877e+07  3.01350622e+07\n",
      "   5.88975241e+07 -8.73084459e+05 -1.56692709e+07  4.76730264e+06\n",
      "   6.39129144e+06 -3.17753537e+04  2.25011576e+06  2.88740288e+06\n",
      "   1.59010330e+04 -8.84860207e+06  1.23676416e+07  4.48316215e+04\n",
      "   5.44552075e+07 -4.53027348e+06 -9.78802460e+05 -1.00241590e+07\n",
      "  -2.83098645e+07  1.62418028e+06  3.43399483e+07 -2.33112395e+06\n",
      "   1.91814212e+07  2.89568816e+06 -7.53590043e+06  1.13297380e+07\n",
      "   2.18138993e+06 -3.50369404e+06  5.62519648e+04 -1.94910576e+06]\n",
      " [ 2.99792458e+08  2.99792458e+08  2.99792458e+08  2.99792457e+08\n",
      "   2.99792458e+08  2.99792458e+08  2.99792458e+08  2.99792458e+08\n",
      "   2.99792458e+08  2.99792458e+08  2.99792458e+08  2.99792457e+08\n",
      "   2.99792458e+08  2.99792460e+08  2.99792458e+08  2.99792458e+08\n",
      "   2.99792457e+08  2.99792457e+08  2.99792459e+08  2.99792458e+08\n",
      "   2.99792458e+08  2.99792458e+08  2.99792458e+08  2.99792458e+08\n",
      "   2.99792457e+08  2.99792458e+08  2.99792457e+08  2.99792458e+08\n",
      "   2.99792457e+08  2.99792458e+08  2.99792458e+08  2.99792458e+08\n",
      "   2.99792458e+08  2.99792458e+08  2.99792454e+08  2.99792458e+08\n",
      "   2.99792458e+08  2.99792455e+08  2.99792458e+08  2.99792457e+08\n",
      "   2.99792456e+08  2.99792458e+08  2.99792461e+08  2.99792458e+08\n",
      "   2.99792459e+08  2.99792458e+08  2.99792460e+08  2.99792457e+08\n",
      "   2.99792458e+08  2.99792457e+08  2.99792457e+08  2.99792458e+08\n",
      "   2.99792458e+08  2.99792458e+08  2.99792458e+08  2.99792458e+08\n",
      "   2.99792458e+08  2.99792458e+08  2.99792458e+08  2.99792457e+08\n",
      "   2.99792457e+08  2.99792458e+08  2.99792458e+08  2.99792458e+08\n",
      "   2.99792458e+08  2.99792458e+08  2.99792458e+08  2.99792457e+08\n",
      "   2.99792458e+08  2.99792458e+08  2.99792457e+08  2.99792458e+08\n",
      "   2.99792457e+08  2.99792456e+08  2.99792458e+08  2.99792458e+08\n",
      "   2.99792458e+08  2.99792458e+08  2.99792458e+08  2.99792458e+08\n",
      "   2.99792458e+08  2.99792458e+08  2.99792458e+08  2.99792458e+08\n",
      "   2.99792461e+08  2.99792456e+08  2.99792458e+08  2.99792458e+08\n",
      "   2.99792458e+08  2.99792458e+08  2.99792458e+08  2.99792458e+08\n",
      "   2.99792458e+08  2.99792458e+08  2.99792456e+08  2.99792458e+08\n",
      "   2.99792457e+08  2.99792458e+08  2.99792458e+08  2.99792458e+08]\n",
      " [ 1.00000000e+00  1.00000000e+00  1.00000000e+00  1.00000000e+00\n",
      "   1.00000000e+00  1.00000000e+00  1.00000000e+00  1.00000000e+00\n",
      "   1.00000000e+00  1.00000000e+00  1.00000000e+00  1.00000000e+00\n",
      "   1.00000000e+00  1.00000000e+00  1.00000000e+00  1.00000000e+00\n",
      "   1.00000000e+00  1.00000000e+00  1.00000000e+00  1.00000000e+00\n",
      "   1.00000000e+00  1.00000000e+00  1.00000000e+00  1.00000000e+00\n",
      "   1.00000000e+00  1.00000000e+00  1.00000000e+00  1.00000000e+00\n",
      "   1.00000000e+00  1.00000000e+00  1.00000000e+00  1.00000000e+00\n",
      "   1.00000000e+00  1.00000000e+00  1.00000000e+00  1.00000000e+00\n",
      "   1.00000000e+00  1.00000000e+00  1.00000000e+00  1.00000000e+00\n",
      "   1.00000000e+00  1.00000000e+00  1.00000000e+00  1.00000000e+00\n",
      "   1.00000000e+00  1.00000000e+00  1.00000000e+00  1.00000000e+00\n",
      "   1.00000000e+00  1.00000000e+00  1.00000000e+00  1.00000000e+00\n",
      "   1.00000000e+00  1.00000000e+00  1.00000000e+00  1.00000000e+00\n",
      "   1.00000000e+00  1.00000000e+00  1.00000000e+00  1.00000000e+00\n",
      "   1.00000000e+00  1.00000000e+00  1.00000000e+00  1.00000000e+00\n",
      "   1.00000000e+00  1.00000000e+00  1.00000000e+00  1.00000000e+00\n",
      "   1.00000000e+00  1.00000000e+00  1.00000000e+00  1.00000000e+00\n",
      "   1.00000000e+00  1.00000000e+00  1.00000000e+00  1.00000000e+00\n",
      "   1.00000000e+00  1.00000000e+00  1.00000000e+00  1.00000000e+00\n",
      "   1.00000000e+00  1.00000000e+00  1.00000000e+00  1.00000000e+00\n",
      "   1.00000000e+00  1.00000000e+00  1.00000000e+00  1.00000000e+00\n",
      "   1.00000000e+00  1.00000000e+00  1.00000000e+00  1.00000000e+00\n",
      "   1.00000000e+00  1.00000000e+00  1.00000000e+00  1.00000000e+00\n",
      "   1.00000000e+00  1.00000000e+00  1.00000000e+00  1.00000000e+00]\n",
      " [-2.70276703e+01 -3.18364113e-01 -5.63772354e-02 -6.23219760e+00\n",
      "  -7.80256404e-01 -8.10463613e+00 -2.10133836e+01 -8.18265060e+01\n",
      "  -2.42943638e+01 -2.13373137e+01 -3.51459291e+02 -7.65528453e+00\n",
      "  -2.04211284e+02 -2.13398412e+03 -1.84098777e+02 -1.53455822e+01\n",
      "  -4.73968656e+02 -9.62329942e+00 -1.75357082e+03 -6.81558115e+00\n",
      "  -2.34097383e+02 -1.42661159e+01 -4.98737959e+01 -5.59512025e+00\n",
      "  -1.02099873e+02 -5.46483016e+02 -3.48277071e+01 -4.27468130e+00\n",
      "  -1.32529466e+00 -5.87474380e+02 -2.02745831e+02 -3.19332173e+02\n",
      "  -2.66736781e+02 -9.54304167e+02 -9.75842518e+00 -2.50461122e+00\n",
      "  -1.89071836e+02 -1.64149116e+01 -1.28973512e+01 -1.53681098e+01\n",
      "  -1.27801750e+03 -4.36183936e+00 -1.38110666e+03 -4.16414357e+00\n",
      "  -5.46031572e+02 -1.96329745e+01 -1.40763639e+03 -4.46011412e+00\n",
      "  -2.09333361e+01 -1.17955334e+01 -3.02287806e+01 -2.34062317e+00\n",
      "  -3.35305477e+01 -1.44590716e+01 -2.20451053e+01 -1.73010783e+01\n",
      "  -1.71382721e+01 -2.59007596e+02 -2.75571467e+01 -3.48801333e+01\n",
      "  -1.13509290e+00 -7.51498390e+00 -1.01527162e+01 -1.62037925e-02\n",
      "  -2.52877517e-01 -3.03180627e+01 -1.27336882e+01 -6.34451280e+01\n",
      "  -3.72892336e-01 -3.73246001e-01 -1.08953943e+02 -4.93276051e+02\n",
      "  -2.54886219e+03 -3.82339112e+01 -1.37220714e+02 -9.14170187e+00\n",
      "  -1.83070359e+02 -1.63341430e+00 -2.59470371e+01 -1.64435504e+01\n",
      "  -7.08017586e-01 -8.48198186e+02 -7.64430968e+01 -2.17559440e+00\n",
      "  -1.95672912e+03 -3.85494566e+02 -1.69560536e+00 -1.11263408e+02\n",
      "  -6.16078633e+02 -1.52423834e+00 -8.78656422e+02 -3.47737680e+01\n",
      "  -1.72082715e+02 -7.61910810e+00 -3.46358548e+01 -7.16033011e+01\n",
      "  -1.01724535e+02 -6.63184248e+01 -1.19038959e+00 -4.59555331e+00]\n",
      " [ 0.00000000e+00  0.00000000e+00  0.00000000e+00  0.00000000e+00\n",
      "   0.00000000e+00  0.00000000e+00  0.00000000e+00  0.00000000e+00\n",
      "   0.00000000e+00  0.00000000e+00  0.00000000e+00  0.00000000e+00\n",
      "   0.00000000e+00  0.00000000e+00  0.00000000e+00  0.00000000e+00\n",
      "   0.00000000e+00  0.00000000e+00  0.00000000e+00  0.00000000e+00\n",
      "   0.00000000e+00  0.00000000e+00  0.00000000e+00  0.00000000e+00\n",
      "   0.00000000e+00  0.00000000e+00  0.00000000e+00  0.00000000e+00\n",
      "   0.00000000e+00  0.00000000e+00  0.00000000e+00  0.00000000e+00\n",
      "   0.00000000e+00  0.00000000e+00  0.00000000e+00  0.00000000e+00\n",
      "   0.00000000e+00  0.00000000e+00  0.00000000e+00  0.00000000e+00\n",
      "   0.00000000e+00  0.00000000e+00  0.00000000e+00  0.00000000e+00\n",
      "   0.00000000e+00  0.00000000e+00  0.00000000e+00  0.00000000e+00\n",
      "   0.00000000e+00  0.00000000e+00  0.00000000e+00  0.00000000e+00\n",
      "   0.00000000e+00  0.00000000e+00  0.00000000e+00  0.00000000e+00\n",
      "   0.00000000e+00  0.00000000e+00  0.00000000e+00  0.00000000e+00\n",
      "   0.00000000e+00  0.00000000e+00  0.00000000e+00  0.00000000e+00\n",
      "   0.00000000e+00  0.00000000e+00  0.00000000e+00  0.00000000e+00\n",
      "   0.00000000e+00  0.00000000e+00  0.00000000e+00  0.00000000e+00\n",
      "   0.00000000e+00  0.00000000e+00  0.00000000e+00  0.00000000e+00\n",
      "   0.00000000e+00  0.00000000e+00  0.00000000e+00  0.00000000e+00\n",
      "   0.00000000e+00  0.00000000e+00  0.00000000e+00  0.00000000e+00\n",
      "   0.00000000e+00  0.00000000e+00  0.00000000e+00  0.00000000e+00\n",
      "   0.00000000e+00  0.00000000e+00  0.00000000e+00  0.00000000e+00\n",
      "   0.00000000e+00  0.00000000e+00  0.00000000e+00  0.00000000e+00\n",
      "   0.00000000e+00  0.00000000e+00  0.00000000e+00  0.00000000e+00]]\n",
      "x-y after clearing nan's: (100, 100)\n"
     ]
    },
    {
     "ename": "AttributeError",
     "evalue": "'numpy.ndarray' object has no attribute 'at'",
     "output_type": "error",
     "traceback": [
      "\u001b[0;31m---------------------------------------------------------------------------\u001b[0m",
      "\u001b[0;31mAttributeError\u001b[0m                            Traceback (most recent call last)",
      "Cell \u001b[0;32mIn[52], line 33\u001b[0m\n\u001b[1;32m     31\u001b[0m pattern \u001b[38;5;241m=\u001b[39m diag\u001b[38;5;241m.\u001b[39mInterferometry(tracer\u001b[38;5;241m.\u001b[39mBeam)\n\u001b[1;32m     32\u001b[0m \u001b[38;5;66;03m#pattern = interferometrer\u001b[39;00m\n\u001b[0;32m---> 33\u001b[0m pattern\u001b[38;5;241m.\u001b[39mtwo_lens_solve()\n\u001b[1;32m     34\u001b[0m pattern\u001b[38;5;241m.\u001b[39minterferogram(bin_scale \u001b[38;5;241m=\u001b[39m \u001b[38;5;241m1\u001b[39m, clear_mem \u001b[38;5;241m=\u001b[39m \u001b[38;5;28;01mTrue\u001b[39;00m)\n",
      "File \u001b[0;32m~/Work/UROP_ICL_Internship/synthPy/examples/notebooks/../../synthPy_restructured/diagnostics.py:584\u001b[0m, in \u001b[0;36mInterferometry.two_lens_solve\u001b[0;34m(self)\u001b[0m\n\u001b[1;32m    582\u001b[0m r2, \u001b[39mself\u001b[39m\u001b[39m.\u001b[39mJf \u001b[39m=\u001b[39m circular_aperture(r1, \u001b[39mself\u001b[39m\u001b[39m.\u001b[39mR, E \u001b[39m=\u001b[39m \u001b[39mself\u001b[39m\u001b[39m.\u001b[39mJf)    \u001b[39m# cut off\u001b[39;00m\n\u001b[1;32m    583\u001b[0m r3 \u001b[39m=\u001b[39m sym_lens(r2, \u001b[39mself\u001b[39m\u001b[39m.\u001b[39mL\u001b[39m/\u001b[39m\u001b[39m2\u001b[39m)           \u001b[39m# lens 1\u001b[39;00m\n\u001b[0;32m--> 584\u001b[0m \u001b[39mself\u001b[39m\u001b[39m.\u001b[39mpropagate_E(r3, r2)\n\u001b[1;32m    586\u001b[0m r4 \u001b[39m=\u001b[39m distance(r3, \u001b[39mself\u001b[39m\u001b[39m.\u001b[39mL\u001b[39m*\u001b[39m\u001b[39m2\u001b[39m)           \u001b[39m# displace rays to lens 2.\u001b[39;00m\n\u001b[1;32m    587\u001b[0m \u001b[39mself\u001b[39m\u001b[39m.\u001b[39mpropagate_E(r4, r3)\n",
      "File \u001b[0;32m~/Work/UROP_ICL_Internship/synthPy/examples/notebooks/../../synthPy_restructured/diagnostics.py:293\u001b[0m, in \u001b[0;36mDiagnostic.propagate_E\u001b[0;34m(self, r1, r0)\u001b[0m\n\u001b[1;32m    289\u001b[0m dy \u001b[39m=\u001b[39m r1[\u001b[39m2\u001b[39m, :] \u001b[39m-\u001b[39m r0[\u001b[39m2\u001b[39m, :]\n\u001b[1;32m    291\u001b[0m k \u001b[39m=\u001b[39m \u001b[39m2\u001b[39m \u001b[39m*\u001b[39m jnp\u001b[39m.\u001b[39mpi \u001b[39m/\u001b[39m lwl\n\u001b[0;32m--> 293\u001b[0m \u001b[39mself\u001b[39m\u001b[39m.\u001b[39mJf \u001b[39m=\u001b[39m \u001b[39mself\u001b[39m\u001b[39m.\u001b[39mJf\u001b[39m.\u001b[39mat[:, :]\u001b[39m.\u001b[39mset(\u001b[39mself\u001b[39m\u001b[39m.\u001b[39mJf[:, :] \u001b[39m*\u001b[39m jnp\u001b[39m.\u001b[39mexp(\u001b[39m1.0\u001b[39mj \u001b[39m*\u001b[39m k \u001b[39m*\u001b[39m jnp\u001b[39m.\u001b[39msqrt(dx \u001b[39m*\u001b[39m\u001b[39m*\u001b[39m \u001b[39m2\u001b[39m \u001b[39m+\u001b[39m dy \u001b[39m*\u001b[39m\u001b[39m*\u001b[39m \u001b[39m2\u001b[39m)))\n",
      "\u001b[0;31mAttributeError\u001b[0m: 'numpy.ndarray' object has no attribute 'at'"
     ]
    }
   ],
   "source": [
    "# No need to change the domain (now that code has been seperated out in restructure)\n",
    "\n",
    "\n",
    "\n",
    "# load some external pvti\n",
    "\n",
    "# import utils.handle_filetypes as load\n",
    "# ne, dim, spacing = load.pvti_readin(filename)\n",
    "\n",
    "# or load a test distribution\n",
    "\n",
    "\n",
    "\n",
    "# initialise beam\n",
    "\n",
    "\n",
    "\n",
    "# solve ray trace\n",
    "tracer = p.Propagator(domain, initial_rays, inv_brems = False, phaseshift = True)\n",
    "\n",
    "tracer.calc_dndr()\n",
    "\n",
    "tracer.Beam.rf, tracer.Beam.Jf = tracer.solve(parallelise = False, jitted = False, return_E = True)\n",
    "\n",
    "n_fringes = 10\n",
    "deg = 10 #adjust number of fringes and tilt in degrees from the vertical exis\n",
    "\n",
    "interferometrer = diag.Interferometry(tracer.Beam)\n",
    "interferometrer.interfere_ref_beam(n_fringes, deg)\n",
    "\n",
    "pattern = diag.Interferometry(tracer.Beam)\n",
    "#pattern = interferometrer\n",
    "pattern.two_lens_solve()\n",
    "pattern.interferogram(bin_scale = 1, clear_mem = True) #use interferogram instead of histogram\n",
    "\n",
    "#get interferogram histogram with sh.H\n"
   ]
  },
  {
   "cell_type": "code",
   "execution_count": null,
   "metadata": {},
   "outputs": [
    {
     "ename": "AttributeError",
     "evalue": "'Interferometry' object has no attribute 'H'",
     "output_type": "error",
     "traceback": [
      "\u001b[0;31m---------------------------------------------------------------------------\u001b[0m",
      "\u001b[0;31mAttributeError\u001b[0m                            Traceback (most recent call last)",
      "Cell \u001b[0;32mIn[32], line 1\u001b[0m\n\u001b[0;32m----> 1\u001b[0m plt\u001b[38;5;241m.\u001b[39mimshow(pattern\u001b[38;5;241m.\u001b[39mH, cmap \u001b[38;5;241m=\u001b[39m \u001b[38;5;124m'\u001b[39m\u001b[38;5;124mhot\u001b[39m\u001b[38;5;124m'\u001b[39m, interpolation \u001b[38;5;241m=\u001b[39m \u001b[38;5;124m'\u001b[39m\u001b[38;5;124mnearest\u001b[39m\u001b[38;5;124m'\u001b[39m)\n",
      "\u001b[0;31mAttributeError\u001b[0m: 'Interferometry' object has no attribute 'H'"
     ]
    }
   ],
   "source": [
    "plt.imshow(pattern.H, cmap = 'hot', interpolation = 'nearest')"
   ]
  },
  {
   "cell_type": "code",
   "execution_count": null,
   "metadata": {},
   "outputs": [],
   "source": []
  }
 ],
 "metadata": {
  "kernelspec": {
   "display_name": "Python 3",
   "language": "python",
   "name": "python3"
  },
  "language_info": {
   "codemirror_mode": {
    "name": "ipython",
    "version": 3
   },
   "file_extension": ".py",
   "mimetype": "text/x-python",
   "name": "python",
   "nbconvert_exporter": "python",
   "pygments_lexer": "ipython3",
   "version": "3.13.2"
  }
 },
 "nbformat": 4,
 "nbformat_minor": 4
}
