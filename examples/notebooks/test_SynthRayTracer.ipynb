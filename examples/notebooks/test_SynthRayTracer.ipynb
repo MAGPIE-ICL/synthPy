{
 "cells": [
  {
   "cell_type": "markdown",
   "metadata": {},
   "source": [
    "### Test - Synthetic Diagnostic + Interferometry\n",
    "\n",
    "</b> Author:   </b>  Louis Evans     </br>\n",
    "</b> Reviewer: </b>  Stefano Merlini"
   ]
  },
  {
   "cell_type": "markdown",
   "metadata": {},
   "source": [
    "### Import relevant files:"
   ]
  },
  {
   "cell_type": "code",
   "execution_count": 1,
   "metadata": {},
   "outputs": [
    {
     "name": "stdout",
     "output_type": "stream",
     "text": [
      "\n",
      "Initialising jax...\n",
      "\n",
      "\n",
      "Default jax backend: cpu\n",
      "Available devices: [CpuDevice(id=0)]\n"
     ]
    },
    {
     "data": {
      "text/plain": [
       "<module 'diagnostics' from '/home/administrator/Work/UROP_ICL_Internship/synthPy/examples/notebooks/../../src/simulator/diagnostics.py'>"
      ]
     },
     "execution_count": 1,
     "metadata": {},
     "output_type": "execute_result"
    }
   ],
   "source": [
    "import numpy as np\n",
    "import matplotlib.pyplot as plt\n",
    "#import vtk\n",
    "#from vtk.util import numpy_support as vtk_np\n",
    "import gc\n",
    "\n",
    "import sys\n",
    "\n",
    "#add path\n",
    "sys.path.insert(0, '../../src/simulator')     # import path/to/synthpy\n",
    "\n",
    "import config\n",
    "config.jax_init()\n",
    "\n",
    "import beam as beam_initialiser\n",
    "import domain as d\n",
    "import propagator as p\n",
    "import diagnostics as diag\n",
    "#import utils\n",
    "\n",
    "import importlib\n",
    "importlib.reload(beam_initialiser)\n",
    "importlib.reload(d)\n",
    "importlib.reload(p)\n",
    "importlib.reload(diag)\n",
    "#importlib.reload(utils)"
   ]
  },
  {
   "cell_type": "markdown",
   "metadata": {},
   "source": [
    "To use the ray tracer, first create a 'domain', load the domain with an electron distribution, calculate electron gradients, initialise a beam, and solve!\n",
    "\\\n",
    "\\\n",
    "The output can either be plotted, or passed further through ray optics for synthetic diagnostics"
   ]
  },
  {
   "cell_type": "code",
   "execution_count": 2,
   "metadata": {},
   "outputs": [
    {
     "name": "stdout",
     "output_type": "stream",
     "text": [
      "Predicted size in memory of domain: 8.0 MB\n"
     ]
    }
   ],
   "source": [
    "# define some extent, the domain should be distributed as +extent to -extent, does not need to be cubic\n",
    "extent_x = 5e-3\n",
    "extent_y = 5e-3\n",
    "extent_z = 10e-3\n",
    "\n",
    "n_cells = 128\n",
    "\n",
    "#x = np.linspace(-extent_x, extent_x, n_cells)\n",
    "#y = np.linspace(-extent_y, extent_y, n_cells)\n",
    "#z = np.linspace(-extent_z, extent_z, n_cells)\n",
    "\n",
    "probing_extent = extent_z\n",
    "probing_direction = 'z'\n",
    "\n",
    "lengths = 2 * np.array([extent_x, extent_y, extent_z])\n",
    "\n",
    "#domain = d.ScalarDomain(x = x, y = y, z = z, extent = probing_extent, probing_direction = probing_direction)     # create domain\n",
    "# Much simpler domain function, no longer needlessly takes in beam values, they are fully seperated\n",
    "domain = d.ScalarDomain(lengths, n_cells) # B_on = False by default\n",
    "\n",
    "# clear we should do manual garbage collection of some variety in d.ScalarDomain function"
   ]
  },
  {
   "cell_type": "markdown",
   "metadata": {},
   "source": [
    "Load some domain distribution"
   ]
  },
  {
   "cell_type": "code",
   "execution_count": 3,
   "metadata": {},
   "outputs": [],
   "source": [
    "# load some external pvti\n",
    "# import utils.handle_filetypes as load\n",
    "# ne, dim, spacing = load.pvti_readin(filename)\n",
    "# or load a test distribution\n",
    "\n",
    "#domain.ne = np.full((100, 100, 100), 1e24)\n",
    "domain.test_exponential_cos()\n",
    "#domain.test_slab(0.000001, 1e24)"
   ]
  },
  {
   "cell_type": "markdown",
   "metadata": {},
   "source": [
    "Solve gradients, initialise beam, and solve"
   ]
  },
  {
   "cell_type": "code",
   "execution_count": 4,
   "metadata": {},
   "outputs": [
    {
     "name": "stdout",
     "output_type": "stream",
     "text": [
      "\n",
      "Size in memory of initial rays: 712B\n",
      "\n",
      "Running device: cpu\n",
      "jax compilation of solver took: 0.0003421306610107422 seconds\n",
      "\n",
      "Size in memory of initial rays: 712B\n",
      "Size in memory of solution: 48B\n",
      "Size in memory of propagator class: 48B\n",
      "\n",
      "No pprof install detected. Please download (using go) to visualise memory usage.\n",
      "\n",
      "Parallelised output has resulting 3D matrix of form: [batch_count, 2, 9]: (1000, 2, 9)\n",
      "\t2 to account for the start and end results\n",
      "\t9 containing the 3 position and velocity components, amplitude, phase and polarisation\n",
      "\tIf batch_count is lower than expected, this is likely due to jax's forced integer batch sharding when parallelising over cpu cores.\n",
      "\n",
      "We slice the end result and transpose into the form: (9, 1000) to work with later code.\n",
      "\n",
      "Completed ray trace in 6.942 seconds.\n"
     ]
    }
   ],
   "source": [
    "lwl = 1064e-9 #define laser wavelength\n",
    "\n",
    "# initialise beam\n",
    "Np = 1000    # number of photons\n",
    "divergence = 5e-5   # realistic divergence value\n",
    "beam_size = extent_x    # beam radius\n",
    "ne_extent = probing_extent  # so the beam knows where to initialise initial positions\n",
    "beam_type = 'circular'\n",
    "\n",
    "beam_definition = beam_initialiser.Beam(Np, beam_size, divergence, ne_extent, probing_direction = probing_direction, wavelength = lwl, beam_type = beam_type)\n",
    "\n",
    "tracer = p.Propagator(domain, probing_direction = probing_direction, inv_brems = False, phaseshift = False)\n",
    "\n",
    "# solve ray trace\n",
    "tracer.calc_dndr(lwl)\n",
    "# without the _, both rf and Jf (even though it defaults to None when return_E = False) get unpacked into rf and it becomes a tuple\n",
    "rf, _ = tracer.solve(beam_definition.s0, jitted = True)\n",
    "print(\"\\nCompleted ray trace in\", np.round(tracer.duration, 3), \"seconds.\")"
   ]
  },
  {
   "cell_type": "markdown",
   "metadata": {},
   "source": [
    "Pass through ray optics: For Shadowgaphy, Schlieren, or Refractometry:"
   ]
  },
  {
   "cell_type": "code",
   "execution_count": 5,
   "metadata": {},
   "outputs": [
    {
     "name": "stdout",
     "output_type": "stream",
     "text": [
      "\n",
      "rf size expected: (1000, 1000)\n",
      "rf after clearing nan's: (873, 873)\n"
     ]
    },
    {
     "ename": "KeyboardInterrupt",
     "evalue": "",
     "output_type": "error",
     "traceback": [
      "\u001b[0;31m---------------------------------------------------------------------------\u001b[0m",
      "\u001b[0;31mKeyboardInterrupt\u001b[0m                         Traceback (most recent call last)",
      "Cell \u001b[0;32mIn[5], line 5\u001b[0m\n\u001b[1;32m      3\u001b[0m refractometer\u001b[38;5;241m.\u001b[39mincoherent_solve()\n\u001b[1;32m      4\u001b[0m \u001b[38;5;66;03m# cam't clear_mem if you want to generate other graphs afterwards\u001b[39;00m\n\u001b[0;32m----> 5\u001b[0m refractometer\u001b[38;5;241m.\u001b[39mhistogram(bin_scale \u001b[38;5;241m=\u001b[39m \u001b[38;5;241m1\u001b[39m, clear_mem \u001b[38;5;241m=\u001b[39m \u001b[38;5;28;01mFalse\u001b[39;00m)\n\u001b[1;32m      7\u001b[0m \u001b[38;5;66;03m#information accessed by .H(istogram) , e.g plt.imshow(refractometer.H)\u001b[39;00m\n\u001b[1;32m      8\u001b[0m \n\u001b[1;32m      9\u001b[0m \u001b[38;5;66;03m#plt.imshow(refractometer.H, cmap='hot', interpolation='nearest', clim = (0, 2))\u001b[39;00m\n\u001b[1;32m     10\u001b[0m plt\u001b[38;5;241m.\u001b[39mimshow(refractometer\u001b[38;5;241m.\u001b[39mH, cmap \u001b[38;5;241m=\u001b[39m \u001b[38;5;124m'\u001b[39m\u001b[38;5;124mhot\u001b[39m\u001b[38;5;124m'\u001b[39m, interpolation \u001b[38;5;241m=\u001b[39m \u001b[38;5;124m'\u001b[39m\u001b[38;5;124mnearest\u001b[39m\u001b[38;5;124m'\u001b[39m, clim \u001b[38;5;241m=\u001b[39m (\u001b[38;5;241m0.5\u001b[39m, \u001b[38;5;241m1\u001b[39m))\n",
      "File \u001b[0;32m~/Work/UROP_ICL_Internship/synthPy/examples/notebooks/../../src/simulator/diagnostics.py:331\u001b[0m, in \u001b[0;36mDiagnostic.histogram\u001b[0;34m(self, bin_scale, pix_x, pix_y, clear_mem)\u001b[0m\n\u001b[1;32m    327\u001b[0m y \u001b[39m=\u001b[39m y[mask]\n\u001b[1;32m    329\u001b[0m \u001b[39mprint\u001b[39m(\u001b[39m\"\u001b[39m\u001b[39mrf after clearing nan\u001b[39m\u001b[39m'\u001b[39m\u001b[39ms: (\u001b[39m\u001b[39m\"\u001b[39m, \u001b[39mlen\u001b[39m(x), \u001b[39m\"\u001b[39m\u001b[39m, \u001b[39m\u001b[39m\"\u001b[39m, \u001b[39mlen\u001b[39m(y), \u001b[39m\"\u001b[39m\u001b[39m)\u001b[39m\u001b[39m\"\u001b[39m, sep\u001b[39m=\u001b[39m\u001b[39m'\u001b[39m\u001b[39m'\u001b[39m)\n\u001b[0;32m--> 331\u001b[0m \u001b[39mself\u001b[39m\u001b[39m.\u001b[39mH, \u001b[39mself\u001b[39m\u001b[39m.\u001b[39mxedges, \u001b[39mself\u001b[39m\u001b[39m.\u001b[39myedges \u001b[39m=\u001b[39m jnp\u001b[39m.\u001b[39mhistogram2d(x, y, bins\u001b[39m=\u001b[39m[pix_x \u001b[39m/\u001b[39m\u001b[39m/\u001b[39m bin_scale, pix_y \u001b[39m/\u001b[39m\u001b[39m/\u001b[39m bin_scale], \u001b[39mrange\u001b[39m\u001b[39m=\u001b[39m[[\u001b[39m-\u001b[39m\u001b[39mself\u001b[39m\u001b[39m.\u001b[39mLx \u001b[39m/\u001b[39m \u001b[39m2\u001b[39m, \u001b[39mself\u001b[39m\u001b[39m.\u001b[39mLx \u001b[39m/\u001b[39m \u001b[39m2\u001b[39m],[\u001b[39m-\u001b[39m\u001b[39mself\u001b[39m\u001b[39m.\u001b[39mLy \u001b[39m/\u001b[39m \u001b[39m2\u001b[39m, \u001b[39mself\u001b[39m\u001b[39m.\u001b[39mLy \u001b[39m/\u001b[39m \u001b[39m2\u001b[39m]])\n\u001b[1;32m    332\u001b[0m \u001b[39mself\u001b[39m\u001b[39m.\u001b[39mH \u001b[39m=\u001b[39m \u001b[39mself\u001b[39m\u001b[39m.\u001b[39mH\u001b[39m.\u001b[39mT\n\u001b[1;32m    334\u001b[0m \u001b[39m#Optional - clear ray attributes to save memory\u001b[39;00m\n",
      "File \u001b[0;32m~/Programs/anaconda3/envs/testing/lib/python3.12/site-packages/jax/_src/numpy/lax_numpy.py:1010\u001b[0m, in \u001b[0;36mhistogram2d\u001b[0;34m(x, y, bins, range, weights, density)\u001b[0m\n\u001b[1;32m   1007\u001b[0m   bins \u001b[39m=\u001b[39m [x_edges, y_edges]\n\u001b[1;32m   1009\u001b[0m sample \u001b[39m=\u001b[39m transpose(asarray([x, y]))\n\u001b[0;32m-> 1010\u001b[0m hist, edges \u001b[39m=\u001b[39m histogramdd(sample, bins, \u001b[39mrange\u001b[39m, weights, density)\n\u001b[1;32m   1011\u001b[0m \u001b[39mreturn\u001b[39;00m hist, edges[\u001b[39m0\u001b[39m], edges[\u001b[39m1\u001b[39m]\n",
      "File \u001b[0;32m~/Programs/anaconda3/envs/testing/lib/python3.12/site-packages/jax/_src/numpy/lax_numpy.py:1110\u001b[0m, in \u001b[0;36mhistogramdd\u001b[0;34m(sample, bins, range, weights, density)\u001b[0m\n\u001b[1;32m   1107\u001b[0m dedges \u001b[39m=\u001b[39m [diff(bin_edges) \u001b[39mfor\u001b[39;00m bin_edges \u001b[39min\u001b[39;00m bin_edges_by_dim]\n\u001b[1;32m   1109\u001b[0m xy \u001b[39m=\u001b[39m ravel_multi_index(\u001b[39mtuple\u001b[39m(bin_idx_by_dim), nbins, mode\u001b[39m=\u001b[39m\u001b[39m'\u001b[39m\u001b[39mclip\u001b[39m\u001b[39m'\u001b[39m)\n\u001b[0;32m-> 1110\u001b[0m hist \u001b[39m=\u001b[39m bincount(xy, weights, length\u001b[39m=\u001b[39mmath\u001b[39m.\u001b[39mprod(nbins))\n\u001b[1;32m   1111\u001b[0m hist \u001b[39m=\u001b[39m reshape(hist, nbins)\n\u001b[1;32m   1112\u001b[0m core \u001b[39m=\u001b[39m D\u001b[39m*\u001b[39m(\u001b[39mslice\u001b[39m(\u001b[39m1\u001b[39m, \u001b[39m-\u001b[39m\u001b[39m1\u001b[39m),)\n",
      "File \u001b[0;32m~/Programs/anaconda3/envs/testing/lib/python3.12/site-packages/jax/_src/numpy/lax_numpy.py:2982\u001b[0m, in \u001b[0;36mbincount\u001b[0;34m(x, weights, minlength, length)\u001b[0m\n\u001b[1;32m   2980\u001b[0m \u001b[39melif\u001b[39;00m np\u001b[39m.\u001b[39mshape(x) \u001b[39m!=\u001b[39m np\u001b[39m.\u001b[39mshape(weights):\n\u001b[1;32m   2981\u001b[0m   \u001b[39mraise\u001b[39;00m \u001b[39mValueError\u001b[39;00m(\u001b[39m\"\u001b[39m\u001b[39mshape of weights must match shape of x.\u001b[39m\u001b[39m\"\u001b[39m)\n\u001b[0;32m-> 2982\u001b[0m \u001b[39mreturn\u001b[39;00m zeros(length, _dtype(weights))\u001b[39m.\u001b[39mat[clip(x, \u001b[39m0\u001b[39m)]\u001b[39m.\u001b[39madd(weights, mode\u001b[39m=\u001b[39m\u001b[39m'\u001b[39m\u001b[39mdrop\u001b[39m\u001b[39m'\u001b[39m)\n",
      "File \u001b[0;32m~/Programs/anaconda3/envs/testing/lib/python3.12/site-packages/jax/_src/numpy/array_creation.py:83\u001b[0m, in \u001b[0;36mzeros\u001b[0;34m(shape, dtype, device)\u001b[0m\n\u001b[1;32m     81\u001b[0m dtypes\u001b[39m.\u001b[39mcheck_user_dtype_supported(dtype, \u001b[39m\"\u001b[39m\u001b[39mzeros\u001b[39m\u001b[39m\"\u001b[39m)\n\u001b[1;32m     82\u001b[0m shape \u001b[39m=\u001b[39m canonicalize_shape(shape)\n\u001b[0;32m---> 83\u001b[0m \u001b[39mreturn\u001b[39;00m lax\u001b[39m.\u001b[39mfull(shape, \u001b[39m0\u001b[39m, dtypes\u001b[39m.\u001b[39mjax_dtype(dtype), sharding\u001b[39m=\u001b[39mutil\u001b[39m.\u001b[39mnormalize_device_to_sharding(device))\n",
      "File \u001b[0;32m~/Programs/anaconda3/envs/testing/lib/python3.12/site-packages/jax/_src/lax/lax.py:3356\u001b[0m, in \u001b[0;36mfull\u001b[0;34m(shape, fill_value, dtype, sharding)\u001b[0m\n\u001b[1;32m   3354\u001b[0m   \u001b[39mreturn\u001b[39;00m broadcast(fill_value, shape, out_sharding\u001b[39m=\u001b[39msharding)\n\u001b[1;32m   3355\u001b[0m \u001b[39melse\u001b[39;00m:\n\u001b[0;32m-> 3356\u001b[0m   \u001b[39mreturn\u001b[39;00m broadcast(fill_value, shape)\n",
      "File \u001b[0;32m~/Programs/anaconda3/envs/testing/lib/python3.12/site-packages/jax/_src/lax/lax.py:2691\u001b[0m, in \u001b[0;36mbroadcast\u001b[0;34m(operand, sizes, out_sharding)\u001b[0m\n\u001b[1;32m   2689\u001b[0m   \u001b[39mreturn\u001b[39;00m asarray(operand)\n\u001b[1;32m   2690\u001b[0m dims \u001b[39m=\u001b[39m \u001b[39mtuple\u001b[39m(\u001b[39mrange\u001b[39m(\u001b[39mlen\u001b[39m(sizes), \u001b[39mlen\u001b[39m(sizes) \u001b[39m+\u001b[39m np\u001b[39m.\u001b[39mndim(operand)))\n\u001b[0;32m-> 2691\u001b[0m \u001b[39mreturn\u001b[39;00m broadcast_in_dim(operand, \u001b[39mtuple\u001b[39m(sizes) \u001b[39m+\u001b[39m np\u001b[39m.\u001b[39mshape(operand), dims,\n\u001b[1;32m   2692\u001b[0m                         out_sharding\u001b[39m=\u001b[39mout_sharding)\n",
      "File \u001b[0;32m~/Programs/anaconda3/envs/testing/lib/python3.12/site-packages/jax/_src/lax/lax.py:2725\u001b[0m, in \u001b[0;36mbroadcast_in_dim\u001b[0;34m(operand, shape, broadcast_dimensions, out_sharding)\u001b[0m\n\u001b[1;32m   2723\u001b[0m \u001b[39melse\u001b[39;00m:\n\u001b[1;32m   2724\u001b[0m   dyn_shape, static_shape \u001b[39m=\u001b[39m [], shape  \u001b[39m# type: ignore\u001b[39;00m\n\u001b[0;32m-> 2725\u001b[0m \u001b[39mreturn\u001b[39;00m broadcast_in_dim_p\u001b[39m.\u001b[39mbind(\n\u001b[1;32m   2726\u001b[0m     operand, \u001b[39m*\u001b[39mdyn_shape, shape\u001b[39m=\u001b[39m\u001b[39mtuple\u001b[39m(static_shape),\n\u001b[1;32m   2727\u001b[0m     broadcast_dimensions\u001b[39m=\u001b[39m\u001b[39mtuple\u001b[39m(broadcast_dimensions),\n\u001b[1;32m   2728\u001b[0m     sharding\u001b[39m=\u001b[39mout_sharding)\n",
      "File \u001b[0;32m~/Programs/anaconda3/envs/testing/lib/python3.12/site-packages/jax/_src/core.py:536\u001b[0m, in \u001b[0;36mPrimitive.bind\u001b[0;34m(self, *args, **params)\u001b[0m\n\u001b[1;32m    534\u001b[0m \u001b[39mdef\u001b[39;00m \u001b[39mbind\u001b[39m(\u001b[39mself\u001b[39m, \u001b[39m*\u001b[39margs, \u001b[39m*\u001b[39m\u001b[39m*\u001b[39mparams):\n\u001b[1;32m    535\u001b[0m   args \u001b[39m=\u001b[39m args \u001b[39mif\u001b[39;00m \u001b[39mself\u001b[39m\u001b[39m.\u001b[39mskip_canonicalization \u001b[39melse\u001b[39;00m \u001b[39mmap\u001b[39m(canonicalize_value, args)\n\u001b[0;32m--> 536\u001b[0m   \u001b[39mreturn\u001b[39;00m \u001b[39mself\u001b[39m\u001b[39m.\u001b[39m_true_bind(\u001b[39m*\u001b[39margs, \u001b[39m*\u001b[39m\u001b[39m*\u001b[39mparams)\n",
      "File \u001b[0;32m~/Programs/anaconda3/envs/testing/lib/python3.12/site-packages/jax/_src/core.py:552\u001b[0m, in \u001b[0;36mPrimitive._true_bind\u001b[0;34m(self, *args, **params)\u001b[0m\n\u001b[1;32m    550\u001b[0m trace_ctx\u001b[39m.\u001b[39mset_trace(eval_trace)\n\u001b[1;32m    551\u001b[0m \u001b[39mtry\u001b[39;00m:\n\u001b[0;32m--> 552\u001b[0m   \u001b[39mreturn\u001b[39;00m \u001b[39mself\u001b[39m\u001b[39m.\u001b[39mbind_with_trace(prev_trace, args, params)\n\u001b[1;32m    553\u001b[0m \u001b[39mfinally\u001b[39;00m:\n\u001b[1;32m    554\u001b[0m   trace_ctx\u001b[39m.\u001b[39mset_trace(prev_trace)\n",
      "File \u001b[0;32m~/Programs/anaconda3/envs/testing/lib/python3.12/site-packages/jax/_src/core.py:562\u001b[0m, in \u001b[0;36mPrimitive.bind_with_trace\u001b[0;34m(self, trace, args, params)\u001b[0m\n\u001b[1;32m    559\u001b[0m   \u001b[39mwith\u001b[39;00m set_current_trace(trace):\n\u001b[1;32m    560\u001b[0m     \u001b[39mreturn\u001b[39;00m \u001b[39mself\u001b[39m\u001b[39m.\u001b[39mto_lojax(\u001b[39m*\u001b[39margs, \u001b[39m*\u001b[39m\u001b[39m*\u001b[39mparams)  \u001b[39m# type: ignore\u001b[39;00m\n\u001b[0;32m--> 562\u001b[0m \u001b[39mreturn\u001b[39;00m trace\u001b[39m.\u001b[39mprocess_primitive(\u001b[39mself\u001b[39m, args, params)\n",
      "File \u001b[0;32m~/Programs/anaconda3/envs/testing/lib/python3.12/site-packages/jax/_src/core.py:1066\u001b[0m, in \u001b[0;36mEvalTrace.process_primitive\u001b[0;34m(self, primitive, args, params)\u001b[0m\n\u001b[1;32m   1064\u001b[0m args \u001b[39m=\u001b[39m \u001b[39mmap\u001b[39m(full_lower, args)\n\u001b[1;32m   1065\u001b[0m check_eval_args(args)\n\u001b[0;32m-> 1066\u001b[0m \u001b[39mreturn\u001b[39;00m primitive\u001b[39m.\u001b[39mimpl(\u001b[39m*\u001b[39margs, \u001b[39m*\u001b[39m\u001b[39m*\u001b[39mparams)\n",
      "File \u001b[0;32m~/Programs/anaconda3/envs/testing/lib/python3.12/site-packages/jax/_src/dispatch.py:91\u001b[0m, in \u001b[0;36mapply_primitive\u001b[0;34m(prim, *args, **params)\u001b[0m\n\u001b[1;32m     89\u001b[0m prev \u001b[39m=\u001b[39m lib\u001b[39m.\u001b[39mjax_jit\u001b[39m.\u001b[39mswap_thread_local_state_disable_jit(\u001b[39mFalse\u001b[39;00m)\n\u001b[1;32m     90\u001b[0m \u001b[39mtry\u001b[39;00m:\n\u001b[0;32m---> 91\u001b[0m   outs \u001b[39m=\u001b[39m fun(\u001b[39m*\u001b[39margs)\n\u001b[1;32m     92\u001b[0m \u001b[39mfinally\u001b[39;00m:\n\u001b[1;32m     93\u001b[0m   lib\u001b[39m.\u001b[39mjax_jit\u001b[39m.\u001b[39mswap_thread_local_state_disable_jit(prev)\n",
      "    \u001b[0;31m[... skipping hidden 1 frame]\u001b[0m\n",
      "File \u001b[0;32m~/Programs/anaconda3/envs/testing/lib/python3.12/site-packages/jax/_src/pjit.py:292\u001b[0m, in \u001b[0;36m_cpp_pjit.<locals>.cache_miss\u001b[0;34m(*args, **kwargs)\u001b[0m\n\u001b[1;32m    287\u001b[0m \u001b[39mif\u001b[39;00m config\u001b[39m.\u001b[39mno_tracing\u001b[39m.\u001b[39mvalue:\n\u001b[1;32m    288\u001b[0m   \u001b[39mraise\u001b[39;00m \u001b[39mRuntimeError\u001b[39;00m(\u001b[39mf\u001b[39m\u001b[39m\"\u001b[39m\u001b[39mre-tracing function \u001b[39m\u001b[39m{\u001b[39;00mjit_info\u001b[39m.\u001b[39mfun_sourceinfo\u001b[39m}\u001b[39;00m\u001b[39m for \u001b[39m\u001b[39m\"\u001b[39m\n\u001b[1;32m    289\u001b[0m                      \u001b[39m\"\u001b[39m\u001b[39m`jit`, but \u001b[39m\u001b[39m'\u001b[39m\u001b[39mno_tracing\u001b[39m\u001b[39m'\u001b[39m\u001b[39m is set\u001b[39m\u001b[39m\"\u001b[39m)\n\u001b[1;32m    291\u001b[0m (outs, out_flat, out_tree, args_flat, jaxpr, attrs_tracked, box_data,\n\u001b[0;32m--> 292\u001b[0m  executable, pgle_profiler) \u001b[39m=\u001b[39m _python_pjit_helper(fun, jit_info, \u001b[39m*\u001b[39margs, \u001b[39m*\u001b[39m\u001b[39m*\u001b[39mkwargs)\n\u001b[1;32m    294\u001b[0m maybe_fastpath_data \u001b[39m=\u001b[39m _get_fastpath_data(\n\u001b[1;32m    295\u001b[0m     executable, out_tree, args_flat, out_flat, attrs_tracked, box_data,\n\u001b[1;32m    296\u001b[0m     jaxpr\u001b[39m.\u001b[39meffects, jaxpr\u001b[39m.\u001b[39mconsts, jit_info\u001b[39m.\u001b[39mabstracted_axes, pgle_profiler)\n\u001b[1;32m    298\u001b[0m \u001b[39mreturn\u001b[39;00m outs, maybe_fastpath_data, _need_to_rebuild_with_fdo(pgle_profiler)\n",
      "File \u001b[0;32m~/Programs/anaconda3/envs/testing/lib/python3.12/site-packages/jax/_src/pjit.py:153\u001b[0m, in \u001b[0;36m_python_pjit_helper\u001b[0;34m(fun, jit_info, *args, **kwargs)\u001b[0m\n\u001b[1;32m    151\u001b[0m   args_flat \u001b[39m=\u001b[39m \u001b[39mmap\u001b[39m(core\u001b[39m.\u001b[39mfull_lower, args_flat)\n\u001b[1;32m    152\u001b[0m   core\u001b[39m.\u001b[39mcheck_eval_args(args_flat)\n\u001b[0;32m--> 153\u001b[0m   out_flat, compiled, profiler \u001b[39m=\u001b[39m _pjit_call_impl_python(\u001b[39m*\u001b[39margs_flat, \u001b[39m*\u001b[39m\u001b[39m*\u001b[39mp\u001b[39m.\u001b[39mparams)\n\u001b[1;32m    154\u001b[0m \u001b[39melse\u001b[39;00m:\n\u001b[1;32m    155\u001b[0m   out_flat \u001b[39m=\u001b[39m pjit_p\u001b[39m.\u001b[39mbind(\u001b[39m*\u001b[39margs_flat, \u001b[39m*\u001b[39m\u001b[39m*\u001b[39mp\u001b[39m.\u001b[39mparams)\n",
      "File \u001b[0;32m~/Programs/anaconda3/envs/testing/lib/python3.12/site-packages/jax/_src/pjit.py:1855\u001b[0m, in \u001b[0;36m_pjit_call_impl_python\u001b[0;34m(jaxpr, in_shardings, out_shardings, in_layouts, out_layouts, donated_invars, ctx_mesh, name, keep_unused, inline, compiler_options_kvs, *args)\u001b[0m\n\u001b[1;32m   1843\u001b[0m compiler_options_kvs \u001b[39m=\u001b[39m compiler_options_kvs \u001b[39m+\u001b[39m \u001b[39mtuple\u001b[39m(pgle_compile_options\u001b[39m.\u001b[39mitems())\n\u001b[1;32m   1844\u001b[0m \u001b[39m# Passing mutable PGLE profile here since it should be extracted by JAXPR to\u001b[39;00m\n\u001b[1;32m   1845\u001b[0m \u001b[39m# initialize the fdo_profile compile option.\u001b[39;00m\n\u001b[1;32m   1846\u001b[0m compiled \u001b[39m=\u001b[39m _resolve_and_lower(\n\u001b[1;32m   1847\u001b[0m     args, jaxpr\u001b[39m=\u001b[39mjaxpr, in_shardings\u001b[39m=\u001b[39min_shardings,\n\u001b[1;32m   1848\u001b[0m     out_shardings\u001b[39m=\u001b[39mout_shardings, in_layouts\u001b[39m=\u001b[39min_layouts,\n\u001b[1;32m   1849\u001b[0m     out_layouts\u001b[39m=\u001b[39mout_layouts, donated_invars\u001b[39m=\u001b[39mdonated_invars,\n\u001b[1;32m   1850\u001b[0m     ctx_mesh\u001b[39m=\u001b[39mctx_mesh, name\u001b[39m=\u001b[39mname, keep_unused\u001b[39m=\u001b[39mkeep_unused,\n\u001b[1;32m   1851\u001b[0m     inline\u001b[39m=\u001b[39minline, lowering_platforms\u001b[39m=\u001b[39m\u001b[39mNone\u001b[39;00m,\n\u001b[1;32m   1852\u001b[0m     lowering_parameters\u001b[39m=\u001b[39mmlir\u001b[39m.\u001b[39mLoweringParameters(),\n\u001b[1;32m   1853\u001b[0m     pgle_profiler\u001b[39m=\u001b[39mpgle_profiler,\n\u001b[1;32m   1854\u001b[0m     compiler_options_kvs\u001b[39m=\u001b[39mcompiler_options_kvs,\n\u001b[0;32m-> 1855\u001b[0m )\u001b[39m.\u001b[39mcompile()\n\u001b[1;32m   1857\u001b[0m \u001b[39m# This check is expensive so only do it if enable_checks is on.\u001b[39;00m\n\u001b[1;32m   1858\u001b[0m \u001b[39mif\u001b[39;00m compiled\u001b[39m.\u001b[39m_auto_spmd_lowering \u001b[39mand\u001b[39;00m config\u001b[39m.\u001b[39menable_checks\u001b[39m.\u001b[39mvalue:\n",
      "File \u001b[0;32m~/Programs/anaconda3/envs/testing/lib/python3.12/site-packages/jax/_src/interpreters/pxla.py:2410\u001b[0m, in \u001b[0;36mMeshComputation.compile\u001b[0;34m(self, compiler_options)\u001b[0m\n\u001b[1;32m   2408\u001b[0m compiler_options_kvs \u001b[39m=\u001b[39m \u001b[39mself\u001b[39m\u001b[39m.\u001b[39m_compiler_options_kvs \u001b[39m+\u001b[39m t_compiler_options\n\u001b[1;32m   2409\u001b[0m \u001b[39mif\u001b[39;00m \u001b[39mself\u001b[39m\u001b[39m.\u001b[39m_executable \u001b[39mis\u001b[39;00m \u001b[39mNone\u001b[39;00m \u001b[39mor\u001b[39;00m compiler_options_kvs:\n\u001b[0;32m-> 2410\u001b[0m   executable \u001b[39m=\u001b[39m UnloadedMeshExecutable\u001b[39m.\u001b[39mfrom_hlo(\n\u001b[1;32m   2411\u001b[0m       \u001b[39mself\u001b[39m\u001b[39m.\u001b[39m_name, \u001b[39mself\u001b[39m\u001b[39m.\u001b[39m_hlo, \u001b[39m*\u001b[39m\u001b[39m*\u001b[39m\u001b[39mself\u001b[39m\u001b[39m.\u001b[39mcompile_args,\n\u001b[1;32m   2412\u001b[0m       compiler_options_kvs\u001b[39m=\u001b[39mcompiler_options_kvs)\n\u001b[1;32m   2413\u001b[0m   \u001b[39mif\u001b[39;00m \u001b[39mnot\u001b[39;00m compiler_options_kvs:\n\u001b[1;32m   2414\u001b[0m     \u001b[39mself\u001b[39m\u001b[39m.\u001b[39m_executable \u001b[39m=\u001b[39m executable\n",
      "File \u001b[0;32m~/Programs/anaconda3/envs/testing/lib/python3.12/site-packages/jax/_src/interpreters/pxla.py:2952\u001b[0m, in \u001b[0;36mUnloadedMeshExecutable.from_hlo\u001b[0;34m(***failed resolving arguments***)\u001b[0m\n\u001b[1;32m   2949\u001b[0m       \u001b[39mbreak\u001b[39;00m\n\u001b[1;32m   2951\u001b[0m util\u001b[39m.\u001b[39mtest_event(\u001b[39m\"\u001b[39m\u001b[39mpxla_cached_compilation\u001b[39m\u001b[39m\"\u001b[39m)\n\u001b[0;32m-> 2952\u001b[0m xla_executable \u001b[39m=\u001b[39m _cached_compilation(\n\u001b[1;32m   2953\u001b[0m     hlo, name, mesh, spmd_lowering,\n\u001b[1;32m   2954\u001b[0m     tuple_args, auto_spmd_lowering, allow_prop_to_inputs,\n\u001b[1;32m   2955\u001b[0m     allow_prop_to_outputs, \u001b[39mtuple\u001b[39m(host_callbacks), backend, da, pmap_nreps,\n\u001b[1;32m   2956\u001b[0m     compiler_options_kvs, pgle_profiler)\n\u001b[1;32m   2958\u001b[0m \u001b[39mif\u001b[39;00m auto_spmd_lowering:\n\u001b[1;32m   2959\u001b[0m   \u001b[39massert\u001b[39;00m mesh \u001b[39mis\u001b[39;00m \u001b[39mnot\u001b[39;00m \u001b[39mNone\u001b[39;00m\n",
      "File \u001b[0;32m~/Programs/anaconda3/envs/testing/lib/python3.12/site-packages/jax/_src/interpreters/pxla.py:2743\u001b[0m, in \u001b[0;36m_cached_compilation\u001b[0;34m(computation, name, mesh, spmd_lowering, tuple_args, auto_spmd_lowering, allow_prop_to_inputs, allow_prop_to_outputs, host_callbacks, backend, da, pmap_nreps, compiler_options_kvs, pgle_profiler)\u001b[0m\n\u001b[1;32m   2735\u001b[0m compile_options \u001b[39m=\u001b[39m create_compile_options(\n\u001b[1;32m   2736\u001b[0m     computation, mesh, spmd_lowering, tuple_args, auto_spmd_lowering,\n\u001b[1;32m   2737\u001b[0m     allow_prop_to_inputs, allow_prop_to_outputs, backend,\n\u001b[1;32m   2738\u001b[0m     dev, pmap_nreps, compiler_options)\n\u001b[1;32m   2740\u001b[0m \u001b[39mwith\u001b[39;00m dispatch\u001b[39m.\u001b[39mlog_elapsed_time(\n\u001b[1;32m   2741\u001b[0m     \u001b[39m\"\u001b[39m\u001b[39mFinished XLA compilation of \u001b[39m\u001b[39m{fun_name}\u001b[39;00m\u001b[39m in \u001b[39m\u001b[39m{elapsed_time:.9f}\u001b[39;00m\u001b[39m sec\u001b[39m\u001b[39m\"\u001b[39m,\n\u001b[1;32m   2742\u001b[0m     fun_name\u001b[39m=\u001b[39mname, event\u001b[39m=\u001b[39mdispatch\u001b[39m.\u001b[39mBACKEND_COMPILE_EVENT):\n\u001b[0;32m-> 2743\u001b[0m   xla_executable \u001b[39m=\u001b[39m compiler\u001b[39m.\u001b[39mcompile_or_get_cached(\n\u001b[1;32m   2744\u001b[0m       backend, computation, dev, compile_options, host_callbacks,\n\u001b[1;32m   2745\u001b[0m       da, pgle_profiler)\n\u001b[1;32m   2746\u001b[0m \u001b[39mreturn\u001b[39;00m xla_executable\n",
      "File \u001b[0;32m~/Programs/anaconda3/envs/testing/lib/python3.12/site-packages/jax/_src/compiler.py:500\u001b[0m, in \u001b[0;36mcompile_or_get_cached\u001b[0;34m(backend, computation, devices, compile_options, host_callbacks, executable_devices, pgle_profiler)\u001b[0m\n\u001b[1;32m    498\u001b[0m \u001b[39melse\u001b[39;00m:\n\u001b[1;32m    499\u001b[0m   log_persistent_cache_miss(module_name, cache_key)\n\u001b[0;32m--> 500\u001b[0m   \u001b[39mreturn\u001b[39;00m _compile_and_write_cache(\n\u001b[1;32m    501\u001b[0m       backend,\n\u001b[1;32m    502\u001b[0m       computation,\n\u001b[1;32m    503\u001b[0m       executable_devices,\n\u001b[1;32m    504\u001b[0m       compile_options,\n\u001b[1;32m    505\u001b[0m       host_callbacks,\n\u001b[1;32m    506\u001b[0m       module_name,\n\u001b[1;32m    507\u001b[0m       cache_key,\n\u001b[1;32m    508\u001b[0m   )\n",
      "File \u001b[0;32m~/Programs/anaconda3/envs/testing/lib/python3.12/site-packages/jax/_src/compiler.py:768\u001b[0m, in \u001b[0;36m_compile_and_write_cache\u001b[0;34m(backend, computation, executable_devices, compile_options, host_callbacks, module_name, cache_key)\u001b[0m\n\u001b[1;32m    758\u001b[0m \u001b[39mdef\u001b[39;00m \u001b[39m_compile_and_write_cache\u001b[39m(\n\u001b[1;32m    759\u001b[0m     backend: xc\u001b[39m.\u001b[39mClient,\n\u001b[1;32m    760\u001b[0m     computation: ir\u001b[39m.\u001b[39mModule,\n\u001b[0;32m   (...)\u001b[0m\n\u001b[1;32m    765\u001b[0m     cache_key: \u001b[39mstr\u001b[39m,\n\u001b[1;32m    766\u001b[0m ) \u001b[39m-\u001b[39m\u001b[39m>\u001b[39m xc\u001b[39m.\u001b[39mLoadedExecutable:\n\u001b[1;32m    767\u001b[0m   start_time \u001b[39m=\u001b[39m time\u001b[39m.\u001b[39mmonotonic()\n\u001b[0;32m--> 768\u001b[0m   executable \u001b[39m=\u001b[39m backend_compile_and_load(\n\u001b[1;32m    769\u001b[0m       backend, computation, executable_devices, compile_options, host_callbacks\n\u001b[1;32m    770\u001b[0m   )\n\u001b[1;32m    771\u001b[0m   compile_time \u001b[39m=\u001b[39m time\u001b[39m.\u001b[39mmonotonic() \u001b[39m-\u001b[39m start_time\n\u001b[1;32m    772\u001b[0m   _cache_write(\n\u001b[1;32m    773\u001b[0m       cache_key, compile_time, module_name, backend, executable, host_callbacks\n\u001b[1;32m    774\u001b[0m   )\n",
      "File \u001b[0;32m~/Programs/anaconda3/envs/testing/lib/python3.12/site-packages/jax/_src/profiler.py:354\u001b[0m, in \u001b[0;36mannotate_function.<locals>.wrapper\u001b[0;34m(*args, **kwargs)\u001b[0m\n\u001b[1;32m    351\u001b[0m \u001b[39m@wraps\u001b[39m(func)\n\u001b[1;32m    352\u001b[0m \u001b[39mdef\u001b[39;00m \u001b[39mwrapper\u001b[39m(\u001b[39m*\u001b[39margs, \u001b[39m*\u001b[39m\u001b[39m*\u001b[39mkwargs):\n\u001b[1;32m    353\u001b[0m   \u001b[39mwith\u001b[39;00m TraceAnnotation(name, \u001b[39m*\u001b[39m\u001b[39m*\u001b[39mdecorator_kwargs):\n\u001b[0;32m--> 354\u001b[0m     \u001b[39mreturn\u001b[39;00m func(\u001b[39m*\u001b[39margs, \u001b[39m*\u001b[39m\u001b[39m*\u001b[39mkwargs)\n",
      "File \u001b[0;32m~/Programs/anaconda3/envs/testing/lib/python3.12/site-packages/jax/_src/compiler.py:385\u001b[0m, in \u001b[0;36mbackend_compile_and_load\u001b[0;34m(backend, module, executable_devices, options, host_callbacks)\u001b[0m\n\u001b[1;32m    376\u001b[0m       \u001b[39mreturn\u001b[39;00m backend\u001b[39m.\u001b[39mcompile_and_load(\n\u001b[1;32m    377\u001b[0m           built_c,\n\u001b[1;32m    378\u001b[0m           executable_devices\u001b[39m=\u001b[39mexecutable_devices,\n\u001b[1;32m    379\u001b[0m           compile_options\u001b[39m=\u001b[39moptions,\n\u001b[1;32m    380\u001b[0m           host_callbacks\u001b[39m=\u001b[39mhost_callbacks,\n\u001b[1;32m    381\u001b[0m       )\n\u001b[1;32m    382\u001b[0m     \u001b[39m# Some backends don't have `host_callbacks` option yet\u001b[39;00m\n\u001b[1;32m    383\u001b[0m     \u001b[39m# TODO(sharadmv): remove this fallback when all backends allow `compile`\u001b[39;00m\n\u001b[1;32m    384\u001b[0m     \u001b[39m# to take in `host_callbacks`\u001b[39;00m\n\u001b[0;32m--> 385\u001b[0m     \u001b[39mreturn\u001b[39;00m backend\u001b[39m.\u001b[39mcompile_and_load(\n\u001b[1;32m    386\u001b[0m         built_c,\n\u001b[1;32m    387\u001b[0m         executable_devices\u001b[39m=\u001b[39mexecutable_devices,\n\u001b[1;32m    388\u001b[0m         compile_options\u001b[39m=\u001b[39moptions,\n\u001b[1;32m    389\u001b[0m     )\n\u001b[1;32m    390\u001b[0m \u001b[39mexcept\u001b[39;00m xc\u001b[39m.\u001b[39mXlaRuntimeError \u001b[39mas\u001b[39;00m e:\n\u001b[1;32m    391\u001b[0m   \u001b[39mfor\u001b[39;00m error_handler \u001b[39min\u001b[39;00m _XLA_RUNTIME_ERROR_HANDLERS:\n",
      "\u001b[0;31mKeyboardInterrupt\u001b[0m: "
     ]
    }
   ],
   "source": [
    "#in the diagnostic initialisation, details on the lens configurations, and detector dimensions can be specified\n",
    "refractometer = diag.Refractometry(lwl, rf)\n",
    "refractometer.incoherent_solve()\n",
    "# cam't clear_mem if you want to generate other graphs afterwards\n",
    "refractometer.histogram(bin_scale = 1, clear_mem = False)\n",
    "\n",
    "#information accessed by .H(istogram) , e.g plt.imshow(refractometer.H)\n",
    "\n",
    "#plt.imshow(refractometer.H, cmap='hot', interpolation='nearest', clim = (0, 2))\n",
    "plt.imshow(refractometer.H, cmap = 'hot', interpolation = 'nearest', clim = (0.5, 1))"
   ]
  },
  {
   "cell_type": "code",
   "execution_count": null,
   "metadata": {},
   "outputs": [
    {
     "name": "stdout",
     "output_type": "stream",
     "text": [
      "\n",
      "rf size expected: (992, 992)\n",
      "rf after clearing nan's: (992, 992)\n"
     ]
    },
    {
     "data": {
      "text/plain": [
       "<matplotlib.image.AxesImage at 0x7f9ec4799310>"
      ]
     },
     "execution_count": 6,
     "metadata": {},
     "output_type": "execute_result"
    },
    {
     "data": {
      "image/png": "[encoded data removed]",
      "text/plain": [
       "<Figure size 640x480 with 1 Axes>"
      ]
     },
     "metadata": {},
     "output_type": "display_data"
    }
   ],
   "source": [
    "shadowgrapher = diag.Shadowgraphy(lwl, rf)\n",
    "shadowgrapher.single_lens_solve()\n",
    "shadowgrapher.histogram(bin_scale = 1, clear_mem = False)\n",
    "\n",
    "plt.imshow(shadowgrapher.H, cmap = 'hot', interpolation = 'nearest', clim = (0.5, 1))"
   ]
  },
  {
   "cell_type": "code",
   "execution_count": null,
   "metadata": {},
   "outputs": [
    {
     "name": "stdout",
     "output_type": "stream",
     "text": [
      "\n",
      "rf size expected: (992, 992)\n",
      "rf after clearing nan's: (0, 0)\n"
     ]
    },
    {
     "data": {
      "text/plain": [
       "<matplotlib.image.AxesImage at 0x7f9ecf533bc0>"
      ]
     },
     "execution_count": 7,
     "metadata": {},
     "output_type": "execute_result"
    },
    {
     "data": {
      "image/png": "[encoded data removed]",
      "text/plain": [
       "<Figure size 640x480 with 1 Axes>"
      ]
     },
     "metadata": {},
     "output_type": "display_data"
    }
   ],
   "source": [
    "schlierener = diag.Schlieren(lwl, rf)\n",
    "schlierener.DF_solve()\n",
    "schlierener.histogram(bin_scale = 1, clear_mem = True)\n",
    "\n",
    "plt.imshow(schlierener.H, cmap = 'hot', interpolation = 'nearest', clim = (0.5, 1))"
   ]
  },
  {
   "cell_type": "markdown",
   "metadata": {},
   "source": [
    "Synthetic Interferometry - This requires some extra steps in the ray tracing to include information on the phase and electric field values"
   ]
  },
  {
   "cell_type": "code",
   "execution_count": null,
   "metadata": {},
   "outputs": [
    {
     "name": "stdout",
     "output_type": "stream",
     "text": [
      "\n",
      "Size in memory of initial rays: 712B\n",
      "\n",
      "Running device: cpu, with: 16 cores.\n",
      "NamedSharding(mesh=Mesh('cols': 16, axis_types=(Auto,)), spec=PartitionSpec(None, 'cols'), memory_kind=unpinned_host)\n",
      "\n",
      "jax compilation of solver took: 0.0010533332824707031 seconds\n",
      "\n",
      "Size in memory of initial rays: 712B\n",
      "Size in memory of solution: 48B\n",
      "Size in memory of propagator class: 48B\n",
      "\n",
      "No pprof install detected. Please download (using go) to visualise memory usage.\n",
      "\n",
      "Parallelised output has resulting 3D matrix of form: [batch_count, 2, 9]: (992, 2, 9)\n",
      "\t2 to account for the start and end results\n",
      "\t9 containing the 3 position and velocity components, amplitude, phase and polarisation\n",
      "\tIf batch_count is lower than expected, this is likely due to jax's forced integer batch sharding when parallelising over cpu cores.\n",
      "\n",
      "We slice the end result and transpose into the form: (9, 992) to work with later code.\n"
     ]
    },
    {
     "data": {
      "text/plain": [
       "\"\\ninterferometrer = diag.Interferometry(lwl, rf, Jf)\\ninterferometrer.interfere_ref_beam(n_fringes, deg)\\n\\npattern = diag.Interferometry(lwl, rf, Jf)\\n#pattern = interferometrer\\npattern.two_lens_solve()\\npattern.interferogram(bin_scale = 1, clear_mem = True) #use interferogram instead of histogram\\n\\n#get interferogram histogram with sh.H\\nplt.imshow(pattern.H, cmap = 'hot', interpolation = 'nearest')\\n\""
      ]
     },
     "execution_count": 8,
     "metadata": {},
     "output_type": "execute_result"
    }
   ],
   "source": [
    "# No need to change the domain (now that code has been seperated out in restructure)\n",
    "\n",
    "\n",
    "\n",
    "# load some external pvti\n",
    "\n",
    "# import utils.handle_filetypes as load\n",
    "# ne, dim, spacing = load.pvti_readin(filename)\n",
    "\n",
    "# or load a test distribution\n",
    "\n",
    "\n",
    "\n",
    "# initialise beam\n",
    "\n",
    "\n",
    "\n",
    "# solve ray trace\n",
    "tracer = p.Propagator(domain, probing_direction = probing_direction, inv_brems = False, phaseshift = True)\n",
    "\n",
    "tracer.calc_dndr()\n",
    "rf, Jf = tracer.solve(beam_definition.s0, return_E = True)\n",
    "\n",
    "n_fringes = 10\n",
    "deg = 10 #adjust number of fringes and tilt in degrees from the vertical exis\n",
    "\n",
    "'''\n",
    "interferometrer = diag.Interferometry(lwl, rf, Jf)\n",
    "interferometrer.interfere_ref_beam(n_fringes, deg)\n",
    "\n",
    "pattern = diag.Interferometry(lwl, rf, Jf)\n",
    "#pattern = interferometrer\n",
    "pattern.two_lens_solve()\n",
    "pattern.interferogram(bin_scale = 1, clear_mem = True) #use interferogram instead of histogram\n",
    "\n",
    "#get interferogram histogram with sh.H\n",
    "plt.imshow(pattern.H, cmap = 'hot', interpolation = 'nearest')\n",
    "'''"
   ]
  },
  {
   "cell_type": "code",
   "execution_count": null,
   "metadata": {},
   "outputs": [
    {
     "name": "stdout",
     "output_type": "stream",
     "text": [
      "\n",
      "rf size expected: (992, 992)\n",
      "rf after clearing nan's: (992, 992)\n"
     ]
    },
    {
     "data": {
      "text/plain": [
       "<matplotlib.image.AxesImage at 0x7f9ec4d6c860>"
      ]
     },
     "execution_count": 9,
     "metadata": {},
     "output_type": "execute_result"
    },
    {
     "data": {
      "image/png": "[encoded data removed]",
      "text/plain": [
       "<Figure size 640x480 with 1 Axes>"
      ]
     },
     "metadata": {},
     "output_type": "display_data"
    }
   ],
   "source": [
    "refractometer = diag.Refractometry(lwl, rf, Jf)\n",
    "refractometer.incoherent_solve()\n",
    "refractometer.histogram(bin_scale = 1, clear_mem = False)\n",
    "\n",
    "plt.imshow(refractometer.H, cmap = 'hot', interpolation = 'nearest', clim = (0.5, 1))"
   ]
  },
  {
   "cell_type": "code",
   "execution_count": null,
   "metadata": {},
   "outputs": [
    {
     "name": "stdout",
     "output_type": "stream",
     "text": [
      "\n",
      "rf size expected: (992, 992)\n",
      "rf after clearing nan's: (992, 992)\n"
     ]
    },
    {
     "data": {
      "text/plain": [
       "<matplotlib.image.AxesImage at 0x7f9ea4572a50>"
      ]
     },
     "execution_count": 10,
     "metadata": {},
     "output_type": "execute_result"
    },
    {
     "data": {
      "image/png": "[encoded data removed]",
      "text/plain": [
       "<Figure size 640x480 with 1 Axes>"
      ]
     },
     "metadata": {},
     "output_type": "display_data"
    }
   ],
   "source": [
    "refractometer = diag.Refractometry(lwl, rf, Jf)\n",
    "refractometer.coherent_solve()\n",
    "refractometer.histogram(bin_scale = 1, clear_mem = False)\n",
    "\n",
    "plt.imshow(refractometer.H, cmap = 'hot', interpolation = 'nearest', clim = (0.5, 1))"
   ]
  },
  {
   "cell_type": "code",
   "execution_count": null,
   "metadata": {},
   "outputs": [],
   "source": []
  }
 ],
 "metadata": {
  "kernelspec": {
   "display_name": "Python 3.12.5 ('testing')",
   "language": "python",
   "name": "python3"
  },
  "language_info": {
   "codemirror_mode": {
    "name": "ipython",
    "version": 3
   },
   "file_extension": ".py",
   "mimetype": "text/x-python",
   "name": "python",
   "nbconvert_exporter": "python",
   "pygments_lexer": "ipython3",
   "version": "3.12.5"
  },
  "vscode": {
   "interpreter": {
    "hash": "de6d706a21dde6ee649de53d1c8cba9d9f8e9ee05a3542c9798512c888fa8306"
   }
  }
 },
 "nbformat": 4,
 "nbformat_minor": 4
}
