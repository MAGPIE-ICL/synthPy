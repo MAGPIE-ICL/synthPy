{
 "cells": [
  {
   "cell_type": "markdown",
   "metadata": {},
   "source": [
    "### Test - Synthetic Diagnostic + Interferometry\n",
    "\n",
    "</b> Author:   </b>  Louis Evans     </br>\n",
    "</b> Reviewer: </b>  Stefano Merlini"
   ]
  },
  {
   "cell_type": "markdown",
   "metadata": {},
   "source": [
    "### Import relevant files:"
   ]
  },
  {
   "cell_type": "code",
   "execution_count": 190,
   "metadata": {},
   "outputs": [
    {
     "data": {
      "text/plain": [
       "<module 'utils' from '/home/administrator/Work/UROP_ICL_Internship/synthPy/examples/notebooks/../../synthPy_restructured/utils.py'>"
      ]
     },
     "execution_count": 190,
     "metadata": {},
     "output_type": "execute_result"
    }
   ],
   "source": [
    "import numpy as np\n",
    "import matplotlib.pyplot as plt\n",
    "import vtk\n",
    "from vtk.util import numpy_support as vtk_np\n",
    "import matplotlib.pyplot as plt\n",
    "\n",
    "import sys\n",
    "\n",
    "#add path\n",
    "sys.path.insert(0, '../../synthPy_restructured')     # import path/to/synthpy\n",
    "\n",
    "import beam as beam_initialiser\n",
    "import diagnostics as diag\n",
    "import domain as d\n",
    "import propagator as p\n",
    "#import propagator_backup_non_jax as p\n",
    "import utils\n",
    "\n",
    "import importlib\n",
    "importlib.reload(beam_initialiser)\n",
    "importlib.reload(diag)\n",
    "importlib.reload(d)\n",
    "importlib.reload(p)\n",
    "importlib.reload(utils)"
   ]
  },
  {
   "cell_type": "markdown",
   "metadata": {},
   "source": [
    "To use the ray tracer, first create a 'domain', load the domain with an electron distribution, calculate electron gradients, initialise a beam, and solve!\n",
    "\\\n",
    "\\\n",
    "The output can either be plotted, or passed further through ray optics for synthetic diagnostics"
   ]
  },
  {
   "cell_type": "code",
   "execution_count": 191,
   "metadata": {},
   "outputs": [],
   "source": [
    "# define some extent, the domain should be distributed as +extent to -extent, does not need to be cubic\n",
    "extent_x = 5e-3\n",
    "extent_y = 5e-3\n",
    "extent_z = 10e-3\n",
    "\n",
    "n_cells = 100\n",
    "\n",
    "x = np.linspace(-extent_x, extent_x, n_cells)\n",
    "y = np.linspace(-extent_y, extent_y, n_cells)\n",
    "z = np.linspace(-extent_z, extent_z, n_cells)\n",
    "\n",
    "probing_extent = extent_z\n",
    "probing_direction = 'z'\n",
    "\n",
    "lengths = 2 * np.array([extent_x, extent_y, extent_z])\n",
    "\n",
    "#domain = d.ScalarDomain(x = x, y = y, z = z, extent= probing_extent, probing_direction = probing_direction)     # create domain\n",
    "# Much simpler domain function, no longer needlessly takes in beam values, they are fully seperated\n",
    "domain = d.ScalarDomain(lengths, n_cells) # B_on = False by default"
   ]
  },
  {
   "cell_type": "markdown",
   "metadata": {},
   "source": [
    "Load some domain distribution"
   ]
  },
  {
   "cell_type": "code",
   "execution_count": 192,
   "metadata": {},
   "outputs": [],
   "source": [
    "# load some external pvti\n",
    "# import utils.handle_filetypes as load\n",
    "# ne, dim, spacing = load.pvti_readin(filename)\n",
    "# or load a test distribution\n",
    "\n",
    "#domain.ne = np.full((100, 100, 100), 1e24)\n",
    "#domain.test_exponential_cos()\n",
    "domain.test_slab(0.000001, 1e24)"
   ]
  },
  {
   "cell_type": "markdown",
   "metadata": {},
   "source": [
    "Solve gradients, initialise beam, and solve"
   ]
  },
  {
   "cell_type": "code",
   "execution_count": 193,
   "metadata": {},
   "outputs": [
    {
     "name": "stdout",
     "output_type": "stream",
     "text": [
      "\n",
      "Available devices: [CpuDevice(id=0)]\n",
      "jax compilation of solver took: 0.0011217594146728516\n",
      "\n",
      "Parallelised output has resulting 3D matrix of form: [batch_count, 2, 9]: (10000, 2, 9)\n",
      "\t2 to account for the start and end results\n",
      "\t9 containing the 3 position and velocity components, amplitude, phase and polarisation\n",
      "\n",
      "We reshape into the form: (9, 10000) to work with later code.\n",
      "\n",
      "x-y size expected: (10000, 10000)\n",
      "Final rays: [[-7.99621992e-04  2.30988119e-03  1.82842712e-02 ...  0.00000000e+00\n",
      "   0.00000000e+00 -2.59815214e-03]\n",
      " [-2.40422904e-03  1.82842713e-02  3.33424335e+02 ...  0.00000000e+00\n",
      "   2.49393630e-03  7.64827871e-04]\n",
      " [ 1.82842713e-02  4.04888722e+02  2.97576403e+03 ...  8.62425787e-04\n",
      "  -6.73735506e-04  1.82842713e-02]\n",
      " ...\n",
      " [ 1.00000000e+00  0.00000000e+00  0.00000000e+00 ... -2.81151245e+03\n",
      "   2.99792457e+08  1.00000000e+00]\n",
      " [ 0.00000000e+00  0.00000000e+00  5.86386025e-04 ...  2.99792458e+08\n",
      "   1.00000000e+00  0.00000000e+00]\n",
      " [ 0.00000000e+00  4.77725877e-03  6.36950071e-04 ...  1.00000000e+00\n",
      "   0.00000000e+00  0.00000000e+00]]\n",
      "x-y after clearing nan's: (10000, 10000)\n",
      "\n",
      "Completed ray trace in 6.748 seconds.\n",
      "\n",
      "x-y size expected: (10000, 10000)\n",
      "Final rays: [[-7.99621333e-04 -4.37467772e-03  4.81947460e-03 ... -8.18247627e-05\n",
      "   6.36603411e-04 -5.90208324e-04]\n",
      " [ 2.30988120e-03 -7.23144435e-04  2.61633567e-04 ... -1.97305029e-04\n",
      "   8.62949328e-04  4.22124437e-03]\n",
      " [ 1.82842712e-02  1.82842712e-02  1.82842712e-02 ...  1.82842712e-02\n",
      "   1.82842710e-02  1.82842712e-02]\n",
      " ...\n",
      " [ 1.00000000e+00  1.00000000e+00  1.00000000e+00 ...  1.00000000e+00\n",
      "   1.00000000e+00  1.00000000e+00]\n",
      " [ 0.00000000e+00  0.00000000e+00  0.00000000e+00 ...  0.00000000e+00\n",
      "   0.00000000e+00  0.00000000e+00]\n",
      " [ 0.00000000e+00  0.00000000e+00  0.00000000e+00 ...  0.00000000e+00\n",
      "   0.00000000e+00  0.00000000e+00]]\n",
      "x-y after clearing nan's: (10000, 10000)\n",
      "\n",
      "Completed ray trace in 1.186 seconds.\n",
      "[[-2.29392822e-07  1.04084262e+06            -inf ...  8.17742578e-05\n",
      "  -6.37383349e-04 -2.00813026e-03]\n",
      " [ 2.76106623e-05 -1.57040658e+00  1.57084230e+00 ...  2.87133295e-06\n",
      "   8.18066796e-05  2.25061785e-05]\n",
      " [-4.71462302e-03 -1.21379587e+11            -inf ...  1.97172334e-04\n",
      "  -3.17250728e-02 -3.45572445e-03]\n",
      " [ 6.18982561e-05  1.57079613e+00  1.57076376e+00 ...  4.46245456e-07\n",
      "  -1.26119737e+00 -8.35373701e-05]]\n"
     ]
    }
   ],
   "source": [
    "wl = 1064e-9 #define laser wavelength\n",
    "\n",
    "# initialise beam\n",
    "Np = 10000    # number of photons\n",
    "divergence = 5e-5   # realistic divergence value\n",
    "beam_size = extent_x    # beam radius\n",
    "ne_extent = probing_extent  # so the beam knows where to initialise initial positions\n",
    "beam_type = 'circular'\n",
    "\n",
    "initial_rays = beam_initialiser.Beam(Np, beam_size, divergence, ne_extent, probing_direction, wl, beam_type)\n",
    "\n",
    "tracer = p.Propagator(domain, initial_rays, inv_brems = False, phaseshift = False)\n",
    "\n",
    "# solve ray trace\n",
    "tracer.calc_dndr()\n",
    "final_rays = tracer.solve(parallelise = True, jitted = True)\n",
    "#final_rays, final_rays_to_Jonesvector = tracer.Beam.rf, tracer.Beam.Jf\n",
    "print(\"\\nCompleted ray trace in\", np.round(tracer.duration, 3), \"seconds.\")\n",
    "\n",
    "\n",
    "\n",
    "tracer1 = p.Propagator(domain, initial_rays, inv_brems = False, phaseshift = False)\n",
    "tracer1.calc_dndr()\n",
    "final_rays1 = tracer1.solve(parallelise = False, jitted = False)\n",
    "print(\"\\nCompleted ray trace in\", np.round(tracer1.duration, 3), \"seconds.\")\n",
    "\n",
    "print(final_rays - final_rays1)"
   ]
  },
  {
   "cell_type": "markdown",
   "metadata": {},
   "source": [
    "Pass through ray optics: For Shadowgaphy, Schlieren, or Refractometry:"
   ]
  },
  {
   "cell_type": "code",
   "execution_count": 194,
   "metadata": {},
   "outputs": [
    {
     "name": "stdout",
     "output_type": "stream",
     "text": [
      "\n",
      "rf size expected: (10000, 10000)\n",
      "rf after clearing nan's: (10000, 10000)\n"
     ]
    },
    {
     "data": {
      "text/plain": [
       "<matplotlib.image.AxesImage at 0x7f7ad2ebac60>"
      ]
     },
     "execution_count": 194,
     "metadata": {},
     "output_type": "execute_result"
    },
    {
     "data": {
      "image/png": "[encoded data removed]",
      "text/plain": [
       "<Figure size 640x480 with 1 Axes>"
      ]
     },
     "metadata": {},
     "output_type": "display_data"
    }
   ],
   "source": [
    "#in the diagnostic initialisation, details on the lens configurations, and detector dimensions can be specified\n",
    "refractometer = diag.Refractometry(tracer.Beam)\n",
    "refractometer.incoherent_solve()\n",
    "# cam't clear_mem if you want to generate other graphs afterwards\n",
    "refractometer.histogram(bin_scale = 1, clear_mem = False)\n",
    "\n",
    "#information accessed by .H(istogram) , e.g plt.imshow(refractometer.H)\n",
    "\n",
    "#plt.imshow(refractometer.H, cmap='hot', interpolation='nearest', clim = (0, 2))\n",
    "plt.imshow(refractometer.H, cmap = 'hot', interpolation = 'nearest', clim = (0.5, 1))"
   ]
  },
  {
   "cell_type": "code",
   "execution_count": 195,
   "metadata": {},
   "outputs": [
    {
     "name": "stdout",
     "output_type": "stream",
     "text": [
      "\n",
      "rf size expected: (10000, 10000)\n",
      "rf after clearing nan's: (10000, 10000)\n"
     ]
    },
    {
     "data": {
      "text/plain": [
       "<matplotlib.image.AxesImage at 0x7f7ad2a7b650>"
      ]
     },
     "execution_count": 195,
     "metadata": {},
     "output_type": "execute_result"
    },
    {
     "data": {
      "image/png": "[encoded data removed]",
      "text/plain": [
       "<Figure size 640x480 with 1 Axes>"
      ]
     },
     "metadata": {},
     "output_type": "display_data"
    }
   ],
   "source": [
    "shadowgrapher = diag.Shadowgraphy(tracer.Beam)\n",
    "shadowgrapher.single_lens_solve()\n",
    "shadowgrapher.histogram(bin_scale = 1, clear_mem = False)\n",
    "\n",
    "plt.imshow(shadowgrapher.H, cmap = 'hot', interpolation = 'nearest', clim = (0.5, 1))"
   ]
  },
  {
   "cell_type": "code",
   "execution_count": 196,
   "metadata": {},
   "outputs": [
    {
     "name": "stdout",
     "output_type": "stream",
     "text": [
      "\n",
      "rf size expected: (10000, 10000)\n",
      "rf after clearing nan's: (0, 0)\n"
     ]
    },
    {
     "data": {
      "text/plain": [
       "<matplotlib.image.AxesImage at 0x7f7ad2057590>"
      ]
     },
     "execution_count": 196,
     "metadata": {},
     "output_type": "execute_result"
    },
    {
     "data": {
      "image/png": "[encoded data removed]",
      "text/plain": [
       "<Figure size 640x480 with 1 Axes>"
      ]
     },
     "metadata": {},
     "output_type": "display_data"
    }
   ],
   "source": [
    "schlierener = diag.Schlieren(tracer.Beam)\n",
    "schlierener.DF_solve()\n",
    "schlierener.histogram(bin_scale = 1, clear_mem = True)\n",
    "\n",
    "plt.imshow(schlierener.H, cmap = 'hot', interpolation = 'nearest', clim = (0.5, 1))"
   ]
  },
  {
   "cell_type": "markdown",
   "metadata": {},
   "source": [
    "Synthetic Interferometry - This requires some extra steps in the ray tracing to include information on the phase and electric field values"
   ]
  },
  {
   "cell_type": "code",
   "execution_count": 197,
   "metadata": {},
   "outputs": [
    {
     "name": "stdout",
     "output_type": "stream",
     "text": [
      "\n",
      "x-y size expected: (10000, 10000)\n",
      "Final rays: [[-7.99621721e-04 -4.37467811e-03  4.81947423e-03 ... -8.18251446e-05\n",
      "   6.36603042e-04 -5.90208726e-04]\n",
      " [ 2.30988119e-03 -7.23144440e-04  2.61633575e-04 ... -1.97305040e-04\n",
      "   8.62949327e-04  4.22124437e-03]\n",
      " [ 1.82842712e-02  1.82842712e-02  1.82842712e-02 ...  1.82842712e-02\n",
      "   1.82842710e-02  1.82842712e-02]\n",
      " ...\n",
      " [ 1.00000000e+00  1.00000000e+00  1.00000000e+00 ...  1.00000000e+00\n",
      "   1.00000000e+00  1.00000000e+00]\n",
      " [-5.27016816e+01 -5.26997969e+01 -5.27046441e+01 ... -5.27020600e+01\n",
      "  -5.27024395e+01 -5.27017918e+01]\n",
      " [ 0.00000000e+00  0.00000000e+00  0.00000000e+00 ...  0.00000000e+00\n",
      "   0.00000000e+00  0.00000000e+00]]\n",
      "x-y after clearing nan's: (10000, 10000)\n"
     ]
    },
    {
     "ename": "TypeError",
     "evalue": "JAX arrays are immutable and do not support in-place item assignment. Instead of x[idx] = y, use x = x.at[idx].set(y) or another .at[] method: https://docs.jax.dev/en/latest/_autosummary/jax.numpy.ndarray.at.html",
     "output_type": "error",
     "traceback": [
      "\u001b[0;31m---------------------------------------------------------------------------\u001b[0m",
      "\u001b[0;31mTypeError\u001b[0m                                 Traceback (most recent call last)",
      "Cell \u001b[0;32mIn[197], line 34\u001b[0m\n\u001b[1;32m     32\u001b[0m \u001b[38;5;66;03m#pattern = interferometrer\u001b[39;00m\n\u001b[1;32m     33\u001b[0m pattern\u001b[38;5;241m.\u001b[39mtwo_lens_solve()\n\u001b[0;32m---> 34\u001b[0m pattern\u001b[38;5;241m.\u001b[39minterferogram(bin_scale \u001b[38;5;241m=\u001b[39m \u001b[38;5;241m1\u001b[39m, clear_mem \u001b[38;5;241m=\u001b[39m \u001b[38;5;28;01mTrue\u001b[39;00m)\n",
      "File \u001b[0;32m~/Work/UROP_ICL_Internship/synthPy/examples/notebooks/../../synthPy_restructured/diagnostics.py:620\u001b[0m, in \u001b[0;36minterferogram\u001b[0;34m(self, bin_scale, pix_x, pix_y, clear_mem)\u001b[0m\n\u001b[1;32m    617\u001b[0m y_indices \u001b[39m=\u001b[39m jnp\u001b[39m.\u001b[39mdigitize(\u001b[39mself\u001b[39m\u001b[39m.\u001b[39mrf[\u001b[39m2\u001b[39m,:], y_bins) \u001b[39m-\u001b[39m \u001b[39m1\u001b[39m\n\u001b[1;32m    619\u001b[0m \u001b[39mfor\u001b[39;00m i \u001b[39min\u001b[39;00m \u001b[39mrange\u001b[39m(\u001b[39mself\u001b[39m\u001b[39m.\u001b[39mrf\u001b[39m.\u001b[39mshape[\u001b[39m1\u001b[39m]):\n\u001b[0;32m--> 620\u001b[0m     \u001b[39mif\u001b[39;00m \u001b[39m0\u001b[39m \u001b[39m<\u001b[39m\u001b[39m=\u001b[39m x_indices[i] \u001b[39m<\u001b[39m amplitude_x\u001b[39m.\u001b[39mshape[\u001b[39m1\u001b[39m] \u001b[39mand\u001b[39;00m \u001b[39m0\u001b[39m \u001b[39m<\u001b[39m\u001b[39m=\u001b[39m y_indices[i] \u001b[39m<\u001b[39m amplitude_x\u001b[39m.\u001b[39mshape[\u001b[39m0\u001b[39m]:\n\u001b[1;32m    621\u001b[0m         amplitude_x[y_indices[i], x_indices[i]] \u001b[39m+\u001b[39m\u001b[39m=\u001b[39m \u001b[39mself\u001b[39m\u001b[39m.\u001b[39mJf[\u001b[39m0\u001b[39m, i]\n\u001b[1;32m    622\u001b[0m         amplitude_y[y_indices[i], x_indices[i]] \u001b[39m+\u001b[39m\u001b[39m=\u001b[39m \u001b[39mself\u001b[39m\u001b[39m.\u001b[39mJf[\u001b[39m1\u001b[39m, i]\n",
      "File \u001b[0;32m~/Programs/anaconda3/envs/testing/lib/python3.12/site-packages/jax/_src/numpy/array_methods.py:596\u001b[0m, in \u001b[0;36m_unimplemented_setitem\u001b[0;34m(self, i, x)\u001b[0m\n\u001b[1;32m    592\u001b[0m \u001b[39mdef\u001b[39;00m \u001b[39m_unimplemented_setitem\u001b[39m(\u001b[39mself\u001b[39m, i, x):\n\u001b[1;32m    593\u001b[0m   msg \u001b[39m=\u001b[39m (\u001b[39m\"\u001b[39m\u001b[39mJAX arrays are immutable and do not support in-place item assignment.\u001b[39m\u001b[39m\"\u001b[39m\n\u001b[1;32m    594\u001b[0m          \u001b[39m\"\u001b[39m\u001b[39m Instead of x[idx] = y, use x = x.at[idx].set(y) or another .at[] method:\u001b[39m\u001b[39m\"\u001b[39m\n\u001b[1;32m    595\u001b[0m          \u001b[39m\"\u001b[39m\u001b[39m https://docs.jax.dev/en/latest/_autosummary/jax.numpy.ndarray.at.html\u001b[39m\u001b[39m\"\u001b[39m)\n\u001b[0;32m--> 596\u001b[0m   \u001b[39mraise\u001b[39;00m \u001b[39mTypeError\u001b[39;00m(msg\u001b[39m.\u001b[39mformat(\u001b[39mtype\u001b[39m(\u001b[39mself\u001b[39m)))\n",
      "\u001b[0;31mTypeError\u001b[0m: JAX arrays are immutable and do not support in-place item assignment. Instead of x[idx] = y, use x = x.at[idx].set(y) or another .at[] method: https://docs.jax.dev/en/latest/_autosummary/jax.numpy.ndarray.at.html"
     ]
    }
   ],
   "source": [
    "# No need to change the domain (now that code has been seperated out in restructure)\n",
    "\n",
    "\n",
    "\n",
    "# load some external pvti\n",
    "\n",
    "# import utils.handle_filetypes as load\n",
    "# ne, dim, spacing = load.pvti_readin(filename)\n",
    "\n",
    "# or load a test distribution\n",
    "\n",
    "\n",
    "\n",
    "# initialise beam\n",
    "\n",
    "\n",
    "\n",
    "# solve ray trace\n",
    "tracer = p.Propagator(domain, initial_rays, inv_brems = False, phaseshift = True)\n",
    "\n",
    "tracer.calc_dndr()\n",
    "\n",
    "tracer.Beam.rf, tracer.Beam.Jf = tracer.solve(parallelise = False, jitted = False, return_E = True)\n",
    "\n",
    "n_fringes = 10\n",
    "deg = 10 #adjust number of fringes and tilt in degrees from the vertical exis\n",
    "\n",
    "interferometrer = diag.Interferometry(tracer.Beam)\n",
    "interferometrer.interfere_ref_beam(n_fringes, deg)\n",
    "\n",
    "pattern = diag.Interferometry(tracer.Beam)\n",
    "#pattern = interferometrer\n",
    "pattern.two_lens_solve()\n",
    "pattern.interferogram(bin_scale = 1, clear_mem = True) #use interferogram instead of histogram\n",
    "\n",
    "#get interferogram histogram with sh.H\n"
   ]
  },
  {
   "cell_type": "code",
   "execution_count": null,
   "metadata": {},
   "outputs": [
    {
     "data": {
      "text/plain": [
       "<matplotlib.image.AxesImage at 0x7fbb747e9be0>"
      ]
     },
     "execution_count": 8,
     "metadata": {},
     "output_type": "execute_result"
    },
    {
     "name": "stdout",
     "output_type": "stream",
     "text": [
      "Error in callback <function _draw_all_if_interactive at 0x7fbba6bf0ea0> (for post_execute), with arguments args (),kwargs {}:\n"
     ]
    },
    {
     "ename": "KeyboardInterrupt",
     "evalue": "",
     "output_type": "error",
     "traceback": [
      "\u001b[0;31m---------------------------------------------------------------------------\u001b[0m",
      "\u001b[0;31mKeyboardInterrupt\u001b[0m                         Traceback (most recent call last)",
      "File \u001b[0;32m~/Programs/anaconda3/envs/testing/lib/python3.12/site-packages/matplotlib/pyplot.py:279\u001b[0m, in \u001b[0;36m_draw_all_if_interactive\u001b[0;34m()\u001b[0m\n\u001b[1;32m    277\u001b[0m \u001b[39mdef\u001b[39;00m \u001b[39m_draw_all_if_interactive\u001b[39m() \u001b[39m-\u001b[39m\u001b[39m>\u001b[39m \u001b[39mNone\u001b[39;00m:\n\u001b[1;32m    278\u001b[0m     \u001b[39mif\u001b[39;00m matplotlib\u001b[39m.\u001b[39mis_interactive():\n\u001b[0;32m--> 279\u001b[0m         draw_all()\n",
      "File \u001b[0;32m~/Programs/anaconda3/envs/testing/lib/python3.12/site-packages/matplotlib/_pylab_helpers.py:131\u001b[0m, in \u001b[0;36mGcf.draw_all\u001b[0;34m(cls, force)\u001b[0m\n\u001b[1;32m    129\u001b[0m \u001b[39mfor\u001b[39;00m manager \u001b[39min\u001b[39;00m \u001b[39mcls\u001b[39m\u001b[39m.\u001b[39mget_all_fig_managers():\n\u001b[1;32m    130\u001b[0m     \u001b[39mif\u001b[39;00m force \u001b[39mor\u001b[39;00m manager\u001b[39m.\u001b[39mcanvas\u001b[39m.\u001b[39mfigure\u001b[39m.\u001b[39mstale:\n\u001b[0;32m--> 131\u001b[0m         manager\u001b[39m.\u001b[39mcanvas\u001b[39m.\u001b[39mdraw_idle()\n",
      "File \u001b[0;32m~/Programs/anaconda3/envs/testing/lib/python3.12/site-packages/matplotlib/backend_bases.py:1891\u001b[0m, in \u001b[0;36mFigureCanvasBase.draw_idle\u001b[0;34m(self, *args, **kwargs)\u001b[0m\n\u001b[1;32m   1889\u001b[0m \u001b[39mif\u001b[39;00m \u001b[39mnot\u001b[39;00m \u001b[39mself\u001b[39m\u001b[39m.\u001b[39m_is_idle_drawing:\n\u001b[1;32m   1890\u001b[0m     \u001b[39mwith\u001b[39;00m \u001b[39mself\u001b[39m\u001b[39m.\u001b[39m_idle_draw_cntx():\n\u001b[0;32m-> 1891\u001b[0m         \u001b[39mself\u001b[39m\u001b[39m.\u001b[39mdraw(\u001b[39m*\u001b[39margs, \u001b[39m*\u001b[39m\u001b[39m*\u001b[39mkwargs)\n",
      "File \u001b[0;32m~/Programs/anaconda3/envs/testing/lib/python3.12/site-packages/matplotlib/backends/backend_agg.py:382\u001b[0m, in \u001b[0;36mFigureCanvasAgg.draw\u001b[0;34m(self)\u001b[0m\n\u001b[1;32m    379\u001b[0m \u001b[39m# Acquire a lock on the shared font cache.\u001b[39;00m\n\u001b[1;32m    380\u001b[0m \u001b[39mwith\u001b[39;00m (\u001b[39mself\u001b[39m\u001b[39m.\u001b[39mtoolbar\u001b[39m.\u001b[39m_wait_cursor_for_draw_cm() \u001b[39mif\u001b[39;00m \u001b[39mself\u001b[39m\u001b[39m.\u001b[39mtoolbar\n\u001b[1;32m    381\u001b[0m       \u001b[39melse\u001b[39;00m nullcontext()):\n\u001b[0;32m--> 382\u001b[0m     \u001b[39mself\u001b[39m\u001b[39m.\u001b[39mfigure\u001b[39m.\u001b[39mdraw(\u001b[39mself\u001b[39m\u001b[39m.\u001b[39mrenderer)\n\u001b[1;32m    383\u001b[0m     \u001b[39m# A GUI class may be need to update a window using this draw, so\u001b[39;00m\n\u001b[1;32m    384\u001b[0m     \u001b[39m# don't forget to call the superclass.\u001b[39;00m\n\u001b[1;32m    385\u001b[0m     \u001b[39msuper\u001b[39m()\u001b[39m.\u001b[39mdraw()\n",
      "File \u001b[0;32m~/Programs/anaconda3/envs/testing/lib/python3.12/site-packages/matplotlib/artist.py:94\u001b[0m, in \u001b[0;36m_finalize_rasterization.<locals>.draw_wrapper\u001b[0;34m(artist, renderer, *args, **kwargs)\u001b[0m\n\u001b[1;32m     92\u001b[0m \u001b[39m@wraps\u001b[39m(draw)\n\u001b[1;32m     93\u001b[0m \u001b[39mdef\u001b[39;00m \u001b[39mdraw_wrapper\u001b[39m(artist, renderer, \u001b[39m*\u001b[39margs, \u001b[39m*\u001b[39m\u001b[39m*\u001b[39mkwargs):\n\u001b[0;32m---> 94\u001b[0m     result \u001b[39m=\u001b[39m draw(artist, renderer, \u001b[39m*\u001b[39margs, \u001b[39m*\u001b[39m\u001b[39m*\u001b[39mkwargs)\n\u001b[1;32m     95\u001b[0m     \u001b[39mif\u001b[39;00m renderer\u001b[39m.\u001b[39m_rasterizing:\n\u001b[1;32m     96\u001b[0m         renderer\u001b[39m.\u001b[39mstop_rasterizing()\n",
      "File \u001b[0;32m~/Programs/anaconda3/envs/testing/lib/python3.12/site-packages/matplotlib/artist.py:71\u001b[0m, in \u001b[0;36mallow_rasterization.<locals>.draw_wrapper\u001b[0;34m(artist, renderer)\u001b[0m\n\u001b[1;32m     68\u001b[0m     \u001b[39mif\u001b[39;00m artist\u001b[39m.\u001b[39mget_agg_filter() \u001b[39mis\u001b[39;00m \u001b[39mnot\u001b[39;00m \u001b[39mNone\u001b[39;00m:\n\u001b[1;32m     69\u001b[0m         renderer\u001b[39m.\u001b[39mstart_filter()\n\u001b[0;32m---> 71\u001b[0m     \u001b[39mreturn\u001b[39;00m draw(artist, renderer)\n\u001b[1;32m     72\u001b[0m \u001b[39mfinally\u001b[39;00m:\n\u001b[1;32m     73\u001b[0m     \u001b[39mif\u001b[39;00m artist\u001b[39m.\u001b[39mget_agg_filter() \u001b[39mis\u001b[39;00m \u001b[39mnot\u001b[39;00m \u001b[39mNone\u001b[39;00m:\n",
      "File \u001b[0;32m~/Programs/anaconda3/envs/testing/lib/python3.12/site-packages/matplotlib/figure.py:3257\u001b[0m, in \u001b[0;36mFigure.draw\u001b[0;34m(self, renderer)\u001b[0m\n\u001b[1;32m   3254\u001b[0m             \u001b[39m# ValueError can occur when resizing a window.\u001b[39;00m\n\u001b[1;32m   3256\u001b[0m     \u001b[39mself\u001b[39m\u001b[39m.\u001b[39mpatch\u001b[39m.\u001b[39mdraw(renderer)\n\u001b[0;32m-> 3257\u001b[0m     mimage\u001b[39m.\u001b[39m_draw_list_compositing_images(\n\u001b[1;32m   3258\u001b[0m         renderer, \u001b[39mself\u001b[39m, artists, \u001b[39mself\u001b[39m\u001b[39m.\u001b[39msuppressComposite)\n\u001b[1;32m   3260\u001b[0m     renderer\u001b[39m.\u001b[39mclose_group(\u001b[39m'\u001b[39m\u001b[39mfigure\u001b[39m\u001b[39m'\u001b[39m)\n\u001b[1;32m   3261\u001b[0m \u001b[39mfinally\u001b[39;00m:\n",
      "File \u001b[0;32m~/Programs/anaconda3/envs/testing/lib/python3.12/site-packages/matplotlib/image.py:134\u001b[0m, in \u001b[0;36m_draw_list_compositing_images\u001b[0;34m(renderer, parent, artists, suppress_composite)\u001b[0m\n\u001b[1;32m    132\u001b[0m \u001b[39mif\u001b[39;00m not_composite \u001b[39mor\u001b[39;00m \u001b[39mnot\u001b[39;00m has_images:\n\u001b[1;32m    133\u001b[0m     \u001b[39mfor\u001b[39;00m a \u001b[39min\u001b[39;00m artists:\n\u001b[0;32m--> 134\u001b[0m         a\u001b[39m.\u001b[39mdraw(renderer)\n\u001b[1;32m    135\u001b[0m \u001b[39melse\u001b[39;00m:\n\u001b[1;32m    136\u001b[0m     \u001b[39m# Composite any adjacent images together\u001b[39;00m\n\u001b[1;32m    137\u001b[0m     image_group \u001b[39m=\u001b[39m []\n",
      "File \u001b[0;32m~/Programs/anaconda3/envs/testing/lib/python3.12/site-packages/matplotlib/artist.py:71\u001b[0m, in \u001b[0;36mallow_rasterization.<locals>.draw_wrapper\u001b[0;34m(artist, renderer)\u001b[0m\n\u001b[1;32m     68\u001b[0m     \u001b[39mif\u001b[39;00m artist\u001b[39m.\u001b[39mget_agg_filter() \u001b[39mis\u001b[39;00m \u001b[39mnot\u001b[39;00m \u001b[39mNone\u001b[39;00m:\n\u001b[1;32m     69\u001b[0m         renderer\u001b[39m.\u001b[39mstart_filter()\n\u001b[0;32m---> 71\u001b[0m     \u001b[39mreturn\u001b[39;00m draw(artist, renderer)\n\u001b[1;32m     72\u001b[0m \u001b[39mfinally\u001b[39;00m:\n\u001b[1;32m     73\u001b[0m     \u001b[39mif\u001b[39;00m artist\u001b[39m.\u001b[39mget_agg_filter() \u001b[39mis\u001b[39;00m \u001b[39mnot\u001b[39;00m \u001b[39mNone\u001b[39;00m:\n",
      "File \u001b[0;32m~/Programs/anaconda3/envs/testing/lib/python3.12/site-packages/matplotlib/axes/_base.py:3181\u001b[0m, in \u001b[0;36m_AxesBase.draw\u001b[0;34m(self, renderer)\u001b[0m\n\u001b[1;32m   3178\u001b[0m \u001b[39mif\u001b[39;00m artists_rasterized:\n\u001b[1;32m   3179\u001b[0m     _draw_rasterized(\u001b[39mself\u001b[39m\u001b[39m.\u001b[39mget_figure(root\u001b[39m=\u001b[39m\u001b[39mTrue\u001b[39;00m), artists_rasterized, renderer)\n\u001b[0;32m-> 3181\u001b[0m mimage\u001b[39m.\u001b[39m_draw_list_compositing_images(\n\u001b[1;32m   3182\u001b[0m     renderer, \u001b[39mself\u001b[39m, artists, \u001b[39mself\u001b[39m\u001b[39m.\u001b[39mget_figure(root\u001b[39m=\u001b[39m\u001b[39mTrue\u001b[39;00m)\u001b[39m.\u001b[39msuppressComposite)\n\u001b[1;32m   3184\u001b[0m renderer\u001b[39m.\u001b[39mclose_group(\u001b[39m'\u001b[39m\u001b[39maxes\u001b[39m\u001b[39m'\u001b[39m)\n\u001b[1;32m   3185\u001b[0m \u001b[39mself\u001b[39m\u001b[39m.\u001b[39mstale \u001b[39m=\u001b[39m \u001b[39mFalse\u001b[39;00m\n",
      "File \u001b[0;32m~/Programs/anaconda3/envs/testing/lib/python3.12/site-packages/matplotlib/image.py:134\u001b[0m, in \u001b[0;36m_draw_list_compositing_images\u001b[0;34m(renderer, parent, artists, suppress_composite)\u001b[0m\n\u001b[1;32m    132\u001b[0m \u001b[39mif\u001b[39;00m not_composite \u001b[39mor\u001b[39;00m \u001b[39mnot\u001b[39;00m has_images:\n\u001b[1;32m    133\u001b[0m     \u001b[39mfor\u001b[39;00m a \u001b[39min\u001b[39;00m artists:\n\u001b[0;32m--> 134\u001b[0m         a\u001b[39m.\u001b[39mdraw(renderer)\n\u001b[1;32m    135\u001b[0m \u001b[39melse\u001b[39;00m:\n\u001b[1;32m    136\u001b[0m     \u001b[39m# Composite any adjacent images together\u001b[39;00m\n\u001b[1;32m    137\u001b[0m     image_group \u001b[39m=\u001b[39m []\n",
      "File \u001b[0;32m~/Programs/anaconda3/envs/testing/lib/python3.12/site-packages/matplotlib/artist.py:71\u001b[0m, in \u001b[0;36mallow_rasterization.<locals>.draw_wrapper\u001b[0;34m(artist, renderer)\u001b[0m\n\u001b[1;32m     68\u001b[0m     \u001b[39mif\u001b[39;00m artist\u001b[39m.\u001b[39mget_agg_filter() \u001b[39mis\u001b[39;00m \u001b[39mnot\u001b[39;00m \u001b[39mNone\u001b[39;00m:\n\u001b[1;32m     69\u001b[0m         renderer\u001b[39m.\u001b[39mstart_filter()\n\u001b[0;32m---> 71\u001b[0m     \u001b[39mreturn\u001b[39;00m draw(artist, renderer)\n\u001b[1;32m     72\u001b[0m \u001b[39mfinally\u001b[39;00m:\n\u001b[1;32m     73\u001b[0m     \u001b[39mif\u001b[39;00m artist\u001b[39m.\u001b[39mget_agg_filter() \u001b[39mis\u001b[39;00m \u001b[39mnot\u001b[39;00m \u001b[39mNone\u001b[39;00m:\n",
      "File \u001b[0;32m~/Programs/anaconda3/envs/testing/lib/python3.12/site-packages/matplotlib/image.py:599\u001b[0m, in \u001b[0;36m_ImageBase.draw\u001b[0;34m(self, renderer)\u001b[0m\n\u001b[1;32m    597\u001b[0m         renderer\u001b[39m.\u001b[39mdraw_image(gc, l, b, im, trans)\n\u001b[1;32m    598\u001b[0m \u001b[39melse\u001b[39;00m:\n\u001b[0;32m--> 599\u001b[0m     im, l, b, trans \u001b[39m=\u001b[39m \u001b[39mself\u001b[39m\u001b[39m.\u001b[39mmake_image(\n\u001b[1;32m    600\u001b[0m         renderer, renderer\u001b[39m.\u001b[39mget_image_magnification())\n\u001b[1;32m    601\u001b[0m     \u001b[39mif\u001b[39;00m im \u001b[39mis\u001b[39;00m \u001b[39mnot\u001b[39;00m \u001b[39mNone\u001b[39;00m:\n\u001b[1;32m    602\u001b[0m         renderer\u001b[39m.\u001b[39mdraw_image(gc, l, b, im)\n",
      "File \u001b[0;32m~/Programs/anaconda3/envs/testing/lib/python3.12/site-packages/matplotlib/image.py:902\u001b[0m, in \u001b[0;36mAxesImage.make_image\u001b[0;34m(self, renderer, magnification, unsampled)\u001b[0m\n\u001b[1;32m    899\u001b[0m transformed_bbox \u001b[39m=\u001b[39m TransformedBbox(bbox, trans)\n\u001b[1;32m    900\u001b[0m clip \u001b[39m=\u001b[39m ((\u001b[39mself\u001b[39m\u001b[39m.\u001b[39mget_clip_box() \u001b[39mor\u001b[39;00m \u001b[39mself\u001b[39m\u001b[39m.\u001b[39maxes\u001b[39m.\u001b[39mbbox) \u001b[39mif\u001b[39;00m \u001b[39mself\u001b[39m\u001b[39m.\u001b[39mget_clip_on()\n\u001b[1;32m    901\u001b[0m         \u001b[39melse\u001b[39;00m \u001b[39mself\u001b[39m\u001b[39m.\u001b[39mget_figure(root\u001b[39m=\u001b[39m\u001b[39mTrue\u001b[39;00m)\u001b[39m.\u001b[39mbbox)\n\u001b[0;32m--> 902\u001b[0m \u001b[39mreturn\u001b[39;00m \u001b[39mself\u001b[39m\u001b[39m.\u001b[39m_make_image(\u001b[39mself\u001b[39m\u001b[39m.\u001b[39m_A, bbox, transformed_bbox, clip,\n\u001b[1;32m    903\u001b[0m                         magnification, unsampled\u001b[39m=\u001b[39munsampled)\n",
      "File \u001b[0;32m~/Programs/anaconda3/envs/testing/lib/python3.12/site-packages/matplotlib/image.py:511\u001b[0m, in \u001b[0;36m_ImageBase._make_image\u001b[0;34m(self, A, in_bbox, out_bbox, clip_bbox, magnification, unsampled, round_to_pixel_border)\u001b[0m\n\u001b[1;32m    509\u001b[0m     output_alpha \u001b[39m=\u001b[39m (\u001b[39m255\u001b[39m \u001b[39m*\u001b[39m alpha) \u001b[39mif\u001b[39;00m A\u001b[39m.\u001b[39mdtype \u001b[39m==\u001b[39m np\u001b[39m.\u001b[39muint8 \u001b[39melse\u001b[39;00m alpha\n\u001b[1;32m    510\u001b[0m \u001b[39melse\u001b[39;00m:\n\u001b[0;32m--> 511\u001b[0m     output_alpha \u001b[39m=\u001b[39m _resample(  \u001b[39m# resample alpha channel\u001b[39;00m\n\u001b[1;32m    512\u001b[0m         \u001b[39mself\u001b[39m, A[\u001b[39m.\u001b[39m\u001b[39m.\u001b[39m\u001b[39m.\u001b[39m, \u001b[39m3\u001b[39m], out_shape, t, alpha\u001b[39m=\u001b[39malpha)\n\u001b[1;32m    513\u001b[0m output \u001b[39m=\u001b[39m _resample(  \u001b[39m# resample rgb channels\u001b[39;00m\n\u001b[1;32m    514\u001b[0m     \u001b[39mself\u001b[39m, _rgb_to_rgba(A[\u001b[39m.\u001b[39m\u001b[39m.\u001b[39m\u001b[39m.\u001b[39m, :\u001b[39m3\u001b[39m]), out_shape, t, alpha\u001b[39m=\u001b[39malpha)\n\u001b[1;32m    515\u001b[0m output[\u001b[39m.\u001b[39m\u001b[39m.\u001b[39m\u001b[39m.\u001b[39m, \u001b[39m3\u001b[39m] \u001b[39m=\u001b[39m output_alpha  \u001b[39m# recombine rgb and alpha\u001b[39;00m\n",
      "File \u001b[0;32m~/Programs/anaconda3/envs/testing/lib/python3.12/site-packages/matplotlib/image.py:210\u001b[0m, in \u001b[0;36m_resample\u001b[0;34m(image_obj, data, out_shape, transform, resample, alpha)\u001b[0m\n\u001b[1;32m    208\u001b[0m \u001b[39mif\u001b[39;00m resample \u001b[39mis\u001b[39;00m \u001b[39mNone\u001b[39;00m:\n\u001b[1;32m    209\u001b[0m     resample \u001b[39m=\u001b[39m image_obj\u001b[39m.\u001b[39mget_resample()\n\u001b[0;32m--> 210\u001b[0m _image\u001b[39m.\u001b[39mresample(data, out, transform,\n\u001b[1;32m    211\u001b[0m                 _interpd_[interpolation],\n\u001b[1;32m    212\u001b[0m                 resample,\n\u001b[1;32m    213\u001b[0m                 alpha,\n\u001b[1;32m    214\u001b[0m                 image_obj\u001b[39m.\u001b[39mget_filternorm(),\n\u001b[1;32m    215\u001b[0m                 image_obj\u001b[39m.\u001b[39mget_filterrad())\n\u001b[1;32m    216\u001b[0m \u001b[39mreturn\u001b[39;00m out\n",
      "File \u001b[0;32m~/Programs/anaconda3/envs/testing/lib/python3.12/site-packages/matplotlib/transforms.py:2400\u001b[0m, in \u001b[0;36mCompositeGenericTransform.<lambda>\u001b[0;34m(self)\u001b[0m\n\u001b[1;32m   2397\u001b[0m     \u001b[39mreturn\u001b[39;00m \u001b[39mself\u001b[39m\u001b[39m.\u001b[39m_b\u001b[39m.\u001b[39mcontains_branch_seperately(other_transform)\n\u001b[1;32m   2399\u001b[0m depth \u001b[39m=\u001b[39m \u001b[39mproperty\u001b[39m(\u001b[39mlambda\u001b[39;00m \u001b[39mself\u001b[39m: \u001b[39mself\u001b[39m\u001b[39m.\u001b[39m_a\u001b[39m.\u001b[39mdepth \u001b[39m+\u001b[39m \u001b[39mself\u001b[39m\u001b[39m.\u001b[39m_b\u001b[39m.\u001b[39mdepth)\n\u001b[0;32m-> 2400\u001b[0m is_affine \u001b[39m=\u001b[39m \u001b[39mproperty\u001b[39m(\u001b[39mlambda\u001b[39;00m \u001b[39mself\u001b[39m: \u001b[39mself\u001b[39m\u001b[39m.\u001b[39m_a\u001b[39m.\u001b[39mis_affine \u001b[39mand\u001b[39;00m \u001b[39mself\u001b[39m\u001b[39m.\u001b[39m_b\u001b[39m.\u001b[39mis_affine)\n\u001b[1;32m   2401\u001b[0m is_separable \u001b[39m=\u001b[39m \u001b[39mproperty\u001b[39m(\n\u001b[1;32m   2402\u001b[0m     \u001b[39mlambda\u001b[39;00m \u001b[39mself\u001b[39m: \u001b[39mself\u001b[39m\u001b[39m.\u001b[39m_a\u001b[39m.\u001b[39mis_separable \u001b[39mand\u001b[39;00m \u001b[39mself\u001b[39m\u001b[39m.\u001b[39m_b\u001b[39m.\u001b[39mis_separable)\n\u001b[1;32m   2403\u001b[0m has_inverse \u001b[39m=\u001b[39m \u001b[39mproperty\u001b[39m(\n\u001b[1;32m   2404\u001b[0m     \u001b[39mlambda\u001b[39;00m \u001b[39mself\u001b[39m: \u001b[39mself\u001b[39m\u001b[39m.\u001b[39m_a\u001b[39m.\u001b[39mhas_inverse \u001b[39mand\u001b[39;00m \u001b[39mself\u001b[39m\u001b[39m.\u001b[39m_b\u001b[39m.\u001b[39mhas_inverse)\n",
      "\u001b[0;31mKeyboardInterrupt\u001b[0m: "
     ]
    },
    {
     "data": {
      "image/png": "[encoded data removed]",
      "text/plain": [
       "<Figure size 640x480 with 1 Axes>"
      ]
     },
     "metadata": {},
     "output_type": "display_data"
    }
   ],
   "source": [
    "plt.imshow(pattern.H, cmap = 'hot', interpolation = 'nearest')"
   ]
  },
  {
   "cell_type": "code",
   "execution_count": null,
   "metadata": {},
   "outputs": [],
   "source": []
  }
 ],
 "metadata": {
  "kernelspec": {
   "display_name": "Python 3.12.5 ('testing')",
   "language": "python",
   "name": "python3"
  },
  "language_info": {
   "codemirror_mode": {
    "name": "ipython",
    "version": 3
   },
   "file_extension": ".py",
   "mimetype": "text/x-python",
   "name": "python",
   "nbconvert_exporter": "python",
   "pygments_lexer": "ipython3",
   "version": "3.12.5"
  },
  "vscode": {
   "interpreter": {
    "hash": "de6d706a21dde6ee649de53d1c8cba9d9f8e9ee05a3542c9798512c888fa8306"
   }
  }
 },
 "nbformat": 4,
 "nbformat_minor": 4
}
