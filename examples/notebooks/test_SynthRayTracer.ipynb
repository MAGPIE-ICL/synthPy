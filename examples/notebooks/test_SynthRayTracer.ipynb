{
 "cells": [
  {
   "cell_type": "markdown",
   "metadata": {},
   "source": [
    "### Test - Synthetic Diagnostic + Interferometry\n",
    "\n",
    "</b> Author:   </b>  Louis Evans     </br>\n",
    "</b> Reviewer: </b>  Stefano Merlini"
   ]
  },
  {
   "cell_type": "markdown",
   "metadata": {},
   "source": [
    "### Import relevant files:"
   ]
  },
  {
   "cell_type": "code",
   "execution_count": 1,
   "metadata": {},
   "outputs": [
    {
     "name": "stdout",
     "output_type": "stream",
     "text": [
      "\n",
      "Initialising jax...\n",
      "\n",
      "Default jax backend: cpu\n",
      "Available devices: [CpuDevice(id=0), CpuDevice(id=1), CpuDevice(id=2), CpuDevice(id=3), CpuDevice(id=4), CpuDevice(id=5), CpuDevice(id=6), CpuDevice(id=7), CpuDevice(id=8), CpuDevice(id=9), CpuDevice(id=10), CpuDevice(id=11), CpuDevice(id=12), CpuDevice(id=13), CpuDevice(id=14), CpuDevice(id=15)]\n"
     ]
    },
    {
     "data": {
      "text/plain": [
       "<module 'diagnostics' from '/home/administrator/Work/UROP_ICL_Internship/synthPy/examples/notebooks/../../src/simulator/diagnostics.py'>"
      ]
     },
     "execution_count": 1,
     "metadata": {},
     "output_type": "execute_result"
    }
   ],
   "source": [
    "import numpy as np\n",
    "import matplotlib.pyplot as plt\n",
    "#import vtk\n",
    "#from vtk.util import numpy_support as vtk_np\n",
    "import gc\n",
    "\n",
    "import sys\n",
    "\n",
    "#add path\n",
    "sys.path.insert(0, '../../src/simulator')     # import path/to/synthpy\n",
    "\n",
    "import config\n",
    "config.jax_init()\n",
    "\n",
    "import beam as beam_initialiser\n",
    "import domain as d\n",
    "import propagator as p\n",
    "import diagnostics as diag\n",
    "#import utils\n",
    "\n",
    "import importlib\n",
    "importlib.reload(beam_initialiser)\n",
    "importlib.reload(d)\n",
    "importlib.reload(p)\n",
    "importlib.reload(diag)\n",
    "#importlib.reload(utils)\n",
    "\n"
   ]
  },
  {
   "cell_type": "markdown",
   "metadata": {},
   "source": [
    "To use the ray tracer, first create a 'domain', load the domain with an electron distribution, calculate electron gradients, initialise a beam, and solve!\n",
    "\\\n",
    "\\\n",
    "The output can either be plotted, or passed further through ray optics for synthetic diagnostics"
   ]
  },
  {
   "cell_type": "code",
   "execution_count": 2,
   "metadata": {},
   "outputs": [
    {
     "name": "stdout",
     "output_type": "stream",
     "text": [
      "Garbage collection count: 101\n",
      "Garbage collection count: 0\n"
     ]
    }
   ],
   "source": [
    "# define some extent, the domain should be distributed as +extent to -extent, does not need to be cubic\n",
    "extent_x = 5e-3\n",
    "extent_y = 5e-3\n",
    "extent_z = 10e-3\n",
    "\n",
    "n_cells = 128\n",
    "\n",
    "#x = np.linspace(-extent_x, extent_x, n_cells)\n",
    "#y = np.linspace(-extent_y, extent_y, n_cells)\n",
    "#z = np.linspace(-extent_z, extent_z, n_cells)\n",
    "\n",
    "probing_extent = extent_z\n",
    "probing_direction = 'z'\n",
    "\n",
    "lengths = 2 * np.array([extent_x, extent_y, extent_z])\n",
    "\n",
    "print(\"Garbage collection count:\", gc.collect())\n",
    "\n",
    "#domain = d.ScalarDomain(x = x, y = y, z = z, extent = probing_extent, probing_direction = probing_direction)     # create domain\n",
    "# Much simpler domain function, no longer needlessly takes in beam values, they are fully seperated\n",
    "domain = d.ScalarDomain(lengths, n_cells) # B_on = False by default\n",
    "\n",
    "# clear we should do manual garbage collection of some variety in d.ScalarDomain function\n",
    "print(\"Garbage collection count:\", gc.collect())"
   ]
  },
  {
   "cell_type": "markdown",
   "metadata": {},
   "source": [
    "Load some domain distribution"
   ]
  },
  {
   "cell_type": "code",
   "execution_count": 3,
   "metadata": {},
   "outputs": [],
   "source": [
    "# load some external pvti\n",
    "# import utils.handle_filetypes as load\n",
    "# ne, dim, spacing = load.pvti_readin(filename)\n",
    "# or load a test distribution\n",
    "\n",
    "#domain.ne = np.full((100, 100, 100), 1e24)\n",
    "domain.test_exponential_cos()\n",
    "#domain.test_slab(0.000001, 1e24)"
   ]
  },
  {
   "cell_type": "markdown",
   "metadata": {},
   "source": [
    "Solve gradients, initialise beam, and solve"
   ]
  },
  {
   "cell_type": "code",
   "execution_count": 4,
   "metadata": {},
   "outputs": [
    {
     "name": "stdout",
     "output_type": "stream",
     "text": [
      "\n",
      "Size in memory of initial rays: 712B\n",
      "Predicted size in memory of domain: 8.0 MB\n",
      "\n",
      "Running device: cpu, with: 16 cores.\n",
      "NamedSharding(mesh=Mesh('cols': 16, axis_types=(Auto,)), spec=PartitionSpec(None, 'cols'), memory_kind=unpinned_host)\n",
      "\n",
      "jax compilation of solver took: 0.000377655029296875 seconds\n"
     ]
    },
    {
     "data": {
      "text/html": [
       "<pre style=\"white-space:pre;overflow-x:auto;line-height:normal;font-family:Menlo,'DejaVu Sans Mono',consolas,'Courier New',monospace\"><span style=\"color: #ffffff; text-decoration-color: #ffffff; background-color: #393b79\">  CPU 0  </span>\n",
       "<span style=\"color: #ffffff; text-decoration-color: #ffffff; background-color: #843c39\">  CPU 1  </span>\n",
       "<span style=\"color: #ffffff; text-decoration-color: #ffffff; background-color: #6b6ecf\">  CPU 2  </span>\n",
       "<span style=\"color: #ffffff; text-decoration-color: #ffffff; background-color: #d6616b\">  CPU 3  </span>\n",
       "<span style=\"color: #ffffff; text-decoration-color: #ffffff; background-color: #8ca252\">  CPU 4  </span>\n",
       "<span style=\"color: #ffffff; text-decoration-color: #ffffff; background-color: #a55194\">  CPU 5  </span>\n",
       "<span style=\"color: #ffffff; text-decoration-color: #ffffff; background-color: #8c6d31\">  CPU 6  </span>\n",
       "<span style=\"color: #ffffff; text-decoration-color: #ffffff; background-color: #de9ed6\">  CPU 7  </span>\n",
       "<span style=\"color: #000000; text-decoration-color: #000000; background-color: #e7ba52\">  CPU 8  </span>\n",
       "<span style=\"color: #ffffff; text-decoration-color: #ffffff; background-color: #5254a3\">  CPU 9  </span>\n",
       "<span style=\"color: #ffffff; text-decoration-color: #ffffff; background-color: #ad494a\"> CPU 10  </span>\n",
       "<span style=\"color: #ffffff; text-decoration-color: #ffffff; background-color: #637939\"> CPU 11  </span>\n",
       "<span style=\"color: #ffffff; text-decoration-color: #ffffff; background-color: #7b4173\"> CPU 12  </span>\n",
       "<span style=\"color: #000000; text-decoration-color: #000000; background-color: #b5cf6b\"> CPU 13  </span>\n",
       "<span style=\"color: #ffffff; text-decoration-color: #ffffff; background-color: #ce6dbd\"> CPU 14  </span>\n",
       "<span style=\"color: #ffffff; text-decoration-color: #ffffff; background-color: #bd9e39\"> CPU 15  </span>\n",
       "</pre>\n"
      ],
      "text/plain": [
       "\u001b[38;2;255;255;255;48;2;57;59;121m  \u001b[0m\u001b[38;2;255;255;255;48;2;57;59;121mCPU 0\u001b[0m\u001b[38;2;255;255;255;48;2;57;59;121m  \u001b[0m\n",
       "\u001b[38;2;255;255;255;48;2;132;60;57m  \u001b[0m\u001b[38;2;255;255;255;48;2;132;60;57mCPU 1\u001b[0m\u001b[38;2;255;255;255;48;2;132;60;57m  \u001b[0m\n",
       "\u001b[38;2;255;255;255;48;2;107;110;207m  \u001b[0m\u001b[38;2;255;255;255;48;2;107;110;207mCPU 2\u001b[0m\u001b[38;2;255;255;255;48;2;107;110;207m  \u001b[0m\n",
       "\u001b[38;2;255;255;255;48;2;214;97;107m  \u001b[0m\u001b[38;2;255;255;255;48;2;214;97;107mCPU 3\u001b[0m\u001b[38;2;255;255;255;48;2;214;97;107m  \u001b[0m\n",
       "\u001b[38;2;255;255;255;48;2;140;162;82m  \u001b[0m\u001b[38;2;255;255;255;48;2;140;162;82mCPU 4\u001b[0m\u001b[38;2;255;255;255;48;2;140;162;82m  \u001b[0m\n",
       "\u001b[38;2;255;255;255;48;2;165;81;148m  \u001b[0m\u001b[38;2;255;255;255;48;2;165;81;148mCPU 5\u001b[0m\u001b[38;2;255;255;255;48;2;165;81;148m  \u001b[0m\n",
       "\u001b[38;2;255;255;255;48;2;140;109;49m  \u001b[0m\u001b[38;2;255;255;255;48;2;140;109;49mCPU 6\u001b[0m\u001b[38;2;255;255;255;48;2;140;109;49m  \u001b[0m\n",
       "\u001b[38;2;255;255;255;48;2;222;158;214m  \u001b[0m\u001b[38;2;255;255;255;48;2;222;158;214mCPU 7\u001b[0m\u001b[38;2;255;255;255;48;2;222;158;214m  \u001b[0m\n",
       "\u001b[38;2;0;0;0;48;2;231;186;82m  \u001b[0m\u001b[38;2;0;0;0;48;2;231;186;82mCPU 8\u001b[0m\u001b[38;2;0;0;0;48;2;231;186;82m  \u001b[0m\n",
       "\u001b[38;2;255;255;255;48;2;82;84;163m  \u001b[0m\u001b[38;2;255;255;255;48;2;82;84;163mCPU 9\u001b[0m\u001b[38;2;255;255;255;48;2;82;84;163m  \u001b[0m\n",
       "\u001b[38;2;255;255;255;48;2;173;73;74m \u001b[0m\u001b[38;2;255;255;255;48;2;173;73;74mCPU 10\u001b[0m\u001b[38;2;255;255;255;48;2;173;73;74m  \u001b[0m\n",
       "\u001b[38;2;255;255;255;48;2;99;121;57m \u001b[0m\u001b[38;2;255;255;255;48;2;99;121;57mCPU 11\u001b[0m\u001b[38;2;255;255;255;48;2;99;121;57m  \u001b[0m\n",
       "\u001b[38;2;255;255;255;48;2;123;65;115m \u001b[0m\u001b[38;2;255;255;255;48;2;123;65;115mCPU 12\u001b[0m\u001b[38;2;255;255;255;48;2;123;65;115m  \u001b[0m\n",
       "\u001b[38;2;0;0;0;48;2;181;207;107m \u001b[0m\u001b[38;2;0;0;0;48;2;181;207;107mCPU 13\u001b[0m\u001b[38;2;0;0;0;48;2;181;207;107m  \u001b[0m\n",
       "\u001b[38;2;255;255;255;48;2;206;109;189m \u001b[0m\u001b[38;2;255;255;255;48;2;206;109;189mCPU 14\u001b[0m\u001b[38;2;255;255;255;48;2;206;109;189m  \u001b[0m\n",
       "\u001b[38;2;255;255;255;48;2;189;158;57m \u001b[0m\u001b[38;2;255;255;255;48;2;189;158;57mCPU 15\u001b[0m\u001b[38;2;255;255;255;48;2;189;158;57m  \u001b[0m\n"
      ]
     },
     "metadata": {},
     "output_type": "display_data"
    },
    {
     "name": "stdout",
     "output_type": "stream",
     "text": [
      "\n",
      "Size in memory of initial rays: 712B\n",
      "Size in memory of solution: 48B\n",
      "Size in memory of propagator class: 48B\n",
      "\n",
      "File: ls\n",
      "Type: space\n",
      "Showing nodes accounting for 40.50MB, 99.83% of 40.57MB total\n",
      "Dropped 58 nodes (cum <= 0.20MB)\n",
      "      flat  flat%   sum%        cum   cum%\n",
      "   40.31MB 99.36% 99.36%    40.31MB 99.36%  __call__\n",
      "    0.12MB   0.3% 99.66%     0.43MB  1.05%  _pjit_call_impl\n",
      "    0.07MB  0.17% 99.83%     8.32MB 20.51%  apply_primitive\n",
      "         0     0% 99.83%    40.57MB   100%  [ls]\n",
      "         0     0% 99.83%        8MB 19.72%  _array_copy\n",
      "         0     0% 99.83%     0.43MB  1.05%  _batch_inner\n",
      "         0     0% 99.83%     0.43MB  1.05%  _batch_outer\n",
      "         0     0% 99.83%        8MB 19.72%  _copy_impl\n",
      "         0     0% 99.83%    24.31MB 59.92%  _pjit_call_impl_python\n",
      "         0     0% 99.83%    40.57MB   100%  _pseudo_sync_runner\n",
      "         0     0% 99.83%    24.43MB 60.22%  _python_pjit_helper\n",
      "         0     0% 99.83%    40.57MB   100%  _run\n",
      "         0     0% 99.83%    40.57MB   100%  _run_cell\n",
      "         0     0% 99.83%    40.57MB   100%  _run_code\n",
      "         0     0% 99.83%    40.57MB   100%  _run_module_as_main\n",
      "         0     0% 99.83%    40.57MB   100%  _run_once\n",
      "         0     0% 99.83%     8.57MB 21.12%  _true_bind\n",
      "         0     0% 99.83%        8MB 19.72%  array\n",
      "         0     0% 99.83%     8.57MB 21.12%  bind\n",
      "         0     0% 99.83%     8.57MB 21.12%  bind_with_trace\n",
      "         0     0% 99.83%     0.25MB  0.62%  broadcast\n",
      "         0     0% 99.83%     0.25MB  0.62%  broadcast_in_dim\n",
      "         0     0% 99.83%    24.43MB 60.22%  cache_miss\n",
      "         0     0% 99.83%       32MB 78.88%  calc_dndr\n",
      "         0     0% 99.83%     0.31MB  0.76%  call_impl_cache_miss\n",
      "         0     0% 99.83%     0.43MB  1.05%  call_wrapped\n",
      "         0     0% 99.83%       32MB 78.88%  deferring_binary_op\n",
      "         0     0% 99.83%    40.57MB   100%  dispatch_queue\n",
      "         0     0% 99.83%    40.57MB   100%  dispatch_shell\n",
      "         0     0% 99.83%    40.57MB   100%  do_execute\n",
      "         0     0% 99.83%    40.57MB   100%  execute_request\n",
      "         0     0% 99.83%     0.25MB  0.62%  from_elt\n",
      "         0     0% 99.83%    40.57MB   100%  launch_instance\n",
      "         0     0% 99.83%     0.25MB  0.62%  matchaxis\n",
      "         0     0% 99.83%    40.57MB   100%  process_one\n",
      "         0     0% 99.83%     8.57MB 21.12%  process_primitive\n",
      "         0     0% 99.83%    24.43MB 60.22%  reraise_with_filtered_traceback\n",
      "         0     0% 99.83%    40.57MB   100%  run_ast_nodes\n",
      "         0     0% 99.83%    40.57MB   100%  run_cell\n",
      "         0     0% 99.83%    40.57MB   100%  run_cell_async\n",
      "         0     0% 99.83%    40.57MB   100%  run_code\n",
      "         0     0% 99.83%    40.57MB   100%  run_forever\n",
      "         0     0% 99.83%     0.50MB  1.22%  solve\n",
      "         0     0% 99.83%    40.57MB   100%  start\n",
      "         0     0% 99.83%        8MB 19.72%  test_exponential_cos\n",
      "         0     0% 99.83%     0.43MB  1.05%  vmap_f\n",
      "         0     0% 99.83%    24.31MB 59.92%  wrapper\n",
      "\n",
      "Parallelised output has resulting 3D matrix of form: [batch_count, 2, 9]: (992, 2, 9)\n",
      "\t2 to account for the start and end results\n",
      "\t9 containing the 3 position and velocity components, amplitude, phase and polarisation\n",
      "\tIf batch_count is lower than expected, this is likely due to jax's forced integer batch sharding when parallelising over cpu cores.\n",
      "\n",
      "We slice the end result and transpose into the form: (9, 992) to work with later code.\n",
      "\n",
      "Completed ray trace in 5.486 seconds.\n"
     ]
    }
   ],
   "source": [
    "lwl = 1064e-9 #define laser wavelength\n",
    "\n",
    "# initialise beam\n",
    "Np = 1e3    # number of photons\n",
    "divergence = 5e-5   # realistic divergence value\n",
    "beam_size = extent_x    # beam radius\n",
    "ne_extent = probing_extent  # so the beam knows where to initialise initial positions\n",
    "beam_type = 'circular'\n",
    "\n",
    "beam_definition = beam_initialiser.Beam(Np, beam_size, divergence, ne_extent, probing_direction = probing_direction, wavelength = lwl, beam_type = beam_type)\n",
    "\n",
    "tracer = p.Propagator(domain, probing_direction = probing_direction, inv_brems = False, phaseshift = False)\n",
    "\n",
    "# solve ray trace\n",
    "tracer.calc_dndr(lwl)\n",
    "# without the _, both rf and Jf (even though it defaults to None when return_E = False) get unpacked into rf and it becomes a tuple\n",
    "rf, _ = tracer.solve(beam_definition.s0, jitted = True)\n",
    "print(\"\\nCompleted ray trace in\", np.round(tracer.duration, 3), \"seconds.\")"
   ]
  },
  {
   "cell_type": "markdown",
   "metadata": {},
   "source": [
    "Pass through ray optics: For Shadowgaphy, Schlieren, or Refractometry:"
   ]
  },
  {
   "cell_type": "code",
   "execution_count": 5,
   "metadata": {},
   "outputs": [
    {
     "name": "stdout",
     "output_type": "stream",
     "text": [
      "\n",
      "rf size expected: (992, 992)\n",
      "rf after clearing nan's: (855, 855)\n",
      "Garbage collection count: 0\n"
     ]
    },
    {
     "data": {
      "image/png": "[encoded data removed]",
      "text/plain": [
       "<Figure size 640x480 with 1 Axes>"
      ]
     },
     "metadata": {},
     "output_type": "display_data"
    }
   ],
   "source": [
    "#in the diagnostic initialisation, details on the lens configurations, and detector dimensions can be specified\n",
    "refractometer = diag.Refractometry(lwl, rf)\n",
    "refractometer.incoherent_solve()\n",
    "# cam't clear_mem if you want to generate other graphs afterwards\n",
    "refractometer.histogram(bin_scale = 1, clear_mem = False)\n",
    "\n",
    "#information accessed by .H(istogram) , e.g plt.imshow(refractometer.H)\n",
    "\n",
    "#plt.imshow(refractometer.H, cmap='hot', interpolation='nearest', clim = (0, 2))\n",
    "plt.imshow(refractometer.H, cmap = 'hot', interpolation = 'nearest', clim = (0.5, 1))\n",
    "\n",
    "print(\"Garbage collection count:\", gc.collect())"
   ]
  },
  {
   "cell_type": "code",
   "execution_count": 6,
   "metadata": {},
   "outputs": [
    {
     "name": "stdout",
     "output_type": "stream",
     "text": [
      "\n",
      "rf size expected: (992, 992)\n",
      "rf after clearing nan's: (855, 855)\n",
      "Garbage collection count: 3157\n"
     ]
    },
    {
     "data": {
      "image/png": "[encoded data removed]",
      "text/plain": [
       "<Figure size 640x480 with 1 Axes>"
      ]
     },
     "metadata": {},
     "output_type": "display_data"
    }
   ],
   "source": [
    "shadowgrapher = diag.Shadowgraphy(lwl, rf)\n",
    "shadowgrapher.single_lens_solve()\n",
    "shadowgrapher.histogram(bin_scale = 1, clear_mem = False)\n",
    "\n",
    "plt.imshow(shadowgrapher.H, cmap = 'hot', interpolation = 'nearest', clim = (0.5, 1))\n",
    "\n",
    "print(\"Garbage collection count:\", gc.collect())"
   ]
  },
  {
   "cell_type": "code",
   "execution_count": 7,
   "metadata": {},
   "outputs": [
    {
     "name": "stdout",
     "output_type": "stream",
     "text": [
      "\n",
      "rf size expected: (992, 992)\n",
      "rf after clearing nan's: (641, 641)\n",
      "Garbage collection count: 3139\n"
     ]
    },
    {
     "data": {
      "image/png": "[encoded data removed]",
      "text/plain": [
       "<Figure size 640x480 with 1 Axes>"
      ]
     },
     "metadata": {},
     "output_type": "display_data"
    }
   ],
   "source": [
    "schlierener = diag.Schlieren(lwl, rf)\n",
    "schlierener.DF_solve()\n",
    "schlierener.histogram(bin_scale = 1, clear_mem = True)\n",
    "\n",
    "plt.imshow(schlierener.H, cmap = 'hot', interpolation = 'nearest', clim = (0.5, 1))\n",
    "\n",
    "print(\"Garbage collection count:\", gc.collect())"
   ]
  },
  {
   "cell_type": "markdown",
   "metadata": {},
   "source": [
    "Synthetic Interferometry - This requires some extra steps in the ray tracing to include information on the phase and electric field values"
   ]
  },
  {
   "cell_type": "code",
   "execution_count": 8,
   "metadata": {},
   "outputs": [
    {
     "name": "stdout",
     "output_type": "stream",
     "text": [
      "\n",
      "Size in memory of initial rays: 712B\n",
      "Predicted size in memory of domain: 8.0 MB\n"
     ]
    },
    {
     "ename": "TypeError",
     "evalue": "dsdt() missing 1 required positional argument: 'parallelise'",
     "output_type": "error",
     "traceback": [
      "\u001b[0;31m---------------------------------------------------------------------------\u001b[0m",
      "\u001b[0;31mTypeError\u001b[0m                                 Traceback (most recent call last)",
      "Cell \u001b[0;32mIn[8], line 22\u001b[0m\n\u001b[1;32m     19\u001b[0m tracer \u001b[38;5;241m=\u001b[39m p\u001b[38;5;241m.\u001b[39mPropagator(domain, beam_definition\u001b[38;5;241m.\u001b[39ms0, probing_direction \u001b[38;5;241m=\u001b[39m probing_direction, inv_brems \u001b[38;5;241m=\u001b[39m \u001b[38;5;28;01mFalse\u001b[39;00m, phaseshift \u001b[38;5;241m=\u001b[39m \u001b[38;5;28;01mTrue\u001b[39;00m)\n\u001b[1;32m     21\u001b[0m tracer\u001b[38;5;241m.\u001b[39mcalc_dndr()\n\u001b[0;32m---> 22\u001b[0m rf, Jf \u001b[38;5;241m=\u001b[39m tracer\u001b[38;5;241m.\u001b[39msolve(parallelise \u001b[38;5;241m=\u001b[39m \u001b[38;5;28;01mFalse\u001b[39;00m, jitted \u001b[38;5;241m=\u001b[39m \u001b[38;5;28;01mFalse\u001b[39;00m, return_E \u001b[38;5;241m=\u001b[39m \u001b[38;5;28;01mTrue\u001b[39;00m)\n\u001b[1;32m     24\u001b[0m n_fringes \u001b[38;5;241m=\u001b[39m \u001b[38;5;241m10\u001b[39m\n\u001b[1;32m     25\u001b[0m deg \u001b[38;5;241m=\u001b[39m \u001b[38;5;241m10\u001b[39m \u001b[38;5;66;03m#adjust number of fringes and tilt in degrees from the vertical exis\u001b[39;00m\n",
      "File \u001b[0;32m~/Work/UROP_ICL_Internship/synthPy/examples/notebooks/../../src/simulator/propagator.py:211\u001b[0m, in \u001b[0;36mPropagator.solve\u001b[0;34m(self, return_E, parallelise, jitted, save_steps)\u001b[0m\n\u001b[1;32m    209\u001b[0m     \u001b[39m# wrapper allows dummy variables t & y to be used by solve_ivp(), self is required by dsdt\u001b[39;00m\n\u001b[1;32m    210\u001b[0m     dsdt_ODE \u001b[39m=\u001b[39m \u001b[39mlambda\u001b[39;00m t, y: dsdt(t, y, \u001b[39mself\u001b[39m)\n\u001b[0;32m--> 211\u001b[0m     sol \u001b[39m=\u001b[39m solve_ivp(dsdt_ODE, [\u001b[39m0\u001b[39m, t[\u001b[39m-\u001b[39m\u001b[39m1\u001b[39m]], s0, t_eval \u001b[39m=\u001b[39m t)\n\u001b[1;32m    212\u001b[0m \u001b[39melse\u001b[39;00m:\n\u001b[1;32m    213\u001b[0m     \u001b[39mself\u001b[39m\u001b[39m.\u001b[39mavailable_devices \u001b[39m=\u001b[39m jax\u001b[39m.\u001b[39mdevices()\n",
      "File \u001b[0;32m~/Programs/anaconda3/envs/testing/lib/python3.12/site-packages/scipy/integrate/_ivp/ivp.py:621\u001b[0m, in \u001b[0;36msolve_ivp\u001b[0;34m(fun, t_span, y0, method, t_eval, dense_output, events, vectorized, args, **options)\u001b[0m\n\u001b[1;32m    618\u001b[0m \u001b[39mif\u001b[39;00m method \u001b[39min\u001b[39;00m METHODS:\n\u001b[1;32m    619\u001b[0m     method \u001b[39m=\u001b[39m METHODS[method]\n\u001b[0;32m--> 621\u001b[0m solver \u001b[39m=\u001b[39m method(fun, t0, y0, tf, vectorized\u001b[39m=\u001b[39mvectorized, \u001b[39m*\u001b[39m\u001b[39m*\u001b[39moptions)\n\u001b[1;32m    623\u001b[0m \u001b[39mif\u001b[39;00m t_eval \u001b[39mis\u001b[39;00m \u001b[39mNone\u001b[39;00m:\n\u001b[1;32m    624\u001b[0m     ts \u001b[39m=\u001b[39m [t0]\n",
      "File \u001b[0;32m~/Programs/anaconda3/envs/testing/lib/python3.12/site-packages/scipy/integrate/_ivp/rk.py:94\u001b[0m, in \u001b[0;36mRungeKutta.__init__\u001b[0;34m(self, fun, t0, y0, t_bound, max_step, rtol, atol, vectorized, first_step, **extraneous)\u001b[0m\n\u001b[1;32m     92\u001b[0m \u001b[39mself\u001b[39m\u001b[39m.\u001b[39mmax_step \u001b[39m=\u001b[39m validate_max_step(max_step)\n\u001b[1;32m     93\u001b[0m \u001b[39mself\u001b[39m\u001b[39m.\u001b[39mrtol, \u001b[39mself\u001b[39m\u001b[39m.\u001b[39matol \u001b[39m=\u001b[39m validate_tol(rtol, atol, \u001b[39mself\u001b[39m\u001b[39m.\u001b[39mn)\n\u001b[0;32m---> 94\u001b[0m \u001b[39mself\u001b[39m\u001b[39m.\u001b[39mf \u001b[39m=\u001b[39m \u001b[39mself\u001b[39m\u001b[39m.\u001b[39mfun(\u001b[39mself\u001b[39m\u001b[39m.\u001b[39mt, \u001b[39mself\u001b[39m\u001b[39m.\u001b[39my)\n\u001b[1;32m     95\u001b[0m \u001b[39mif\u001b[39;00m first_step \u001b[39mis\u001b[39;00m \u001b[39mNone\u001b[39;00m:\n\u001b[1;32m     96\u001b[0m     \u001b[39mself\u001b[39m\u001b[39m.\u001b[39mh_abs \u001b[39m=\u001b[39m select_initial_step(\n\u001b[1;32m     97\u001b[0m         \u001b[39mself\u001b[39m\u001b[39m.\u001b[39mfun, \u001b[39mself\u001b[39m\u001b[39m.\u001b[39mt, \u001b[39mself\u001b[39m\u001b[39m.\u001b[39my, t_bound, max_step, \u001b[39mself\u001b[39m\u001b[39m.\u001b[39mf, \u001b[39mself\u001b[39m\u001b[39m.\u001b[39mdirection,\n\u001b[1;32m     98\u001b[0m         \u001b[39mself\u001b[39m\u001b[39m.\u001b[39merror_estimator_order, \u001b[39mself\u001b[39m\u001b[39m.\u001b[39mrtol, \u001b[39mself\u001b[39m\u001b[39m.\u001b[39matol)\n",
      "File \u001b[0;32m~/Programs/anaconda3/envs/testing/lib/python3.12/site-packages/scipy/integrate/_ivp/base.py:154\u001b[0m, in \u001b[0;36mOdeSolver.__init__.<locals>.fun\u001b[0;34m(t, y)\u001b[0m\n\u001b[1;32m    152\u001b[0m \u001b[39mdef\u001b[39;00m \u001b[39mfun\u001b[39m(t, y):\n\u001b[1;32m    153\u001b[0m     \u001b[39mself\u001b[39m\u001b[39m.\u001b[39mnfev \u001b[39m+\u001b[39m\u001b[39m=\u001b[39m \u001b[39m1\u001b[39m\n\u001b[0;32m--> 154\u001b[0m     \u001b[39mreturn\u001b[39;00m \u001b[39mself\u001b[39m\u001b[39m.\u001b[39mfun_single(t, y)\n",
      "File \u001b[0;32m~/Programs/anaconda3/envs/testing/lib/python3.12/site-packages/scipy/integrate/_ivp/base.py:23\u001b[0m, in \u001b[0;36mcheck_arguments.<locals>.fun_wrapped\u001b[0;34m(t, y)\u001b[0m\n\u001b[1;32m     22\u001b[0m \u001b[39mdef\u001b[39;00m \u001b[39mfun_wrapped\u001b[39m(t, y):\n\u001b[0;32m---> 23\u001b[0m     \u001b[39mreturn\u001b[39;00m np\u001b[39m.\u001b[39masarray(fun(t, y), dtype\u001b[39m=\u001b[39mdtype)\n",
      "File \u001b[0;32m~/Work/UROP_ICL_Internship/synthPy/examples/notebooks/../../src/simulator/propagator.py:210\u001b[0m, in \u001b[0;36mPropagator.solve.<locals>.<lambda>\u001b[0;34m(t, y)\u001b[0m\n\u001b[1;32m    207\u001b[0m     s0 \u001b[39m=\u001b[39m s0_import\u001b[39m.\u001b[39mflatten() \u001b[39m#odeint insists\u001b[39;00m\n\u001b[1;32m    209\u001b[0m     \u001b[39m# wrapper allows dummy variables t & y to be used by solve_ivp(), self is required by dsdt\u001b[39;00m\n\u001b[0;32m--> 210\u001b[0m     dsdt_ODE \u001b[39m=\u001b[39m \u001b[39mlambda\u001b[39;00m t, y: dsdt(t, y, \u001b[39mself\u001b[39m)\n\u001b[1;32m    211\u001b[0m     sol \u001b[39m=\u001b[39m solve_ivp(dsdt_ODE, [\u001b[39m0\u001b[39m, t[\u001b[39m-\u001b[39m\u001b[39m1\u001b[39m]], s0, t_eval \u001b[39m=\u001b[39m t)\n\u001b[1;32m    212\u001b[0m \u001b[39melse\u001b[39;00m:\n",
      "\u001b[0;31mTypeError\u001b[0m: dsdt() missing 1 required positional argument: 'parallelise'"
     ]
    }
   ],
   "source": [
    "# No need to change the domain (now that code has been seperated out in restructure)\n",
    "\n",
    "\n",
    "\n",
    "# load some external pvti\n",
    "\n",
    "# import utils.handle_filetypes as load\n",
    "# ne, dim, spacing = load.pvti_readin(filename)\n",
    "\n",
    "# or load a test distribution\n",
    "\n",
    "\n",
    "\n",
    "# initialise beam\n",
    "\n",
    "\n",
    "\n",
    "# solve ray trace\n",
    "tracer = p.Propagator(domain, beam_definition.s0, probing_direction = probing_direction, inv_brems = False, phaseshift = True)\n",
    "\n",
    "tracer.calc_dndr()\n",
    "rf, Jf = tracer.solve(parallelise = False, jitted = False, return_E = True)\n",
    "\n",
    "n_fringes = 10\n",
    "deg = 10 #adjust number of fringes and tilt in degrees from the vertical exis\n",
    "\n",
    "interferometrer = diag.Interferometry(lwl, rf, Jf)\n",
    "interferometrer.interfere_ref_beam(n_fringes, deg)\n",
    "\n",
    "pattern = diag.Interferometry(lwl, rf, Jf)\n",
    "#pattern = interferometrer\n",
    "pattern.two_lens_solve()\n",
    "pattern.interferogram(bin_scale = 1, clear_mem = True) #use interferogram instead of histogram\n",
    "\n",
    "#get interferogram histogram with sh.H\n",
    "plt.imshow(pattern.H, cmap = 'hot', interpolation = 'nearest')"
   ]
  },
  {
   "cell_type": "code",
   "execution_count": null,
   "metadata": {},
   "outputs": [],
   "source": []
  }
 ],
 "metadata": {
  "kernelspec": {
   "display_name": "Python 3.12.5 ('testing')",
   "language": "python",
   "name": "python3"
  },
  "language_info": {
   "codemirror_mode": {
    "name": "ipython",
    "version": 3
   },
   "file_extension": ".py",
   "mimetype": "text/x-python",
   "name": "python",
   "nbconvert_exporter": "python",
   "pygments_lexer": "ipython3",
   "version": "3.12.5"
  },
  "vscode": {
   "interpreter": {
    "hash": "de6d706a21dde6ee649de53d1c8cba9d9f8e9ee05a3542c9798512c888fa8306"
   }
  }
 },
 "nbformat": 4,
 "nbformat_minor": 4
}
