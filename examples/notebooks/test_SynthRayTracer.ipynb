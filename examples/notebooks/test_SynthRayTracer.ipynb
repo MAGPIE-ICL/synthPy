{
 "cells": [
  {
   "cell_type": "markdown",
   "metadata": {},
   "source": [
    "### Test - Synthetic Diagnostic + Interferometry\n",
    "\n",
    "</b> Author:   </b>  Louis Evans     </br>\n",
    "</b> Reviewer: </b>  Stefano Merlini"
   ]
  },
  {
   "cell_type": "markdown",
   "metadata": {},
   "source": [
    "### Import relevant files:"
   ]
  },
  {
   "cell_type": "code",
   "execution_count": 1,
   "metadata": {},
   "outputs": [
    {
     "name": "stdout",
     "output_type": "stream",
     "text": [
      "\n",
      "Initialising jax...\n",
      "\n",
      "jax:    0.6.2\n",
      "jaxlib: 0.6.2\n",
      "numpy:  2.3.1\n",
      "python: 3.12.5 | packaged by Anaconda, Inc. | (main, Sep 12 2024, 18:27:27) [GCC 11.2.0]\n",
      "device info: cpu-16, 16 local devices\"\n",
      "process_count: 1\n",
      "platform: uname_result(system='Linux', node='computer', release='5.15.179-1-MANJARO', version='#1 SMP PREEMPT Thu Mar 13 13:45:22 UTC 2025', machine='x86_64')\n",
      "\n",
      "Default jax backend: cpu\n",
      "Available devices: [CpuDevice(id=0), CpuDevice(id=1), CpuDevice(id=2), CpuDevice(id=3), CpuDevice(id=4), CpuDevice(id=5), CpuDevice(id=6), CpuDevice(id=7), CpuDevice(id=8), CpuDevice(id=9), CpuDevice(id=10), CpuDevice(id=11), CpuDevice(id=12), CpuDevice(id=13), CpuDevice(id=14), CpuDevice(id=15)]\n"
     ]
    },
    {
     "data": {
      "text/plain": [
       "<module 'diagnostics' from '/home/administrator/Work/UROP_ICL_Internship/synthPy/examples/notebooks/../../src/simulator/diagnostics.py'>"
      ]
     },
     "execution_count": 1,
     "metadata": {},
     "output_type": "execute_result"
    }
   ],
   "source": [
    "import numpy as np\n",
    "import matplotlib.pyplot as plt\n",
    "#import vtk\n",
    "#from vtk.util import numpy_support as vtk_np\n",
    "import gc\n",
    "\n",
    "import sys\n",
    "\n",
    "#add path\n",
    "sys.path.insert(0, '../../src/simulator')     # import path/to/synthpy\n",
    "\n",
    "import config\n",
    "config.jax_init()\n",
    "\n",
    "import beam as beam_initialiser\n",
    "import domain as d\n",
    "import propagator as p\n",
    "import diagnostics as diag\n",
    "#import utils\n",
    "\n",
    "import importlib\n",
    "importlib.reload(beam_initialiser)\n",
    "importlib.reload(d)\n",
    "importlib.reload(p)\n",
    "importlib.reload(diag)\n",
    "#importlib.reload(utils)"
   ]
  },
  {
   "cell_type": "markdown",
   "metadata": {},
   "source": [
    "To use the ray tracer, first create a 'domain', load the domain with an electron distribution, calculate electron gradients, initialise a beam, and solve!\n",
    "\\\n",
    "\\\n",
    "The output can either be plotted, or passed further through ray optics for synthetic diagnostics"
   ]
  },
  {
   "cell_type": "code",
   "execution_count": 2,
   "metadata": {},
   "outputs": [
    {
     "name": "stdout",
     "output_type": "stream",
     "text": [
      "Predicted size in memory of domain: 8.0 MB\n",
      "\n",
      "Generating test exponential decay periodic -e field.\n",
      "\n",
      "jax:    0.6.2\n",
      "jaxlib: 0.6.2\n",
      "numpy:  2.3.1\n",
      "python: 3.12.5 | packaged by Anaconda, Inc. | (main, Sep 12 2024, 18:27:27) [GCC 11.2.0]\n",
      "device info: cpu-16, 16 local devices\"\n",
      "process_count: 1\n",
      "platform: uname_result(system='Linux', node='computer', release='5.15.179-1-MANJARO', version='#1 SMP PREEMPT Thu Mar 13 13:45:22 UTC 2025', machine='x86_64')\n"
     ]
    }
   ],
   "source": [
    "# define some extent, the domain should be distributed as +extent to -extent, does not need to be cubic\n",
    "extent_x = 5e-3\n",
    "extent_y = 5e-3\n",
    "extent_z = 10e-3\n",
    "\n",
    "n_cells = 128\n",
    "\n",
    "#x = np.linspace(-extent_x, extent_x, n_cells)\n",
    "#y = np.linspace(-extent_y, extent_y, n_cells)\n",
    "#z = np.linspace(-extent_z, extent_z, n_cells)\n",
    "\n",
    "probing_extent = extent_z\n",
    "probing_direction = 'z'\n",
    "\n",
    "lengths = 2 * np.array([extent_x, extent_y, extent_z])\n",
    "\n",
    "#domain = d.ScalarDomain(x = x, y = y, z = z, extent = probing_extent, probing_direction = probing_direction)     # create domain\n",
    "# Much simpler domain function, no longer needlessly takes in beam values, they are fully seperated\n",
    "domain = d.ScalarDomain(lengths, n_cells, ne_type = \"test_exponential_cos\") # B_on = False by default\n",
    "\n",
    "# clear we should do manual garbage collection of some variety in d.ScalarDomain function"
   ]
  },
  {
   "cell_type": "markdown",
   "metadata": {},
   "source": [
    "Load some domain distribution"
   ]
  },
  {
   "cell_type": "code",
   "execution_count": 3,
   "metadata": {},
   "outputs": [],
   "source": [
    "# load some external pvti\n",
    "# import utils.handle_filetypes as load\n",
    "# ne, dim, spacing = load.pvti_readin(filename)\n",
    "# or load a test distribution\n",
    "\n",
    "#domain.ne = np.full((100, 100, 100), 1e24)\n",
    "#domain.test_exponential_cos()\n",
    "#domain.test_slab(0.000001, 1e24)"
   ]
  },
  {
   "cell_type": "markdown",
   "metadata": {},
   "source": [
    "Solve gradients, initialise beam, and solve"
   ]
  },
  {
   "cell_type": "code",
   "execution_count": 4,
   "metadata": {},
   "outputs": [
    {
     "name": "stdout",
     "output_type": "stream",
     "text": [
      "\n",
      "Size in memory of initial rays: 712B\n",
      "\n",
      "Running device: cpu, with: 16 cores.\n",
      "NamedSharding(mesh=Mesh('cols': 16, axis_types=(Auto,)), spec=PartitionSpec('cols',), memory_kind=unpinned_host)\n",
      "\n",
      "jax compilation of solver took: 0.0004286766052246094 seconds\n",
      "\n",
      "Size in memory of initial rays: 712B\n",
      "Size in memory of solution: 48B\n",
      "Size in memory of propagator class: 48B\n",
      "\n",
      "File: ls\n",
      "Type: space\n",
      "Showing nodes accounting for 24.57MB, 99.72% of 24.63MB total\n",
      "Dropped 51 nodes (cum <= 0.12MB)\n",
      "      flat  flat%   sum%        cum   cum%\n",
      "   24.38MB 98.95% 98.95%    24.38MB 98.95%  __call__\n",
      "    0.12MB  0.49% 99.44%     0.43MB  1.74%  _pjit_call_impl\n",
      "    0.07MB  0.28% 99.72%    24.39MB 99.00%  apply_primitive\n",
      "         0     0% 99.72%    24.63MB   100%  [ls]\n",
      "         0     0% 99.72%     0.18MB  0.72%  [ls]\n",
      "         0     0% 99.72%    16.07MB 65.24%  __init__\n",
      "         0     0% 99.72%     0.43MB  1.74%  _batch_inner\n",
      "         0     0% 99.72%     0.43MB  1.74%  _batch_outer\n",
      "         0     0% 99.72%     0.18MB  0.72%  _call\n",
      "         0     0% 99.72%       24MB 97.43%  _convert_element_type\n",
      "         0     0% 99.72%       24MB 97.43%  _convert_element_type_bind_with_trace\n",
      "         0     0% 99.72%     0.18MB  0.72%  _get_result_paths_thunk\n",
      "         0     0% 99.72%     0.18MB  0.72%  _pjit_batcher\n",
      "         0     0% 99.72%    24.38MB 98.95%  _pjit_call_impl_python\n",
      "         0     0% 99.72%    24.63MB   100%  _pseudo_sync_runner\n",
      "         0     0% 99.72%    24.50MB 99.44%  _python_pjit_helper\n",
      "         0     0% 99.72%    24.63MB   100%  _run\n",
      "         0     0% 99.72%    24.63MB   100%  _run_cell\n",
      "         0     0% 99.72%    24.63MB   100%  _run_code\n",
      "         0     0% 99.72%    24.63MB   100%  _run_module_as_main\n",
      "         0     0% 99.72%    24.63MB   100%  _run_once\n",
      "         0     0% 99.72%    24.63MB   100%  _true_bind\n",
      "         0     0% 99.72%       24MB 97.43%  array\n",
      "         0     0% 99.72%       16MB 64.96%  asarray\n",
      "         0     0% 99.72%    24.63MB   100%  bind\n",
      "         0     0% 99.72%    24.63MB   100%  bind_with_trace\n",
      "         0     0% 99.72%     0.25MB  1.01%  broadcast\n",
      "         0     0% 99.72%     0.25MB  1.01%  broadcast_in_dim\n",
      "         0     0% 99.72%    24.50MB 99.44%  cache_miss\n",
      "         0     0% 99.72%        8MB 32.48%  calc_dndr\n",
      "         0     0% 99.72%     0.31MB  1.24%  call_impl_cache_miss\n",
      "         0     0% 99.72%     0.43MB  1.74%  call_wrapped\n",
      "         0     0% 99.72%    24.63MB   100%  dispatch_queue\n",
      "         0     0% 99.72%    24.63MB   100%  dispatch_shell\n",
      "         0     0% 99.72%    24.63MB   100%  do_execute\n",
      "         0     0% 99.72%    24.63MB   100%  execute_request\n",
      "         0     0% 99.72%     0.18MB  0.72%  flatten_fun_for_vmap\n",
      "         0     0% 99.72%     0.25MB  1.01%  from_elt\n",
      "         0     0% 99.72%       16MB 64.95%  generate_electron_density_profile\n",
      "         0     0% 99.72%    24.63MB   100%  launch_instance\n",
      "         0     0% 99.72%     0.25MB  1.01%  matchaxis\n",
      "         0     0% 99.72%    24.63MB   100%  process_one\n",
      "         0     0% 99.72%    24.63MB   100%  process_primitive\n",
      "         0     0% 99.72%    24.50MB 99.44%  reraise_with_filtered_traceback\n",
      "         0     0% 99.72%    24.63MB   100%  run_ast_nodes\n",
      "         0     0% 99.72%    24.63MB   100%  run_cell\n",
      "         0     0% 99.72%    24.63MB   100%  run_cell_async\n",
      "         0     0% 99.72%    24.63MB   100%  run_code\n",
      "         0     0% 99.72%    24.63MB   100%  run_forever\n",
      "         0     0% 99.72%     0.56MB  2.29%  solve\n",
      "         0     0% 99.72%    24.63MB   100%  start\n",
      "         0     0% 99.72%       16MB 64.95%  test_exponential_cos\n",
      "         0     0% 99.72%     0.43MB  1.74%  vmap_f\n",
      "         0     0% 99.72%    24.38MB 98.95%  wrapper\n",
      "\n",
      "Parallelised output has resulting 3D matrix of form: [batch_count, 2, 9]: (992, 2, 9)\n",
      "\t2 to account for the start and end results\n",
      "\t9 containing the 3 position and velocity components, amplitude, phase and polarisation\n",
      "\tIf batch_count is lower than expected, this is likely due to jax's forced integer batch sharding when parallelising over cpu cores.\n",
      "\n",
      "We slice the end result and transpose into the form: (9, 992) to work with later code.\n",
      "\n",
      "Completed ray trace in 5.55 seconds.\n"
     ]
    }
   ],
   "source": [
    "lwl = 1064e-9 #define laser wavelength\n",
    "\n",
    "# initialise beam\n",
    "Np = 1000    # number of photons\n",
    "divergence = 5e-5   # realistic divergence value\n",
    "beam_size = extent_x    # beam radius\n",
    "ne_extent = probing_extent  # so the beam knows where to initialise initial positions\n",
    "beam_type = 'circular'\n",
    "\n",
    "beam_definition = beam_initialiser.Beam(Np, beam_size, divergence, ne_extent, probing_direction = probing_direction, wavelength = lwl, beam_type = beam_type)\n",
    "\n",
    "tracer = p.Propagator(domain, probing_direction = probing_direction, inv_brems = False, phaseshift = False)\n",
    "\n",
    "# solve ray trace\n",
    "tracer.calc_dndr(lwl, keep_domain = True)\n",
    "# without the _, both rf and Jf (even though it defaults to None when return_E = False) get unpacked into rf and it becomes a tuple\n",
    "rf, _ = tracer.solve(beam_definition.s0)#, parallelise = False, jitted = False)\n",
    "print(\"\\nCompleted ray trace in\", np.round(tracer.duration, 3), \"seconds.\")"
   ]
  },
  {
   "cell_type": "markdown",
   "metadata": {},
   "source": [
    "Pass through ray optics: For Shadowgaphy, Schlieren, or Refractometry:"
   ]
  },
  {
   "cell_type": "code",
   "execution_count": 5,
   "metadata": {},
   "outputs": [
    {
     "name": "stdout",
     "output_type": "stream",
     "text": [
      "\n",
      "rf size expected: (992, 992)\n",
      "rf after clearing nan's: (852, 852)\n"
     ]
    },
    {
     "data": {
      "text/plain": [
       "<matplotlib.image.AxesImage at 0x7f66751217c0>"
      ]
     },
     "execution_count": 5,
     "metadata": {},
     "output_type": "execute_result"
    },
    {
     "data": {
      "image/png": "[encoded data removed]",
      "text/plain": [
       "<Figure size 640x480 with 1 Axes>"
      ]
     },
     "metadata": {},
     "output_type": "display_data"
    }
   ],
   "source": [
    "#in the diagnostic initialisation, details on the lens configurations, and detector dimensions can be specified\n",
    "refractometer = diag.Refractometry(lwl, rf)\n",
    "refractometer.incoherent_solve()\n",
    "# cam't clear_mem if you want to generate other graphs afterwards\n",
    "refractometer.histogram(bin_scale = 1, clear_mem = False)\n",
    "\n",
    "#information accessed by .H(istogram) , e.g plt.imshow(refractometer.H)\n",
    "\n",
    "#plt.imshow(refractometer.H, cmap='hot', interpolation='nearest', clim = (0, 2))\n",
    "plt.imshow(refractometer.H, cmap = 'hot', interpolation = 'nearest', clim = (0.5, 1))"
   ]
  },
  {
   "cell_type": "code",
   "execution_count": 6,
   "metadata": {},
   "outputs": [
    {
     "name": "stdout",
     "output_type": "stream",
     "text": [
      "\n",
      "rf size expected: (992, 992)\n",
      "rf after clearing nan's: (852, 852)\n"
     ]
    },
    {
     "data": {
      "text/plain": [
       "<matplotlib.image.AxesImage at 0x7f6676eddb20>"
      ]
     },
     "execution_count": 6,
     "metadata": {},
     "output_type": "execute_result"
    },
    {
     "name": "stdout",
     "output_type": "stream",
     "text": [
      "Error in callback <function flush_figures at 0x7f665c1e7ba0> (for post_execute), with arguments args (),kwargs {}:\n"
     ]
    },
    {
     "ename": "KeyboardInterrupt",
     "evalue": "",
     "output_type": "error",
     "traceback": [
      "\u001b[0;31m---------------------------------------------------------------------------\u001b[0m",
      "\u001b[0;31mKeyboardInterrupt\u001b[0m                         Traceback (most recent call last)",
      "File \u001b[0;32m~/Programs/anaconda3/envs/testing/lib/python3.12/site-packages/matplotlib_inline/backend_inline.py:126\u001b[0m, in \u001b[0;36mflush_figures\u001b[0;34m()\u001b[0m\n\u001b[1;32m    123\u001b[0m \u001b[39mif\u001b[39;00m InlineBackend\u001b[39m.\u001b[39minstance()\u001b[39m.\u001b[39mclose_figures:\n\u001b[1;32m    124\u001b[0m     \u001b[39m# ignore the tracking, just draw and close all figures\u001b[39;00m\n\u001b[1;32m    125\u001b[0m     \u001b[39mtry\u001b[39;00m:\n\u001b[0;32m--> 126\u001b[0m         \u001b[39mreturn\u001b[39;00m show(\u001b[39mTrue\u001b[39;00m)\n\u001b[1;32m    127\u001b[0m     \u001b[39mexcept\u001b[39;00m \u001b[39mException\u001b[39;00m \u001b[39mas\u001b[39;00m e:\n\u001b[1;32m    128\u001b[0m         \u001b[39m# safely show traceback if in IPython, else raise\u001b[39;00m\n\u001b[1;32m    129\u001b[0m         ip \u001b[39m=\u001b[39m get_ipython()\n",
      "File \u001b[0;32m~/Programs/anaconda3/envs/testing/lib/python3.12/site-packages/matplotlib_inline/backend_inline.py:90\u001b[0m, in \u001b[0;36mshow\u001b[0;34m(close, block)\u001b[0m\n\u001b[1;32m     88\u001b[0m \u001b[39mtry\u001b[39;00m:\n\u001b[1;32m     89\u001b[0m     \u001b[39mfor\u001b[39;00m figure_manager \u001b[39min\u001b[39;00m Gcf\u001b[39m.\u001b[39mget_all_fig_managers():\n\u001b[0;32m---> 90\u001b[0m         display(\n\u001b[1;32m     91\u001b[0m             figure_manager\u001b[39m.\u001b[39mcanvas\u001b[39m.\u001b[39mfigure,\n\u001b[1;32m     92\u001b[0m             metadata\u001b[39m=\u001b[39m_fetch_figure_metadata(figure_manager\u001b[39m.\u001b[39mcanvas\u001b[39m.\u001b[39mfigure)\n\u001b[1;32m     93\u001b[0m         )\n\u001b[1;32m     94\u001b[0m \u001b[39mfinally\u001b[39;00m:\n\u001b[1;32m     95\u001b[0m     show\u001b[39m.\u001b[39m_to_draw \u001b[39m=\u001b[39m []\n",
      "File \u001b[0;32m~/Programs/anaconda3/envs/testing/lib/python3.12/site-packages/IPython/core/display_functions.py:298\u001b[0m, in \u001b[0;36mdisplay\u001b[0;34m(include, exclude, metadata, transient, display_id, raw, clear, *objs, **kwargs)\u001b[0m\n\u001b[1;32m    296\u001b[0m     publish_display_data(data\u001b[39m=\u001b[39mobj, metadata\u001b[39m=\u001b[39mmetadata, \u001b[39m*\u001b[39m\u001b[39m*\u001b[39mkwargs)\n\u001b[1;32m    297\u001b[0m \u001b[39melse\u001b[39;00m:\n\u001b[0;32m--> 298\u001b[0m     format_dict, md_dict \u001b[39m=\u001b[39m \u001b[39mformat\u001b[39m(obj, include\u001b[39m=\u001b[39minclude, exclude\u001b[39m=\u001b[39mexclude)\n\u001b[1;32m    299\u001b[0m     \u001b[39mif\u001b[39;00m \u001b[39mnot\u001b[39;00m format_dict:\n\u001b[1;32m    300\u001b[0m         \u001b[39m# nothing to display (e.g. _ipython_display_ took over)\u001b[39;00m\n\u001b[1;32m    301\u001b[0m         \u001b[39mcontinue\u001b[39;00m\n",
      "File \u001b[0;32m~/Programs/anaconda3/envs/testing/lib/python3.12/site-packages/IPython/core/formatters.py:182\u001b[0m, in \u001b[0;36mDisplayFormatter.format\u001b[0;34m(self, obj, include, exclude)\u001b[0m\n\u001b[1;32m    180\u001b[0m md \u001b[39m=\u001b[39m \u001b[39mNone\u001b[39;00m\n\u001b[1;32m    181\u001b[0m \u001b[39mtry\u001b[39;00m:\n\u001b[0;32m--> 182\u001b[0m     data \u001b[39m=\u001b[39m formatter(obj)\n\u001b[1;32m    183\u001b[0m \u001b[39mexcept\u001b[39;00m:\n\u001b[1;32m    184\u001b[0m     \u001b[39m# FIXME: log the exception\u001b[39;00m\n\u001b[1;32m    185\u001b[0m     \u001b[39mraise\u001b[39;00m\n",
      "File \u001b[0;32m~/Programs/anaconda3/envs/testing/lib/python3.12/site-packages/decorator.py:232\u001b[0m, in \u001b[0;36mdecorate.<locals>.fun\u001b[0;34m(*args, **kw)\u001b[0m\n\u001b[1;32m    230\u001b[0m \u001b[39mif\u001b[39;00m \u001b[39mnot\u001b[39;00m kwsyntax:\n\u001b[1;32m    231\u001b[0m     args, kw \u001b[39m=\u001b[39m fix(args, kw, sig)\n\u001b[0;32m--> 232\u001b[0m \u001b[39mreturn\u001b[39;00m caller(func, \u001b[39m*\u001b[39m(extras \u001b[39m+\u001b[39m args), \u001b[39m*\u001b[39m\u001b[39m*\u001b[39mkw)\n",
      "File \u001b[0;32m~/Programs/anaconda3/envs/testing/lib/python3.12/site-packages/IPython/core/formatters.py:226\u001b[0m, in \u001b[0;36mcatch_format_error\u001b[0;34m(method, self, *args, **kwargs)\u001b[0m\n\u001b[1;32m    224\u001b[0m \u001b[39m\u001b[39m\u001b[39m\"\"\"show traceback on failed format call\"\"\"\u001b[39;00m\n\u001b[1;32m    225\u001b[0m \u001b[39mtry\u001b[39;00m:\n\u001b[0;32m--> 226\u001b[0m     r \u001b[39m=\u001b[39m method(\u001b[39mself\u001b[39m, \u001b[39m*\u001b[39margs, \u001b[39m*\u001b[39m\u001b[39m*\u001b[39mkwargs)\n\u001b[1;32m    227\u001b[0m \u001b[39mexcept\u001b[39;00m \u001b[39mNotImplementedError\u001b[39;00m:\n\u001b[1;32m    228\u001b[0m     \u001b[39m# don't warn on NotImplementedErrors\u001b[39;00m\n\u001b[1;32m    229\u001b[0m     \u001b[39mreturn\u001b[39;00m \u001b[39mself\u001b[39m\u001b[39m.\u001b[39m_check_return(\u001b[39mNone\u001b[39;00m, args[\u001b[39m0\u001b[39m])\n",
      "File \u001b[0;32m~/Programs/anaconda3/envs/testing/lib/python3.12/site-packages/IPython/core/formatters.py:343\u001b[0m, in \u001b[0;36mBaseFormatter.__call__\u001b[0;34m(self, obj)\u001b[0m\n\u001b[1;32m    341\u001b[0m     \u001b[39mpass\u001b[39;00m\n\u001b[1;32m    342\u001b[0m \u001b[39melse\u001b[39;00m:\n\u001b[0;32m--> 343\u001b[0m     \u001b[39mreturn\u001b[39;00m printer(obj)\n\u001b[1;32m    344\u001b[0m \u001b[39m# Finally look for special method names\u001b[39;00m\n\u001b[1;32m    345\u001b[0m method \u001b[39m=\u001b[39m get_real_method(obj, \u001b[39mself\u001b[39m\u001b[39m.\u001b[39mprint_method)\n",
      "File \u001b[0;32m~/Programs/anaconda3/envs/testing/lib/python3.12/site-packages/IPython/core/pylabtools.py:170\u001b[0m, in \u001b[0;36mprint_figure\u001b[0;34m(fig, fmt, bbox_inches, base64, **kwargs)\u001b[0m\n\u001b[1;32m    167\u001b[0m     \u001b[39mfrom\u001b[39;00m \u001b[39mmatplotlib\u001b[39;00m\u001b[39m.\u001b[39;00m\u001b[39mbackend_bases\u001b[39;00m \u001b[39mimport\u001b[39;00m FigureCanvasBase\n\u001b[1;32m    168\u001b[0m     FigureCanvasBase(fig)\n\u001b[0;32m--> 170\u001b[0m fig\u001b[39m.\u001b[39mcanvas\u001b[39m.\u001b[39mprint_figure(bytes_io, \u001b[39m*\u001b[39m\u001b[39m*\u001b[39mkw)\n\u001b[1;32m    171\u001b[0m data \u001b[39m=\u001b[39m bytes_io\u001b[39m.\u001b[39mgetvalue()\n\u001b[1;32m    172\u001b[0m \u001b[39mif\u001b[39;00m fmt \u001b[39m==\u001b[39m \u001b[39m'\u001b[39m\u001b[39msvg\u001b[39m\u001b[39m'\u001b[39m:\n",
      "File \u001b[0;32m~/Programs/anaconda3/envs/testing/lib/python3.12/site-packages/matplotlib/backend_bases.py:2155\u001b[0m, in \u001b[0;36mFigureCanvasBase.print_figure\u001b[0;34m(self, filename, dpi, facecolor, edgecolor, orientation, format, bbox_inches, pad_inches, bbox_extra_artists, backend, **kwargs)\u001b[0m\n\u001b[1;32m   2152\u001b[0m     \u001b[39m# we do this instead of `self.figure.draw_without_rendering`\u001b[39;00m\n\u001b[1;32m   2153\u001b[0m     \u001b[39m# so that we can inject the orientation\u001b[39;00m\n\u001b[1;32m   2154\u001b[0m     \u001b[39mwith\u001b[39;00m \u001b[39mgetattr\u001b[39m(renderer, \u001b[39m\"\u001b[39m\u001b[39m_draw_disabled\u001b[39m\u001b[39m\"\u001b[39m, nullcontext)():\n\u001b[0;32m-> 2155\u001b[0m         \u001b[39mself\u001b[39m\u001b[39m.\u001b[39mfigure\u001b[39m.\u001b[39mdraw(renderer)\n\u001b[1;32m   2156\u001b[0m \u001b[39mif\u001b[39;00m bbox_inches:\n\u001b[1;32m   2157\u001b[0m     \u001b[39mif\u001b[39;00m bbox_inches \u001b[39m==\u001b[39m \u001b[39m\"\u001b[39m\u001b[39mtight\u001b[39m\u001b[39m\"\u001b[39m:\n",
      "File \u001b[0;32m~/Programs/anaconda3/envs/testing/lib/python3.12/site-packages/matplotlib/artist.py:94\u001b[0m, in \u001b[0;36m_finalize_rasterization.<locals>.draw_wrapper\u001b[0;34m(artist, renderer, *args, **kwargs)\u001b[0m\n\u001b[1;32m     92\u001b[0m \u001b[39m@wraps\u001b[39m(draw)\n\u001b[1;32m     93\u001b[0m \u001b[39mdef\u001b[39;00m \u001b[39mdraw_wrapper\u001b[39m(artist, renderer, \u001b[39m*\u001b[39margs, \u001b[39m*\u001b[39m\u001b[39m*\u001b[39mkwargs):\n\u001b[0;32m---> 94\u001b[0m     result \u001b[39m=\u001b[39m draw(artist, renderer, \u001b[39m*\u001b[39margs, \u001b[39m*\u001b[39m\u001b[39m*\u001b[39mkwargs)\n\u001b[1;32m     95\u001b[0m     \u001b[39mif\u001b[39;00m renderer\u001b[39m.\u001b[39m_rasterizing:\n\u001b[1;32m     96\u001b[0m         renderer\u001b[39m.\u001b[39mstop_rasterizing()\n",
      "File \u001b[0;32m~/Programs/anaconda3/envs/testing/lib/python3.12/site-packages/matplotlib/artist.py:71\u001b[0m, in \u001b[0;36mallow_rasterization.<locals>.draw_wrapper\u001b[0;34m(artist, renderer)\u001b[0m\n\u001b[1;32m     68\u001b[0m     \u001b[39mif\u001b[39;00m artist\u001b[39m.\u001b[39mget_agg_filter() \u001b[39mis\u001b[39;00m \u001b[39mnot\u001b[39;00m \u001b[39mNone\u001b[39;00m:\n\u001b[1;32m     69\u001b[0m         renderer\u001b[39m.\u001b[39mstart_filter()\n\u001b[0;32m---> 71\u001b[0m     \u001b[39mreturn\u001b[39;00m draw(artist, renderer)\n\u001b[1;32m     72\u001b[0m \u001b[39mfinally\u001b[39;00m:\n\u001b[1;32m     73\u001b[0m     \u001b[39mif\u001b[39;00m artist\u001b[39m.\u001b[39mget_agg_filter() \u001b[39mis\u001b[39;00m \u001b[39mnot\u001b[39;00m \u001b[39mNone\u001b[39;00m:\n",
      "File \u001b[0;32m~/Programs/anaconda3/envs/testing/lib/python3.12/site-packages/matplotlib/figure.py:3257\u001b[0m, in \u001b[0;36mFigure.draw\u001b[0;34m(self, renderer)\u001b[0m\n\u001b[1;32m   3254\u001b[0m             \u001b[39m# ValueError can occur when resizing a window.\u001b[39;00m\n\u001b[1;32m   3256\u001b[0m     \u001b[39mself\u001b[39m\u001b[39m.\u001b[39mpatch\u001b[39m.\u001b[39mdraw(renderer)\n\u001b[0;32m-> 3257\u001b[0m     mimage\u001b[39m.\u001b[39m_draw_list_compositing_images(\n\u001b[1;32m   3258\u001b[0m         renderer, \u001b[39mself\u001b[39m, artists, \u001b[39mself\u001b[39m\u001b[39m.\u001b[39msuppressComposite)\n\u001b[1;32m   3260\u001b[0m     renderer\u001b[39m.\u001b[39mclose_group(\u001b[39m'\u001b[39m\u001b[39mfigure\u001b[39m\u001b[39m'\u001b[39m)\n\u001b[1;32m   3261\u001b[0m \u001b[39mfinally\u001b[39;00m:\n",
      "File \u001b[0;32m~/Programs/anaconda3/envs/testing/lib/python3.12/site-packages/matplotlib/image.py:134\u001b[0m, in \u001b[0;36m_draw_list_compositing_images\u001b[0;34m(renderer, parent, artists, suppress_composite)\u001b[0m\n\u001b[1;32m    132\u001b[0m \u001b[39mif\u001b[39;00m not_composite \u001b[39mor\u001b[39;00m \u001b[39mnot\u001b[39;00m has_images:\n\u001b[1;32m    133\u001b[0m     \u001b[39mfor\u001b[39;00m a \u001b[39min\u001b[39;00m artists:\n\u001b[0;32m--> 134\u001b[0m         a\u001b[39m.\u001b[39mdraw(renderer)\n\u001b[1;32m    135\u001b[0m \u001b[39melse\u001b[39;00m:\n\u001b[1;32m    136\u001b[0m     \u001b[39m# Composite any adjacent images together\u001b[39;00m\n\u001b[1;32m    137\u001b[0m     image_group \u001b[39m=\u001b[39m []\n",
      "File \u001b[0;32m~/Programs/anaconda3/envs/testing/lib/python3.12/site-packages/matplotlib/artist.py:71\u001b[0m, in \u001b[0;36mallow_rasterization.<locals>.draw_wrapper\u001b[0;34m(artist, renderer)\u001b[0m\n\u001b[1;32m     68\u001b[0m     \u001b[39mif\u001b[39;00m artist\u001b[39m.\u001b[39mget_agg_filter() \u001b[39mis\u001b[39;00m \u001b[39mnot\u001b[39;00m \u001b[39mNone\u001b[39;00m:\n\u001b[1;32m     69\u001b[0m         renderer\u001b[39m.\u001b[39mstart_filter()\n\u001b[0;32m---> 71\u001b[0m     \u001b[39mreturn\u001b[39;00m draw(artist, renderer)\n\u001b[1;32m     72\u001b[0m \u001b[39mfinally\u001b[39;00m:\n\u001b[1;32m     73\u001b[0m     \u001b[39mif\u001b[39;00m artist\u001b[39m.\u001b[39mget_agg_filter() \u001b[39mis\u001b[39;00m \u001b[39mnot\u001b[39;00m \u001b[39mNone\u001b[39;00m:\n",
      "File \u001b[0;32m~/Programs/anaconda3/envs/testing/lib/python3.12/site-packages/matplotlib/axes/_base.py:3181\u001b[0m, in \u001b[0;36m_AxesBase.draw\u001b[0;34m(self, renderer)\u001b[0m\n\u001b[1;32m   3178\u001b[0m \u001b[39mif\u001b[39;00m artists_rasterized:\n\u001b[1;32m   3179\u001b[0m     _draw_rasterized(\u001b[39mself\u001b[39m\u001b[39m.\u001b[39mget_figure(root\u001b[39m=\u001b[39m\u001b[39mTrue\u001b[39;00m), artists_rasterized, renderer)\n\u001b[0;32m-> 3181\u001b[0m mimage\u001b[39m.\u001b[39m_draw_list_compositing_images(\n\u001b[1;32m   3182\u001b[0m     renderer, \u001b[39mself\u001b[39m, artists, \u001b[39mself\u001b[39m\u001b[39m.\u001b[39mget_figure(root\u001b[39m=\u001b[39m\u001b[39mTrue\u001b[39;00m)\u001b[39m.\u001b[39msuppressComposite)\n\u001b[1;32m   3184\u001b[0m renderer\u001b[39m.\u001b[39mclose_group(\u001b[39m'\u001b[39m\u001b[39maxes\u001b[39m\u001b[39m'\u001b[39m)\n\u001b[1;32m   3185\u001b[0m \u001b[39mself\u001b[39m\u001b[39m.\u001b[39mstale \u001b[39m=\u001b[39m \u001b[39mFalse\u001b[39;00m\n",
      "File \u001b[0;32m~/Programs/anaconda3/envs/testing/lib/python3.12/site-packages/matplotlib/image.py:134\u001b[0m, in \u001b[0;36m_draw_list_compositing_images\u001b[0;34m(renderer, parent, artists, suppress_composite)\u001b[0m\n\u001b[1;32m    132\u001b[0m \u001b[39mif\u001b[39;00m not_composite \u001b[39mor\u001b[39;00m \u001b[39mnot\u001b[39;00m has_images:\n\u001b[1;32m    133\u001b[0m     \u001b[39mfor\u001b[39;00m a \u001b[39min\u001b[39;00m artists:\n\u001b[0;32m--> 134\u001b[0m         a\u001b[39m.\u001b[39mdraw(renderer)\n\u001b[1;32m    135\u001b[0m \u001b[39melse\u001b[39;00m:\n\u001b[1;32m    136\u001b[0m     \u001b[39m# Composite any adjacent images together\u001b[39;00m\n\u001b[1;32m    137\u001b[0m     image_group \u001b[39m=\u001b[39m []\n",
      "File \u001b[0;32m~/Programs/anaconda3/envs/testing/lib/python3.12/site-packages/matplotlib/artist.py:71\u001b[0m, in \u001b[0;36mallow_rasterization.<locals>.draw_wrapper\u001b[0;34m(artist, renderer)\u001b[0m\n\u001b[1;32m     68\u001b[0m     \u001b[39mif\u001b[39;00m artist\u001b[39m.\u001b[39mget_agg_filter() \u001b[39mis\u001b[39;00m \u001b[39mnot\u001b[39;00m \u001b[39mNone\u001b[39;00m:\n\u001b[1;32m     69\u001b[0m         renderer\u001b[39m.\u001b[39mstart_filter()\n\u001b[0;32m---> 71\u001b[0m     \u001b[39mreturn\u001b[39;00m draw(artist, renderer)\n\u001b[1;32m     72\u001b[0m \u001b[39mfinally\u001b[39;00m:\n\u001b[1;32m     73\u001b[0m     \u001b[39mif\u001b[39;00m artist\u001b[39m.\u001b[39mget_agg_filter() \u001b[39mis\u001b[39;00m \u001b[39mnot\u001b[39;00m \u001b[39mNone\u001b[39;00m:\n",
      "File \u001b[0;32m~/Programs/anaconda3/envs/testing/lib/python3.12/site-packages/matplotlib/image.py:599\u001b[0m, in \u001b[0;36m_ImageBase.draw\u001b[0;34m(self, renderer)\u001b[0m\n\u001b[1;32m    597\u001b[0m         renderer\u001b[39m.\u001b[39mdraw_image(gc, l, b, im, trans)\n\u001b[1;32m    598\u001b[0m \u001b[39melse\u001b[39;00m:\n\u001b[0;32m--> 599\u001b[0m     im, l, b, trans \u001b[39m=\u001b[39m \u001b[39mself\u001b[39m\u001b[39m.\u001b[39mmake_image(\n\u001b[1;32m    600\u001b[0m         renderer, renderer\u001b[39m.\u001b[39mget_image_magnification())\n\u001b[1;32m    601\u001b[0m     \u001b[39mif\u001b[39;00m im \u001b[39mis\u001b[39;00m \u001b[39mnot\u001b[39;00m \u001b[39mNone\u001b[39;00m:\n\u001b[1;32m    602\u001b[0m         renderer\u001b[39m.\u001b[39mdraw_image(gc, l, b, im)\n",
      "File \u001b[0;32m~/Programs/anaconda3/envs/testing/lib/python3.12/site-packages/matplotlib/image.py:902\u001b[0m, in \u001b[0;36mAxesImage.make_image\u001b[0;34m(self, renderer, magnification, unsampled)\u001b[0m\n\u001b[1;32m    899\u001b[0m transformed_bbox \u001b[39m=\u001b[39m TransformedBbox(bbox, trans)\n\u001b[1;32m    900\u001b[0m clip \u001b[39m=\u001b[39m ((\u001b[39mself\u001b[39m\u001b[39m.\u001b[39mget_clip_box() \u001b[39mor\u001b[39;00m \u001b[39mself\u001b[39m\u001b[39m.\u001b[39maxes\u001b[39m.\u001b[39mbbox) \u001b[39mif\u001b[39;00m \u001b[39mself\u001b[39m\u001b[39m.\u001b[39mget_clip_on()\n\u001b[1;32m    901\u001b[0m         \u001b[39melse\u001b[39;00m \u001b[39mself\u001b[39m\u001b[39m.\u001b[39mget_figure(root\u001b[39m=\u001b[39m\u001b[39mTrue\u001b[39;00m)\u001b[39m.\u001b[39mbbox)\n\u001b[0;32m--> 902\u001b[0m \u001b[39mreturn\u001b[39;00m \u001b[39mself\u001b[39m\u001b[39m.\u001b[39m_make_image(\u001b[39mself\u001b[39m\u001b[39m.\u001b[39m_A, bbox, transformed_bbox, clip,\n\u001b[1;32m    903\u001b[0m                         magnification, unsampled\u001b[39m=\u001b[39munsampled)\n",
      "File \u001b[0;32m~/Programs/anaconda3/envs/testing/lib/python3.12/site-packages/matplotlib/image.py:503\u001b[0m, in \u001b[0;36m_ImageBase._make_image\u001b[0;34m(self, A, in_bbox, out_bbox, clip_bbox, magnification, unsampled, round_to_pixel_border)\u001b[0m\n\u001b[1;32m    501\u001b[0m \u001b[39mif\u001b[39;00m A\u001b[39m.\u001b[39mndim \u001b[39m==\u001b[39m \u001b[39m2\u001b[39m:  \u001b[39m# interpolation_stage = 'rgba'\u001b[39;00m\n\u001b[1;32m    502\u001b[0m     \u001b[39mself\u001b[39m\u001b[39m.\u001b[39mnorm\u001b[39m.\u001b[39mautoscale_None(A)\n\u001b[0;32m--> 503\u001b[0m     A \u001b[39m=\u001b[39m \u001b[39mself\u001b[39m\u001b[39m.\u001b[39mto_rgba(A)\n\u001b[1;32m    504\u001b[0m alpha \u001b[39m=\u001b[39m \u001b[39mself\u001b[39m\u001b[39m.\u001b[39m_get_scalar_alpha()\n\u001b[1;32m    505\u001b[0m \u001b[39mif\u001b[39;00m A\u001b[39m.\u001b[39mshape[\u001b[39m2\u001b[39m] \u001b[39m==\u001b[39m \u001b[39m3\u001b[39m:\n\u001b[1;32m    506\u001b[0m     \u001b[39m# No need to resample alpha or make a full array; NumPy will expand\u001b[39;00m\n\u001b[1;32m    507\u001b[0m     \u001b[39m# this out and cast to uint8 if necessary when it's assigned to the\u001b[39;00m\n\u001b[1;32m    508\u001b[0m     \u001b[39m# alpha channel below.\u001b[39;00m\n",
      "File \u001b[0;32m~/Programs/anaconda3/envs/testing/lib/python3.12/site-packages/matplotlib/colorizer.py:356\u001b[0m, in \u001b[0;36m_ColorizerInterface.to_rgba\u001b[0;34m(self, x, alpha, bytes, norm)\u001b[0m\n\u001b[1;32m    326\u001b[0m \u001b[39mdef\u001b[39;00m \u001b[39mto_rgba\u001b[39m(\u001b[39mself\u001b[39m, x, alpha\u001b[39m=\u001b[39m\u001b[39mNone\u001b[39;00m, \u001b[39mbytes\u001b[39m\u001b[39m=\u001b[39m\u001b[39mFalse\u001b[39;00m, norm\u001b[39m=\u001b[39m\u001b[39mTrue\u001b[39;00m):\n\u001b[1;32m    327\u001b[0m \u001b[39m    \u001b[39m\u001b[39m\"\"\"\u001b[39;00m\n\u001b[1;32m    328\u001b[0m \u001b[39m    Return a normalized RGBA array corresponding to *x*.\u001b[39;00m\n\u001b[1;32m    329\u001b[0m \n\u001b[0;32m   (...)\u001b[0m\n\u001b[1;32m    354\u001b[0m \n\u001b[1;32m    355\u001b[0m \u001b[39m    \"\"\"\u001b[39;00m\n\u001b[0;32m--> 356\u001b[0m     \u001b[39mreturn\u001b[39;00m \u001b[39mself\u001b[39m\u001b[39m.\u001b[39m_colorizer\u001b[39m.\u001b[39mto_rgba(x, alpha\u001b[39m=\u001b[39malpha, \u001b[39mbytes\u001b[39m\u001b[39m=\u001b[39m\u001b[39mbytes\u001b[39m, norm\u001b[39m=\u001b[39mnorm)\n",
      "File \u001b[0;32m~/Programs/anaconda3/envs/testing/lib/python3.12/site-packages/matplotlib/colorizer.py:157\u001b[0m, in \u001b[0;36mColorizer.to_rgba\u001b[0;34m(self, x, alpha, bytes, norm)\u001b[0m\n\u001b[1;32m    155\u001b[0m x \u001b[39m=\u001b[39m ma\u001b[39m.\u001b[39masarray(x)\n\u001b[1;32m    156\u001b[0m \u001b[39mif\u001b[39;00m norm:\n\u001b[0;32m--> 157\u001b[0m     x \u001b[39m=\u001b[39m \u001b[39mself\u001b[39m\u001b[39m.\u001b[39mnorm(x)\n\u001b[1;32m    158\u001b[0m rgba \u001b[39m=\u001b[39m \u001b[39mself\u001b[39m\u001b[39m.\u001b[39mcmap(x, alpha\u001b[39m=\u001b[39malpha, \u001b[39mbytes\u001b[39m\u001b[39m=\u001b[39m\u001b[39mbytes\u001b[39m)\n\u001b[1;32m    159\u001b[0m \u001b[39mreturn\u001b[39;00m rgba\n",
      "File \u001b[0;32m~/Programs/anaconda3/envs/testing/lib/python3.12/site-packages/matplotlib/colors.py:2275\u001b[0m, in \u001b[0;36mNormalize.__call__\u001b[0;34m(self, value, clip)\u001b[0m\n\u001b[1;32m   2272\u001b[0m \u001b[39mif\u001b[39;00m clip \u001b[39mis\u001b[39;00m \u001b[39mNone\u001b[39;00m:\n\u001b[1;32m   2273\u001b[0m     clip \u001b[39m=\u001b[39m \u001b[39mself\u001b[39m\u001b[39m.\u001b[39mclip\n\u001b[0;32m-> 2275\u001b[0m result, is_scalar \u001b[39m=\u001b[39m \u001b[39mself\u001b[39m\u001b[39m.\u001b[39mprocess_value(value)\n\u001b[1;32m   2277\u001b[0m \u001b[39mif\u001b[39;00m \u001b[39mself\u001b[39m\u001b[39m.\u001b[39mvmin \u001b[39mis\u001b[39;00m \u001b[39mNone\u001b[39;00m \u001b[39mor\u001b[39;00m \u001b[39mself\u001b[39m\u001b[39m.\u001b[39mvmax \u001b[39mis\u001b[39;00m \u001b[39mNone\u001b[39;00m:\n\u001b[1;32m   2278\u001b[0m     \u001b[39mself\u001b[39m\u001b[39m.\u001b[39mautoscale_None(result)\n",
      "File \u001b[0;32m~/Programs/anaconda3/envs/testing/lib/python3.12/site-packages/matplotlib/colors.py:2250\u001b[0m, in \u001b[0;36mNormalize.process_value\u001b[0;34m(value)\u001b[0m\n\u001b[1;32m   2248\u001b[0m mask \u001b[39m=\u001b[39m np\u001b[39m.\u001b[39mma\u001b[39m.\u001b[39mgetmask(value)\n\u001b[1;32m   2249\u001b[0m data \u001b[39m=\u001b[39m np\u001b[39m.\u001b[39masarray(value)\n\u001b[0;32m-> 2250\u001b[0m result \u001b[39m=\u001b[39m np\u001b[39m.\u001b[39mma\u001b[39m.\u001b[39marray(data, mask\u001b[39m=\u001b[39mmask, dtype\u001b[39m=\u001b[39mdtype, copy\u001b[39m=\u001b[39m\u001b[39mTrue\u001b[39;00m)\n\u001b[1;32m   2251\u001b[0m \u001b[39mreturn\u001b[39;00m result, is_scalar\n",
      "File \u001b[0;32m~/Programs/anaconda3/envs/testing/lib/python3.12/site-packages/numpy/ma/core.py:6870\u001b[0m, in \u001b[0;36marray\u001b[0;34m(data, dtype, copy, order, mask, fill_value, keep_mask, hard_mask, shrink, subok, ndmin)\u001b[0m\n\u001b[1;32m   6860\u001b[0m \u001b[39mdef\u001b[39;00m \u001b[39marray\u001b[39m(data, dtype\u001b[39m=\u001b[39m\u001b[39mNone\u001b[39;00m, copy\u001b[39m=\u001b[39m\u001b[39mFalse\u001b[39;00m, order\u001b[39m=\u001b[39m\u001b[39mNone\u001b[39;00m,\n\u001b[1;32m   6861\u001b[0m           mask\u001b[39m=\u001b[39mnomask, fill_value\u001b[39m=\u001b[39m\u001b[39mNone\u001b[39;00m, keep_mask\u001b[39m=\u001b[39m\u001b[39mTrue\u001b[39;00m,\n\u001b[1;32m   6862\u001b[0m           hard_mask\u001b[39m=\u001b[39m\u001b[39mFalse\u001b[39;00m, shrink\u001b[39m=\u001b[39m\u001b[39mTrue\u001b[39;00m, subok\u001b[39m=\u001b[39m\u001b[39mTrue\u001b[39;00m, ndmin\u001b[39m=\u001b[39m\u001b[39m0\u001b[39m):\n\u001b[1;32m   6863\u001b[0m \u001b[39m    \u001b[39m\u001b[39m\"\"\"\u001b[39;00m\n\u001b[1;32m   6864\u001b[0m \u001b[39m    Shortcut to MaskedArray.\u001b[39;00m\n\u001b[1;32m   6865\u001b[0m \n\u001b[0;32m   (...)\u001b[0m\n\u001b[1;32m   6868\u001b[0m \n\u001b[1;32m   6869\u001b[0m \u001b[39m    \"\"\"\u001b[39;00m\n\u001b[0;32m-> 6870\u001b[0m     \u001b[39mreturn\u001b[39;00m MaskedArray(data, mask\u001b[39m=\u001b[39mmask, dtype\u001b[39m=\u001b[39mdtype, copy\u001b[39m=\u001b[39mcopy,\n\u001b[1;32m   6871\u001b[0m                        subok\u001b[39m=\u001b[39msubok, keep_mask\u001b[39m=\u001b[39mkeep_mask,\n\u001b[1;32m   6872\u001b[0m                        hard_mask\u001b[39m=\u001b[39mhard_mask, fill_value\u001b[39m=\u001b[39mfill_value,\n\u001b[1;32m   6873\u001b[0m                        ndmin\u001b[39m=\u001b[39mndmin, shrink\u001b[39m=\u001b[39mshrink, order\u001b[39m=\u001b[39morder)\n",
      "File \u001b[0;32m~/Programs/anaconda3/envs/testing/lib/python3.12/site-packages/numpy/ma/core.py:2896\u001b[0m, in \u001b[0;36mMaskedArray.__new__\u001b[0;34m(cls, data, mask, dtype, copy, subok, ndmin, fill_value, keep_mask, hard_mask, shrink, order)\u001b[0m\n\u001b[1;32m   2894\u001b[0m \u001b[39m# Process data.\u001b[39;00m\n\u001b[1;32m   2895\u001b[0m copy \u001b[39m=\u001b[39m \u001b[39mNone\u001b[39;00m \u001b[39mif\u001b[39;00m \u001b[39mnot\u001b[39;00m copy \u001b[39melse\u001b[39;00m \u001b[39mTrue\u001b[39;00m\n\u001b[0;32m-> 2896\u001b[0m _data \u001b[39m=\u001b[39m np\u001b[39m.\u001b[39marray(data, dtype\u001b[39m=\u001b[39mdtype, copy\u001b[39m=\u001b[39mcopy,\n\u001b[1;32m   2897\u001b[0m                  order\u001b[39m=\u001b[39morder, subok\u001b[39m=\u001b[39m\u001b[39mTrue\u001b[39;00m, ndmin\u001b[39m=\u001b[39mndmin)\n\u001b[1;32m   2898\u001b[0m _baseclass \u001b[39m=\u001b[39m \u001b[39mgetattr\u001b[39m(data, \u001b[39m'\u001b[39m\u001b[39m_baseclass\u001b[39m\u001b[39m'\u001b[39m, \u001b[39mtype\u001b[39m(_data))\n\u001b[1;32m   2899\u001b[0m \u001b[39m# Check that we're not erasing the mask.\u001b[39;00m\n",
      "\u001b[0;31mKeyboardInterrupt\u001b[0m: "
     ]
    }
   ],
   "source": [
    "shadowgrapher = diag.Shadowgraphy(lwl, rf)\n",
    "shadowgrapher.single_lens_solve()\n",
    "shadowgrapher.histogram(bin_scale = 1, clear_mem = False)\n",
    "\n",
    "plt.imshow(shadowgrapher.H, cmap = 'hot', interpolation = 'nearest', clim = (0.5, 1))"
   ]
  },
  {
   "cell_type": "code",
   "execution_count": null,
   "metadata": {},
   "outputs": [
    {
     "name": "stdout",
     "output_type": "stream",
     "text": [
      "\n",
      "rf size expected: (992, 992)\n",
      "rf after clearing nan's: (631, 631)\n"
     ]
    },
    {
     "data": {
      "text/plain": [
       "<matplotlib.image.AxesImage at 0x7f2b802beae0>"
      ]
     },
     "execution_count": 7,
     "metadata": {},
     "output_type": "execute_result"
    },
    {
     "data": {
      "image/png": "[encoded data removed]",
      "text/plain": [
       "<Figure size 640x480 with 1 Axes>"
      ]
     },
     "metadata": {},
     "output_type": "display_data"
    }
   ],
   "source": [
    "schlierener = diag.Schlieren(lwl, rf)\n",
    "schlierener.DF_solve()\n",
    "schlierener.histogram(bin_scale = 1, clear_mem = True)\n",
    "\n",
    "plt.imshow(schlierener.H, cmap = 'hot', interpolation = 'nearest', clim = (0.5, 1))"
   ]
  },
  {
   "cell_type": "markdown",
   "metadata": {},
   "source": [
    "Synthetic Interferometry - This requires some extra steps in the ray tracing to include information on the phase and electric field values"
   ]
  },
  {
   "cell_type": "code",
   "execution_count": null,
   "metadata": {},
   "outputs": [
    {
     "name": "stdout",
     "output_type": "stream",
     "text": [
      "\n",
      "Size in memory of initial rays: 712B\n",
      "\n",
      "Running device: cpu, with: 16 cores.\n",
      "NamedSharding(mesh=Mesh('cols': 16, axis_types=(Auto,)), spec=PartitionSpec(None, 'cols'), memory_kind=unpinned_host)\n",
      "\n",
      "jax compilation of solver took: 0.0004107952117919922 seconds\n",
      "\n",
      "Size in memory of initial rays: 712B\n",
      "Size in memory of solution: 48B\n",
      "Size in memory of propagator class: 48B\n",
      "\n",
      "File: ls\n",
      "Type: space\n",
      "Showing nodes accounting for 3.21GB, 99.50% of 3.22GB total\n",
      "Dropped 80 nodes (cum <= 0.02GB)\n",
      "      flat  flat%   sum%        cum   cum%\n",
      "    2.12GB 65.92% 65.92%     3.21GB 99.50%  apply_primitive\n",
      "    1.08GB 33.58% 99.50%     1.08GB 33.58%  __call__\n",
      "         0     0% 99.50%     3.22GB   100%  [ls]\n",
      "         0     0% 99.50%     0.03GB  0.97%  _convert_element_type\n",
      "         0     0% 99.50%     0.03GB  0.97%  _convert_element_type_bind_with_trace\n",
      "         0     0% 99.50%     1.08GB 33.58%  _pjit_call_impl_python\n",
      "         0     0% 99.50%     3.22GB   100%  _pseudo_sync_runner\n",
      "         0     0% 99.50%     1.08GB 33.58%  _python_pjit_helper\n",
      "         0     0% 99.50%     3.22GB   100%  _run\n",
      "         0     0% 99.50%     3.22GB   100%  _run_cell\n",
      "         0     0% 99.50%     3.22GB   100%  _run_code\n",
      "         0     0% 99.50%     3.22GB   100%  _run_module_as_main\n",
      "         0     0% 99.50%     3.22GB   100%  _run_once\n",
      "         0     0% 99.50%     3.17GB 98.52%  _transpose_property\n",
      "         0     0% 99.50%     3.21GB 99.51%  _true_bind\n",
      "         0     0% 99.50%     0.03GB  0.97%  array\n",
      "         0     0% 99.50%     3.21GB 99.51%  bind\n",
      "         0     0% 99.50%     3.21GB 99.51%  bind_with_trace\n",
      "         0     0% 99.50%     1.08GB 33.58%  cache_miss\n",
      "         0     0% 99.50%     0.03GB  0.97%  calc_dndr\n",
      "         0     0% 99.50%     3.22GB   100%  dispatch_queue\n",
      "         0     0% 99.50%     3.22GB   100%  dispatch_shell\n",
      "         0     0% 99.50%     3.22GB   100%  do_execute\n",
      "         0     0% 99.50%     3.22GB   100%  execute_request\n",
      "         0     0% 99.50%     3.17GB 98.52%  histogram\n",
      "         0     0% 99.50%     3.22GB   100%  launch_instance\n",
      "         0     0% 99.50%     3.22GB   100%  process_one\n",
      "         0     0% 99.50%     3.21GB 99.51%  process_primitive\n",
      "         0     0% 99.50%     1.08GB 33.58%  reraise_with_filtered_traceback\n",
      "         0     0% 99.50%     3.22GB   100%  run_ast_nodes\n",
      "         0     0% 99.50%     3.22GB   100%  run_cell\n",
      "         0     0% 99.50%     3.22GB   100%  run_cell_async\n",
      "         0     0% 99.50%     3.22GB   100%  run_code\n",
      "         0     0% 99.50%     3.22GB   100%  run_forever\n",
      "         0     0% 99.50%     3.22GB   100%  start\n",
      "         0     0% 99.50%     3.17GB 98.52%  transpose\n",
      "         0     0% 99.50%     1.08GB 33.58%  wrapper\n",
      "\n",
      "Parallelised output has resulting 3D matrix of form: [batch_count, 2, 9]: (992, 2, 9)\n",
      "\t2 to account for the start and end results\n",
      "\t9 containing the 3 position and velocity components, amplitude, phase and polarisation\n",
      "\tIf batch_count is lower than expected, this is likely due to jax's forced integer batch sharding when parallelising over cpu cores.\n",
      "\n",
      "We slice the end result and transpose into the form: (9, 992) to work with later code.\n"
     ]
    },
    {
     "data": {
      "text/plain": [
       "\"\\ninterferometrer = diag.Interferometry(lwl, rf, Jf)\\ninterferometrer.interfere_ref_beam(n_fringes, deg)\\n\\npattern = diag.Interferometry(lwl, rf, Jf)\\n#pattern = interferometrer\\npattern.two_lens_solve()\\npattern.interferogram(bin_scale = 1, clear_mem = True) #use interferogram instead of histogram\\n\\n#get interferogram histogram with sh.H\\nplt.imshow(pattern.H, cmap = 'hot', interpolation = 'nearest')\\n\""
      ]
     },
     "execution_count": 8,
     "metadata": {},
     "output_type": "execute_result"
    }
   ],
   "source": [
    "# No need to change the domain (now that code has been seperated out in restructure)\n",
    "\n",
    "\n",
    "\n",
    "# load some external pvti\n",
    "\n",
    "# import utils.handle_filetypes as load\n",
    "# ne, dim, spacing = load.pvti_readin(filename)\n",
    "\n",
    "# or load a test distribution\n",
    "\n",
    "\n",
    "\n",
    "# initialise beam\n",
    "\n",
    "\n",
    "\n",
    "# solve ray trace\n",
    "tracer = p.Propagator(domain, probing_direction = probing_direction, inv_brems = False, phaseshift = True)\n",
    "\n",
    "tracer.calc_dndr()\n",
    "rf, Jf = tracer.solve(beam_definition.s0, return_E = True)\n",
    "\n",
    "n_fringes = 10\n",
    "deg = 10 #adjust number of fringes and tilt in degrees from the vertical exis\n",
    "\n",
    "'''\n",
    "interferometrer = diag.Interferometry(lwl, rf, Jf)\n",
    "interferometrer.interfere_ref_beam(n_fringes, deg)\n",
    "\n",
    "pattern = diag.Interferometry(lwl, rf, Jf)\n",
    "#pattern = interferometrer\n",
    "pattern.two_lens_solve()\n",
    "pattern.interferogram(bin_scale = 1, clear_mem = True) #use interferogram instead of histogram\n",
    "\n",
    "#get interferogram histogram with sh.H\n",
    "plt.imshow(pattern.H, cmap = 'hot', interpolation = 'nearest')\n",
    "'''"
   ]
  },
  {
   "cell_type": "code",
   "execution_count": null,
   "metadata": {},
   "outputs": [
    {
     "name": "stdout",
     "output_type": "stream",
     "text": [
      "\n",
      "rf size expected: (992, 992)\n",
      "rf after clearing nan's: (854, 854)\n"
     ]
    },
    {
     "data": {
      "text/plain": [
       "<matplotlib.image.AxesImage at 0x7f2b6c75e270>"
      ]
     },
     "execution_count": 9,
     "metadata": {},
     "output_type": "execute_result"
    },
    {
     "data": {
      "image/png": "[encoded data removed]",
      "text/plain": [
       "<Figure size 640x480 with 1 Axes>"
      ]
     },
     "metadata": {},
     "output_type": "display_data"
    }
   ],
   "source": [
    "refractometer = diag.Refractometry(lwl, rf, Jf)\n",
    "refractometer.incoherent_solve()\n",
    "refractometer.histogram(bin_scale = 1, clear_mem = False)\n",
    "\n",
    "plt.imshow(refractometer.H, cmap = 'hot', interpolation = 'nearest', clim = (0.5, 1))"
   ]
  },
  {
   "cell_type": "code",
   "execution_count": null,
   "metadata": {},
   "outputs": [
    {
     "name": "stdout",
     "output_type": "stream",
     "text": [
      "\n",
      "rf size expected: (992, 992)\n",
      "rf after clearing nan's: (721, 721)\n"
     ]
    },
    {
     "data": {
      "text/plain": [
       "<matplotlib.image.AxesImage at 0x7f2b374e1dc0>"
      ]
     },
     "execution_count": 10,
     "metadata": {},
     "output_type": "execute_result"
    },
    {
     "name": "stdout",
     "output_type": "stream",
     "text": [
      "Error in callback <function flush_figures at 0x7f2b80723920> (for post_execute), with arguments args (),kwargs {}:\n"
     ]
    },
    {
     "ename": "KeyboardInterrupt",
     "evalue": "",
     "output_type": "error",
     "traceback": [
      "\u001b[0;31m---------------------------------------------------------------------------\u001b[0m",
      "\u001b[0;31mKeyboardInterrupt\u001b[0m                         Traceback (most recent call last)",
      "File \u001b[0;32m~/Programs/anaconda3/envs/testing/lib/python3.12/site-packages/matplotlib_inline/backend_inline.py:126\u001b[0m, in \u001b[0;36mflush_figures\u001b[0;34m()\u001b[0m\n\u001b[1;32m    123\u001b[0m \u001b[39mif\u001b[39;00m InlineBackend\u001b[39m.\u001b[39minstance()\u001b[39m.\u001b[39mclose_figures:\n\u001b[1;32m    124\u001b[0m     \u001b[39m# ignore the tracking, just draw and close all figures\u001b[39;00m\n\u001b[1;32m    125\u001b[0m     \u001b[39mtry\u001b[39;00m:\n\u001b[0;32m--> 126\u001b[0m         \u001b[39mreturn\u001b[39;00m show(\u001b[39mTrue\u001b[39;00m)\n\u001b[1;32m    127\u001b[0m     \u001b[39mexcept\u001b[39;00m \u001b[39mException\u001b[39;00m \u001b[39mas\u001b[39;00m e:\n\u001b[1;32m    128\u001b[0m         \u001b[39m# safely show traceback if in IPython, else raise\u001b[39;00m\n\u001b[1;32m    129\u001b[0m         ip \u001b[39m=\u001b[39m get_ipython()\n",
      "File \u001b[0;32m~/Programs/anaconda3/envs/testing/lib/python3.12/site-packages/matplotlib_inline/backend_inline.py:90\u001b[0m, in \u001b[0;36mshow\u001b[0;34m(close, block)\u001b[0m\n\u001b[1;32m     88\u001b[0m \u001b[39mtry\u001b[39;00m:\n\u001b[1;32m     89\u001b[0m     \u001b[39mfor\u001b[39;00m figure_manager \u001b[39min\u001b[39;00m Gcf\u001b[39m.\u001b[39mget_all_fig_managers():\n\u001b[0;32m---> 90\u001b[0m         display(\n\u001b[1;32m     91\u001b[0m             figure_manager\u001b[39m.\u001b[39mcanvas\u001b[39m.\u001b[39mfigure,\n\u001b[1;32m     92\u001b[0m             metadata\u001b[39m=\u001b[39m_fetch_figure_metadata(figure_manager\u001b[39m.\u001b[39mcanvas\u001b[39m.\u001b[39mfigure)\n\u001b[1;32m     93\u001b[0m         )\n\u001b[1;32m     94\u001b[0m \u001b[39mfinally\u001b[39;00m:\n\u001b[1;32m     95\u001b[0m     show\u001b[39m.\u001b[39m_to_draw \u001b[39m=\u001b[39m []\n",
      "File \u001b[0;32m~/Programs/anaconda3/envs/testing/lib/python3.12/site-packages/IPython/core/display_functions.py:298\u001b[0m, in \u001b[0;36mdisplay\u001b[0;34m(include, exclude, metadata, transient, display_id, raw, clear, *objs, **kwargs)\u001b[0m\n\u001b[1;32m    296\u001b[0m     publish_display_data(data\u001b[39m=\u001b[39mobj, metadata\u001b[39m=\u001b[39mmetadata, \u001b[39m*\u001b[39m\u001b[39m*\u001b[39mkwargs)\n\u001b[1;32m    297\u001b[0m \u001b[39melse\u001b[39;00m:\n\u001b[0;32m--> 298\u001b[0m     format_dict, md_dict \u001b[39m=\u001b[39m \u001b[39mformat\u001b[39m(obj, include\u001b[39m=\u001b[39minclude, exclude\u001b[39m=\u001b[39mexclude)\n\u001b[1;32m    299\u001b[0m     \u001b[39mif\u001b[39;00m \u001b[39mnot\u001b[39;00m format_dict:\n\u001b[1;32m    300\u001b[0m         \u001b[39m# nothing to display (e.g. _ipython_display_ took over)\u001b[39;00m\n\u001b[1;32m    301\u001b[0m         \u001b[39mcontinue\u001b[39;00m\n",
      "File \u001b[0;32m~/Programs/anaconda3/envs/testing/lib/python3.12/site-packages/IPython/core/formatters.py:182\u001b[0m, in \u001b[0;36mDisplayFormatter.format\u001b[0;34m(self, obj, include, exclude)\u001b[0m\n\u001b[1;32m    180\u001b[0m md \u001b[39m=\u001b[39m \u001b[39mNone\u001b[39;00m\n\u001b[1;32m    181\u001b[0m \u001b[39mtry\u001b[39;00m:\n\u001b[0;32m--> 182\u001b[0m     data \u001b[39m=\u001b[39m formatter(obj)\n\u001b[1;32m    183\u001b[0m \u001b[39mexcept\u001b[39;00m:\n\u001b[1;32m    184\u001b[0m     \u001b[39m# FIXME: log the exception\u001b[39;00m\n\u001b[1;32m    185\u001b[0m     \u001b[39mraise\u001b[39;00m\n",
      "File \u001b[0;32m~/Programs/anaconda3/envs/testing/lib/python3.12/site-packages/decorator.py:232\u001b[0m, in \u001b[0;36mdecorate.<locals>.fun\u001b[0;34m(*args, **kw)\u001b[0m\n\u001b[1;32m    230\u001b[0m \u001b[39mif\u001b[39;00m \u001b[39mnot\u001b[39;00m kwsyntax:\n\u001b[1;32m    231\u001b[0m     args, kw \u001b[39m=\u001b[39m fix(args, kw, sig)\n\u001b[0;32m--> 232\u001b[0m \u001b[39mreturn\u001b[39;00m caller(func, \u001b[39m*\u001b[39m(extras \u001b[39m+\u001b[39m args), \u001b[39m*\u001b[39m\u001b[39m*\u001b[39mkw)\n",
      "File \u001b[0;32m~/Programs/anaconda3/envs/testing/lib/python3.12/site-packages/IPython/core/formatters.py:226\u001b[0m, in \u001b[0;36mcatch_format_error\u001b[0;34m(method, self, *args, **kwargs)\u001b[0m\n\u001b[1;32m    224\u001b[0m \u001b[39m\u001b[39m\u001b[39m\"\"\"show traceback on failed format call\"\"\"\u001b[39;00m\n\u001b[1;32m    225\u001b[0m \u001b[39mtry\u001b[39;00m:\n\u001b[0;32m--> 226\u001b[0m     r \u001b[39m=\u001b[39m method(\u001b[39mself\u001b[39m, \u001b[39m*\u001b[39margs, \u001b[39m*\u001b[39m\u001b[39m*\u001b[39mkwargs)\n\u001b[1;32m    227\u001b[0m \u001b[39mexcept\u001b[39;00m \u001b[39mNotImplementedError\u001b[39;00m:\n\u001b[1;32m    228\u001b[0m     \u001b[39m# don't warn on NotImplementedErrors\u001b[39;00m\n\u001b[1;32m    229\u001b[0m     \u001b[39mreturn\u001b[39;00m \u001b[39mself\u001b[39m\u001b[39m.\u001b[39m_check_return(\u001b[39mNone\u001b[39;00m, args[\u001b[39m0\u001b[39m])\n",
      "File \u001b[0;32m~/Programs/anaconda3/envs/testing/lib/python3.12/site-packages/IPython/core/formatters.py:343\u001b[0m, in \u001b[0;36mBaseFormatter.__call__\u001b[0;34m(self, obj)\u001b[0m\n\u001b[1;32m    341\u001b[0m     \u001b[39mpass\u001b[39;00m\n\u001b[1;32m    342\u001b[0m \u001b[39melse\u001b[39;00m:\n\u001b[0;32m--> 343\u001b[0m     \u001b[39mreturn\u001b[39;00m printer(obj)\n\u001b[1;32m    344\u001b[0m \u001b[39m# Finally look for special method names\u001b[39;00m\n\u001b[1;32m    345\u001b[0m method \u001b[39m=\u001b[39m get_real_method(obj, \u001b[39mself\u001b[39m\u001b[39m.\u001b[39mprint_method)\n",
      "File \u001b[0;32m~/Programs/anaconda3/envs/testing/lib/python3.12/site-packages/IPython/core/pylabtools.py:170\u001b[0m, in \u001b[0;36mprint_figure\u001b[0;34m(fig, fmt, bbox_inches, base64, **kwargs)\u001b[0m\n\u001b[1;32m    167\u001b[0m     \u001b[39mfrom\u001b[39;00m \u001b[39mmatplotlib\u001b[39;00m\u001b[39m.\u001b[39;00m\u001b[39mbackend_bases\u001b[39;00m \u001b[39mimport\u001b[39;00m FigureCanvasBase\n\u001b[1;32m    168\u001b[0m     FigureCanvasBase(fig)\n\u001b[0;32m--> 170\u001b[0m fig\u001b[39m.\u001b[39mcanvas\u001b[39m.\u001b[39mprint_figure(bytes_io, \u001b[39m*\u001b[39m\u001b[39m*\u001b[39mkw)\n\u001b[1;32m    171\u001b[0m data \u001b[39m=\u001b[39m bytes_io\u001b[39m.\u001b[39mgetvalue()\n\u001b[1;32m    172\u001b[0m \u001b[39mif\u001b[39;00m fmt \u001b[39m==\u001b[39m \u001b[39m'\u001b[39m\u001b[39msvg\u001b[39m\u001b[39m'\u001b[39m:\n",
      "File \u001b[0;32m~/Programs/anaconda3/envs/testing/lib/python3.12/site-packages/matplotlib/backend_bases.py:2155\u001b[0m, in \u001b[0;36mFigureCanvasBase.print_figure\u001b[0;34m(self, filename, dpi, facecolor, edgecolor, orientation, format, bbox_inches, pad_inches, bbox_extra_artists, backend, **kwargs)\u001b[0m\n\u001b[1;32m   2152\u001b[0m     \u001b[39m# we do this instead of `self.figure.draw_without_rendering`\u001b[39;00m\n\u001b[1;32m   2153\u001b[0m     \u001b[39m# so that we can inject the orientation\u001b[39;00m\n\u001b[1;32m   2154\u001b[0m     \u001b[39mwith\u001b[39;00m \u001b[39mgetattr\u001b[39m(renderer, \u001b[39m\"\u001b[39m\u001b[39m_draw_disabled\u001b[39m\u001b[39m\"\u001b[39m, nullcontext)():\n\u001b[0;32m-> 2155\u001b[0m         \u001b[39mself\u001b[39m\u001b[39m.\u001b[39mfigure\u001b[39m.\u001b[39mdraw(renderer)\n\u001b[1;32m   2156\u001b[0m \u001b[39mif\u001b[39;00m bbox_inches:\n\u001b[1;32m   2157\u001b[0m     \u001b[39mif\u001b[39;00m bbox_inches \u001b[39m==\u001b[39m \u001b[39m\"\u001b[39m\u001b[39mtight\u001b[39m\u001b[39m\"\u001b[39m:\n",
      "File \u001b[0;32m~/Programs/anaconda3/envs/testing/lib/python3.12/site-packages/matplotlib/artist.py:94\u001b[0m, in \u001b[0;36m_finalize_rasterization.<locals>.draw_wrapper\u001b[0;34m(artist, renderer, *args, **kwargs)\u001b[0m\n\u001b[1;32m     92\u001b[0m \u001b[39m@wraps\u001b[39m(draw)\n\u001b[1;32m     93\u001b[0m \u001b[39mdef\u001b[39;00m \u001b[39mdraw_wrapper\u001b[39m(artist, renderer, \u001b[39m*\u001b[39margs, \u001b[39m*\u001b[39m\u001b[39m*\u001b[39mkwargs):\n\u001b[0;32m---> 94\u001b[0m     result \u001b[39m=\u001b[39m draw(artist, renderer, \u001b[39m*\u001b[39margs, \u001b[39m*\u001b[39m\u001b[39m*\u001b[39mkwargs)\n\u001b[1;32m     95\u001b[0m     \u001b[39mif\u001b[39;00m renderer\u001b[39m.\u001b[39m_rasterizing:\n\u001b[1;32m     96\u001b[0m         renderer\u001b[39m.\u001b[39mstop_rasterizing()\n",
      "File \u001b[0;32m~/Programs/anaconda3/envs/testing/lib/python3.12/site-packages/matplotlib/artist.py:71\u001b[0m, in \u001b[0;36mallow_rasterization.<locals>.draw_wrapper\u001b[0;34m(artist, renderer)\u001b[0m\n\u001b[1;32m     68\u001b[0m     \u001b[39mif\u001b[39;00m artist\u001b[39m.\u001b[39mget_agg_filter() \u001b[39mis\u001b[39;00m \u001b[39mnot\u001b[39;00m \u001b[39mNone\u001b[39;00m:\n\u001b[1;32m     69\u001b[0m         renderer\u001b[39m.\u001b[39mstart_filter()\n\u001b[0;32m---> 71\u001b[0m     \u001b[39mreturn\u001b[39;00m draw(artist, renderer)\n\u001b[1;32m     72\u001b[0m \u001b[39mfinally\u001b[39;00m:\n\u001b[1;32m     73\u001b[0m     \u001b[39mif\u001b[39;00m artist\u001b[39m.\u001b[39mget_agg_filter() \u001b[39mis\u001b[39;00m \u001b[39mnot\u001b[39;00m \u001b[39mNone\u001b[39;00m:\n",
      "File \u001b[0;32m~/Programs/anaconda3/envs/testing/lib/python3.12/site-packages/matplotlib/figure.py:3257\u001b[0m, in \u001b[0;36mFigure.draw\u001b[0;34m(self, renderer)\u001b[0m\n\u001b[1;32m   3254\u001b[0m             \u001b[39m# ValueError can occur when resizing a window.\u001b[39;00m\n\u001b[1;32m   3256\u001b[0m     \u001b[39mself\u001b[39m\u001b[39m.\u001b[39mpatch\u001b[39m.\u001b[39mdraw(renderer)\n\u001b[0;32m-> 3257\u001b[0m     mimage\u001b[39m.\u001b[39m_draw_list_compositing_images(\n\u001b[1;32m   3258\u001b[0m         renderer, \u001b[39mself\u001b[39m, artists, \u001b[39mself\u001b[39m\u001b[39m.\u001b[39msuppressComposite)\n\u001b[1;32m   3260\u001b[0m     renderer\u001b[39m.\u001b[39mclose_group(\u001b[39m'\u001b[39m\u001b[39mfigure\u001b[39m\u001b[39m'\u001b[39m)\n\u001b[1;32m   3261\u001b[0m \u001b[39mfinally\u001b[39;00m:\n",
      "File \u001b[0;32m~/Programs/anaconda3/envs/testing/lib/python3.12/site-packages/matplotlib/image.py:134\u001b[0m, in \u001b[0;36m_draw_list_compositing_images\u001b[0;34m(renderer, parent, artists, suppress_composite)\u001b[0m\n\u001b[1;32m    132\u001b[0m \u001b[39mif\u001b[39;00m not_composite \u001b[39mor\u001b[39;00m \u001b[39mnot\u001b[39;00m has_images:\n\u001b[1;32m    133\u001b[0m     \u001b[39mfor\u001b[39;00m a \u001b[39min\u001b[39;00m artists:\n\u001b[0;32m--> 134\u001b[0m         a\u001b[39m.\u001b[39mdraw(renderer)\n\u001b[1;32m    135\u001b[0m \u001b[39melse\u001b[39;00m:\n\u001b[1;32m    136\u001b[0m     \u001b[39m# Composite any adjacent images together\u001b[39;00m\n\u001b[1;32m    137\u001b[0m     image_group \u001b[39m=\u001b[39m []\n",
      "File \u001b[0;32m~/Programs/anaconda3/envs/testing/lib/python3.12/site-packages/matplotlib/artist.py:71\u001b[0m, in \u001b[0;36mallow_rasterization.<locals>.draw_wrapper\u001b[0;34m(artist, renderer)\u001b[0m\n\u001b[1;32m     68\u001b[0m     \u001b[39mif\u001b[39;00m artist\u001b[39m.\u001b[39mget_agg_filter() \u001b[39mis\u001b[39;00m \u001b[39mnot\u001b[39;00m \u001b[39mNone\u001b[39;00m:\n\u001b[1;32m     69\u001b[0m         renderer\u001b[39m.\u001b[39mstart_filter()\n\u001b[0;32m---> 71\u001b[0m     \u001b[39mreturn\u001b[39;00m draw(artist, renderer)\n\u001b[1;32m     72\u001b[0m \u001b[39mfinally\u001b[39;00m:\n\u001b[1;32m     73\u001b[0m     \u001b[39mif\u001b[39;00m artist\u001b[39m.\u001b[39mget_agg_filter() \u001b[39mis\u001b[39;00m \u001b[39mnot\u001b[39;00m \u001b[39mNone\u001b[39;00m:\n",
      "File \u001b[0;32m~/Programs/anaconda3/envs/testing/lib/python3.12/site-packages/matplotlib/axes/_base.py:3181\u001b[0m, in \u001b[0;36m_AxesBase.draw\u001b[0;34m(self, renderer)\u001b[0m\n\u001b[1;32m   3178\u001b[0m \u001b[39mif\u001b[39;00m artists_rasterized:\n\u001b[1;32m   3179\u001b[0m     _draw_rasterized(\u001b[39mself\u001b[39m\u001b[39m.\u001b[39mget_figure(root\u001b[39m=\u001b[39m\u001b[39mTrue\u001b[39;00m), artists_rasterized, renderer)\n\u001b[0;32m-> 3181\u001b[0m mimage\u001b[39m.\u001b[39m_draw_list_compositing_images(\n\u001b[1;32m   3182\u001b[0m     renderer, \u001b[39mself\u001b[39m, artists, \u001b[39mself\u001b[39m\u001b[39m.\u001b[39mget_figure(root\u001b[39m=\u001b[39m\u001b[39mTrue\u001b[39;00m)\u001b[39m.\u001b[39msuppressComposite)\n\u001b[1;32m   3184\u001b[0m renderer\u001b[39m.\u001b[39mclose_group(\u001b[39m'\u001b[39m\u001b[39maxes\u001b[39m\u001b[39m'\u001b[39m)\n\u001b[1;32m   3185\u001b[0m \u001b[39mself\u001b[39m\u001b[39m.\u001b[39mstale \u001b[39m=\u001b[39m \u001b[39mFalse\u001b[39;00m\n",
      "File \u001b[0;32m~/Programs/anaconda3/envs/testing/lib/python3.12/site-packages/matplotlib/image.py:134\u001b[0m, in \u001b[0;36m_draw_list_compositing_images\u001b[0;34m(renderer, parent, artists, suppress_composite)\u001b[0m\n\u001b[1;32m    132\u001b[0m \u001b[39mif\u001b[39;00m not_composite \u001b[39mor\u001b[39;00m \u001b[39mnot\u001b[39;00m has_images:\n\u001b[1;32m    133\u001b[0m     \u001b[39mfor\u001b[39;00m a \u001b[39min\u001b[39;00m artists:\n\u001b[0;32m--> 134\u001b[0m         a\u001b[39m.\u001b[39mdraw(renderer)\n\u001b[1;32m    135\u001b[0m \u001b[39melse\u001b[39;00m:\n\u001b[1;32m    136\u001b[0m     \u001b[39m# Composite any adjacent images together\u001b[39;00m\n\u001b[1;32m    137\u001b[0m     image_group \u001b[39m=\u001b[39m []\n",
      "File \u001b[0;32m~/Programs/anaconda3/envs/testing/lib/python3.12/site-packages/matplotlib/artist.py:71\u001b[0m, in \u001b[0;36mallow_rasterization.<locals>.draw_wrapper\u001b[0;34m(artist, renderer)\u001b[0m\n\u001b[1;32m     68\u001b[0m     \u001b[39mif\u001b[39;00m artist\u001b[39m.\u001b[39mget_agg_filter() \u001b[39mis\u001b[39;00m \u001b[39mnot\u001b[39;00m \u001b[39mNone\u001b[39;00m:\n\u001b[1;32m     69\u001b[0m         renderer\u001b[39m.\u001b[39mstart_filter()\n\u001b[0;32m---> 71\u001b[0m     \u001b[39mreturn\u001b[39;00m draw(artist, renderer)\n\u001b[1;32m     72\u001b[0m \u001b[39mfinally\u001b[39;00m:\n\u001b[1;32m     73\u001b[0m     \u001b[39mif\u001b[39;00m artist\u001b[39m.\u001b[39mget_agg_filter() \u001b[39mis\u001b[39;00m \u001b[39mnot\u001b[39;00m \u001b[39mNone\u001b[39;00m:\n",
      "File \u001b[0;32m~/Programs/anaconda3/envs/testing/lib/python3.12/site-packages/matplotlib/image.py:599\u001b[0m, in \u001b[0;36m_ImageBase.draw\u001b[0;34m(self, renderer)\u001b[0m\n\u001b[1;32m    597\u001b[0m         renderer\u001b[39m.\u001b[39mdraw_image(gc, l, b, im, trans)\n\u001b[1;32m    598\u001b[0m \u001b[39melse\u001b[39;00m:\n\u001b[0;32m--> 599\u001b[0m     im, l, b, trans \u001b[39m=\u001b[39m \u001b[39mself\u001b[39m\u001b[39m.\u001b[39mmake_image(\n\u001b[1;32m    600\u001b[0m         renderer, renderer\u001b[39m.\u001b[39mget_image_magnification())\n\u001b[1;32m    601\u001b[0m     \u001b[39mif\u001b[39;00m im \u001b[39mis\u001b[39;00m \u001b[39mnot\u001b[39;00m \u001b[39mNone\u001b[39;00m:\n\u001b[1;32m    602\u001b[0m         renderer\u001b[39m.\u001b[39mdraw_image(gc, l, b, im)\n",
      "File \u001b[0;32m~/Programs/anaconda3/envs/testing/lib/python3.12/site-packages/matplotlib/image.py:902\u001b[0m, in \u001b[0;36mAxesImage.make_image\u001b[0;34m(self, renderer, magnification, unsampled)\u001b[0m\n\u001b[1;32m    899\u001b[0m transformed_bbox \u001b[39m=\u001b[39m TransformedBbox(bbox, trans)\n\u001b[1;32m    900\u001b[0m clip \u001b[39m=\u001b[39m ((\u001b[39mself\u001b[39m\u001b[39m.\u001b[39mget_clip_box() \u001b[39mor\u001b[39;00m \u001b[39mself\u001b[39m\u001b[39m.\u001b[39maxes\u001b[39m.\u001b[39mbbox) \u001b[39mif\u001b[39;00m \u001b[39mself\u001b[39m\u001b[39m.\u001b[39mget_clip_on()\n\u001b[1;32m    901\u001b[0m         \u001b[39melse\u001b[39;00m \u001b[39mself\u001b[39m\u001b[39m.\u001b[39mget_figure(root\u001b[39m=\u001b[39m\u001b[39mTrue\u001b[39;00m)\u001b[39m.\u001b[39mbbox)\n\u001b[0;32m--> 902\u001b[0m \u001b[39mreturn\u001b[39;00m \u001b[39mself\u001b[39m\u001b[39m.\u001b[39m_make_image(\u001b[39mself\u001b[39m\u001b[39m.\u001b[39m_A, bbox, transformed_bbox, clip,\n\u001b[1;32m    903\u001b[0m                         magnification, unsampled\u001b[39m=\u001b[39munsampled)\n",
      "File \u001b[0;32m~/Programs/anaconda3/envs/testing/lib/python3.12/site-packages/matplotlib/image.py:503\u001b[0m, in \u001b[0;36m_ImageBase._make_image\u001b[0;34m(self, A, in_bbox, out_bbox, clip_bbox, magnification, unsampled, round_to_pixel_border)\u001b[0m\n\u001b[1;32m    501\u001b[0m \u001b[39mif\u001b[39;00m A\u001b[39m.\u001b[39mndim \u001b[39m==\u001b[39m \u001b[39m2\u001b[39m:  \u001b[39m# interpolation_stage = 'rgba'\u001b[39;00m\n\u001b[1;32m    502\u001b[0m     \u001b[39mself\u001b[39m\u001b[39m.\u001b[39mnorm\u001b[39m.\u001b[39mautoscale_None(A)\n\u001b[0;32m--> 503\u001b[0m     A \u001b[39m=\u001b[39m \u001b[39mself\u001b[39m\u001b[39m.\u001b[39mto_rgba(A)\n\u001b[1;32m    504\u001b[0m alpha \u001b[39m=\u001b[39m \u001b[39mself\u001b[39m\u001b[39m.\u001b[39m_get_scalar_alpha()\n\u001b[1;32m    505\u001b[0m \u001b[39mif\u001b[39;00m A\u001b[39m.\u001b[39mshape[\u001b[39m2\u001b[39m] \u001b[39m==\u001b[39m \u001b[39m3\u001b[39m:\n\u001b[1;32m    506\u001b[0m     \u001b[39m# No need to resample alpha or make a full array; NumPy will expand\u001b[39;00m\n\u001b[1;32m    507\u001b[0m     \u001b[39m# this out and cast to uint8 if necessary when it's assigned to the\u001b[39;00m\n\u001b[1;32m    508\u001b[0m     \u001b[39m# alpha channel below.\u001b[39;00m\n",
      "File \u001b[0;32m~/Programs/anaconda3/envs/testing/lib/python3.12/site-packages/matplotlib/colorizer.py:356\u001b[0m, in \u001b[0;36m_ColorizerInterface.to_rgba\u001b[0;34m(self, x, alpha, bytes, norm)\u001b[0m\n\u001b[1;32m    326\u001b[0m \u001b[39mdef\u001b[39;00m \u001b[39mto_rgba\u001b[39m(\u001b[39mself\u001b[39m, x, alpha\u001b[39m=\u001b[39m\u001b[39mNone\u001b[39;00m, \u001b[39mbytes\u001b[39m\u001b[39m=\u001b[39m\u001b[39mFalse\u001b[39;00m, norm\u001b[39m=\u001b[39m\u001b[39mTrue\u001b[39;00m):\n\u001b[1;32m    327\u001b[0m \u001b[39m    \u001b[39m\u001b[39m\"\"\"\u001b[39;00m\n\u001b[1;32m    328\u001b[0m \u001b[39m    Return a normalized RGBA array corresponding to *x*.\u001b[39;00m\n\u001b[1;32m    329\u001b[0m \n\u001b[0;32m   (...)\u001b[0m\n\u001b[1;32m    354\u001b[0m \n\u001b[1;32m    355\u001b[0m \u001b[39m    \"\"\"\u001b[39;00m\n\u001b[0;32m--> 356\u001b[0m     \u001b[39mreturn\u001b[39;00m \u001b[39mself\u001b[39m\u001b[39m.\u001b[39m_colorizer\u001b[39m.\u001b[39mto_rgba(x, alpha\u001b[39m=\u001b[39malpha, \u001b[39mbytes\u001b[39m\u001b[39m=\u001b[39m\u001b[39mbytes\u001b[39m, norm\u001b[39m=\u001b[39mnorm)\n",
      "File \u001b[0;32m~/Programs/anaconda3/envs/testing/lib/python3.12/site-packages/matplotlib/colorizer.py:158\u001b[0m, in \u001b[0;36mColorizer.to_rgba\u001b[0;34m(self, x, alpha, bytes, norm)\u001b[0m\n\u001b[1;32m    156\u001b[0m \u001b[39mif\u001b[39;00m norm:\n\u001b[1;32m    157\u001b[0m     x \u001b[39m=\u001b[39m \u001b[39mself\u001b[39m\u001b[39m.\u001b[39mnorm(x)\n\u001b[0;32m--> 158\u001b[0m rgba \u001b[39m=\u001b[39m \u001b[39mself\u001b[39m\u001b[39m.\u001b[39mcmap(x, alpha\u001b[39m=\u001b[39malpha, \u001b[39mbytes\u001b[39m\u001b[39m=\u001b[39m\u001b[39mbytes\u001b[39m)\n\u001b[1;32m    159\u001b[0m \u001b[39mreturn\u001b[39;00m rgba\n",
      "File \u001b[0;32m~/Programs/anaconda3/envs/testing/lib/python3.12/site-packages/matplotlib/colors.py:739\u001b[0m, in \u001b[0;36mColormap.__call__\u001b[0;34m(self, X, alpha, bytes)\u001b[0m\n\u001b[1;32m    716\u001b[0m \u001b[39mdef\u001b[39;00m \u001b[39m__call__\u001b[39m(\u001b[39mself\u001b[39m, X, alpha\u001b[39m=\u001b[39m\u001b[39mNone\u001b[39;00m, \u001b[39mbytes\u001b[39m\u001b[39m=\u001b[39m\u001b[39mFalse\u001b[39;00m):\n\u001b[1;32m    717\u001b[0m \u001b[39m    \u001b[39m\u001b[39mr\u001b[39m\u001b[39m\"\"\"\u001b[39;00m\n\u001b[1;32m    718\u001b[0m \u001b[39m    Parameters\u001b[39;00m\n\u001b[1;32m    719\u001b[0m \u001b[39m    ----------\u001b[39;00m\n\u001b[0;32m   (...)\u001b[0m\n\u001b[1;32m    737\u001b[0m \u001b[39m    RGBA values with a shape of ``X.shape + (4, )``.\u001b[39;00m\n\u001b[1;32m    738\u001b[0m \u001b[39m    \"\"\"\u001b[39;00m\n\u001b[0;32m--> 739\u001b[0m     rgba, mask \u001b[39m=\u001b[39m \u001b[39mself\u001b[39m\u001b[39m.\u001b[39m_get_rgba_and_mask(X, alpha\u001b[39m=\u001b[39malpha, \u001b[39mbytes\u001b[39m\u001b[39m=\u001b[39m\u001b[39mbytes\u001b[39m)\n\u001b[1;32m    740\u001b[0m     \u001b[39mif\u001b[39;00m \u001b[39mnot\u001b[39;00m np\u001b[39m.\u001b[39miterable(X):\n\u001b[1;32m    741\u001b[0m         rgba \u001b[39m=\u001b[39m \u001b[39mtuple\u001b[39m(rgba)\n",
      "File \u001b[0;32m~/Programs/anaconda3/envs/testing/lib/python3.12/site-packages/matplotlib/colors.py:797\u001b[0m, in \u001b[0;36mColormap._get_rgba_and_mask\u001b[0;34m(self, X, alpha, bytes)\u001b[0m\n\u001b[1;32m    794\u001b[0m \u001b[39mif\u001b[39;00m \u001b[39mbytes\u001b[39m:\n\u001b[1;32m    795\u001b[0m     lut \u001b[39m=\u001b[39m (lut \u001b[39m*\u001b[39m \u001b[39m255\u001b[39m)\u001b[39m.\u001b[39mastype(np\u001b[39m.\u001b[39muint8)\n\u001b[0;32m--> 797\u001b[0m rgba \u001b[39m=\u001b[39m lut\u001b[39m.\u001b[39mtake(xa, axis\u001b[39m=\u001b[39m\u001b[39m0\u001b[39m, mode\u001b[39m=\u001b[39m\u001b[39m'\u001b[39m\u001b[39mclip\u001b[39m\u001b[39m'\u001b[39m)\n\u001b[1;32m    799\u001b[0m \u001b[39mif\u001b[39;00m alpha \u001b[39mis\u001b[39;00m \u001b[39mnot\u001b[39;00m \u001b[39mNone\u001b[39;00m:\n\u001b[1;32m    800\u001b[0m     alpha \u001b[39m=\u001b[39m np\u001b[39m.\u001b[39mclip(alpha, \u001b[39m0\u001b[39m, \u001b[39m1\u001b[39m)\n",
      "\u001b[0;31mKeyboardInterrupt\u001b[0m: "
     ]
    }
   ],
   "source": [
    "refractometer = diag.Refractometry(lwl, rf, Jf)\n",
    "refractometer.coherent_solve()\n",
    "refractometer.histogram(bin_scale = 1, clear_mem = False)\n",
    "\n",
    "plt.imshow(refractometer.H, cmap = 'hot', interpolation = 'nearest', clim = (0.5, 1))"
   ]
  },
  {
   "cell_type": "code",
   "execution_count": null,
   "metadata": {},
   "outputs": [],
   "source": []
  }
 ],
 "metadata": {
  "kernelspec": {
   "display_name": "Python 3.12.5 ('testing')",
   "language": "python",
   "name": "python3"
  },
  "language_info": {
   "codemirror_mode": {
    "name": "ipython",
    "version": 3
   },
   "file_extension": ".py",
   "mimetype": "text/x-python",
   "name": "python",
   "nbconvert_exporter": "python",
   "pygments_lexer": "ipython3",
   "version": "3.12.5"
  },
  "vscode": {
   "interpreter": {
    "hash": "de6d706a21dde6ee649de53d1c8cba9d9f8e9ee05a3542c9798512c888fa8306"
   }
  }
 },
 "nbformat": 4,
 "nbformat_minor": 4
}
