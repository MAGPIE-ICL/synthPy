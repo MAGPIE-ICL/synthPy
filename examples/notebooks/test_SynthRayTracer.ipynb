{
 "cells": [
  {
   "cell_type": "markdown",
   "metadata": {},
   "source": [
    "### Test - Synthetic Diagnostic + Interferometry\n",
    "\n",
    "</b> Author:   </b>  Louis Evans     </br>\n",
    "</b> Reviewer: </b>  Stefano Merlini"
   ]
  },
  {
   "cell_type": "markdown",
   "metadata": {},
   "source": [
    "### Import relevant files:"
   ]
  },
  {
   "cell_type": "code",
   "execution_count": null,
   "metadata": {},
   "outputs": [],
   "source": [
    "import sys\n",
    "#add path\n",
    "sys.path.insert(0, '/Users/sm13118/Library/CloudStorage/OneDrive-ImperialCollegeLondon/dev/synthPy/')   # import path/to/synthpy\n",
    "import numpy as np\n",
    "import matplotlib.pyplot as plt\n",
    "import vtk\n",
    "from vtk.util import numpy_support as vtk_np\n",
    "import matplotlib.pyplot as plt\n",
    "\n",
    "import solvers.full_solver as s"
   ]
  },
  {
   "cell_type": "markdown",
   "metadata": {},
   "source": [
    "To use the ray tracer, first create a 'domain', load the domain with an electron distribution, calculate electron gradients, initialise a beam, and solve!\n",
    "\\\n",
    "\\\n",
    "The output can either be plotted, or passed further through ray optics for synthetic diagnostics"
   ]
  },
  {
   "cell_type": "code",
   "execution_count": null,
   "metadata": {},
   "outputs": [],
   "source": [
    "# define some extent, the domain should be distributed as +extent to -extent, does not need to be cubic\n",
    "extent_x = 5\n",
    "extent_y = 5\n",
    "extent_z = 10\n",
    "n_cells  = 5\n",
    "\n",
    "x = np.linspace(-extent_x, extent_x, n_cells)\n",
    "y = np.linspace(-extent_y, extent_y, n_cells)\n",
    "z = np.linspace(-extent_z, extent_z, n_cells)\n",
    "\n",
    "probing_extent = extent_z\n",
    "probing_direction = 'z'\n",
    "\n",
    "domain = s.ScalarDomain(x = x, y = y, z = z, extent= probing_extent, probing_direction = probing_direction)     # create domain"
   ]
  },
  {
   "cell_type": "markdown",
   "metadata": {},
   "source": [
    "Load some domain distribution"
   ]
  },
  {
   "cell_type": "code",
   "execution_count": null,
   "metadata": {},
   "outputs": [],
   "source": [
    "# load some external pvti\n",
    "# import utils.handle_filetypes as load\n",
    "# ne, dim, spacing = load.pvti_readin(filename)\n",
    "# or load a test distribution\n",
    "\n",
    "domain.test_exponential_cos()"
   ]
  },
  {
   "cell_type": "markdown",
   "metadata": {},
   "source": [
    "Solve gradients, initialise beam, and solve"
   ]
  },
  {
   "cell_type": "code",
   "execution_count": null,
   "metadata": {},
   "outputs": [],
   "source": [
    "wl = 532e-9 #define laser wavelength\n",
    "\n",
    "# initialise beam\n",
    "\n",
    "Np = 10  # number of photons\n",
    "divergence = 5e-5   # realistic divergence value\n",
    "beam_size = extent_x    # beam radius\n",
    "ne_extent = probing_extent  # so the beam knows where to initialise initial positions\n",
    "beam_type = 'circular'\n",
    "\n",
    "initial_rays = s.init_beam(Np = Np, beam_size = beam_size, divergence = divergence, ne_extent = ne_extent, beam_type = beam_type, probing_direction = probing_direction)\n",
    "\n",
    "# solve ray trace\n",
    "domain.calc_dndr(wl)\n",
    "final_rays = domain.solve(initial_rays)"
   ]
  },
  {
   "cell_type": "markdown",
   "metadata": {},
   "source": [
    "Pass through ray optics: For Shadowgaphy, Schlieren, or Refractometry:"
   ]
  },
  {
   "cell_type": "code",
   "execution_count": null,
   "metadata": {},
   "outputs": [],
   "source": [
    "import solver.rtm_solver as rtm\n",
    "\n",
    "#in the diagnostic initialisation, details on the lens configurations, and detector dimensions can be specified\n",
    "refractometer = rtm.RefractometerRays(final_rays)\n",
    "refractometer.solve()\n",
    "refractometer.histogram(bin_scale = 1, clear_mem = True)\n",
    "\n",
    "sh=rtm.ShadowgraphyRays(final_rays)\n",
    "sh.solve(displacement = 0)\n",
    "sh.histogram(bin_scale = 1, clear_mem=True)\n",
    "\n",
    "sh=rtm.SchlierenRays(final_rays)\n",
    "sh.solve()\n",
    "sh.histogram(bin_scale = 1, clear_mem=True)\n",
    "\n",
    "#information accessed by .H(istogram) , e.g plt.imshow(refractometer.H)"
   ]
  },
  {
   "cell_type": "markdown",
   "metadata": {},
   "source": [
    "Synthetic Interferometry - This requires some extra steps in the ray tracing to include information on the phase and electric field values"
   ]
  },
  {
   "cell_type": "code",
   "execution_count": null,
   "metadata": {},
   "outputs": [],
   "source": [
    "import solver.full_solver as s\n",
    "\n",
    "extent_x = 5\n",
    "extent_y = 5\n",
    "extent_z = 10\n",
    "\n",
    "n_cells = 2\n",
    "\n",
    "x = np.linspace(-extent_x, extent_x, n_cells)\n",
    "y = np.linspace(-extent_y, extent_y, n_cells)\n",
    "z = np.linspace(-extent_z, extent_z, n_cells)\n",
    "\n",
    "probing_extent = extent_z\n",
    "probing_direction = 'z'\n",
    "\n",
    "domain = s.ScalarDomain(x = x, y = y, z = z, extent= probing_extent, probing_direction = probing_direction, phaseshift = True) #specify phaseshift TRUE\n",
    "\n",
    "# load some external pvti\n",
    "\n",
    "\n",
    "# import utils.handle_filetypes as load\n",
    "# ne, dim, spacing = load.pvti_readin(filename)\n",
    "\n",
    "# or load a test distribution\n",
    "\n",
    "domain.test_exponential_cos()\n",
    "\n",
    "wl = 532e-9 #define laser wavelength\n",
    "\n",
    "# initialise beam\n",
    "\n",
    "Np = 1 #number of photons\n",
    "divergence = 5e-5 #realistic divergence value\n",
    "beam_size = extent_x #beam radius\n",
    "ne_extent = probing_extent #so the beam knows where to initialise initial positions\n",
    "beam_type = 'circular'\n",
    "\n",
    "\n",
    "initial_rays = s.init_beam(Np = Np, beam_size = beam_size, divergence = divergence, ne_extent = ne_extent, beam_type = beam_type, probing_direction = probing_direction)\n",
    "\n",
    "# solve ray trace\n",
    "\n",
    "domain.calc_dndr(wl)\n",
    "\n",
    "final_rays, E = domain.solve(initial_rays, return_E = True)\n",
    "\n",
    "\n",
    "n_fringes = 10\n",
    "deg = 10 #adjust number of fringes and tilt in degrees from the vertical exis\n",
    "final_E = s.interfere_ref_beam(final_rays, E, n_fringes, deg)\n",
    "\n",
    "pattern=rtm.InterferometerRays(final_rays, E = final_E)\n",
    "pattern.solve(wl = wl)\n",
    "pattern.interferogram(bin_scale = 1, clear_mem=True) #use interferogram instead of histogram\n",
    "\n",
    "#get interferogram histogram with sh.H\n"
   ]
  }
 ],
 "metadata": {
  "kernelspec": {
   "display_name": "Python 3",
   "language": "python",
   "name": "python3"
  },
  "language_info": {
   "codemirror_mode": {
    "name": "ipython",
    "version": 3
   },
   "file_extension": ".py",
   "mimetype": "text/x-python",
   "name": "python",
   "nbconvert_exporter": "python",
   "pygments_lexer": "ipython3",
   "version": "3.12.3"
  }
 },
 "nbformat": 4,
 "nbformat_minor": 2
}
