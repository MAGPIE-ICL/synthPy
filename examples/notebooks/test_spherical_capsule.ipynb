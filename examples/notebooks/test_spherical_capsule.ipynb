{
 "cells": [
  {
   "cell_type": "code",
   "execution_count": 1,
   "metadata": {},
   "outputs": [],
   "source": [
    "import numpy as np\n",
    "import sys\n",
    "import matplotlib.pyplot as plt\n",
    "from jax.scipy.interpolate import RegularGridInterpolator\n",
    "sys.path.insert(0, '../../synthPy_restructured') \n",
    "import domain as d\n"
   ]
  },
  {
   "cell_type": "code",
   "execution_count": 2,
   "metadata": {},
   "outputs": [],
   "source": [
    "# define some extent, the domain should be distributed as +extent to -extent, does not need to be cubic\n",
    "extent_x = 5e-3\n",
    "extent_y = 5e-3\n",
    "extent_z = 10e-3\n",
    "\n",
    "n_cells = 100\n",
    "\n",
    "#x = np.linspace(-extent_x, extent_x, n_cells)\n",
    "#y = np.linspace(-extent_y, extent_y, n_cells)\n",
    "#z = np.linspace(-extent_z, extent_z, n_cells)\n",
    "\n",
    "probing_extent = extent_z\n",
    "probing_direction = 'z'\n",
    "\n",
    "lengths = 2 * np.array([extent_x, extent_y, extent_z])\n",
    "\n",
    "#domain = d.ScalarDomain(x = x, y = y, z = z, extent= probing_extent, probing_direction = probing_direction)     # create domain\n",
    "# Much simpler domain function, no longer needlessly takes in beam values, they are fully seperated\n",
    "domain = d.ScalarDomain(lengths, n_cells) "
   ]
  },
  {
   "cell_type": "code",
   "execution_count": 3,
   "metadata": {},
   "outputs": [],
   "source": [
    "def distance(x,y,z):\n",
    "    return np.sqrt(x**2 + y**2 + z**2)"
   ]
  },
  {
   "cell_type": "code",
   "execution_count": null,
   "metadata": {},
   "outputs": [],
   "source": [
    "def spherical(domain, r1, r2, r3, ne1, rho1, ne2, rho2, ne3, rho3):\n",
    "    domain.spherical = True\n",
    "    domain.densities = [0.0, rho1, rho2, rho3]\n",
    "    ne = np.zeros_like(domain.XX)\n",
    "    rho = np.zeros_like(domain.XX)\n",
    "    for i in np.ndindex(domain.XX.shape):\n",
    "        if distance(domain.XX[i], domain.YY[i], domain.ZZ[i]) <= r1:\n",
    "            ne[i] = ne1\n",
    "            rho[i] = rho1\n",
    "        if r1 < distance(domain.XX[i], domain.YY[i], domain.ZZ[i]) <= r2:\n",
    "            ne[i] = ne2\n",
    "            rho[i] = rho2\n",
    "        if r2 < distance(domain.XX[i], domain.YY[i], domain.ZZ[i]) <= r3:\n",
    "            ne[i] = ne3\n",
    "            rho[i] = rho3\n",
    "        \n",
    "    return ne,rho"
   ]
  },
  {
   "cell_type": "code",
   "execution_count": null,
   "metadata": {},
   "outputs": [],
   "source": [
    "def spherical_2(domain, radii, ne, rho):\n",
    "    radii = (0,) + radii\n",
    "    domain.spherical = True\n",
    "    domain.densities = np.array(rho)\n",
    "    ne_grid = np.zeros_like(domain.XX)\n",
    "    rho_grid = np.zeros_like(domain.XX)\n",
    "    distance = distance(domain.XX, domain.YY, domain.ZZ)\n",
    "    for i in range (0, len(radii)-1):\n",
    "        ne_grid[radii[i] < distance <= radii[i+1]] = ne[i]\n",
    "        rho_grid[radii[i] < distance <= radii[i+1]] = rho[i]\n",
    "    \n",
    "    return ne_grid, rho_grid"
   ]
  },
  {
   "cell_type": "code",
   "execution_count": null,
   "metadata": {},
   "outputs": [],
   "source": [
    "def spherical_interps(Propagator, num_layers, files):\n",
    "    opa_max=Propagator.ScalarDomain.x_n/(Propagator.ScalarDomain.x_length)\n",
    "    Propagator.opacity_spatial_interps = []\n",
    "    for i in range (num_layers):\n",
    "        grp_centres, grps, rho, Te, opa_data = open_emi_files(f\"../../{files[i]}\")\n",
    "        opa_data_capped = np.minimum(opa_max, opa_data)\n",
    "        Propagator.opacity_interp = RegularGridInterpolator((grp_centres, rho, Te), opa_data_capped, bounds_error = False, fill_value = 0.0)\n",
    "        Propagator.rho_interp = RegularGridInterpolator(\n",
    "            (Propagator.ScalarDomain.x, Propagator.ScalarDomain.y, Propagator.ScalarDomain.z), Propagator.ScalarDomain.rho, bounds_error = False, fill_value = 0.0, method = \"nearest\")\n",
    "        opacity_grid = Propagator.opacity_interp((Propagator.energy, Propagator.ScalarDomain.rho, Propagator.ScalarDomain.Te))\n",
    "        Propagator.opacity_spatial_interps.append(RegularGridInterpolator((\n",
    "            Propagator.ScalarDomain.x, Propagator.ScalarDomain.y, Propagator.ScalarDomain.z), opacity_grid, bounds_error = False, fill_value = 0.0))"
   ]
  },
  {
   "cell_type": "code",
   "execution_count": null,
   "metadata": {},
   "outputs": [],
   "source": [
    "def spherical_atten(Propagator, x):\n",
    "    density_values = Propagator.rho_interp(x.T)\n",
    "    index = np.array([np.where(np.isclose(\n",
    "    Propagator.ScalarDomain.densities, num)) for num in density_values])\n",
    "    opacity = Propagator.opacity_spatial_interps[index](x.T)\n",
    "    return -opacity*c\n",
    "        "
   ]
  }
 ],
 "metadata": {
  "kernelspec": {
   "display_name": "base",
   "language": "python",
   "name": "python3"
  },
  "language_info": {
   "codemirror_mode": {
    "name": "ipython",
    "version": 3
   },
   "file_extension": ".py",
   "mimetype": "text/x-python",
   "name": "python",
   "nbconvert_exporter": "python",
   "pygments_lexer": "ipython3",
   "version": "3.12.7"
  }
 },
 "nbformat": 4,
 "nbformat_minor": 2
}
