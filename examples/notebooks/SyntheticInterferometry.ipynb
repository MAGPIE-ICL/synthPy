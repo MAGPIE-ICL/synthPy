{
 "cells": [
  {
   "cell_type": "markdown",
   "metadata": {},
   "source": [
    "Synthetic Interferometry - This requires some extra steps in the ray tracing to include information on the phase and electric field values"
   ]
  },
  {
   "cell_type": "code",
   "execution_count": 1,
   "metadata": {},
   "outputs": [
    {
     "name": "stdout",
     "output_type": "stream",
     "text": [
      "Setting top level path for imports: /home/administrator/Work/UROP_ICL_Internship/synthPy/src\n",
      "\u001b[1m\n",
      "Disabling python multi-threading...\n",
      "Initialising jax...\n",
      "\u001b[0m\n",
      "Default jax backend: cpu\n",
      "Available devices: [CpuDevice(id=0), CpuDevice(id=1), CpuDevice(id=2), CpuDevice(id=3), CpuDevice(id=4), CpuDevice(id=5), CpuDevice(id=6), CpuDevice(id=7), CpuDevice(id=8), CpuDevice(id=9), CpuDevice(id=10), CpuDevice(id=11), CpuDevice(id=12), CpuDevice(id=13), CpuDevice(id=14), CpuDevice(id=15)]\n"
     ]
    },
    {
     "data": {
      "text/plain": [
       "<module 'processing.diagnostics' from '/home/administrator/Work/UROP_ICL_Internship/synthPy/src/processing/diagnostics.py'>"
      ]
     },
     "execution_count": 1,
     "metadata": {},
     "output_type": "execute_result"
    }
   ],
   "source": [
    "import matplotlib.pyplot as plt\n",
    "import numpy as np\n",
    "\n",
    "import sys\n",
    "sys.path.insert(0, '../../src/')\n",
    "\n",
    "import simulator.config as config\n",
    "config.jax_init()\n",
    "\n",
    "import simulator.beam as beam_initialiser\n",
    "import simulator.domain as d\n",
    "import simulator.propagator as p\n",
    "import processing.diagnostics as diag\n",
    "\n",
    "import importlib\n",
    "importlib.reload(beam_initialiser)\n",
    "importlib.reload(d)\n",
    "importlib.reload(p)\n",
    "importlib.reload(diag)"
   ]
  },
  {
   "cell_type": "code",
   "execution_count": 2,
   "metadata": {},
   "outputs": [
    {
     "name": "stdout",
     "output_type": "stream",
     "text": [
      "Predicted size in memory of domain: 8.0 MB\n",
      "\n",
      "Free memory: 5.083332061767578 GB\n",
      "Est. memory limit: 44.0 MB --> inc. +10% variance margin.\n",
      "\n",
      "Coordinates have shape of (128, 128, 128) --> no padding required.\n",
      "\n",
      "Generating test exponential decay periodic -e field...\n"
     ]
    }
   ],
   "source": [
    "# define some extent, the domain should be distributed as +extent to -extent, does not need to be cubic\n",
    "extent_x = 5e-3\n",
    "extent_y = 5e-3\n",
    "extent_z = 10e-3\n",
    "\n",
    "n_cells = 128\n",
    "\n",
    "probing_extent = extent_z\n",
    "probing_direction = 'z'\n",
    "\n",
    "lengths = 2 * np.array([extent_x, extent_y, extent_z])\n",
    "\n",
    "domain = d.ScalarDomain(lengths, n_cells, ne_type = \"test_exponential_cos\", inv_brems = False, phaseshift = True)"
   ]
  },
  {
   "cell_type": "code",
   "execution_count": 3,
   "metadata": {},
   "outputs": [],
   "source": [
    "lwl = 1064e-9\n",
    "\n",
    "Np = 1e5\n",
    "divergence = 5e-5\n",
    "beam_size = extent_x\n",
    "ne_extent = probing_extent\n",
    "beam_type = 'circular'\n",
    "\n",
    "beam_definition = beam_initialiser.Beam(\n",
    "    Np, beam_size, divergence, ne_extent,\n",
    "    probing_direction = probing_direction,\n",
    "    wavelength = lwl,\n",
    "    beam_type = \"circular\"\n",
    ")"
   ]
  },
  {
   "cell_type": "code",
   "execution_count": 4,
   "metadata": {},
   "outputs": [
    {
     "name": "stdout",
     "output_type": "stream",
     "text": [
      "\n",
      "Size in memory of initial rays: 67.901611328125 MB\n",
      " --> Np = 100000\n",
      "\n",
      "No need to generate any sections of the domain, batching not utilised.\n",
      " --> tracing a depth of 0.01 mm's to the target depth of 0.01 mm's\n",
      "\n",
      "Running device: cpu, with: 16 cores.\n",
      "NamedSharding(mesh=Mesh('rows': 16, axis_types=(Auto,)), spec=PartitionSpec('rows', None), memory_kind=unpinned_host)\n",
      "\n",
      "jax compilation of solver took: 0.0008900165557861328 seconds\n",
      "Completed ray trace in \u001b[1m7.747\u001b[0m seconds.\n",
      "[0. 0. 0. ... 0. 0. 0.]\n",
      "[0. 0. 0. ... 0. 0. 0.]\n",
      "\n",
      "Parallelised output has resulting 3D matrix of form: [batch_count, (save_points_per_region - 1) * ScalarDomain.region_count, 9]: (100000, 2, 9)\n",
      " - 2 to account for the start and end results (typical, can be greater if set)\n",
      " - 9 containing the 3 position and velocity components, amplitude, phase and polarisation\n",
      " - If batch_count is lower than expected, this is likely due to jax's forced integer batch sharding requirement over cpu cores.\n",
      "\n",
      "We slice the end result and transpose into the form: (4, 100000) to work with later code.\n"
     ]
    }
   ],
   "source": [
    "# No need to change the domain (now that code has been seperated out in restructure)\n",
    "\n",
    "\n",
    "\n",
    "# load some external pvti\n",
    "\n",
    "# import utils.handle_filetypes as load\n",
    "# ne, dim, spacing = load.pvti_readin(filename)\n",
    "\n",
    "# or load a test distribution\n",
    "\n",
    "\n",
    "\n",
    "# initialise beam\n",
    "\n",
    "\n",
    "\n",
    "# solve ray trace\n",
    "rf, Jf, duration = p.solve(beam_definition.s0, domain, probing_extent, return_E = True, lwl = lwl)"
   ]
  },
  {
   "cell_type": "code",
   "execution_count": 5,
   "metadata": {},
   "outputs": [],
   "source": [
    "# adjust number of fringes and tilt in degrees from the vertical exis\n",
    "n_fringes = 10\n",
    "deg = 10"
   ]
  },
  {
   "cell_type": "code",
   "execution_count": 6,
   "metadata": {},
   "outputs": [
    {
     "name": "stdout",
     "output_type": "stream",
     "text": [
      "\n",
      "100000 rays received, 65607 incident on the first lens.\n",
      " --> 34.4 % of rays wasted!\n",
      "[[0.0000000e+00+0.j         0.0000000e+00+0.j\n",
      "  0.0000000e+00+0.j         ... 0.0000000e+00+0.j\n",
      "  0.0000000e+00+0.j         0.0000000e+00+0.j        ]\n",
      " [7.0391607e-01+0.9844562j  1.6547947e+00-0.73145235j\n",
      "  2.4378723e-01-0.6543139j  ... 3.4832954e-04-0.03088458j\n",
      "  1.8929273e+00+0.47963282j 6.4525604e-01+0.94543356j]]\n",
      "hi\n",
      "guten tag\n",
      "hello\n"
     ]
    },
    {
     "data": {
      "text/plain": [
       "<matplotlib.image.AxesImage at 0x7f7e28660950>"
      ]
     },
     "execution_count": 6,
     "metadata": {},
     "output_type": "execute_result"
    },
    {
     "data": {
      "image/png": "[encoded data removed]",
      "text/plain": [
       "<Figure size 640x480 with 1 Axes>"
      ]
     },
     "metadata": {},
     "output_type": "display_data"
    }
   ],
   "source": [
    "interferometrer = diag.Interferometry(lwl, rf, Jf)\n",
    "interferometrer.interfere_ref_beam(n_fringes, deg)\n",
    "\n",
    "interferometrer.interferogram(bin_scale = 1, clear_mem = True)\n",
    "\n",
    "plt.imshow(interferometrer.H, cmap = 'hot', interpolation = 'nearest')"
   ]
  },
  {
   "cell_type": "code",
   "execution_count": 7,
   "metadata": {},
   "outputs": [
    {
     "name": "stdout",
     "output_type": "stream",
     "text": [
      "\n",
      "100000 rays received, 65607 incident on the first lens.\n",
      " --> 34.4 % of rays wasted!\n",
      "[[0.0000000e+00+0.j         0.0000000e+00+0.j\n",
      "  0.0000000e+00+0.j         ... 0.0000000e+00+0.j\n",
      "  0.0000000e+00+0.j         0.0000000e+00+0.j        ]\n",
      " [7.0387757e-01+0.9857483j  1.6547184e+00-0.72847426j\n",
      "  2.4378514e-01-0.6563746j  ... 3.2460690e-04-0.03477016j\n",
      "  1.8929315e+00+0.47949773j 6.4522934e-01+0.9477369j ]]\n",
      "hi\n",
      "guten tag\n",
      "hello\n"
     ]
    }
   ],
   "source": [
    "pattern = diag.Interferometry(lwl, rf, Jf)\n",
    "#pattern = interferometrer\n",
    "pattern.two_lens_solve()\n",
    "pattern.interferogram(bin_scale = 1, clear_mem = True) #use interferogram instead of histogram\n",
    "\n",
    "#get interferogram histogram with sh.H\n",
    "#plt.imshow(pattern.H, cmap = 'hot', interpolation = 'nearest')"
   ]
  },
  {
   "cell_type": "code",
   "execution_count": 8,
   "metadata": {},
   "outputs": [
    {
     "name": "stdout",
     "output_type": "stream",
     "text": [
      "\n",
      "100000 rays received, 65607 incident on the first lens.\n",
      " --> 34.4 % of rays wasted!\n",
      "\n",
      "rf size expected: [65607. 65607.]\n",
      "rf after clearing nan's: [65607. 65607.]\n"
     ]
    },
    {
     "data": {
      "text/plain": [
       "<matplotlib.image.AxesImage at 0x7f7e0c59dca0>"
      ]
     },
     "execution_count": 8,
     "metadata": {},
     "output_type": "execute_result"
    },
    {
     "data": {
      "image/png": "[encoded data removed]",
      "text/plain": [
       "<Figure size 640x480 with 1 Axes>"
      ]
     },
     "metadata": {},
     "output_type": "display_data"
    }
   ],
   "source": [
    "refractometer = diag.Refractometry(lwl, rf, Jf)\n",
    "refractometer.incoherent_solve()\n",
    "refractometer.histogram(bin_scale = 1, clear_mem = False)\n",
    "\n",
    "plt.imshow(refractometer.H, cmap = 'hot', interpolation = 'nearest', clim = (0.5, 1))"
   ]
  },
  {
   "cell_type": "code",
   "execution_count": 9,
   "metadata": {},
   "outputs": [
    {
     "name": "stdout",
     "output_type": "stream",
     "text": [
      "\n",
      "100000 rays received, 65607 incident on the first lens.\n",
      " --> 34.4 % of rays wasted!\n",
      "\n",
      "rf size expected: [65607. 65607.]\n",
      "rf after clearing nan's: [61448. 61448.]\n"
     ]
    },
    {
     "data": {
      "text/plain": [
       "<matplotlib.image.AxesImage at 0x7f7def068b30>"
      ]
     },
     "execution_count": 9,
     "metadata": {},
     "output_type": "execute_result"
    },
    {
     "data": {
      "image/png": "[encoded data removed]",
      "text/plain": [
       "<Figure size 640x480 with 1 Axes>"
      ]
     },
     "metadata": {},
     "output_type": "display_data"
    }
   ],
   "source": [
    "refractometer = diag.Refractometry(lwl, rf, Jf)\n",
    "refractometer.coherent_solve()\n",
    "refractometer.histogram(bin_scale = 1, clear_mem = False)\n",
    "\n",
    "plt.imshow(refractometer.H, cmap = 'hot', interpolation = 'nearest', clim = (0.5, 1))"
   ]
  }
 ],
 "metadata": {
  "kernelspec": {
   "display_name": "Python 3.12.11 ('testing')",
   "language": "python",
   "name": "python3"
  },
  "language_info": {
   "codemirror_mode": {
    "name": "ipython",
    "version": 3
   },
   "file_extension": ".py",
   "mimetype": "text/x-python",
   "name": "python",
   "nbconvert_exporter": "python",
   "pygments_lexer": "ipython3",
   "version": "3.12.11"
  },
  "orig_nbformat": 4,
  "vscode": {
   "interpreter": {
    "hash": "de6d706a21dde6ee649de53d1c8cba9d9f8e9ee05a3542c9798512c888fa8306"
   }
  }
 },
 "nbformat": 4,
 "nbformat_minor": 2
}
