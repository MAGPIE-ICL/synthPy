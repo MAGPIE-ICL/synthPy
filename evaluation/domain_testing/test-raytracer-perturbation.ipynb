{
 "cells": [
  {
   "cell_type": "markdown",
   "id": "fece5092",
   "metadata": {},
   "source": [
    "Test JaxTracer VS Legacy Raytracer"
   ]
  },
  {
   "cell_type": "markdown",
   "id": "c89fed0b",
   "metadata": {},
   "source": [
    "Import Libs"
   ]
  },
  {
   "cell_type": "code",
   "execution_count": null,
   "id": "eb90635c",
   "metadata": {},
   "outputs": [],
   "source": []
  },
  {
   "cell_type": "markdown",
   "id": "c1160cb4",
   "metadata": {},
   "source": [
    "Create a domain"
   ]
  },
  {
   "cell_type": "code",
   "execution_count": null,
   "id": "57ab7706",
   "metadata": {},
   "outputs": [],
   "source": [
    "## Sinusoidal test\n",
    "N_V       =     100\n",
    "M_V       =     2*N_V+1\n",
    "ne_extent =     5.0e-3  # 5 mm extent of the electron density cube\n",
    "ne_x      =     np.linspace(-ne_extent,ne_extent,M_V)\n",
    "ne_y      =     np.linspace(-ne_extent,ne_extent,M_V)\n",
    "ne_z      =     np.linspace(-ne_extent,ne_extent,M_V)\n",
    "\n",
    "cos       =     pt.ElectronCube(ne_x,ne_y,ne_z,ne_extent)\n",
    "s         =     -4e-3 #4 mm exponential growth rate\n",
    "n_e0      =     2e17*1e6 #2e17 cm^-3 amplitude density\n",
    "Ly        =     1e-3 # 1 mm perturbation wavelength\n",
    "cos.test_exponential_cos(n_e0=n_e0,Ly=Ly, s=s)\n",
    "cos.calc_dndr()\n",
    "# cos.clear_memory()"
   ]
  },
  {
   "cell_type": "markdown",
   "id": "038076b5",
   "metadata": {},
   "source": [
    "Visualise the electon density cube - this need to be for all line of sight\n",
    "3 subplots with the xy-plane, yz-plane, zx-plane"
   ]
  },
  {
   "cell_type": "code",
   "execution_count": null,
   "id": "d39ed86e",
   "metadata": {},
   "outputs": [],
   "source": [
    "from mpl_toolkits.axes_grid1 import make_axes_locatable\n",
    "from mpl_toolkits.axes_grid1.inset_locator import inset_axes\n",
    "\n",
    "fig, ax = plt.subplots(figsize = (9.5,9.5))\n",
    "fig.subplots_adjust(.15,.15,.95,.95, hspace= 0.5)\n",
    "\n",
    "im = ax.imshow(cos.ne[:,:,0].T/1e24, cmap = 'jet', origin = 'lower', extent = [-5,5,-5,5], clim = [0, 8])\n",
    "ax.set_xlim(-5,5)\n",
    "ax.set_ylim(-5,5)\n",
    "ax.set_xticks([-5,-2.5, 0, 2.5, 5])\n",
    "ax.set_yticks([-5,-2.5, 0, 2.5, 5])\n",
    "\n",
    "axins1 = inset_axes(\n",
    "    ax,\n",
    "    width=\"50%\",  # width: 50% of parent_bbox width\n",
    "    height=\"5%\",  # height: 5%\n",
    "    loc=\"lower right\",\n",
    "    bbox_to_anchor=(-0.5, -0.2, 1, 1),\n",
    "    bbox_transform=ax.transAxes,\n",
    "    borderpad=0,\n",
    ")\n",
    "\n",
    "axins1.xaxis.set_ticks_position(\"bottom\")\n",
    "cbar = plt.colorbar(im, cax=axins1, ticks=[0, 2, 4, 6, 8], shrink=0.4, orientation=\"horizontal\", extend='both')\n",
    "cbar.set_label(r'$ n_e(x, y_0, z)$ ($\\times 10^{18}$ $cm^{-3}$)', fontsize = 24)\n",
    "cbar.ax.tick_params(labelsize = 24)\n",
    "\n",
    "ax.set_xlabel('x (mm)', fontsize = 24)\n",
    "ax.set_ylabel('z (mm)', fontsize = 24)\n",
    "\n",
    "divider = make_axes_locatable(ax)\n",
    "axvert  = divider.append_axes('right', size='30%', pad=0.15)\n",
    "axhoriz = divider.append_axes('top',   size='30%', pad=0.15)\n",
    "\n",
    "profile_vert    =   cos.ne[:,:,0].T.sum(axis = 0)\n",
    "profile_vert    =   (profile_vert - profile_vert.min() ) / (profile_vert.max() - profile_vert.min())\n",
    "axhoriz.plot(ne_x, profile_vert, lw = 3, c = 'k', alpha = 1)\n",
    "axhoriz.set_xlim(-5e-3,5e-3)\n",
    "axhoriz.set_ylim(0,1)\n",
    "axhoriz.set_ylabel(r'$n_e$(x)', fontsize = 23)\n",
    "\n",
    "\n",
    "profile_hor     =   cos.ne[:,:,0].T.sum(axis = 1)\n",
    "profile_hor     =   (profile_hor - profile_hor.min() ) / (profile_hor.max() - profile_hor.min())\n",
    "profile_hor_theory  =  profile_hor\n",
    "axvert.plot(profile_hor, ne_y, lw = 3, c = 'k', alpha = 1)\n",
    "axvert.set_ylim(-5e-3,5e-3)\n",
    "axvert.set_xlabel(r'$n_e$(z)', fontsize = 23)\n",
    "\n",
    "ax.tick_params(axis = 'both', labelsize = 24)\n",
    "\n",
    "axvert.set_xticks([])\n",
    "axhoriz.set_yticks([])\n",
    "axvert.set_yticks([])\n",
    "axhoriz.set_xticks([])\n",
    "\n",
    "for axis in [\"top\", \"bottom\", \"left\", \"right\"]:\n",
    "    ax.spines[axis].set_linewidth(1.5)\n",
    "    axvert.spines[axis].set_linewidth(1.5)\n",
    "    axhoriz.spines[axis].set_linewidth(1.5)\n",
    "\n",
    "# ax.text(4, 4.2, s = 'a)', c = 'w', fontsize = 30)\n",
    "\n",
    "\n",
    "# save Figure\n",
    "# fig.savefig('./analytical 2D electron density distribution.png', bbox_inches='tight', dpi=600)"
   ]
  },
  {
   "cell_type": "markdown",
   "id": "df4bd58e",
   "metadata": {},
   "source": [
    "Tracing using JaxTracer"
   ]
  },
  {
   "cell_type": "code",
   "execution_count": null,
   "id": "18e3a87a",
   "metadata": {},
   "outputs": [],
   "source": [
    "### Add the code here"
   ]
  },
  {
   "cell_type": "markdown",
   "id": "29a52337",
   "metadata": {},
   "source": [
    "Results and time"
   ]
  },
  {
   "cell_type": "code",
   "execution_count": null,
   "id": "ecbb100f",
   "metadata": {},
   "outputs": [],
   "source": [
    "### Add here plots of the output rays in subplots (shadow and refractogram)\n"
   ]
  },
  {
   "cell_type": "markdown",
   "id": "5d1e94cb",
   "metadata": {},
   "source": [
    "Tracing using Legacy Raytracer "
   ]
  },
  {
   "cell_type": "code",
   "execution_count": null,
   "id": "03df4f03",
   "metadata": {},
   "outputs": [],
   "source": [
    "### Add the code here"
   ]
  },
  {
   "cell_type": "markdown",
   "id": "4c54e2a2",
   "metadata": {},
   "source": [
    "Results and time"
   ]
  },
  {
   "cell_type": "code",
   "execution_count": null,
   "id": "660bc8c6",
   "metadata": {},
   "outputs": [],
   "source": [
    "### Add here plots of the output rays in subplots (shadow and refractogram)\n"
   ]
  }
 ],
 "metadata": {
  "kernelspec": {
   "display_name": "Python 3",
   "language": "python",
   "name": "python3"
  },
  "language_info": {
   "codemirror_mode": {
    "name": "ipython",
    "version": 3
   },
   "file_extension": ".py",
   "mimetype": "text/x-python",
   "name": "python",
   "nbconvert_exporter": "python",
   "pygments_lexer": "ipython3",
   "version": "3.12.2"
  }
 },
 "nbformat": 4,
 "nbformat_minor": 5
}
